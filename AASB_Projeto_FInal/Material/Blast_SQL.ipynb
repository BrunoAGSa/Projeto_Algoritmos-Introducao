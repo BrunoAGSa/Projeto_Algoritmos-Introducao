{
 "cells": [
  {
   "cell_type": "code",
   "execution_count": 6,
   "metadata": {},
   "outputs": [],
   "source": [
    "import mysql.connector as SQLC  \n",
    "\n",
    "DataBase = SQLC.connect(\n",
    "   host =\"127.0.0.1\",\n",
    "   user =\"root\",\n",
    "   password =\"login123\",\n",
    "   database = \"Base Dados IAP\",\n",
    "   auth_plugin=\"mysql_native_password\"\n",
    ")\n",
    "DataBase.autocommit= True\n",
    "cur = DataBase.cursor()"
   ]
  },
  {
   "cell_type": "code",
   "execution_count": 7,
   "metadata": {},
   "outputs": [],
   "source": [
    "import mysql.connector as SQLC \n",
    " \n",
    "def connect_database (host =\"127.0.0.1\", user =\"root\",password =\"login123\", database = \"Base Dados IAP\"):\n",
    "    \"\"\"Funçao que permite ao utilizador conectar à base de dados (Base Dados IAP)\n",
    "\n",
    "    Args:\n",
    "        host (str, optional):  Host . Defaults to \"127.0.0.1\".\n",
    "        user (str, optional):  User . Defaults to \"root\".\n",
    "        password (str, optional):  Password . Defaults to \"login123\".\n",
    "        database (str, optional):  Database . Defaults to \"Base Dados IAP\".\n",
    "    \"\"\"\n",
    "\n",
    "    DataBase = SQLC.connect(\n",
    "\n",
    "        host = host,\n",
    "        user = user,\n",
    "        password = password,\n",
    "        database = database,\n",
    "        auth_plugin=\"mysql_native_password\"\n",
    "    )\n",
    "    DataBase.autocommit= True\n",
    "    cur = DataBase.cursor()\n",
    "\n",
    "def get_all_organisms ():\n",
    "    \"\"\"Função que permite obter todos os organismos presentes na Base de Dados Predefinida\n",
    "\n",
    "    Returns:\n",
    "        lista: Contêm nome de Organimos \n",
    "    \"\"\"\n",
    "    connect_database()\n",
    "    cur.execute(\"\"\"select Organism from Genbank\"\"\")\n",
    "    organisms_DB = cur.fetchall()\n",
    "\n",
    "    return organisms_DB\n",
    "\n",
    "\n",
    "def get_seq_from_organism (organism):\n",
    "    \"\"\"Função que permite obter a sequência do Organismo pretendido\n",
    "\n",
    "    Args:\n",
    "        organism (str): Organismo Presente na base de dados \n",
    "\n",
    "    Returns:\n",
    "        str: Sequência do Organismo\n",
    "    \"\"\"\n",
    "    connect_database()\n",
    "    cur.execute(f\"\"\" select Sequence from Sequences\n",
    "                    join Genbank on Sequences.ID_version_seq = Genbank.ID_version_seq\n",
    "                    where Organism = '{organism}'\n",
    "    \"\"\")\n",
    "\n",
    "    sequence = cur.fetchall()\n",
    "    \n",
    "    return sequence[0][0]\n",
    "\n",
    "def get_all_seqs():\n",
    "    \"\"\"Função que permite obter todas as sequências presentes na Base de Dados\n",
    "\n",
    "    Returns:\n",
    "        list: Lista com todas sequências presentes na Base de Dados\n",
    "    \"\"\"\n",
    "    connect_database()\n",
    "    cur.execute(f\"\"\" select Sequence from Sequences\n",
    "    \"\"\")\n",
    "\n",
    "    sequence = cur.fetchall()\n",
    "\n",
    "    return sequence\n",
    "\n",
    "\n",
    "\n"
   ]
  },
  {
   "cell_type": "code",
   "execution_count": 8,
   "metadata": {},
   "outputs": [
    {
     "data": {
      "text/plain": [
       "[('Sulfolobus spindle-shaped virus 1',),\n",
       " ('Inovirus M13',),\n",
       " ('Ectocarpus siliculosus',)]"
      ]
     },
     "execution_count": 8,
     "metadata": {},
     "output_type": "execute_result"
    }
   ],
   "source": [
    "get_all_organisms()\n",
    "get_seq_from_organism('Sulfolobus spindle-shaped virus 1')\n",
    "get_all_seqs()"
   ]
  },
  {
   "cell_type": "code",
   "execution_count": 9,
   "metadata": {},
   "outputs": [],
   "source": [
    "class Blast ():\n",
    "    \"\"\"Classe que permite realizar um Blast Simplificado \n",
    "    \"\"\"\n",
    "    def __init__(self, query, seq, w = 3):\n",
    "        \"\"\"Construtor do Blast Simplificado \n",
    "\n",
    "        Args:\n",
    "            query (str): Query \n",
    "            seq (str): Seq\n",
    "            w (int, optional): W . Defaults to 3.\n",
    "            \n",
    "        \"\"\"\n",
    "        self.seq = seq\n",
    "        self.query = query\n",
    "        self.w = w\n",
    "\n",
    "    def __len__(self):\n",
    "        return len(self.query)\n",
    "\n",
    "    \n",
    "    def query_map(query, w):\n",
    "        \"\"\"Função que permite devolver um dicionário em que as chaves são as sequências e os valores são uma lista dos índices\n",
    "\n",
    "        Args:\n",
    "            query (str): Query\n",
    "            w (int): W\n",
    "\n",
    "        Returns:\n",
    "            dict: Dicionário em que as chaves são as sequências e os valores são uma lista dos índice\n",
    "        \"\"\"\n",
    "        \n",
    "        tam = len(query)\n",
    "        res = {}\n",
    "        for chave, offset in [(query[p : p + w], p) for p in range(0, tam - w +1)]:\n",
    "            if chave not in res:\n",
    "                res[chave] = []\n",
    "            res[chave].append(offset)\n",
    "        return(res)\n",
    "\n",
    "\n",
    "    def get_all_offsets(s1, s2): \n",
    "        \"\"\"Função Auxiliar que permite devolver todos os índices das ocorrências de uma substring numa string\n",
    "\n",
    "        Args:\n",
    "            s1 (str): Substring\n",
    "            s2 (str): String\n",
    "\n",
    "        Returns:\n",
    "            dict: Dicionário com todas as ocorrèncias da substring na string\n",
    "        \"\"\"\n",
    "        w = len(s1)\n",
    "\n",
    "        return[p for p in range(0, len(s2) - w + 1) if s2[p : p + w] == s1]\n",
    "\n",
    "\n",
    "    def hits(qm, seq):\n",
    "        \"\"\"Função que permite gerar uma lista de hits\n",
    "\n",
    "        Args:\n",
    "            qm (dict): Dicionário proveninete da Função query_map\n",
    "            seq (str): Sequência Proveniente da base de dados\n",
    "        \n",
    "        Returns:\n",
    "            list: Lista de hits em que cada elemento é um tuplo com os indices\n",
    "        \"\"\"\n",
    "              \n",
    "        return[(o_query, o_seq) for chave, offsets in qm.items() \n",
    "        for o_query in offsets \n",
    "        for o_seq in Blast.get_all_offsets(chave, seq)]\n",
    "\n",
    "\n",
    "    def extend_hit_any_direction(query, seq, o1, o2, dir):\n",
    "        \"\"\"Função auxliar que permite extender o hit em ambas as direções\n",
    "\n",
    "        \"\"\"\n",
    "        matches = 0\n",
    "        count = 0\n",
    "        while o1 >= 0 and o2 >= 0 and o1 < len(query) and o2 < len(seq):\n",
    "            matches += 1 if query[o1] == seq[o2] else 0\n",
    "            count += 1\n",
    "            if 2 * matches < count:\n",
    "                return o1, o2, matches, count\n",
    "            o1 += dir\n",
    "            o2 += dir\n",
    "        return o1 - dir, o2 - dir, matches, count\n",
    "\n",
    "\n",
    "    def extend_hit(query, seq, hit, w):\n",
    "        \"\"\"Função que permite estende um hit em cada direção se o nº de matches for de pelo menos metade do tamanho da extensão\n",
    "\n",
    "        Args:\n",
    "            query (str): Query\n",
    "            seq (str): Seq\n",
    "            hit (tuple): Hit\n",
    "            w (int): w\n",
    "\n",
    "        Returns:\n",
    "            tuple: Tuplo com o índice do início do hit estendido na query, na sequência, o tamanho e o nºde matches\n",
    "        \"\"\"\n",
    "\n",
    "        o1, o2 = hit\n",
    "        left  = Blast.extend_hit_any_direction(query, seq, o1 - 1, o2 - 1, -1)\n",
    "        right = Blast.extend_hit_any_direction(query, seq, o1 + w, o2 + w, +1)\n",
    "\n",
    "        O1, O2, ML, SL = left\n",
    "        _,   _, MR, SR = right\n",
    "        return O1, O2, w + SL + SR, ML + w + MR\n",
    "    \n",
    "\n",
    "    def best_hit (self):\n",
    "        \"\"\"Função que permite devolver a extensão de maior score (no caso de empate, deverá devolver a de menor tamanho que aparece primeiro)\n",
    "\n",
    "        Returns:\n",
    "            tuple: Tuplo com a extensão que possui maior score\n",
    "        \"\"\"\n",
    "        qm = Blast.query_map(self.query,self.w)\n",
    "        lista_hits = Blast.hits(qm, self.seq)\n",
    "        all_scores =[Blast.extend_hit(self.query, self.seq, c, self.w) for c in lista_hits]\n",
    "        all_scores.sort(key=lambda c: c[2] and c[3], reverse=True)\n",
    "        if all_scores == []:\n",
    "            return print(\"Not Found\")\n",
    "        else:\n",
    "            return all_scores [0]"
   ]
  },
  {
   "cell_type": "code",
   "execution_count": 10,
   "metadata": {},
   "outputs": [
    {
     "data": {
      "text/plain": [
       "(6, 21, 5, 6)"
      ]
     },
     "execution_count": 10,
     "metadata": {},
     "output_type": "execute_result"
    }
   ],
   "source": [
    "query = \"AATATAT\"\n",
    "seq = \"AATATGTTATATAATAATATTT\"\n",
    "query_2 = \"ATCG\"\n",
    "seq_2 = \"GGGATCGGG\"\n",
    "w = 3\n",
    "a = Blast(query, seq,3)\n",
    "qm = Blast.query_map(query,3)\n",
    "Blast.hits(qm,seq)\n",
    "Blast.extend_hit(query,seq,(1, 16),w)\n",
    "Blast.extend_hit_any_direction(query, seq, 1, 16, -1)\n",
    "Blast.extend_hit_any_direction(query, seq, 1, 16, 1)\n",
    "\n"
   ]
  },
  {
   "cell_type": "code",
   "execution_count": 19,
   "metadata": {},
   "outputs": [
    {
     "name": "stderr",
     "output_type": "stream",
     "text": [
      ".........\n",
      "----------------------------------------------------------------------\n",
      "Ran 9 tests in 0.041s\n",
      "\n",
      "OK\n"
     ]
    },
    {
     "data": {
      "text/plain": [
       "<unittest.main.TestProgram at 0x7f71b4040880>"
      ]
     },
     "execution_count": 19,
     "metadata": {},
     "output_type": "execute_result"
    }
   ],
   "source": [
    "import unittest\n",
    "\n",
    "class Test_DataBase (unittest.TestCase):\n",
    "    def test_database (self):\n",
    "        self.assertEqual(len(get_all_organisms()),len(get_all_seqs()))\n",
    "\n",
    "\n",
    "    def test_database_2 (self):\n",
    "        self.assertEqual(type(get_seq_from_organism('Sulfolobus spindle-shaped virus 1')), str)\n",
    "\n",
    "\n",
    "unittest.main(argv=[''], exit=False)"
   ]
  },
  {
   "cell_type": "code",
   "execution_count": 11,
   "metadata": {},
   "outputs": [
    {
     "name": "stderr",
     "output_type": "stream",
     "text": [
      ".......\n",
      "----------------------------------------------------------------------\n",
      "Ran 7 tests in 0.003s\n",
      "\n",
      "OK\n"
     ]
    },
    {
     "data": {
      "text/plain": [
       "<unittest.main.TestProgram at 0x7f719e460640>"
      ]
     },
     "execution_count": 11,
     "metadata": {},
     "output_type": "execute_result"
    }
   ],
   "source": [
    "import unittest\n",
    "\n",
    "class Test_Blast (unittest.TestCase):\n",
    "    \"\"\"Estes Testes foram baseados nos exemplos fornecidos pelo Professor Rui (inputs/outputs) durantes\n",
    "    as aulas teóricas \n",
    "    \"\"\"\n",
    "    query = \"AATATAT\"\n",
    "    seq = \"AATATGTTATATAATAATATTT\"\n",
    "    w = 3\n",
    "\n",
    "    def test_query_map (self):\n",
    "        self.assertEqual(Blast.query_map(query,w),{'AAT': [0], 'ATA': [1, 3], 'TAT': [2, 4]})\n",
    "    \n",
    "\n",
    "    def test_get_all_offsets (self):\n",
    "        self.assertEqual(Blast.get_all_offsets(query,seq), [])\n",
    "    \n",
    "    \n",
    "    def test_hits (self):\n",
    "        self.assertEqual(Blast.hits(Blast.query_map(query,w),seq),[\n",
    "            (0, 0), (0, 12), (0, 15), (1, 1), (1, 8),\n",
    "            (1, 10), (1, 13), (1, 16), (3, 1), (3, 8), (3, 10),\n",
    "            (3, 13), (3, 16), (2, 2), (2, 7), (2, 9), (2, 17),\n",
    "            (4, 2), (4, 7), (4, 9),(4, 17)])\n",
    "\n",
    "\n",
    "    def test_extend_hit_any_direction_left (self):\n",
    "        self.assertEqual(Blast.extend_hit_any_direction(query, seq, 1, 16, -1),(0, 15, 2, 2))\n",
    "\n",
    "    \n",
    "    def test_extend_hit_any_direction_right (self):\n",
    "        self.assertEqual(Blast.extend_hit_any_direction(query, seq, 1, 16, 1),(6, 21, 5, 6))\n",
    "\n",
    "    def test_extend_hit (self):\n",
    "        self.assertEqual(Blast.extend_hit(query, seq, (1, 16), w), (0, 15, 7, 6))\n",
    "\n",
    "    \n",
    "    def test_best_hit (self):\n",
    "        self.assertEqual(Blast(query, seq, w).best_hit(), (0, 0, 7, 6))\n",
    "\n",
    "unittest.main(argv=[''], exit=False)"
   ]
  }
 ],
 "metadata": {
  "kernelspec": {
   "display_name": "mestrado_final",
   "language": "python",
   "name": "python3"
  },
  "language_info": {
   "codemirror_mode": {
    "name": "ipython",
    "version": 3
   },
   "file_extension": ".py",
   "mimetype": "text/x-python",
   "name": "python",
   "nbconvert_exporter": "python",
   "pygments_lexer": "ipython3",
   "version": "3.9.13 (main, Oct 13 2022, 21:15:33) \n[GCC 11.2.0]"
  },
  "orig_nbformat": 4,
  "vscode": {
   "interpreter": {
    "hash": "f2307cf6e279acbb4fe5a904c1ba66075afa04f4e5f00d0d9abed1d852b5aca9"
   }
  }
 },
 "nbformat": 4,
 "nbformat_minor": 2
}
