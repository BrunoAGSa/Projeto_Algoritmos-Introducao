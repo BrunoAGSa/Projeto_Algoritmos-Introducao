{
  "cells": [
    {
      "cell_type": "code",
      "execution_count": 4,
      "metadata": {
        "id": "VgJhif2KOuzR"
      },
      "outputs": [],
      "source": [
        "seqs = ['ATTG','ATCG','ATTC','ACTC']\n",
        "\n",
        "seqs2 = \"\"\"HEM13 CCCATTGTTCTC\n",
        "HEM13 TTTCTGGTTCTC\n",
        "HEM13 TCAATTGTTTAG\n",
        "ANB1 CTCATTGTTGTC\n",
        "ANB1 TCCATTGTTCTC\n",
        "ANB1 CCTATTGTTCTC\n",
        "ANB1 TCCATTGTTCGT\n",
        "ROX1 CCAATTGTTTTG\"\"\"\n",
        "\n",
        "seqs2 = [x.split()[1] for x in seqs2.splitlines()]"
      ]
    },
    {
      "cell_type": "code",
      "execution_count": 11,
      "metadata": {
        "id": "IyKq4I4_PQPE"
      },
      "outputs": [
        {
          "data": {
            "text/plain": [
              "'ACCGTGAAAAAA'"
            ]
          },
          "execution_count": 11,
          "metadata": {},
          "output_type": "execute_result"
        }
      ],
      "source": [
        "from IPython.core.displayhook import CapturingDisplayHook\n",
        "\"\"\"\n",
        "DISCLAIMER\n",
        "\n",
        "O prof é preguiçoso!!!\n",
        "\n",
        "\"\"\"\n",
        "#display(list(zip(*seqs)))\n",
        "\n",
        "def contagens(seqs, chars, pseudo = 0):\n",
        "  return [{x : s.count(x) + pseudo for x in chars} for s in zip(*seqs)]\n",
        "\n",
        "def pwm(seqs, pseudo = 0):\n",
        "  tam = len(seqs)\n",
        "  chars = set(''.join(seqs)) # batota\n",
        "  cont = contagens(seqs, chars, pseudo)\n",
        "  return [{k : v / sum(d.values()) for k, v in d.items()} for d in cont]\n",
        "\n",
        "def pssm(seqs, pseudo = 0.5):\n",
        "  P = pwm(seqs, pseudo)\n",
        "  nchars = len(set(''.join(seqs))) # batota\n",
        "  from math import log2\n",
        "  return [{k : log2(v/(1/nchars)) for k, v in d.items()} for d in P]\n",
        "\n",
        "def prob_seq(seq, pwm):\n",
        "  P = 1\n",
        "  for p in [d[x] for x, d in zip(seq, pwm)]:\n",
        "    P *= p\n",
        "  return P\n",
        "\n",
        "snd = lambda x: x[1]\n",
        "\n",
        "def chunks_size_n(seq, size):\n",
        "  import re\n",
        "  return re.findall(f'(?=({\".\" * size}))', seq)\n",
        "\n",
        "def seq_mais_provavel(seq, pwm):\n",
        "  tam = len(pwm)\n",
        "  cand = chunks_size_n(seq, tam)\n",
        "  por_prob = lambda C : prob_seq(C, pwm)\n",
        "  # return max([(C, prob_seq(C, pwm)) for C in cand], key = snd)\n",
        "\n",
        "  return max(cand, key = por_prob)\n",
        "\n",
        "seq_mais_provavel(\"ACCGTGAAAAAA\", pwm(seqs2, 0.5))"
      ]
    },
    {
      "cell_type": "code",
      "execution_count": 3,
      "metadata": {
        "id": "anNz8eKPZgRQ"
      },
      "outputs": [
        {
          "data": {
            "text/plain": [
              "2"
            ]
          },
          "execution_count": 3,
          "metadata": {},
          "output_type": "execute_result"
        }
      ],
      "source": [
        "snd([1,2,3])"
      ]
    }
  ],
  "metadata": {
    "colab": {
      "private_outputs": true,
      "provenance": []
    },
    "kernelspec": {
      "display_name": "Python 3.9.13 ('mestrado_final')",
      "language": "python",
      "name": "python3"
    },
    "language_info": {
      "codemirror_mode": {
        "name": "ipython",
        "version": 3
      },
      "file_extension": ".py",
      "mimetype": "text/x-python",
      "name": "python",
      "nbconvert_exporter": "python",
      "pygments_lexer": "ipython3",
      "version": "3.9.13"
    },
    "vscode": {
      "interpreter": {
        "hash": "f2307cf6e279acbb4fe5a904c1ba66075afa04f4e5f00d0d9abed1d852b5aca9"
      }
    }
  },
  "nbformat": 4,
  "nbformat_minor": 0
}
