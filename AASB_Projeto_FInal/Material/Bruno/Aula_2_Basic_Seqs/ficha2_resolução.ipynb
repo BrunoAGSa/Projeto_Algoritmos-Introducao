{
 "cells": [
  {
   "cell_type": "markdown",
   "id": "ee405f9b",
   "metadata": {},
   "source": [
    "# **Problemas**\n",
    "\n",
    "1-Escreva uma função que receba uma string e que valide se esta é uma\n",
    "sequência de DNA\n",
    "\n",
    "2-Escreva uma função que recebe uma sequência e imprime, um por\n",
    "linha, o nº de A, C, G e T\n",
    "\n",
    "3-Modifique a função anterior para imprimir também o nº de erros\n",
    "\n",
    "4-Escreva uma função que recebe uma sequência e imprime, uma por\n",
    "linha, a frequência de A, C, G e T\n",
    "\n",
    "5-Escreva um programa que leia uma cadeia de DNA e imprima a cadeia\n",
    "de RNA correspondente\n",
    "\n",
    "6-Escreva uma função que receba uma string e imprime o nº de vogais\n",
    "seguido do nº de consoantes\n",
    "\n",
    "7-Escreva um programa que leia uma cadeia de DNA e imprima o seu\n",
    "complemento inverso\n",
    "\n",
    "8-Escreva uma função que receba uma string e que devolva um dos 4\n",
    "possíveis valores: DNA, RNA, AMINO ou ERRO"
   ]
  },
  {
   "cell_type": "markdown",
   "id": "633ab3f9",
   "metadata": {},
   "source": [
    "### 1-Escreva uma função que receba uma string e que valide se esta é uma sequência de DNA\n",
    "\n"
   ]
  },
  {
   "cell_type": "code",
   "execution_count": 7,
   "id": "1815ff0b",
   "metadata": {},
   "outputs": [
    {
     "data": {
      "text/plain": [
       "False"
      ]
     },
     "execution_count": 7,
     "metadata": {},
     "output_type": "execute_result"
    }
   ],
   "source": [
    "seq = input(\"Seq \").lower()\n",
    "\n",
    "def Check_dna (seq):\n",
    "    A = seq.count(\"a\")\n",
    "    C = seq.count(\"c\")\n",
    "    G = seq.count(\"g\")\n",
    "    T = seq.count(\"t\")\n",
    "    \n",
    "    return A + C + G + T == len(seq)\n",
    "\n",
    "Check_dna(seq)"
   ]
  },
  {
   "cell_type": "markdown",
   "id": "5d18e93b",
   "metadata": {},
   "source": [
    "### 2-Escreva uma função que recebe uma sequência e imprime, um por linha, o nº de A, C, G e T"
   ]
  },
  {
   "cell_type": "code",
   "execution_count": 8,
   "id": "2604fbc2",
   "metadata": {},
   "outputs": [
    {
     "name": "stdout",
     "output_type": "stream",
     "text": [
      "A --> 0 \n",
      "C --> 0 \n",
      "G --> 0 \n",
      "T --> 0\n"
     ]
    },
    {
     "data": {
      "text/plain": [
       "(0, 0, 0, 0)"
      ]
     },
     "execution_count": 8,
     "metadata": {},
     "output_type": "execute_result"
    }
   ],
   "source": [
    "seq = input(\"Seq \").lower()\n",
    "\n",
    "def Count_nucl (seq):\n",
    "    A = seq.count(\"a\")\n",
    "    C = seq.count(\"c\")\n",
    "    G = seq.count(\"g\")\n",
    "    T = seq.count(\"t\")\n",
    "    print(f\"A --> {A} \\nC --> {C} \\nG --> {G} \\nT --> {T}\")\n",
    "    return A, C, G, T   #isto para futuros usos\n",
    "Count_nucl(seq)"
   ]
  },
  {
   "cell_type": "markdown",
   "id": "72153e0d",
   "metadata": {},
   "source": [
    "### 3-Modifique a função anterior para imprimir também o nº de erros\n"
   ]
  },
  {
   "cell_type": "code",
   "execution_count": 9,
   "id": "3e9ca723",
   "metadata": {},
   "outputs": [
    {
     "name": "stdout",
     "output_type": "stream",
     "text": [
      "A --> 0 \n",
      "C --> 0 \n",
      "G --> 0 \n",
      "T --> 0 \n",
      "Erros --> 1\n"
     ]
    }
   ],
   "source": [
    "seq = input(\"Seq \").lower()\n",
    "\n",
    "def Count_nucl_error(seq):\n",
    "    A = seq.count(\"a\")\n",
    "    C = seq.count(\"c\")\n",
    "    G = seq.count(\"g\")\n",
    "    T = seq.count(\"t\")\n",
    "    erros = len(seq) - (A + C + G + T)\n",
    "    print(f\"A --> {A} \\nC --> {C} \\nG --> {G} \\nT --> {T} \\nErros --> {erros}\")\n",
    "\n",
    "Count_nucl_error(seq)\n"
   ]
  },
  {
   "cell_type": "markdown",
   "id": "8df4a7ee",
   "metadata": {},
   "source": [
    "###  4-Escreva uma função que recebe uma sequência e imprime, uma por linha, a frequência de A, C, G e T"
   ]
  },
  {
   "cell_type": "code",
   "execution_count": 5,
   "id": "782eea1a",
   "metadata": {},
   "outputs": [
    {
     "name": "stdout",
     "output_type": "stream",
     "text": [
      "Freq \n",
      "A --> 0.4 \n",
      "C --> 0.2 \n",
      "G --> 0.2 \n",
      "T --> 0.2\n"
     ]
    }
   ],
   "source": [
    "seq = input(\"Seq \").lower()\n",
    "\n",
    "def Count_dna_freq (seq):\n",
    "    A = seq.count(\"a\") / len(seq)\n",
    "    C = seq.count(\"c\") / len (seq)\n",
    "    G = seq.count(\"g\") / len(seq)\n",
    "    T = seq.count(\"t\") / len(seq)\n",
    "     \n",
    "    return print(f\"Freq \\nA --> {A} \\nC --> {C} \\nG --> {G} \\nT --> {T}\")\n",
    "\n",
    "Count_dna_freq(seq)\n",
    "    \n"
   ]
  },
  {
   "cell_type": "markdown",
   "id": "6c78718b",
   "metadata": {},
   "source": [
    "### 5-Escreva um programa que leia uma cadeia de DNA e imprima a cadeia de RNA correspondente"
   ]
  },
  {
   "cell_type": "code",
   "execution_count": 3,
   "id": "238ac87b",
   "metadata": {},
   "outputs": [
    {
     "data": {
      "text/plain": [
       "'acgaUcacgaUcacaghcahcUuaycUahcgjacgacyaucgahjccga'"
      ]
     },
     "execution_count": 3,
     "metadata": {},
     "output_type": "execute_result"
    }
   ],
   "source": [
    "seq = input(\"Seq \")\n",
    "\n",
    "def Dna_Rna (seq):\n",
    "    return seq.lower().replace(\"t\",\"U\")\n",
    "\n",
    "Dna_Rna(seq)"
   ]
  },
  {
   "cell_type": "markdown",
   "id": "2759ed52",
   "metadata": {},
   "source": [
    "### 6-Escreva uma função que receba uma string e imprime o nº de vogais seguido do nº de consoantes"
   ]
  },
  {
   "cell_type": "code",
   "execution_count": 15,
   "id": "3be800da",
   "metadata": {},
   "outputs": [
    {
     "name": "stdout",
     "output_type": "stream",
     "text": [
      "10 vogais e 15 consoantes\n"
     ]
    }
   ],
   "source": [
    "str = input(\"String \").lower()\n",
    "\n",
    "def string_let (str):\n",
    "    letras = [x for x in str if x.isalpha()]\n",
    "    vogais = letras.count (\"a\") + letras.count(\"e\") + letras.count(\"i\") + letras.count(\"o\") + letras.count(\"u\")\n",
    "    consoa = len(letras) - vogais\n",
    "    return print (f\"{vogais} vogais e {consoa} consoantes\") \n",
    "\n",
    "string_let(str)\n",
    "\n"
   ]
  },
  {
   "cell_type": "markdown",
   "id": "ddd167f1",
   "metadata": {},
   "source": [
    "### 7-Escreva um programa que leia uma cadeia de DNA e imprima o seu complemento inverso"
   ]
  },
  {
   "cell_type": "code",
   "execution_count": 11,
   "id": "2def1a9e",
   "metadata": {},
   "outputs": [
    {
     "name": "stdout",
     "output_type": "stream",
     "text": [
      "AGjThCGT\n"
     ]
    }
   ],
   "source": [
    "seq = input(\"Seq \").lower()\n",
    "\n",
    "def Dna_comp (seq):\n",
    "    return print(seq.replace(\"a\", \"T\").replace(\"t\", \"A\").replace(\"c\", \"G\").replace(\"g\", \"C\")[::-1])\n",
    "\n",
    "#print(seq)\n",
    "Dna_comp(seq)"
   ]
  },
  {
   "cell_type": "markdown",
   "id": "fcd81ba4",
   "metadata": {},
   "source": [
    "### 8-Escreva uma função que receba uma string e que devolva um dos 4 possíveis valores: DNA, RNA, AMINO ou ERRO"
   ]
  },
  {
   "cell_type": "code",
   "execution_count": 6,
   "id": "4e950c79",
   "metadata": {},
   "outputs": [
    {
     "data": {
      "text/plain": [
       "'Vazia'"
      ]
     },
     "execution_count": 6,
     "metadata": {},
     "output_type": "execute_result"
    }
   ],
   "source": [
    "def get_type (seq_1):\n",
    "    seq = seq_1.upper()\n",
    "    if len(seq) == 0:\n",
    "        return \"Vazia\"\n",
    "        \n",
    "    if len([c for c in seq if c not in \"ACGT\"]) == 0:\n",
    "        return \"DNA\"\n",
    "\n",
    "    elif len([c for c in seq if c not in \"ACGU\"]) == 0:\n",
    "        return \"RNA\"\n",
    "\n",
    "    elif len([c for c in seq if c not in \"BDEFHIJKLMNOPQRSUVWXYZ\"]) == 0:\n",
    "        return \"PROTEIN\"\n",
    "        \n",
    "    else:\n",
    "        return \"Erro\"\n",
    "get_type(\"\")"
   ]
  }
 ],
 "metadata": {
  "kernelspec": {
   "display_name": "Python 3.9.13 ('mestrado_final')",
   "language": "python",
   "name": "python3"
  },
  "language_info": {
   "codemirror_mode": {
    "name": "ipython",
    "version": 3
   },
   "file_extension": ".py",
   "mimetype": "text/x-python",
   "name": "python",
   "nbconvert_exporter": "python",
   "pygments_lexer": "ipython3",
   "version": "3.9.13"
  },
  "vscode": {
   "interpreter": {
    "hash": "f2307cf6e279acbb4fe5a904c1ba66075afa04f4e5f00d0d9abed1d852b5aca9"
   }
  }
 },
 "nbformat": 4,
 "nbformat_minor": 5
}
