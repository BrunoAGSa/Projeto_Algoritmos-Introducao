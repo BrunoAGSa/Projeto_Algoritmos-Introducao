{
  "nbformat": 4,
  "nbformat_minor": 0,
  "metadata": {
    "colab": {
      "private_outputs": true,
      "provenance": []
    },
    "kernelspec": {
      "name": "python3",
      "display_name": "Python 3"
    },
    "language_info": {
      "name": "python"
    }
  },
  "cells": [
    {
      "cell_type": "code",
      "source": [
        "gencode = {\n",
        "    'ATA':'I', 'ATC':'I', 'ATT':'I', 'ATG':'M',\n",
        "    'ACA':'T', 'ACC':'T', 'ACG':'T', 'ACT':'T',\n",
        "    'AAC':'N', 'AAT':'N', 'AAA':'K', 'AAG':'K',\n",
        "    'AGC':'S', 'AGT':'S', 'AGA':'R', 'AGG':'R',\n",
        "    'CTA':'L', 'CTC':'L', 'CTG':'L', 'CTT':'L',\n",
        "    'CCA':'P', 'CCC':'P', 'CCG':'P', 'CCT':'P',\n",
        "    'CAC':'H', 'CAT':'H', 'CAA':'Q', 'CAG':'Q',\n",
        "    'CGA':'R', 'CGC':'R', 'CGG':'R', 'CGT':'R',\n",
        "    'GTA':'V', 'GTC':'V', 'GTG':'V', 'GTT':'V',\n",
        "    'GCA':'A', 'GCC':'A', 'GCG':'A', 'GCT':'A',\n",
        "    'GAC':'D', 'GAT':'D', 'GAA':'E', 'GAG':'E',\n",
        "    'GGA':'G', 'GGC':'G', 'GGG':'G', 'GGT':'G',\n",
        "    'TCA':'S', 'TCC':'S', 'TCG':'S', 'TCT':'S',\n",
        "    'TTC':'F', 'TTT':'F', 'TTA':'L', 'TTG':'L',\n",
        "    'TAC':'Y', 'TAT':'Y', 'TAA':'_', 'TAG':'_',\n",
        "    'TGC':'C', 'TGT':'C', 'TGA':'_', 'TGG':'W'}\n"
      ],
      "metadata": {
        "id": "xGikZNP10czL"
      },
      "execution_count": null,
      "outputs": []
    },
    {
      "cell_type": "code",
      "execution_count": null,
      "metadata": {
        "id": "gB4jdNZZvgdC"
      },
      "outputs": [],
      "source": [
        "dic = {'TTT' : 'F', 'ATT' : 'I'}\n",
        "dic"
      ]
    },
    {
      "cell_type": "code",
      "source": [
        "for x in dic: print(x)\n",
        "\n",
        "for k, v in dic.items(): print(k, v)"
      ],
      "metadata": {
        "id": "BDCSLrWTxGBp"
      },
      "execution_count": null,
      "outputs": []
    },
    {
      "cell_type": "code",
      "source": [
        "seq = \"ACCTCTCGCGATAGGATCGCTGCGGCGCTGAGAGAGTCA\"\n",
        "{base : seq.count(base) for base in \"ACGT\"}"
      ],
      "metadata": {
        "id": "LoJP1UM6xaJB"
      },
      "execution_count": null,
      "outputs": []
    },
    {
      "cell_type": "code",
      "source": [
        "contagem = {'A' : 0, 'C' : 0, 'G':0, 'T':0}\n",
        "for base in seq:\n",
        "  contagem[base] = contagem[base] + 1\n",
        "\n",
        "contagem"
      ],
      "metadata": {
        "id": "8nitc12OyQ4i"
      },
      "execution_count": null,
      "outputs": []
    },
    {
      "cell_type": "code",
      "source": [
        "contagem = {}\n",
        "for base in seq:\n",
        "  contagem[base] = contagem.get(base, 0) + 1\n",
        "\n",
        "contagem"
      ],
      "metadata": {
        "id": "qYV30_pbysF6"
      },
      "execution_count": null,
      "outputs": []
    },
    {
      "cell_type": "code",
      "source": [
        "codons = [\"ATT\", \"TTT\", \"TTA\"]\n",
        "\n",
        "''.join([gencode[c] for c in codons])"
      ],
      "metadata": {
        "id": "UoFvEm0TwE_j"
      },
      "execution_count": null,
      "outputs": []
    },
    {
      "cell_type": "code",
      "source": [
        "get_codons = lambda seq, off: [gencode[seq[p : p + 3]] \n",
        "                               for p in range(off, len(seq), 3)\n",
        "                               if len(seq[p : p + 3]) == 3]\n",
        "\n",
        "[get_codons(seq, p) for p in range(3)]"
      ],
      "metadata": {
        "id": "-Hpw52120qv9"
      },
      "execution_count": null,
      "outputs": []
    },
    {
      "cell_type": "code",
      "source": [
        "lst = [\"abutre\", \"aberto\", \"abeto\", \"abaco\"]\n",
        "sorted(lst, key = lambda s: (-len(s), s) )"
      ],
      "metadata": {
        "id": "p3XBfVD54TFX"
      },
      "execution_count": null,
      "outputs": []
    }
  ]
}