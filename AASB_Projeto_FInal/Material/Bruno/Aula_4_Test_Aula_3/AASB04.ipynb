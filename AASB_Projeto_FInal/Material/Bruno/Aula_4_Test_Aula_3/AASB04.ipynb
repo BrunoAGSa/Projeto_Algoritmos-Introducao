{
  "nbformat": 4,
  "nbformat_minor": 0,
  "metadata": {
    "colab": {
      "private_outputs": true,
      "provenance": []
    },
    "kernelspec": {
      "name": "python3",
      "display_name": "Python 3"
    },
    "language_info": {
      "name": "python"
    }
  },
  "cells": [
    {
      "cell_type": "code",
      "execution_count": null,
      "metadata": {
        "id": "2RDp7E4KcGRE"
      },
      "outputs": [],
      "source": [
        "gencode = {\n",
        "    'ATA':'I', 'ATC':'I', 'ATT':'I', 'ATG':'M',\n",
        "    'ACA':'T', 'ACC':'T', 'ACG':'T', 'ACT':'T',\n",
        "    'AAC':'N', 'AAT':'N', 'AAA':'K', 'AAG':'K',\n",
        "    'AGC':'S', 'AGT':'S', 'AGA':'R', 'AGG':'R',\n",
        "    'CTA':'L', 'CTC':'L', 'CTG':'L', 'CTT':'L',\n",
        "    'CCA':'P', 'CCC':'P', 'CCG':'P', 'CCT':'P',\n",
        "    'CAC':'H', 'CAT':'H', 'CAA':'Q', 'CAG':'Q',\n",
        "    'CGA':'R', 'CGC':'R', 'CGG':'R', 'CGT':'R',\n",
        "    'GTA':'V', 'GTC':'V', 'GTG':'V', 'GTT':'V',\n",
        "    'GCA':'A', 'GCC':'A', 'GCG':'A', 'GCT':'A',\n",
        "    'GAC':'D', 'GAT':'D', 'GAA':'E', 'GAG':'E',\n",
        "    'GGA':'G', 'GGC':'G', 'GGG':'G', 'GGT':'G',\n",
        "    'TCA':'S', 'TCC':'S', 'TCG':'S', 'TCT':'S',\n",
        "    'TTC':'F', 'TTT':'F', 'TTA':'L', 'TTG':'L',\n",
        "    'TAC':'Y', 'TAT':'Y', 'TAA':'_', 'TAG':'_',\n",
        "    'TGC':'C', 'TGT':'C', 'TGA':'_', 'TGG':'W'}"
      ]
    },
    {
      "cell_type": "code",
      "source": [
        "reversed = {A : [k for k, v in gencode.items() if v == A] for A in set(gencode.values())}\n",
        "reversed"
      ],
      "metadata": {
        "id": "yV11HE6AcLhs"
      },
      "execution_count": null,
      "outputs": []
    },
    {
      "cell_type": "code",
      "source": [
        "def my_amino2dna(amino):\n",
        "  seq = ''\n",
        "  for aa in amino:\n",
        "    seq += random.choice(reversed[aa])\n",
        "  return seq"
      ],
      "metadata": {
        "id": "bTQg6-XAqHEh"
      },
      "execution_count": null,
      "outputs": []
    },
    {
      "cell_type": "code",
      "source": [
        "def comp_inv(dna):\n",
        "  return dna.lower().replace('a','T').replace('c', 'G').replace('g','C').replace('t', 'A')[::-1]"
      ],
      "metadata": {
        "id": "hJhh10qXrYUR"
      },
      "execution_count": null,
      "outputs": []
    },
    {
      "cell_type": "code",
      "source": [
        "import random\n",
        "def gen_prot(avg_sz):\n",
        "  start, stop = 'M', '_'\n",
        "  others = [k for k in reversed if k != stop]\n",
        "  prt = get_random_str(avg_sz, others)\n",
        "  return start + prt + stop\n",
        "\n",
        "def random_intron(avg_sz):\n",
        "  intron = get_random_str(avg_sz, \"ACGT\")\n",
        "  intron.replace('ATG', 'ATT').replace('CAT','CAA')\n",
        "  if intron.startswith('TG'): intron = 'T' + intron\n",
        "  if intron.endswith('CA'): intron += 'G'\n",
        "  return intron\n",
        "\n",
        "def get_random_str(avg_sz, chars):\n",
        "  intron = ''\n",
        "  while random.random() > 1 / avg_sz:\n",
        "    intron += random.choice(chars)\n",
        "  return intron\n",
        "\n",
        "def amino2dna(amino):\n",
        "  return ''.join([random.choice(reversed[aa]) for aa in amino])"
      ],
      "metadata": {
        "id": "i2FPsOyzcjsr"
      },
      "execution_count": null,
      "outputs": []
    },
    {
      "cell_type": "code",
      "source": [
        "random_intron(99)"
      ],
      "metadata": {
        "id": "9f4magOWrJ_t"
      },
      "execution_count": null,
      "outputs": []
    },
    {
      "cell_type": "code",
      "source": [
        "def get_dna1_3(num_prots = 25, avg_intron_size = 30, avg_prot_size = 50):\n",
        "  dna = ''\n",
        "  prots = []\n",
        "  for p in range(num_prots):\n",
        "    dna += random_intron(avg_intron_size)\n",
        "    prot = gen_prot(avg_prot_size)\n",
        "    dna += amino2dna(prot)\n",
        "    prots.append(prot)\n",
        "  dna += random_intron(avg_intron_size)\n",
        "  return dna, prots\n",
        "\n",
        "def get_dna(num_prots = 25, avg_intron_size = 30, avg_prot_size = 50):\n",
        "  dna1, prots1 = get_dna1_3(num_prots = num_prots, avg_intron_size = avg_intron_size, avg_prot_size = avg_prot_size)\n",
        "  dna2, prots2 = get_dna1_3(num_prots = num_prots, avg_intron_size = avg_intron_size, avg_prot_size = avg_prot_size)\n",
        "\n",
        "  dna = dna1 + comp_inv(dna2)\n",
        "  prots = set(prots1) | set(prots2)\n",
        "\n",
        "  return dna, prots"
      ],
      "metadata": {
        "id": "anrYTNHDfwq2"
      },
      "execution_count": null,
      "outputs": []
    },
    {
      "cell_type": "code",
      "source": [
        "def dna_valido(dna):\n",
        "  return len([k for k in dna if k not in \"ACGT\"]) == 0\n",
        "  #return len(dna.replace('A','').replace('C','')) == 0\n",
        "\n",
        "def dna2amino(dna):\n",
        "  assert dna_valido(dna), f\"{dna} não é um pedaço de DNA válido!\"\n",
        "  return ''.join([gencode.get(dna[p : p + 3], '') for p in range(0, len(dna), 3)])\n",
        "\n",
        "def get_orfs(dna):\n",
        "  return [dna2amino(dna[p:]) for p in range(3)] + [dna2amino(comp_inv(dna)[p:]) for p in range(3)]\n",
        "\n",
        "def get_orf_prot(orf):\n",
        "  is_prot = False\n",
        "  prot = ''\n",
        "  prots = []\n",
        "  for A in orf:\n",
        "    if is_prot:\n",
        "      prot += A\n",
        "      if A == '_':\n",
        "        prots.append(prot)\n",
        "        is_prot = False\n",
        "        prot = ''\n",
        "    else:\n",
        "      if A == 'M':\n",
        "        is_prot = True\n",
        "        prot = 'M'\n",
        "  return set(prots)\n",
        "\n",
        "def get_prots(dna):\n",
        "  res = set()\n",
        "  for prots in [get_orf_prot(orf) for orf in get_orfs(dna)]:\n",
        "    res |= prots\n",
        "  return res"
      ],
      "metadata": {
        "id": "nOtJ8RWO2G_x"
      },
      "execution_count": null,
      "outputs": []
    },
    {
      "cell_type": "markdown",
      "source": [
        "Acontece que a sequência gerada contém todas as proteínas mas, em alguns casos, contidas em proteínas mais pequenas. Logo, os testes foram escritos de outra forma:\n",
        "- Ou as proteínas foram encontradas, ou\n",
        "- As proteínas estão contidas em proteínas maiores (eram estas as que não tinham sido encontradas)"
      ],
      "metadata": {
        "id": "YCydUlwxo38i"
      }
    },
    {
      "cell_type": "code",
      "source": [
        "assert sorted(get_orf_prot('MBJ_AMTH_TYMGPW_THMAMSA_TMY_')) == sorted(['MBJ_', 'MTH_', 'MGPW_', 'MAMSA_', 'MY_'])\n",
        "dna, prot = get_dna(num_prots = 100)\n",
        "all_prots = get_prots(dna)\n",
        "\n",
        "# Este ciclo vai procurar se as proteínas que não foram encontradas não estão contidas nelas\n",
        "for p in [p for p in prot if p not in all_prots]:\n",
        "  print(p, [P[:P.find(p)] for P in all_prots if p in P])\n",
        "  assert any(p in P for P in all_prots)\n",
        "\n",
        "\n",
        "dna1 = my_amino2dna(\"MATFH_\") + \"TGAT\" + my_amino2dna('M_')\n",
        "dna2 = my_amino2dna(\"MQRSSFG_\") + 'CG' + my_amino2dna(\"MLHYTAFG_\") + 'GTAT' + my_amino2dna('MWYT_')\n",
        "dna = 'TGGGT' + dna1 + comp_inv(dna2) + 'TGTGGTAAACC'\n",
        "\n",
        "assert all(p in get_prots(dna) for  p in \"MATFH_ M_ MQRSSFG_ MLHYTAFG_ MWYT_\".split())"
      ],
      "metadata": {
        "id": "I43c523i8oK6"
      },
      "execution_count": null,
      "outputs": []
    },
    {
      "cell_type": "code",
      "source": [
        "import unittest\n",
        "\n",
        "class TestBioInf(unittest.TestCase):\n",
        "\n",
        "    def test_valido(self):\n",
        "      self.assertTrue(dna_valido(\"\"))\n",
        "      validas = \"AAA AGGC GGGG TTT CCC GT TGC ATGA TCGA\".split()\n",
        "      invalidas = \"AXA TGCHA YRT GITA AZ\".split()\n",
        "      for s in validas:\n",
        "        self.assertTrue(dna_valido(s), f'valido {s}')\n",
        "      for s in invalidas:\n",
        "        self.assertFalse(dna_valido(s), f'invalido {s}')\n",
        "    \n",
        "    def test_get_orf_prot(self):\n",
        "        testes = [\n",
        "            (\"YTMAMOP_NKENDRWNSKSSHQVFNKMENDRWNSMYIKWRSLFCWYPHKNVLIILQWLALDFWGCEFI_\", {\"MAMOP_\", \"MENDRWNSMYIKWRSLFCWYPHKNVLIILQWLALDFWGCEFI_\"}),\n",
        "            (\"NKM_POPMENDMWYP_YTMOP\", {\"M_\",\"MENDMWYP_\"}),\n",
        "            (\"YMTYOP\", set()),\n",
        "            (\"YMTYOP_I\",{\"MTYOP_\"})\n",
        "        ]\n",
        "        for s, p in testes:\n",
        "          self.assertEqual(get_orf_prot(s), p)\n",
        "\n",
        "    def test_get_orfs(self):\n",
        "      self.assertEqual(get_orfs(\"ACGTACTGCACGTA\"),['TYCT', 'RTAR', 'VLHV', 'YVQY', 'TCST', 'RAVR'])\n",
        "\n",
        "    def test_get_prots(self):\n",
        "      dna = \"TTATGGGTATGGCAACTTTCCATTAATGATATGTAACTAAGTGTACCACATATACCTAGCCAAAGGCTGTGTAGTGGAGCATCGTTATCCGAAGCTTGATCGTTGCATTGTGGTAAACC\"\n",
        "      self.assertEqual(get_prots(dna), set(\"MGMATFH_ M_ MQRSSFG_ MLHYTAFG_ MWYT_ MICN_\".split()), get_orfs(dna))\n",
        "\n",
        "\n",
        "unittest.main(argv=[''], exit=False)"
      ],
      "metadata": {
        "id": "LR2sdT7TiKkm"
      },
      "execution_count": null,
      "outputs": []
    }
  ]
}