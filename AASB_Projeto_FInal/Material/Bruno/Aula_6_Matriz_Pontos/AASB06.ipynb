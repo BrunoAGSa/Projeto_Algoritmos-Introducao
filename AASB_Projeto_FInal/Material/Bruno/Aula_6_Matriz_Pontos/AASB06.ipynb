{
 "cells": [
  {
   "cell_type": "markdown",
   "metadata": {
    "id": "IRBfAqJTeTLn"
   },
   "source": [
    "# Criação de um objeto matriz\n",
    "- Vamos criar um objeto\n",
    "-Todas as funções criadas dentro da classe são **métodos** que recebem como primeiro parâmetro o objeto propriamente dito\n",
    "- A função **```__init__```** é o construtor\n",
    "- A função **```__str__```**, caso seja definida, corresponde à transformação do objeto numa string\n",
    "- A função **```__repr__```**, caso seja definida, corresponde à representação do objeto\n",
    "- A função **```__getitem__```**, caso seja definida, permite indexar o objeto\n",
    "\n",
    "# Mais propriedades\n",
    "- **```__doc__```** documentação da classe, método ou função\n",
    "- **```__dict__```** acesso ao namespace da classe\n",
    "- Pode consultar muito mais informação [aqui](https://docs.python.org/3/reference/datamodel.html)"
   ]
  },
  {
   "cell_type": "code",
   "execution_count": 2,
   "metadata": {
    "id": "UziuACteed57"
   },
   "outputs": [],
   "source": [
    "class Mat:\n",
    "    \"\"\"Implementsção de uama matris\n",
    "    \"\"\"\n",
    "    def __init__(self, rows, cols):\n",
    "        #print(f\"construtor do Mat invocado com {rows} e {cols}\")\n",
    "        self.mat = [[0 for c in range(cols)]\n",
    "                    for r in range(rows)]\n",
    "    def numRows (self): return len(self.mat)\n",
    "    def numCols (self): return len(self.mat[0])\n",
    "    def __str__(self):\n",
    "        \"Devolve a matriz como uma string\"\n",
    "        return '\\n'.join(' '.join(str(val) for val in row)\n",
    "                         for row in self.mat)\n",
    "    def __repr__(self):\n",
    "        \"Utilizado no repl quando se pede para ver a matriz\"\n",
    "        return str(self)\n",
    "    def __getitem__ (self, n):\n",
    "        \"Interface para a indexação []\"\n",
    "        return self.mat[n]"
   ]
  },
  {
   "cell_type": "code",
   "execution_count": 3,
   "metadata": {
    "id": "CNwCbVIqejhy"
   },
   "outputs": [
    {
     "data": {
      "text/plain": [
       "0 -5 0 0\n",
       "0 0 0 0\n",
       "0 0 0 0"
      ]
     },
     "execution_count": 3,
     "metadata": {},
     "output_type": "execute_result"
    }
   ],
   "source": [
    "m = Mat(3,4)\n",
    "m[0][1] = -5\n",
    "m\n"
   ]
  },
  {
   "cell_type": "markdown",
   "metadata": {
    "id": "Vpt7-PWddtgE"
   },
   "source": [
    "# Matrizes de pontos em Python\n",
    "Crie uma classe **DotPlot** para representar matrizes de pontos com os seguintes atributos: \n",
    "\n",
    "seq1, seq2\n",
    " : as sequências a colocar nas linhas e colunas\n",
    "\n",
    "mat\n",
    " : a matriz de pontos\n",
    "\n",
    "## Métodos:\n",
    "1. Faça o construtor que recebe as duas sequências\n",
    "1. Faça os métodos que lhe permitam visualizar a matriz de pontos de forma agradável\n",
    "\n",
    "# Exercício\n",
    "1. Implemente a matriz de pontos **DotPlot** com os métodos indicados acima\n",
    "1. Adicione dois parâmetros opcionais ao construtor: o **window size** e o **stringency**, ambos com o valor 1 por omissão\n",
    "\n",
    "# Exemplos\n",
    "~~~{.python}\n",
    ">>> m = DotPlot(\"ATTAACGATT\", \"ATTAACGATT\")\n",
    ">>> m\n",
    "  A T T A A C G A T T\n",
    "A *     * *     *    \n",
    "T   * *           * *\n",
    "T   * *           * *\n",
    "A *     * *     *    \n",
    "A *     * *     *    \n",
    "C           *        \n",
    "G             *      \n",
    "A *     * *     *    \n",
    "T   * *           * *\n",
    "T   * *           * *\n",
    "~~~\n",
    "\n",
    "# Exemplos\n",
    "~~~{.python}\n",
    ">>> m = DotPlot(\"CGATATTAACGATT\", \"CGATATTAACGATT\", 4, 3)\n",
    ">>> m\n",
    "     C G A T A T T A A C G\n",
    "     G A T A T T A A C G A\n",
    "     A T A T T A A C G A T\n",
    "     T A T T A A C G A T T\n",
    "CGAT *                 *  \n",
    "GATA   *                 *\n",
    "ATAT     *                \n",
    "TATT       *             *\n",
    "ATTA         *            \n",
    "TTAA           *          \n",
    "TAAC             *        \n",
    "AACG               *      \n",
    "ACGA                 *    \n",
    "CGAT *                 *  \n",
    "GATT   *   *             *\n",
    "~~~"
   ]
  },
  {
   "cell_type": "code",
   "execution_count": 15,
   "metadata": {},
   "outputs": [
    {
     "data": {
      "text/plain": [
       "  A T T A A C G A T T\n",
       "A 0 0 0 0 0 0 0 0 0 0\n",
       "T 0 * * * * * 0 0 * 0\n",
       "T 0 * * * * * 0 0 * 0\n",
       "A 0 * * * * * 0 0 * 0\n",
       "A 0 * 0 0 * * * 0 * 0\n",
       "C 0 * 0 0 * * * * * 0\n",
       "G 0 * 0 0 * * * * * 0\n",
       "A 0 * * * * * 0 * * 0\n",
       "T 0 * * * * * 0 0 * 0\n",
       "T 0 0 0 0 0 0 0 0 0 0"
      ]
     },
     "execution_count": 15,
     "metadata": {},
     "output_type": "execute_result"
    }
   ],
   "source": [
    "class DotPlot(Mat):\n",
    "  def __init__(self, seq1, seq2, window_size = 1, stringency = 1):\n",
    "    super().__init__(len(seq1), len(seq2))\n",
    "    self.s1 = seq1\n",
    "    self.s2 = seq2\n",
    "    self.window_size = window_size\n",
    "    self.stringency =stringency\n",
    "    self.dims = (len(seq1), len(seq2))\n",
    "    self.build_alignment()\n",
    "\n",
    "  def get_s1(self): return self.s1\n",
    "  def get_s2(self): return self.s2\n",
    "\n",
    "  # def build_alignment(self):\n",
    "  #   for L, x1 in enumerate(self.s1):\n",
    "  #     for C, x2 in enumerate(self.s2):\n",
    "  #       self.mat[L][C] = '*' if x1 == x2 else ' '\n",
    "\n",
    "  def build_alignment(self):     # Inspirado Prof Miguel Rocha\n",
    "    start = int(self.window_size/2)  # isto para começar \"centrado\" e não haver erros de limites\n",
    "    for L in range (start, len(self.s1) - start):\n",
    "      for C in range(start, len(self.s2) - start):\n",
    "        matches = 0\n",
    "        l = C - start\n",
    "        for k in range (L-start, L+start +1):\n",
    "          if self.s1[k] == self.s2[l]:\n",
    "            matches += 1\n",
    "            l += 1\n",
    "            if matches >= self.stringency:\n",
    "              self.mat[L][C]= \"*\"\n",
    "\n",
    "   \n",
    "\n",
    "  def __repr__(self):\n",
    "    import io\n",
    "    with io.StringIO() as s:\n",
    "      print(' ', *list(self.s2), file = s)\n",
    "      #print(str(self), file = s)\n",
    "      for x, L in zip(self.s1, self.mat):\n",
    "        print(x, *L, file = s)\n",
    "\n",
    "      return s.getvalue()\n",
    "m = DotPlot(\"ATTAACGATT\", \"ATTAACGATT\",2,1)\n",
    "# m = DotPlot(\"ABCD\",\"ABCH\")\n",
    "m\n"
   ]
  }
 ],
 "metadata": {
  "colab": {
   "private_outputs": true,
   "provenance": []
  },
  "kernelspec": {
   "display_name": "Python 3.9.13 ('mestrado_final')",
   "language": "python",
   "name": "python3"
  },
  "language_info": {
   "codemirror_mode": {
    "name": "ipython",
    "version": 3
   },
   "file_extension": ".py",
   "mimetype": "text/x-python",
   "name": "python",
   "nbconvert_exporter": "python",
   "pygments_lexer": "ipython3",
   "version": "3.9.13 (main, Oct 13 2022, 21:15:33) \n[GCC 11.2.0]"
  },
  "vscode": {
   "interpreter": {
    "hash": "f2307cf6e279acbb4fe5a904c1ba66075afa04f4e5f00d0d9abed1d852b5aca9"
   }
  }
 },
 "nbformat": 4,
 "nbformat_minor": 1
}
