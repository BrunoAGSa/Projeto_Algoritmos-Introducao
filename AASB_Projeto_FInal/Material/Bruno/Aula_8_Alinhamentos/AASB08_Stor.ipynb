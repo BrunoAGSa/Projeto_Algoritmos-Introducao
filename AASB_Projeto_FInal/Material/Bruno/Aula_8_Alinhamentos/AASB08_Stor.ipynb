{
  "cells": [
    {
      "cell_type": "code",
      "execution_count": null,
      "metadata": {
        "id": "ccFhu5qhDm7x"
      },
      "outputs": [],
      "source": [
        ">>> query = \"AATATAT\"\n",
        ">>> seq = \"AATATGTTATATAATAATATTT\"\n",
        ">>> w = 3\n",
        ">>> qm = query_map(query, w)\n",
        ">>> qm\n",
        "{'AAT': [0], 'ATA': [1, 3], 'TAT': [2, 4]}\n",
        ">>> hits(qm, seq)\n",
        "[(0, 0), (0, 12), (0, 15), (1, 1), (1, 8), (1, 10), (1, 13), (1, 16),\n",
        "(3, 1), (3, 8), (3, 10), (3, 13), (3, 16), (2, 2), (2, 7), (2, 9),\n",
        "(2, 17), (4, 2), (4, 7), (4, 9), (4, 17)]\n",
        ">>> extend_hit(query, seq, (1, 16), 3)\n",
        "(0, 15, 7, 6)\n",
        ">>> best_hit(query, seq, 3)\n",
        "(0, 0, 7, 6)"
      ]
    },
    {
      "cell_type": "code",
      "execution_count": 2,
      "metadata": {
        "id": "ct24ZOzfPR97"
      },
      "outputs": [],
      "source": [
        "query = \"AATATAT\"\n",
        "seq = \"AATATGTTATATAATAATATTT\"\n",
        "w = 3"
      ]
    },
    {
      "cell_type": "code",
      "execution_count": 5,
      "metadata": {
        "id": "ZlHO6PxHPcBK"
      },
      "outputs": [
        {
          "name": "stdout",
          "output_type": "stream",
          "text": [
            "{'ML': 1, 'SR': 3, 'SL': 1, 'MR': 2}\n"
          ]
        },
        {
          "data": {
            "text/plain": [
              "(0, 15, 7, 6)"
            ]
          },
          "execution_count": 5,
          "metadata": {},
          "output_type": "execute_result"
        }
      ],
      "source": [
        "def query_map(query, w):\n",
        "  \"\"\"\n",
        "  query: query string\n",
        "  w: window size\n",
        "\n",
        "  return dict with keys as subseqs of w size and values as the offsets\n",
        "  \"\"\"\n",
        "  tam = len(query)\n",
        "  res = {}\n",
        "  for chave, offset in [(query[p: p + w], p) for p in range(0, tam - w + 1)]:\n",
        "    if chave not in res: res[chave] = []\n",
        "    res[chave].append(offset)\n",
        "  return res\n",
        "\n",
        "def get_all_offsets(s1, s2):\n",
        "  \"\"\"\n",
        "  return all offsets of s1 in s2\n",
        "  \"\"\"\n",
        "  w = len(s1)\n",
        "  #return [p for p in range(0, len(s2) - w + 1) if s2[p : p + w] == s1]\n",
        "  res = []\n",
        "  for p in range(0, len(s2) - w + 1):\n",
        "    if s2[p : p + w] == s1:\n",
        "      res.append(p)\n",
        "  return res\n",
        "\n",
        "def hits(qm, seq):\n",
        "  \"\"\"\n",
        "  qm: <- query_map(query, w)\n",
        "  seq: is the sequence where to look\n",
        "\n",
        "  returns List[hits] where hit = (o1, o2)\n",
        "  o1 is offset in query\n",
        "  o2 is offset in seq\n",
        "  \"\"\"\n",
        "  res = []\n",
        "  for chave, offsets in qm.items():\n",
        "    for o_query in offsets:\n",
        "      for o_seq in get_all_offsets(chave, seq):\n",
        "        res.append((o_query, o_seq))\n",
        "  return res\n",
        "\n",
        "def extend_hit_dir(query, seq, o1, o2, direction):\n",
        "  \"\"\"\n",
        "  query: query string\n",
        "  seq: sequence\n",
        "  hit: (offset in query, offset in seq)\n",
        "  w: window size\n",
        "  direction: -1 or +1\n",
        "\n",
        "  returns (o1, o2, matches, count)\n",
        "  \"\"\"\n",
        "  matches = 0\n",
        "  count = 0\n",
        "  while o1 >= 0 and o2 >= 0 and o1 < len(query) and o2 < len(seq):\n",
        "    matches += 1 if query[o1] == seq[o2] else 0\n",
        "    count += 1\n",
        "    if 2 * matches < count:\n",
        "      return o1, o2, matches, count\n",
        "    o1 += direction\n",
        "    o2 += direction\n",
        "  return o1 - direction, o2 - direction, matches, count\n",
        "\n",
        "def extend_hit(query, seq, hit, w):\n",
        "  \"\"\"\n",
        "  query: query string\n",
        "  seq: sequence\n",
        "  hit: (offset in query, offset in seq)\n",
        "  w: window size\n",
        "\n",
        "  returns (o1, o2, size, matches)\n",
        "\n",
        "  size is the total size of the expansion\n",
        "   \n",
        "  \"\"\"\n",
        "  o1, o2 = hit\n",
        "  left  = extend_hit_dir(query, seq, o1 - 1, o2 - 1, -1)\n",
        "  right = extend_hit_dir(query, seq, o1 + w, o2 + w, +1)\n",
        "\n",
        "  \"\"\"\n",
        "  O for offset\n",
        "  M for match\n",
        "  S for size\n",
        "  \"\"\"\n",
        "  O1, O2, ML, SL = left\n",
        "  _,   _, MR, SR = right\n",
        "\n",
        "  print({'ML':ML, 'SR':SR, 'SL':SL,'MR':MR})\n",
        "  return O1, O2, w + SL + SR, ML + w + MR\n",
        "\n",
        "\n",
        "qm = query_map(query, 3)\n",
        "hits(qm, seq)\n",
        "extend_hit(query, seq, (1, 16), 3)"
      ]
    }
  ],
  "metadata": {
    "colab": {
      "private_outputs": true,
      "provenance": []
    },
    "kernelspec": {
      "display_name": "Python 3.9.13 ('mestrado_final')",
      "language": "python",
      "name": "python3"
    },
    "language_info": {
      "codemirror_mode": {
        "name": "ipython",
        "version": 3
      },
      "file_extension": ".py",
      "mimetype": "text/x-python",
      "name": "python",
      "nbconvert_exporter": "python",
      "pygments_lexer": "ipython3",
      "version": "3.9.13"
    },
    "vscode": {
      "interpreter": {
        "hash": "f2307cf6e279acbb4fe5a904c1ba66075afa04f4e5f00d0d9abed1d852b5aca9"
      }
    }
  },
  "nbformat": 4,
  "nbformat_minor": 0
}
