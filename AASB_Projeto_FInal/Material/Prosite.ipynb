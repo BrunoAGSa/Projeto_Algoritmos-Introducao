{
 "cells": [
  {
   "cell_type": "code",
   "execution_count": null,
   "metadata": {},
   "outputs": [],
   "source": [
    "def prosite(seq, pattern): \n",
    "                        \n",
    "    \"\"\"Função que permite converter uma expressão do padrão Prosite numa expressão regular\n",
    "\n",
    "    Returns:\n",
    "        str: Expressão regular\n",
    "    \"\"\"\n",
    "    from re import search\n",
    "    er = pattern.replace(\"-\",\"\")\n",
    "    er = er.replace(\"x\",\".\")\n",
    "    er = er.replace(\"(\",\"{\")\n",
    "    er = er.replace(\")\",\"}\")\n",
    "    motif = search(er, seq)\n",
    "\n",
    "    if (motif != None):\n",
    "        zona = motif.span()              \n",
    "        return (\"Motifs: {}\" .format(seq[zona[0]:zona[1]]))\n",
    "    else :\n",
    "        return \"Not found\"\n"
   ]
  },
  {
   "cell_type": "code",
   "execution_count": null,
   "metadata": {},
   "outputs": [],
   "source": [
    "import unittest\n",
    "\n",
    "class Test_Prosite(unittest.TestCase):\n",
    "    \"\"\"Conjunto de testes para a classe Prosite\n",
    "    \"\"\"\n",
    "\n",
    "    def test_prosite(self):\n",
    "        \"\"\"Testar a função prosite\n",
    "        \"\"\"\n",
    "        self.assertEqual(prosite(\"HKMMLASCKHLLCLKCIVKLG\",\"C-x-H-x-[LIVMFY]-C-x(2)-C-[LIVMYA]\"),\"Motifs: CKHLLCLKCI\")\n",
    "        self.assertEqual(prosite(\"HKMMLLCLKCIVKLG\",\"C-x-H-x-[LIVMFY]-C-x(2)-C-[LIVMYA]\"),\"Not found\")\n",
    "\n",
    "\n",
    "\n",
    "unittest.main(argv=[''], exit=False)"
   ]
  }
 ],
 "metadata": {
  "kernelspec": {
   "display_name": "Python 3",
   "language": "python",
   "name": "python3"
  },
  "language_info": {
   "name": "python",
   "version": "3.10.6 (main, Nov 14 2022, 16:10:14) [GCC 11.3.0]"
  },
  "orig_nbformat": 4,
  "vscode": {
   "interpreter": {
    "hash": "916dbcbb3f70747c44a77c7bcd40155683ae19c65e1c03b4aa3499c5328201f1"
   }
  }
 },
 "nbformat": 4,
 "nbformat_minor": 2
}
