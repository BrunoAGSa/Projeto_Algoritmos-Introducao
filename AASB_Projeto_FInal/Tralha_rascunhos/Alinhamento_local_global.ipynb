{
 "cells": [
  {
   "cell_type": "code",
   "execution_count": 121,
   "metadata": {},
   "outputs": [],
   "source": [
    "class Mat:\n",
    "    \"\"\"Implementsção de uma matris\n",
    "    \"\"\"\n",
    "    def __init__(self, rows, cols):\n",
    "        #print(f\"construtor do Mat invocado com {rows} e {cols}\")\n",
    "        self.mat = [[0 for c in range(cols)]\n",
    "                    for r in range(rows)]\n",
    "    def numRows (self): return len(self.mat)\n",
    "    def numCols (self): return len(self.mat[0])\n",
    "    def __str__(self):\n",
    "        \"Devolve a matriz como uma string\"\n",
    "        return '\\n'.join(' '.join(str(val) for val in row)\n",
    "                         for row in self.mat)\n",
    "    # def __repr__(self):\n",
    "    #     \"Utilizado no repl quando se pede para ver a matriz\"\n",
    "    #     return str(self)\n",
    "    def __getitem__ (self, n):\n",
    "        \"Interface para a indexação []\"\n",
    "        return self.mat[n]"
   ]
  },
  {
   "cell_type": "code",
   "execution_count": 122,
   "metadata": {},
   "outputs": [
    {
     "data": {
      "text/plain": [
       "<__main__.Mat at 0x7fee0a3d6df0>"
      ]
     },
     "execution_count": 122,
     "metadata": {},
     "output_type": "execute_result"
    }
   ],
   "source": [
    "m = Mat(3,4)\n",
    "m[0][1] = -5\n",
    "m"
   ]
  },
  {
   "cell_type": "code",
   "execution_count": 132,
   "metadata": {},
   "outputs": [],
   "source": [
    "class DotPlot(Mat):\n",
    "\n",
    "    def __init__(self, seq1, seq2):\n",
    "        super().__init__(len(seq1), len(seq2))\n",
    "        self.s1 = seq1\n",
    "        self.s2 = seq2\n",
    "        self.dims = (len(seq1), len(seq2))\n",
    "\n",
    "    def get_s1(self): \n",
    "        return self.s1\n",
    "  \n",
    "    def get_s2(self): \n",
    "        return self.s2\n",
    "\n",
    "    # def __repr__(self):\n",
    "    #     import io\n",
    "    #     with io.StringIO() as s:\n",
    "    #         print(' ', *list(self.s2), file = s)\n",
    "    #         for x, L in zip(self.s1, self.mat):\n",
    "    #             print(x, *L, file = s)\n",
    "    #         return s.getvalue()\n",
    "\n",
    "\n",
    "    def simple_dotplot(self):\n",
    "        for L, x1 in enumerate(self.s1):\n",
    "            for C, x2 in enumerate(self.s2):\n",
    "                self.mat[L][C] = '*' if x1 == x2 else ' '\n",
    "        import io\n",
    "        with io.StringIO() as s:\n",
    "            print(' ', *list(self.s2), file = s)\n",
    "            for x, L in zip(self.s1, self.mat):\n",
    "                print(x, *L, file = s)\n",
    "            return print(s.getvalue())\n",
    "\n",
    "\n",
    "    def extended_dotplot(self , window_size = 1, stringency = 1):     # Inspirado Prof Miguel Rocha\n",
    "        start = int(window_size/2)  # isto para começar \"centrado\" e não haver erros de limites\n",
    "        for L in range (start, len(self.s1) - start):\n",
    "            for C in range(start, len(self.s2) - start):\n",
    "                matches = 0\n",
    "                l = C - start\n",
    "                for k in range (L-start, L+start +1):\n",
    "                    if self.s1[k] == self.s2[l]:\n",
    "                        matches += 1\n",
    "                    l += 1\n",
    "                if matches >= stringency:\n",
    "                    self.mat[L][C]= \"*\"\n",
    "                else:\n",
    "                    self.mat[L][C]= \" \"\n",
    "        import io\n",
    "        with io.StringIO() as s:\n",
    "            print(' ', *list(self.s2), file = s)\n",
    "            for x, L in zip(self.s1, self.mat):\n",
    "                print(x, *L, file = s)\n",
    "            return print(s.getvalue())"
   ]
  },
  {
   "cell_type": "code",
   "execution_count": 136,
   "metadata": {},
   "outputs": [
    {
     "name": "stdout",
     "output_type": "stream",
     "text": [
      "  C G A T A T T A A C G A T T\n",
      "C 0 0 0 0 0 0 0 0 0 0 0 0 0 0\n",
      "G 0 0 0 0 0 0 0 0 0 0 0 0 0 0\n",
      "A 0 0 *                 * 0 0\n",
      "T 0 0   *                 0 0\n",
      "A 0 0     *             * 0 0\n",
      "T 0 0       *             0 0\n",
      "T 0 0         *           0 0\n",
      "A 0 0           *         0 0\n",
      "A 0 0             *       0 0\n",
      "C 0 0               *     0 0\n",
      "G 0 0                 *   0 0\n",
      "A 0 0 *   *             * 0 0\n",
      "T 0 0 0 0 0 0 0 0 0 0 0 0 0 0\n",
      "T 0 0 0 0 0 0 0 0 0 0 0 0 0 0\n",
      "\n"
     ]
    }
   ],
   "source": [
    "m = DotPlot(\"CGATATTAACGATT\", \"CGATATTAACGATT\")\n",
    "m.extended_dotplot(4,3)\n"
   ]
  }
 ],
 "metadata": {
  "kernelspec": {
   "display_name": "mestrado_final",
   "language": "python",
   "name": "python3"
  },
  "language_info": {
   "codemirror_mode": {
    "name": "ipython",
    "version": 3
   },
   "file_extension": ".py",
   "mimetype": "text/x-python",
   "name": "python",
   "nbconvert_exporter": "python",
   "pygments_lexer": "ipython3",
   "version": "3.9.13"
  },
  "orig_nbformat": 4,
  "vscode": {
   "interpreter": {
    "hash": "f2307cf6e279acbb4fe5a904c1ba66075afa04f4e5f00d0d9abed1d852b5aca9"
   }
  }
 },
 "nbformat": 4,
 "nbformat_minor": 2
}
