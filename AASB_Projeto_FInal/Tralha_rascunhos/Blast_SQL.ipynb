{
 "cells": [
  {
   "cell_type": "code",
   "execution_count": 50,
   "metadata": {},
   "outputs": [],
   "source": [
    "import mysql.connector as SQLC  \n",
    "\n",
    "DataBase = SQLC.connect(\n",
    "   host =\"127.0.0.1\",\n",
    "   user =\"root\",\n",
    "   password =\"login123\",\n",
    "   database = \"Base Dados IAP\",\n",
    "   auth_plugin=\"mysql_native_password\"\n",
    ")\n",
    "DataBase.autocommit= True\n",
    "cur = DataBase.cursor()\n",
    "\n",
    "def get_all_organisms ():\n",
    "\n",
    "    cur.execute(\"\"\"select Organism from Genbank\"\"\")\n",
    "    organisms_DB = cur.fetchall()\n",
    "    return organisms_DB\n",
    "\n",
    "def get_seq_from_organism (organism):\n",
    "    cur.execute(f\"\"\" select Sequence from Sequences\n",
    "                    join Genbank on Sequences.ID_version_seq = Genbank.ID_version_seq\n",
    "                    where Organism = '{organism}'\n",
    "    \"\"\")\n",
    "    sequence = cur.fetchall()\n",
    "    return sequence[0][0]\n",
    "\n",
    "def get_all_seqs():\n",
    "    cur.execute(f\"\"\" select Sequence from Sequences\n",
    "    \"\"\")\n",
    "    sequence = cur.fetchall()\n",
    "    return sequence[0]\n",
    "\n",
    "\n",
    "\n"
   ]
  },
  {
   "cell_type": "code",
   "execution_count": 53,
   "metadata": {},
   "outputs": [
    {
     "data": {
      "text/plain": [
       "[('Sulfolobus spindle-shaped virus 1',),\n",
       " ('Inovirus M13',),\n",
       " ('Ectocarpus siliculosus',)]"
      ]
     },
     "execution_count": 53,
     "metadata": {},
     "output_type": "execute_result"
    }
   ],
   "source": [
    "get_all_organisms()\n",
    "get_seq_from_organism('Sulfolobus spindle-shaped virus 1')\n",
    "get_all_seqs()"
   ]
  }
 ],
 "metadata": {
  "kernelspec": {
   "display_name": "mestrado_final",
   "language": "python",
   "name": "python3"
  },
  "language_info": {
   "codemirror_mode": {
    "name": "ipython",
    "version": 3
   },
   "file_extension": ".py",
   "mimetype": "text/x-python",
   "name": "python",
   "nbconvert_exporter": "python",
   "pygments_lexer": "ipython3",
   "version": "3.9.13"
  },
  "orig_nbformat": 4,
  "vscode": {
   "interpreter": {
    "hash": "f2307cf6e279acbb4fe5a904c1ba66075afa04f4e5f00d0d9abed1d852b5aca9"
   }
  }
 },
 "nbformat": 4,
 "nbformat_minor": 2
}
