{
 "cells": [
  {
   "cell_type": "code",
   "execution_count": 28,
   "metadata": {},
   "outputs": [],
   "source": [
    "import mysql.connector as SQLC  \n",
    "\n",
    "DataBase = SQLC.connect(\n",
    "   host =\"127.0.0.1\",\n",
    "   user =\"root\",\n",
    "   password =\"login123\",\n",
    "   database = \"Base Dados IAP\",\n",
    "   auth_plugin=\"mysql_native_password\"\n",
    ")\n",
    "DataBase.autocommit= True\n",
    "cur = DataBase.cursor()\n",
    "\n",
    "def get_all_organisms ():\n",
    "\n",
    "    cur.execute(\"\"\"select Organism from Genbank\"\"\")\n",
    "    organisms_DB = cur.fetchall()\n",
    "    return organisms_DB\n",
    "\n",
    "def get_seq_from_organism (organism):\n",
    "    cur.execute(f\"\"\" select Sequence from Sequences\n",
    "                    join Genbank on Sequences.ID_version_seq = Genbank.ID_version_seq\n",
    "                    where Organism = '{organism}'\n",
    "    \"\"\")\n",
    "    sequence = cur.fetchall()\n",
    "    return sequence[0][0]\n",
    "\n",
    "def get_all_seqs():\n",
    "    cur.execute(f\"\"\" select Sequence from Sequences\n",
    "    \"\"\")\n",
    "    sequence = cur.fetchall()\n",
    "    return sequence[0]\n",
    "\n",
    "\n",
    "\n"
   ]
  },
  {
   "cell_type": "code",
   "execution_count": 37,
   "metadata": {},
   "outputs": [],
   "source": [
    "get_all_organisms()\n",
    "org = get_seq_from_organism('Sulfolobus spindle-shaped virus 1')\n",
    "str_bd = \"\"\n",
    "for c in get_all_seqs():\n",
    "    str_bd += c\n",
    "str_bd\n",
    "teste = get_all_seqs()[0]"
   ]
  },
  {
   "cell_type": "code",
   "execution_count": 22,
   "metadata": {},
   "outputs": [],
   "source": [
    "class Blast ():\n",
    "    def __init__(self, query, seq, w = 3):\n",
    "        self.seq = seq\n",
    "        self.query = query\n",
    "        self.w = w\n",
    "\n",
    "\n",
    "    def query_map(query, w):\n",
    "            tam = len(query)\n",
    "            res = {}\n",
    "            for chave, offset in [(query[p : p + w], p) for p in range(0, tam - w +1)]:\n",
    "                if chave not in res:\n",
    "                    res[chave] = []\n",
    "                res[chave].append(offset)\n",
    "            return(res)\n",
    "\n",
    "\n",
    "    def get_all_offsets(s1, s2):  # s1 --> Padrão    s2 --> seq_analisar\n",
    "        w = len(s1)\n",
    "        return[p for p in range(0, len(s2) - w + 1) if s2[p : p + w] == s1]\n",
    "\n",
    "\n",
    "    def hits(qm, seq):      # qm --> query_map(query, w)   \n",
    "        return[(o_query, o_seq) for chave, offsets in qm.items() \n",
    "        for o_query in offsets \n",
    "        for o_seq in Blast.get_all_offsets(chave, seq)]\n",
    "\n",
    "\n",
    "    def extend_hit_any_direction(query, seq, o1, o2, dir):\n",
    "        matches = 0\n",
    "        count = 0\n",
    "        while o1 >= 0 and o2 >= 0 and o1 < len(query) and o2 < len(seq):\n",
    "            matches += 1 if query[o1] == seq[o2] else 0\n",
    "            count += 1\n",
    "            if 2 * matches < count:\n",
    "                return o1, o2, matches, count\n",
    "            o1 += dir\n",
    "            o2 += dir\n",
    "        return o1 - dir, o2 - dir, matches, count\n",
    "\n",
    "\n",
    "    def extend_hit(query, seq, hit, w):\n",
    "\n",
    "        o1, o2 = hit\n",
    "        left  = Blast.extend_hit_any_direction(query, seq, o1 - 1, o2 - 1, -1)\n",
    "        right = Blast.extend_hit_any_direction(query, seq, o1 + w, o2 + w, +1)\n",
    "\n",
    "        O1, O2, ML, SL = left\n",
    "        _,   _, MR, SR = right\n",
    "        return O1, O2, w + SL + SR, ML + w + MR\n",
    "    \n",
    "\n",
    "    def best_hit (self):\n",
    "        qm = Blast.query_map(self.query,self.w)\n",
    "        lista_hits = Blast.hits(qm, self.seq)\n",
    "        all_scores =[Blast.extend_hit(self.query, self.seq, c, self.w) for c in lista_hits]\n",
    "        all_scores.sort(key=lambda c: c[2] and c[3], reverse=True)\n",
    "        if all_scores == []:\n",
    "            return print(\"Not Found\")\n",
    "        else:\n",
    "            return all_scores [0]"
   ]
  },
  {
   "cell_type": "code",
   "execution_count": 41,
   "metadata": {},
   "outputs": [
    {
     "data": {
      "text/plain": [
       "(0, 0, 7, 6)"
      ]
     },
     "execution_count": 41,
     "metadata": {},
     "output_type": "execute_result"
    }
   ],
   "source": [
    "query = \"AATATAT\"\n",
    "seq = \"AATATGTTATATAATAATATTT\"\n",
    "w = 3\n",
    "a = Blast(query, seq, w)\n",
    "a.best_hit()\n",
    "\n",
    "# b = Blast(org,teste,3)\n",
    "# b.best_hit()\n"
   ]
  }
 ],
 "metadata": {
  "kernelspec": {
   "display_name": "mestrado_final",
   "language": "python",
   "name": "python3"
  },
  "language_info": {
   "codemirror_mode": {
    "name": "ipython",
    "version": 3
   },
   "file_extension": ".py",
   "mimetype": "text/x-python",
   "name": "python",
   "nbconvert_exporter": "python",
   "pygments_lexer": "ipython3",
   "version": "3.9.13"
  },
  "orig_nbformat": 4,
  "vscode": {
   "interpreter": {
    "hash": "f2307cf6e279acbb4fe5a904c1ba66075afa04f4e5f00d0d9abed1d852b5aca9"
   }
  }
 },
 "nbformat": 4,
 "nbformat_minor": 2
}
