{
 "cells": [
  {
   "cell_type": "code",
   "execution_count": null,
   "metadata": {
    "id": "gqZA6PIbqGCK"
   },
   "outputs": [],
   "source": [
    "valido = lambda seq: all([x not in seq for x in \"BDEFHIJKLMNOPQRSUVWXYZ\"])"
   ]
  },
  {
   "cell_type": "code",
   "execution_count": null,
   "metadata": {
    "id": "gQPXmf-ztACt"
   },
   "outputs": [],
   "source": [
    "def valido(seq):\n",
    "  for x in seq:\n",
    "    if not (x == \"A\" or x == \"C\" or x == \"G\" or x == \"T\"):\n",
    "      return False\n",
    "  return True"
   ]
  },
  {
   "cell_type": "code",
   "execution_count": null,
   "metadata": {
    "id": "bLyUoc3HufXH"
   },
   "outputs": [],
   "source": [
    "def valido(seq):\n",
    "  for x in seq:\n",
    "    if not (x in \"ACGT\"):\n",
    "      return False\n",
    "  return True"
   ]
  },
  {
   "cell_type": "code",
   "execution_count": null,
   "metadata": {
    "id": "7EV_rRg3urNr"
   },
   "outputs": [],
   "source": [
    "def valido(seq):\n",
    "  A = seq.count('A')\n",
    "  C = seq.count('C')\n",
    "  G = seq.count('G')\n",
    "  T = seq.count('T')\n",
    "\n",
    "  return A + C + G + T == len(seq)"
   ]
  },
  {
   "cell_type": "code",
   "execution_count": null,
   "metadata": {
    "id": "fNJpdwpavwee"
   },
   "outputs": [],
   "source": [
    "valido = lambda seq: sum(seq.count(x) for x in \"ACGT\") == len(seq)"
   ]
  },
  {
   "cell_type": "code",
   "execution_count": null,
   "metadata": {
    "id": "fBM47VV1rf51"
   },
   "outputs": [],
   "source": [
    "positivos = [\"\", \"AAAA\", \"CC\", \"GGG\", \"TTT\", \"TTTGC\", \"TGCA\"]\n",
    "negativos = [\"X\", \"HAAAA\", \"CCS\", \"GSGG\", \"TTGHT\", \"TTTGCJ\"]\n",
    "\n",
    "all(valido(seq) for seq in positivos) and all(not valido(seq) for seq in negativos)"
   ]
  },
  {
   "cell_type": "code",
   "execution_count": null,
   "metadata": {
    "id": "OG1YmGYBxFft"
   },
   "outputs": [],
   "source": [
    "def perg3(seq):\n",
    "  A = seq.count('A')\n",
    "  C = seq.count('C')\n",
    "  G = seq.count('G')\n",
    "  T = seq.count('T')\n",
    "  X = -(A + C + G + T) + len(seq)\n",
    "\n",
    "  return A,C,G,T,X"
   ]
  },
  {
   "cell_type": "code",
   "execution_count": null,
   "metadata": {
    "id": "rD0r7qOaxdlz"
   },
   "outputs": [],
   "source": [
    "perg3(\"ACAAGHHJ X\")"
   ]
  },
  {
   "cell_type": "code",
   "execution_count": null,
   "metadata": {
    "id": "iU-B5JRdyD53"
   },
   "outputs": [],
   "source": [
    "def dna2rna(seq):\n",
    "  seq = seq.upper()\n",
    "  return seq.replace(\"T\", \"U\")\n",
    "\n",
    "def dna2rna(seq):\n",
    "  return seq.upper().replace(\"T\", \"U\")"
   ]
  },
  {
   "cell_type": "code",
   "execution_count": null,
   "metadata": {
    "id": "NN9ZuTPxyQ3c"
   },
   "outputs": [],
   "source": [
    "dna2rna(\"ACCGTTTAAAG\")"
   ]
  },
  {
   "cell_type": "code",
   "execution_count": null,
   "metadata": {
    "id": "tUHvIr2yzPQA"
   },
   "outputs": [],
   "source": [
    "s = \"ola  2 + 3 xyz\"\n",
    "\n",
    "letras = [x for x in s if x.isalpha()]\n",
    "\n",
    "letras"
   ]
  }
 ],
 "metadata": {
  "colab": {
   "private_outputs": true,
   "provenance": []
  },
  "kernelspec": {
   "display_name": "Python 3.10.6 64-bit",
   "language": "python",
   "name": "python3"
  },
  "language_info": {
   "codemirror_mode": {
    "name": "ipython",
    "version": 3
   },
   "file_extension": ".py",
   "mimetype": "text/x-python",
   "name": "python",
   "nbconvert_exporter": "python",
   "pygments_lexer": "ipython3",
   "version": "3.10.6"
  },
  "vscode": {
   "interpreter": {
    "hash": "916dbcbb3f70747c44a77c7bcd40155683ae19c65e1c03b4aa3499c5328201f1"
   }
  }
 },
 "nbformat": 4,
 "nbformat_minor": 1
}
