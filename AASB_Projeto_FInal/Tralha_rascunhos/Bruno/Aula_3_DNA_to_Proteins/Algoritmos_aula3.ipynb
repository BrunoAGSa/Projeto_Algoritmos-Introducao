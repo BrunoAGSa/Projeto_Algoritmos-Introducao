{
 "cells": [
  {
   "cell_type": "markdown",
   "metadata": {},
   "source": [
    "# 1 "
   ]
  },
  {
   "cell_type": "code",
   "execution_count": 1,
   "metadata": {},
   "outputs": [
    {
     "data": {
      "text/plain": [
       "['ACG', 'ATC', 'AGC', 'ACA', 'TGA', 'CAC', 'GTA', 'CGA']"
      ]
     },
     "execution_count": 1,
     "metadata": {},
     "output_type": "execute_result"
    }
   ],
   "source": [
    "def get_codons (dna_0):\n",
    "    dna = dna_0.upper() \n",
    "    l = []\n",
    "    codon_list =[]\n",
    "    for c in range (0, len(dna), 3):\n",
    "        codon_list.append(dna[c : c + 3])\n",
    "    if len(codon_list[-1]) < 3:\n",
    "        codon_list.pop()\n",
    "    return codon_list\n",
    "            \n",
    "get_codons(\"acgatcagcacatgacacgtacgacc\")"
   ]
  },
  {
   "cell_type": "markdown",
   "metadata": {},
   "source": [
    "# 2"
   ]
  },
  {
   "cell_type": "code",
   "execution_count": 2,
   "metadata": {},
   "outputs": [
    {
     "data": {
      "text/plain": [
       "'TIST_HVR'"
      ]
     },
     "execution_count": 2,
     "metadata": {},
     "output_type": "execute_result"
    }
   ],
   "source": [
    "gencode = {\n",
    "    'ATA':'I', 'ATC':'I', 'ATT':'I', 'ATG':'M',\n",
    "    'ACA':'T', 'ACC':'T', 'ACG':'T', 'ACT':'T',\n",
    "    'AAC':'N', 'AAT':'N', 'AAA':'K', 'AAG':'K',\n",
    "    'AGC':'S', 'AGT':'S', 'AGA':'R', 'AGG':'R',\n",
    "    'CTA':'L', 'CTC':'L', 'CTG':'L', 'CTT':'L',\n",
    "    'CCA':'P', 'CCC':'P', 'CCG':'P', 'CCT':'P',\n",
    "    'CAC':'H', 'CAT':'H', 'CAA':'Q', 'CAG':'Q',\n",
    "    'CGA':'R', 'CGC':'R', 'CGG':'R', 'CGT':'R',\n",
    "    'GTA':'V', 'GTC':'V', 'GTG':'V', 'GTT':'V',\n",
    "    'GCA':'A', 'GCC':'A', 'GCG':'A', 'GCT':'A',\n",
    "    'GAC':'D', 'GAT':'D', 'GAA':'E', 'GAG':'E',\n",
    "    'GGA':'G', 'GGC':'G', 'GGG':'G', 'GGT':'G',\n",
    "    'TCA':'S', 'TCC':'S', 'TCG':'S', 'TCT':'S',\n",
    "    'TTC':'F', 'TTT':'F', 'TTA':'L', 'TTG':'L',\n",
    "    'TAC':'Y', 'TAT':'Y', 'TAA':'_', 'TAG':'_',\n",
    "    'TGC':'C', 'TGT':'C', 'TGA':'_', 'TGG':'W'}\n",
    "\n",
    "def codon_to_amino(codons):\n",
    "    l = []\n",
    "    for c in codons:\n",
    "        l.append(gencode.get(c))\n",
    "        l_final = \"\".join(l)    \n",
    "    return l_final\n",
    "    \n",
    "codon_to_amino(['ACG', 'ATC', 'AGC', 'ACA', 'TGA', 'CAC', 'GTA', 'CGA'])\n",
    "\n",
    "        \n",
    "    "
   ]
  },
  {
   "cell_type": "markdown",
   "metadata": {},
   "source": [
    "#  3 Soluçao final"
   ]
  },
  {
   "cell_type": "code",
   "execution_count": 5,
   "metadata": {},
   "outputs": [
    {
     "data": {
      "text/plain": [
       "['MASAHSGDMJSAHDGAJ', 'MJSAHDGAJ', 'MM', 'M', 'M']"
      ]
     },
     "execution_count": 5,
     "metadata": {},
     "output_type": "execute_result"
    }
   ],
   "source": [
    "def get_prots (amino):    # caso náo consigas perceber o significado de algum passo faz print da variavel para perceberes o que acontece \n",
    "    lista_final = []\n",
    "    lista_stop_tratados = amino.split(\"_\") # visto que sabes que as seqs de aminoacidos das proteinas terminam sempre com _ criei um lista com o fim de todas as  proteinas --> por isso neste passo já ficas com o final das possiveis proteinas \n",
    "    for c in lista_stop_tratados:         #\n",
    "        for idx, amino_s in enumerate(c):       \n",
    "            if amino_s == \"M\":                # Aqui basicamente está a detetar qnd começa o M           \n",
    "                lista_final.append(c[idx:]) # faz apend da seq onde o inicio corresponde ao index onde foi detetado o M até ao fim da seq\n",
    "    return lista_final\n",
    "        \n",
    "        \n",
    "            \n",
    "\n",
    "            \n",
    "        \n",
    "    \n",
    "#get_prots(\"TIST_HVR\")\n",
    "get_prots(\"MASAHSGDMJSAHDGAJ_MM__SDJSDSDSDSDM\")"
   ]
  },
  {
   "cell_type": "markdown",
   "metadata": {},
   "source": [
    "# 4\n"
   ]
  },
  {
   "cell_type": "code",
   "execution_count": 6,
   "metadata": {},
   "outputs": [
    {
     "data": {
      "text/plain": [
       "['AATTC', 'ATTC', 'TTC', 'GAATT', 'AATT', 'ATT']"
      ]
     },
     "execution_count": 6,
     "metadata": {},
     "output_type": "execute_result"
    }
   ],
   "source": [
    "def get_orfs (dna_1):    # neste exercicio tens de obter as 6 possibilidades por causa da reading frame(penso que seja esse o nome) isto é 3 de cada lado da seq \n",
    "    dna = dna_1.lower()\n",
    "    dna_f = dna_1.upper()\n",
    "    lista_orfs =[]\n",
    "    lista_orfs.append(dna_f[0:])   #neste bloco aqui obtens as 3 possiveis numa cadeia a começar no 0 1 2   \n",
    "    lista_orfs.append(dna_f[1:])   \n",
    "    lista_orfs.append(dna_f[2:])\n",
    "    dna_rev_comp = dna.replace(\"a\",\"T\").replace(\"t\",\"A\").replace(\"c\",\"G\").replace(\"g\",\"C\")[::-1] # aqui fazes o reverse complement da cadeia\n",
    "    lista_orfs.append(dna_rev_comp[0:])\n",
    "    lista_orfs.append(dna_rev_comp[1:])  # aqui como já tens o reverse complement é só fazeres novamente ela a comecar nas 3 diferntes possicoes \n",
    "    lista_orfs.append(dna_rev_comp[2:])\n",
    "    return lista_orfs\n",
    "    \n",
    "#get_orfs(\"acgatcagcacatgacacgtacgacc\")\n",
    "get_orfs(\"aattc\")"
   ]
  },
  {
   "cell_type": "markdown",
   "metadata": {},
   "source": [
    "# 5"
   ]
  },
  {
   "cell_type": "markdown",
   "metadata": {},
   "source": [
    "\n",
    "    orfs = get_orfs(dna)\n",
    "    codons = get_codons(orfs)\n",
    "    aminoacidos = codon_to_amino(codons)\n",
    "    final = get_prots(aminoacidos)"
   ]
  },
  {
   "cell_type": "code",
   "execution_count": 7,
   "metadata": {},
   "outputs": [
    {
     "data": {
      "text/plain": [
       "[['MIPITRECPMDTIL',\n",
       "  'MDTIL',\n",
       "  'MMVLSIPTGSGHMF',\n",
       "  'MVLSIPTGSGHMF',\n",
       "  'MF',\n",
       "  'MRFNTIICHFMVIYPK',\n",
       "  'MVIYPK',\n",
       "  'MAH',\n",
       "  'MHNSND',\n",
       "  'MDEEMYWMDHMHHWEFCDM',\n",
       "  'MYWMDHMHHWEFCDM',\n",
       "  'MDHMHHWEFCDM',\n",
       "  'MHHWEFCDM',\n",
       "  'M',\n",
       "  'MPTTDKVNVSDSYSVSL',\n",
       "  'MDFIAKTTRSKIA',\n",
       "  'MHKSFEPSVQYTQT',\n",
       "  'MVVINPIRLGNCSLCGICIRVPRFICLVKYLSILHLSAWSIFFLQSVRSIHWG',\n",
       "  'MDILTPECGCMWEINCRINTLRGSIRYEYLLFVPSEPVPALFVPIRLHELTLYSGVLVV',\n",
       "  'MWEINCRINTLRGSIRYEYLLFVPSEPVPALFVPIRLHELTLYSGVLVV',\n",
       "  'MSVRVCSEFFRHQVSSAHCLISERM',\n",
       "  'M',\n",
       "  'MPLQEE',\n",
       "  'MTLSIVLPVGPKRPHQHHSLLHIDNPLFLYGRSPWPVQGLLPPLGLVLFREYFHILFAEVFQLYPRWPFIHTLPRD',\n",
       "  'MDSRLLARTVRTLNPR',\n",
       "  'MHKSN',\n",
       "  'MYGW',\n",
       "  'MNAILPEAYLFGKVNRTFPEPSSMSRGPYILPY',\n",
       "  'MSRGPYILPY'],\n",
       " ['MYSTDSVHMIHAGVLVVEGRR',\n",
       "  'MIHAGVLVVEGRR',\n",
       "  'MGATHPRLLT',\n",
       "  'M',\n",
       "  'MFL',\n",
       "  'MARCVRRWIY',\n",
       "  'MSIFSSCQVNQFRHCSCQYGCMS',\n",
       "  'MS',\n",
       "  'MP',\n",
       "  'MADVCS',\n",
       "  'MILHLDYRHPVLQWPVKYGVGQGPSYSIGCPSWSEWILAFSHAQSERLIHGSNTMHLRTFRLFRICISRIRFRVGIQPTSS',\n",
       "  'MHLRTFRLFRICISRIRFRVGIQPTSS'],\n",
       " ['MNERKNLDYAKYRMTMERGKNCAQKFEASTNKVQEKDQRREQAMIGVWEAQRWRSQKLYWHDTYYAGVPHGHNSMKIKKRKEQICECILRIVST',\n",
       "  'MTMERGKNCAQKFEASTNKVQEKDQRREQAMIGVWEAQRWRSQKLYWHDTYYAGVPHGHNSMKIKKRKEQICECILRIVST',\n",
       "  'MERGKNCAQKFEASTNKVQEKDQRREQAMIGVWEAQRWRSQKLYWHDTYYAGVPHGHNSMKIKKRKEQICECILRIVST',\n",
       "  'MIGVWEAQRWRSQKLYWHDTYYAGVPHGHNSMKIKKRKEQICECILRIVST',\n",
       "  'MKIKKRKEQICECILRIVST',\n",
       "  'MQEFWSWRAEGKRRQNLERKREKGNNDGVKHPDWKWTHVLKLIPESVFDAFEAQMSARQCIKWAQHIQGC',\n",
       "  'MSARQCIKWAQHIQGC',\n",
       "  'MFKTIGQSRCMKDPMMASTHDMTVGRGYFGPDA',\n",
       "  'MKDPMMASTHDMTVGRGYFGPDA',\n",
       "  'MMASTHDMTVGRGYFGPDA',\n",
       "  'MASTHDMTVGRGYFGPDA',\n",
       "  'MTVGRGYFGPDA',\n",
       "  'MRDFKIDYNWYNVWDGFHCKNN',\n",
       "  'MSAWEFF',\n",
       "  'MVYSISYMDNIYKLLFFPANGGYKPY',\n",
       "  'MDNIYKLLFFPANGGYKPY',\n",
       "  'MYTSTSFHLLSEIFIHLTPIGLVHFLPAKCEKYPLGIRLIH',\n",
       "  'MRMYVGDQLPDQYTSWFHPL',\n",
       "  'MYVGDQLPDQYTSWFHPL',\n",
       "  'MACTRPAPTIGIGPLSGILPHSLR',\n",
       "  'MI',\n",
       "  'MSNQMNIHFFCVLIMWLVKVVNLIDRNTMC',\n",
       "  'MNIHFFCVLIMWLVKVVNLIDRNTMC',\n",
       "  'MWLVKVVNLIDRNTMC',\n",
       "  'MC',\n",
       "  'MCAAR',\n",
       "  'MVLAKARRTVLAVHLGPNGFSPSRTHSQNA',\n",
       "  'MVTSDTVVRHERHLARGLSFWQG'],\n",
       " ['MAICMAPWTCWMVRGKCD',\n",
       "  'MAPWTCWMVRGKCD',\n",
       "  'MVRGKCD',\n",
       "  'MLLIANLRTRGLNADPKPNSTYAYAK',\n",
       "  'MAIIEMQDHYLAAHIRHQHMVFRSMRLTTLTSHMIKTQKKWMFIWFDMSLPGQIMMPCHFPLNQWQH',\n",
       "  'MQDHYLAAHIRHQHMVFRSMRLTTLTSHMIKTQKKWMFIWFDMSLPGQIMMPCHFPLNQWQH',\n",
       "  'MVFRSMRLTTLTSHMIKTQKKWMFIWFDMSLPGQIMMPCHFPLNQWQH',\n",
       "  'MRLTTLTSHMIKTQKKWMFIWFDMSLPGQIMMPCHFPLNQWQH',\n",
       "  'MIKTQKKWMFIWFDMSLPGQIMMPCHFPLNQWQH',\n",
       "  'MFIWFDMSLPGQIMMPCHFPLNQWQH',\n",
       "  'MSLPGQIMMPCHFPLNQWQH',\n",
       "  'MMPCHFPLNQWQH',\n",
       "  'MPCHFPLNQWQH',\n",
       "  'MVGAGLVQAMENVRKETVGYQYGGGNDADGDAWVPLEVLWKASWHIEVDAGLRFCPNNFFPRTRRGWAVISSVITTPPAAAWPLCKSGNVSRLIVITFAR',\n",
       "  'MENVRKETVGYQYGGGNDADGDAWVPLEVLWKASWHIEVDAGLRFCPNNFFPRTRRGWAVISSVITTPPAAAWPLCKSGNVSRLIVITFAR',\n",
       "  'MYEME',\n",
       "  'ME',\n",
       "  'MWITYDSFLMSGCTARKVQMICA',\n",
       "  'MSGCTARKVQMICA',\n",
       "  'MICA',\n",
       "  'MSWVLAIIGSFIHLLCPIVLNIPGCCFNVPC',\n",
       "  'MCCAHLIHCRADIWASNASKTLSGISFKTCVHFQSGCLTPSLLPFSLFLSKF',\n",
       "  'MDHVDTIRRIHSQICSFLFLIFIELCPWGTPA'],\n",
       " ['MVPQLAQRECC',\n",
       "  'MPTRNLIRLMHMRNRRKVRKCIVLLPWIKRSDCACEKARIHSDQDGQPILYDGPWPTPYLTGH',\n",
       "  'MHMRNRRKVRKCIVLLPWIKRSDCACEKARIHSDQDGQPILYDGPWPTPYLTGH',\n",
       "  'MRNRRKVRKCIVLLPWIKRSDCACEKARIHSDQDGQPILYDGPWPTPYLTGH',\n",
       "  'MDKGPPWIELENFSEENVEVFPKEDQSQWWEQALYRPWRTSVKKQWVINMEEGMMLMGTLGSHWKYYGKRHGISR',\n",
       "  'MEEGMMLMGTLGSHWKYYGKRHGISR',\n",
       "  'MMLMGTLGSHWKYYGKRHGISR',\n",
       "  'MLMGTLGSHWKYYGKRHGISR',\n",
       "  'MGTLGSHWKYYGKRHGISR',\n",
       "  'MRVLGFVLITFFLVPEGDGL',\n",
       "  'MQPYWHEQCRNWFTWHEEKILIADGTTKCIDPAIDLPHTSAFWGQYIHRRTQRAMD',\n",
       "  'MD',\n",
       "  'MRWNKPCGLRMTASLCLGVLHGRFK',\n",
       "  'MTASLCLGVLHGRFK',\n",
       "  'MVHMVHPIHFLVHIKCQSIVAVMHLDRNNLDQRSCRGY',\n",
       "  'MVHPIHFLVHIKCQSIVAVMHLDRNNLDQRSCRGY',\n",
       "  'MHLDRNNLDQRSCRGY',\n",
       "  'MCHVESEQAYSLRVDDHEMTDNGVEPHVSNLGCVAPI',\n",
       "  'MTDNGVEPHVSNLGCVAPI',\n",
       "  'MWTLSVEYIRKFVPSFS',\n",
       "  'MLRISARNFFRVP'],\n",
       " ['MYGPLDMLDGSGKVRLTLPKR',\n",
       "  'MLDGSGKVRLTLPKR',\n",
       "  'MAFMPDHSVARHHPYILFGFNAPAFQWYHSWLKGNAVDCKFTNSWAECRPET',\n",
       "  'MPDHSVARHHPYILFGFNAPAFQWYHSWLKGNAVDCKFTNSWAECRPET',\n",
       "  'MDSQYCTTGLGQHHT',\n",
       "  'MDVHLVRHVTTRSDHDALSLSPESVAALRLSR',\n",
       "  'MWKYSRKRTNPNGGSRPCTGHGERP',\n",
       "  'MESVMAYRGRCGS',\n",
       "  'MAYRGRCGS',\n",
       "  'MGCDFVRDHYSSCSGMAPMQKWERIKTNRDHIRSLIKQWALLTWCLKNSEQTLTDIHNL',\n",
       "  'MAPMQKWERIKTNRDHIRSLIKQWALLTWCLKNSEQTLTDIHNL',\n",
       "  'MQKWERIKTNRDHIRSLIKQWALLTWCLKNSEQTLTDIHNL',\n",
       "  'MEPRSVLIRQLISHIHPHSGVNISIAARSEPWIDPQLQSMDQPYPQWILLTLCRKKMDQADRCKMDKYFTKQMKRGTRIHMPQREQFPNLIGFITTIRWKK',\n",
       "  'MDQPYPQWILLTLCRKKMDQADRCKMDKYFTKQMKRGTRIHMPQREQFPNLIGFITTIRWKK',\n",
       "  'MDQADRCKMDKYFTKQMKRGTRIHMPQREQFPNLIGFITTIRWKK',\n",
       "  'MDKYFTKQMKRGTRIHMPQREQFPNLIGFITTIRWKK',\n",
       "  'MKRGTRIHMPQREQFPNLIGFITTIRWKK',\n",
       "  'MPQREQFPNLIGFITTIRWKK',\n",
       "  'MKSIPDVVPIIVNFKVSHRETE',\n",
       "  'MSQNSQWCIWSIQYISSSISSASQSLLLCIWTEITSTNGHVVGTSHHWVFHTPTLPDSFEHTGLLF',\n",
       "  'MLSPNRRIHLG',\n",
       "  'MTMK',\n",
       "  'MK',\n",
       "  'MVLNLMSATLDVLRPFDTLPG',\n",
       "  'MSATLDVLRPFDTLPG',\n",
       "  'MCPLPVGMLNTIIVAFLPLPF',\n",
       "  'MLNTIIVAFLPLPF',\n",
       "  'MGHSRVIGIMPVQLLGPPPLCLPNTDHCLLSPLILLLNLVRGCFEFLRAIFSAFHSHSIFSVVQVLTLVHMPRSSV',\n",
       "  'MPVQLLGPPPLCLPNTDHCLLSPLILLLNLVRGCFEFLRAIFSAFHSHSIFSVVQVLTLVHMPRSSV',\n",
       "  'MPRSSV']]"
      ]
     },
     "execution_count": 7,
     "metadata": {},
     "output_type": "execute_result"
    }
   ],
   "source": [
    "def get_all_prots (dna):          #os prints no meio são apenas para perceber o que acontece em cada passo\n",
    "    #print(f\"Seq \\n {dna}\")    # neste aqui n ha grande coisa a dizer é apenas pegar em td de cima e juntar\n",
    "    orfs = get_orfs(dna)\n",
    "    #print(f\"Orfs \\n {orfs}\")\n",
    "    list_codons = []\n",
    "    list_aminos = []\n",
    "    list_prots = []\n",
    "    for c in orfs:\n",
    "        list_codons.append(get_codons(c))\n",
    "    #print(f\"Codoes \\n {list_codons}\" )\n",
    "    for c in list_codons:\n",
    "        list_aminos.append(codon_to_amino(c))\n",
    "    #print(f\"Aminos \\n {list_aminos}\")\n",
    "    for c in list_aminos:\n",
    "        list_prots.append(get_prots(c))\n",
    "    #print(f\"Proteinas \\n {list_prots}\")\n",
    "    \n",
    "    return list_prots\n",
    "\n",
    "\n",
    "\n",
    "            \n",
    "\n",
    "\n",
    "get_all_prots(\"ATAACTGACGATCTTGGCATATGAACGAGCGTAAGAACTTGGACTACGCTAAATATAGAATGACTATGGAACGCGGAAAAAATTGCGCGCAGAAATTCGAAGCATCCACGAACAAGGTTCAGGAGAAGGATCAGCGGCGAGAGCAAGCAATGATCGGTGTTTGGGAGGCACAGAGGTGGCGGTCCCAGAAGCTGTACTGGCATGATACCTATTACGCGGGAGTGCCCCATGGACACAATTCTATGAAGATCAAGAAAAGGAAGGAACAAATTTGCGAATGTATTCTACGGATAGTGTCCACATGATCCATGCAGGAGTTCTGGTCGTGGAGGGCAGAAGGTAAGAGACGTCAAAACTTAGAAAGGAAGAGGGAGAAAGGCAACAATGATGGTGTTAAGCATCCCGACTGGAAGTGGACACATGTTTTGAAACTGATCCCCGAAAGCGTCTTCGACGCGTTCGAGGCCCAGATGTCAGCCCGGCAGTGTATCAAATGGGCGCAACACATCCAAGGTTGCTGACATGAGGTTCAACACCATTATCTGTCATTTCATGGTCATCTACCCTAAGTGAATACGCCTGTTCGGACTCAACATGGCACATTAAAACAGCAACCCGGTATGTTCAAAACTATCGGGCAGAGTAGGTGTATGAAAGACCCAATGATGGCTAGTACCCACGACATGACCGTTGGTCGAGGTTATTTCGGTCCAGATGCATAACAGCAACGATTGACTGGCACTTGATATGGACGAGGAAATGTATTGGATGGACCATATGCACCATTGGGAGTTTTGTGACATGTGAACAATGCCGACCACGGATAAGGTAAATGTAAGTGATTCCTATTCTGTCTCTCTATGAGAGACTTTAAAATTGACTATAATTGGTACAACGTCTGGGATGGATTTCATTGCAAAAACAACTAGGTCCAAAATTGCTTAATGTCCGCGTGGGAATTTTTCTGATTTCTCCGATGTTCTTGTAACTCCGACGAACTGTACTCGGCTGTCTATGCACAAATCATTTGAACCTTCCGTGCAGTACACCCAGACATAAGGAAGCTGTCATACGTAATCCACATGGTTTATTCCATCTCATACATGGATAATATATATAAGCTTTTATTTTTTCCAGCGAATGGTGGTTATAAACCCTATTAGGTTAGGGAACTGCTCTCTTTGTGGCATATGTATACGAGTACCTCGTTTCATCTGCTTAGTGAAATATTTATCCATCTTACACCTATCGGCTTGGTCCATTTTCTTCCTGCAAAGTGTGAGAAGTATCCACTGGGGATAAGGTTGATCCATTGACTGAAGCTGCGGATCAATCCATGGCTCGCTGCGTGCGGCGATGGATATATTGACCCCAGAATGCGGATGTATGTGGGAGATCAATTGCCGGATCAATACACTTCGTGGTTCCATCCGCTATGAGTATCTTCTCTTCGTGCCAAGTGAACCAGTTCCGGCACTGTTCGTGCCAATACGGCTGCATGAGCTAACGCTTTACAGTGGGGTACTTGTAGTCTAAAGATTGTGAATGTCCGTAAGAGTCTGCTCTGAGTTTTTTAGGCACCAAGTGAGCAGTGCCCACTGCTTGATTAGCGAGCGAATGTGATCACGATTAGTCTTGATACGTTCCCACTTTTGCATAGGGGCCATGCCGCTGCAGGAGGAGTAGTGATCACGGACGAAATCACAGCCCATCCCCTTCTGGTACGAGGAAAAAAGTTATTAGGACAAAACCTAAGACCCGCATCTACCTCGATATGCCATGACGCTTTCCATAGTACTTCCAGTGGGACCCAAGCGTCCCCATCAGCATCATTCCCTCCTCCATATTGATAACCCACTGTTTCTTTACGGACGTTCTCCATGGCCTGTACAAGGCCTGCTCCCACCATTGGGATTGGTCCTCTTTCGGGAATACTTCCACATTCTCTTCGCTGAAGTTTTCCAACTCTATCCACGGTGGCCCTTTATCCATACCCTGCCTAGGGATTAGTGGGACGGGTTTTAGGCCTATCGACTTAATCTTAGTGCTGCCACTGATTCAGGGGAAAGTGACAAGGCATCATGATCTGACCGGGTAGTGACATGTCGAACCAGATGAACATCCATTTTTTCTGTGTCTTAATCATGTGGCTCGTCAAAGTCGTTAATCTCATTGACCGAAACACCATGTGCTGATGGCGGATGTGTGCAGCTAGATAATGATCCTGCATCTCGATTATCGCCATCCTGTTCTTCAGTGGCCGGTTAAGTATGGTGTTGGCCAAGGCCCGTCGTACAGTATTGGCTGTCCATCTTGGTCCGAATGGATTCTCGCCTTCTCGCACGCACAGTCAGAACGCTTAATCCACGGTAGCAATACGATGCACTTACGAACCTTTCGCCTATTTCGCATATGCATAAGTCGAATTAGGTTTCGGGTCGGCATTCAGCCCACGAGTTCGTAAATTTGCAATCAACAGCATTCCCTTTGAGCCAGCTGTGGTACCATTGAAAAGCAGGGGCGTTGAATCCAAATAGTATGTACGGATGGTGACGAGCGACACTGTGGTCCGGCATGAACGCCATCTTGCCCGAGGCTTATCTTTTTGGCAAGGTTAATCGCACTTTCCCCGAACCATCCAGCATGTCCAGGGGGCCATACATATTGCCATACC\")"
   ]
  }
 ],
 "metadata": {
  "kernelspec": {
   "display_name": "Python 3.9.13 ('mestrado_final')",
   "language": "python",
   "name": "python3"
  },
  "language_info": {
   "codemirror_mode": {
    "name": "ipython",
    "version": 3
   },
   "file_extension": ".py",
   "mimetype": "text/x-python",
   "name": "python",
   "nbconvert_exporter": "python",
   "pygments_lexer": "ipython3",
   "version": "3.9.13 (main, Oct 13 2022, 21:15:33) \n[GCC 11.2.0]"
  },
  "vscode": {
   "interpreter": {
    "hash": "f2307cf6e279acbb4fe5a904c1ba66075afa04f4e5f00d0d9abed1d852b5aca9"
   }
  }
 },
 "nbformat": 4,
 "nbformat_minor": 2
}
