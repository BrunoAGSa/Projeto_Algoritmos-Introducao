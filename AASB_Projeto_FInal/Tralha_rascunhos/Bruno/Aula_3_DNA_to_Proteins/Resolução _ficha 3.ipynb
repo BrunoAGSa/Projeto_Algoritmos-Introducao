{
 "cells": [
  {
   "cell_type": "code",
   "execution_count": 4,
   "metadata": {
    "id": "2RDp7E4KcGRE"
   },
   "outputs": [],
   "source": [
    "import random\n",
    "gencode = {\n",
    "    'ATA':'I', 'ATC':'I', 'ATT':'I', 'ATG':'M',\n",
    "    'ACA':'T', 'ACC':'T', 'ACG':'T', 'ACT':'T',\n",
    "    'AAC':'N', 'AAT':'N', 'AAA':'K', 'AAG':'K',\n",
    "    'AGC':'S', 'AGT':'S', 'AGA':'R', 'AGG':'R',\n",
    "    'CTA':'L', 'CTC':'L', 'CTG':'L', 'CTT':'L',\n",
    "    'CCA':'P', 'CCC':'P', 'CCG':'P', 'CCT':'P',\n",
    "    'CAC':'H', 'CAT':'H', 'CAA':'Q', 'CAG':'Q',\n",
    "    'CGA':'R', 'CGC':'R', 'CGG':'R', 'CGT':'R',\n",
    "    'GTA':'V', 'GTC':'V', 'GTG':'V', 'GTT':'V',\n",
    "    'GCA':'A', 'GCC':'A', 'GCG':'A', 'GCT':'A',\n",
    "    'GAC':'D', 'GAT':'D', 'GAA':'E', 'GAG':'E',\n",
    "    'GGA':'G', 'GGC':'G', 'GGG':'G', 'GGT':'G',\n",
    "    'TCA':'S', 'TCC':'S', 'TCG':'S', 'TCT':'S',\n",
    "    'TTC':'F', 'TTT':'F', 'TTA':'L', 'TTG':'L',\n",
    "    'TAC':'Y', 'TAT':'Y', 'TAA':'_', 'TAG':'_',\n",
    "    'TGC':'C', 'TGT':'C', 'TGA':'_', 'TGG':'W'}"
   ]
  },
  {
   "cell_type": "markdown",
   "metadata": {},
   "source": [
    "# Criar dicionário inverso --> ajudar criaçao dos testes"
   ]
  },
  {
   "cell_type": "code",
   "execution_count": 5,
   "metadata": {
    "id": "yV11HE6AcLhs"
   },
   "outputs": [
    {
     "data": {
      "text/plain": [
       "{'D': ['GAC', 'GAT'],\n",
       " 'I': ['ATA', 'ATC', 'ATT'],\n",
       " 'Q': ['CAA', 'CAG'],\n",
       " 'P': ['CCA', 'CCC', 'CCG', 'CCT'],\n",
       " 'V': ['GTA', 'GTC', 'GTG', 'GTT'],\n",
       " 'H': ['CAC', 'CAT'],\n",
       " 'F': ['TTC', 'TTT'],\n",
       " 'E': ['GAA', 'GAG'],\n",
       " 'L': ['CTA', 'CTC', 'CTG', 'CTT', 'TTA', 'TTG'],\n",
       " 'W': ['TGG'],\n",
       " 'S': ['AGC', 'AGT', 'TCA', 'TCC', 'TCG', 'TCT'],\n",
       " 'M': ['ATG'],\n",
       " 'T': ['ACA', 'ACC', 'ACG', 'ACT'],\n",
       " 'K': ['AAA', 'AAG'],\n",
       " 'A': ['GCA', 'GCC', 'GCG', 'GCT'],\n",
       " 'C': ['TGC', 'TGT'],\n",
       " 'N': ['AAC', 'AAT'],\n",
       " 'Y': ['TAC', 'TAT'],\n",
       " '_': ['TAA', 'TAG', 'TGA'],\n",
       " 'G': ['GGA', 'GGC', 'GGG', 'GGT'],\n",
       " 'R': ['AGA', 'AGG', 'CGA', 'CGC', 'CGG', 'CGT']}"
      ]
     },
     "execution_count": 5,
     "metadata": {},
     "output_type": "execute_result"
    }
   ],
   "source": [
    "reversed = {A : [k for k, v in gencode.items() if v == A] for A in set(gencode.values())} #apenas aceitamos as expresoes do stor que doi menos Update : Percebido\n",
    "reversed   # mas basicamente isto cria um set baseado no dicionario anterior"
   ]
  },
  {
   "cell_type": "markdown",
   "metadata": {},
   "source": [
    "#"
   ]
  },
  {
   "cell_type": "code",
   "execution_count": 25,
   "metadata": {
    "id": "bTQg6-XAqHEh"
   },
   "outputs": [
    {
     "data": {
      "text/plain": [
       "'ATGGCCACATTCCATAGTTAG'"
      ]
     },
     "execution_count": 25,
     "metadata": {},
     "output_type": "execute_result"
    }
   ],
   "source": [
    "def my_amino2dna(amino): #Esta função permite apartir de um conjunto de aminoacidos obter 1 das possiveis seqs de DNA dos mesmos \n",
    "  seq = ''\n",
    "  for aa in amino:\n",
    "    seq += random.choice(reversed[aa]) # isto vai buscar cada aminoacido presente e passa lo pelo dicionario acima (reversed) e vai selecionar um dos possiveis codoes correspondentes\n",
    "  return seq\n",
    "\n",
    "my_amino2dna(\"MATFHS_\")"
   ]
  },
  {
   "cell_type": "code",
   "execution_count": 7,
   "metadata": {
    "id": "hJhh10qXrYUR"
   },
   "outputs": [],
   "source": [
    "def comp_inv(dna):  # complementar reverse do DNA\n",
    "  return dna.lower().replace('a','T').replace('c', 'G').replace('g','C').replace('t', 'A')[::-1]"
   ]
  },
  {
   "cell_type": "code",
   "execution_count": 43,
   "metadata": {
    "id": "i2FPsOyzcjsr"
   },
   "outputs": [
    {
     "data": {
      "text/plain": [
       "'tag'"
      ]
     },
     "execution_count": 43,
     "metadata": {},
     "output_type": "execute_result"
    }
   ],
   "source": [
    "def get_random_str(avg_sz, chars): # Criar seqs aleatorias dado um X tamanho (avg_sz ) com Y elementos (chars)\n",
    "  intron = ''                       # PS --> Os tamanhos sao mt aleatorios \n",
    "  while random.random() > 1 / avg_sz: # \n",
    "    intron += random.choice(chars)  #random.choice(chars) --> seleciona um elemento aleatorio definido em cima (chars)\n",
    "  return intron\n",
    "\n",
    "get_random_str(10,\"actg\")"
   ]
  },
  {
   "cell_type": "code",
   "execution_count": 60,
   "metadata": {},
   "outputs": [
    {
     "data": {
      "text/plain": [
       "'MLCFVQWDLDKQEDDSSAEINLTHVGKTRRCEDWHGKDCAELWRKSDVTDAASHFYPKGSLGGHLRPNKTRT_'"
      ]
     },
     "execution_count": 60,
     "metadata": {},
     "output_type": "execute_result"
    }
   ],
   "source": [
    "def gen_prot(avg_sz): # Aqui basicamente ele criou uma funçao que gera 1 sequencia de proteina de N tamanho(avg_sz) com M no inicio e _ no fim\n",
    "  start, stop = 'M', '_'    # definir o que é o inicio e final das sequencias \n",
    "  others = [k for k in reversed if k != stop]   # defenir  todos os possiveis  aminoacidos dentro da sequencias de proteinas  exceto o do codao stop (_)\n",
    "  prt = get_random_str(avg_sz, others) \n",
    "  return start + prt + stop\n",
    "\n",
    "gen_prot(50)"
   ]
  },
  {
   "cell_type": "code",
   "execution_count": 66,
   "metadata": {},
   "outputs": [
    {
     "data": {
      "text/plain": [
       "'CCGTAGGCTCTATCGACACGAACTAAGG'"
      ]
     },
     "execution_count": 66,
     "metadata": {},
     "output_type": "execute_result"
    }
   ],
   "source": [
    "def random_intron(avg_sz): #criar introes aleatorios de X tamanho (avg_sz)\n",
    "  return get_random_str(avg_sz, \"ACGT\") # serve para criar a sequencia aleatoria\n",
    "\n",
    "random_intron(20)\n"
   ]
  },
  {
   "cell_type": "code",
   "execution_count": 70,
   "metadata": {},
   "outputs": [
    {
     "data": {
      "text/plain": [
       "'ATGGCGACCTTTCACTCA'"
      ]
     },
     "execution_count": 70,
     "metadata": {},
     "output_type": "execute_result"
    }
   ],
   "source": [
    "def amino2dna(amino): # basicamente uma versao reduzida do my_amino2dna utilizada em cima no inicio\n",
    "  return ''.join([random.choice(reversed[aa]) for aa in amino])\n",
    "amino2dna(\"MATFHS\")\n",
    "\n"
   ]
  },
  {
   "cell_type": "code",
   "execution_count": 12,
   "metadata": {
    "id": "anrYTNHDfwq2"
   },
   "outputs": [],
   "source": [
    "def get_dna1_3(num_prots = 25, avg_intron_size = 30, avg_prot_size = 50):\n",
    "  dna = ''\n",
    "  prots = []\n",
    "  for p in range(num_prots):\n",
    "    dna += random_intron(avg_intron_size)\n",
    "    prot = gen_prot(avg_prot_size)\n",
    "    dna += amino2dna(prot)\n",
    "    prots.append(prot)\n",
    "  dna += random_intron(avg_intron_size)\n",
    "  return dna, prots\n",
    "\n",
    "def get_dna(num_prots = 25, avg_intron_size = 30, avg_prot_size = 50):\n",
    "  dna1, prots1 = get_dna1_3(num_prots = num_prots, avg_intron_size = avg_intron_size, avg_prot_size = avg_prot_size)\n",
    "  dna2, prots2 = get_dna1_3(num_prots = num_prots, avg_intron_size = avg_intron_size, avg_prot_size = avg_prot_size)\n",
    "\n",
    "  dna = dna1 + comp_inv(dna2)\n",
    "  prots = set(prots1) | set(prots2)\n",
    "\n",
    "  return dna, prots"
   ]
  },
  {
   "cell_type": "code",
   "execution_count": null,
   "metadata": {},
   "outputs": [],
   "source": [
    "get_dna(10,10,30)"
   ]
  },
  {
   "cell_type": "code",
   "execution_count": 14,
   "metadata": {
    "id": "nOtJ8RWO2G_x"
   },
   "outputs": [],
   "source": [
    "def dna_valido(dna):\n",
    "  return len([k for k in dna if k not in \"ACGT\"]) == 0\n",
    "  #return len(dna.replace('A','').replace('C','')) == 0\n",
    "\n",
    "def dna2amino(dna):\n",
    "  assert dna_valido(dna), f\"{dna} não é um pedaço de DNA válido!\"\n",
    "  return ''.join([gencode.get(dna[p : p + 3], '') for p in range(0, len(dna), 3)])\n",
    "\n",
    "def get_orfs(dna):\n",
    "  return [dna2amino(dna[p:]) for p in range(3)] + [dna2amino(comp_inv(dna)[p:]) for p in range(3)]\n",
    "\n",
    "def get_orf_prot(orf):\n",
    "  is_prot = False\n",
    "  prot = ''\n",
    "  prots = []\n",
    "  for A in orf:\n",
    "    if is_prot:\n",
    "      prot += A\n",
    "      if A == '_':\n",
    "        prots.append(prot)\n",
    "        is_prot = False\n",
    "        prot = ''\n",
    "    else:\n",
    "      if A == 'M':\n",
    "        is_prot = True\n",
    "        prot = 'M'\n",
    "  return set(prots)\n",
    "\n",
    "def get_prots(dna):\n",
    "  res = set()\n",
    "  for prots in [get_orf_prot(orf) for orf in get_orfs(dna)]:\n",
    "    res |= prots\n",
    "  return res"
   ]
  },
  {
   "cell_type": "markdown",
   "metadata": {
    "id": "YCydUlwxo38i"
   },
   "source": [
    "Acontece que a sequência gerada contém todas as proteínas mas, em alguns casos, contidas em proteínas mais pequenas. Logo, os testes foram escritos de outra forma:\n",
    "- Ou as proteínas foram encontradas, ou\n",
    "- As proteínas estão contidas em proteínas maiores (eram estas as que não tinham sido encontradas)"
   ]
  },
  {
   "cell_type": "code",
   "execution_count": 80,
   "metadata": {
    "id": "I43c523i8oK6"
   },
   "outputs": [
    {
     "name": "stdout",
     "output_type": "stream",
     "text": [
      "MECEENFTDNVIAFHSWCLDTMQTKPWYWICMPSKNGEYFPIKNGSGCVLQLMRQQVIEGCDELLEIYRWCCDHIEAWVALSVLHNIKWFLRKCWSWRMEPSGWANTECKEQGHCVYTQKLFCAPWSQ_ ['MGDRYGEASTETDS']\n",
      "MAKSTNAWSALMVWNQRNKGVWAIEFDDDTHPGLTWMPSWIQLIHDKWTTAIMPTLTHCIMFDQQWGPWLLLSWGISCFRYQSNHSTCRLRCAPQHGGGDGTKTPCMVILGTSEQQHATCYPDISRALSYHTAYKWHKTTFLISPGIQYSIWSEYVGKFMNDKVFNACELYYYHIEQTIGDSMDSSKVFECYWERKFCIEPKQKKWYSLFEIN_ ['MSTRMPL']\n",
      "MTFTCMDTAAMKYKWFKQKQYWVHSL_ ['MVTYGLSI']\n"
     ]
    }
   ],
   "source": [
    "assert sorted(get_orf_prot('MBJ_AMTH_TYMGPW_THMAMSA_TMY_')) == sorted(['MBJ_', 'MTH_', 'MGPW_', 'MAMSA_', 'MY_'])\n",
    "dna, prot = get_dna(num_prots = 10)\n",
    "all_prots = get_prots(dna)\n",
    "\n",
    "# Este ciclo vai procurar se as proteínas que não foram encontradas não estão contidas nelas\n",
    "\n",
    "for p in [p for p in prot if p not in all_prots]:\n",
    "  print(p, [P[:P.find(p)] for P in all_prots if p in P])\n",
    "  assert any(p in P for P in all_prots)\n",
    "\n",
    "\n",
    "dna1 = my_amino2dna(\"MATFH_\") + \"TGAT\" + my_amino2dna('M_')\n",
    "dna2 = my_amino2dna(\"MQRSSFG_\") + 'CG' + my_amino2dna(\"MLHYTAFG_\") + 'GTAT' + my_amino2dna('MWYT_')\n",
    "dna = 'TGGGT' + dna1 + comp_inv(dna2) + 'TGTGGTAAACC'\n",
    "\n",
    "assert all(p in get_prots(dna) for  p in \"MATFH_ M_ MQRSSFG_ MLHYTAFG_ MWYT_\".split())"
   ]
  },
  {
   "cell_type": "code",
   "execution_count": null,
   "metadata": {
    "id": "LR2sdT7TiKkm"
   },
   "outputs": [
    {
     "name": "stderr",
     "output_type": "stream",
     "text": [
      "...\n",
      "----------------------------------------------------------------------\n",
      "Ran 3 tests in 0.000s\n",
      "\n",
      "OK\n"
     ]
    },
    {
     "data": {
      "text/plain": [
       "<unittest.main.TestProgram at 0x20d557f5470>"
      ]
     },
     "execution_count": 26,
     "metadata": {},
     "output_type": "execute_result"
    }
   ],
   "source": [
    "import unittest\n",
    "\n",
    "class TestStringMethods(unittest.TestCase):\n",
    "\n",
    "    def test_upper(self):\n",
    "        self.assertEqual('foo'.upper(), 'FOO')\n",
    "\n",
    "    def test_isupper(self):\n",
    "        self.assertTrue('FOO'.isupper())\n",
    "        self.assertFalse('Foo'.isupper())\n",
    "\n",
    "    def test_split(self):\n",
    "        s = 'hello world'\n",
    "        self.assertEqual(s.split(), ['hello', 'world'])\n",
    "        # check that s.split fails when the separator is not a string\n",
    "        with self.assertRaises(TypeError):\n",
    "            s.split(2)\n",
    "\n",
    "unittest.main(argv=[''], exit=False)"
   ]
  }
 ],
 "metadata": {
  "colab": {
   "private_outputs": true,
   "provenance": []
  },
  "kernelspec": {
   "display_name": "Python 3.10.6 64-bit",
   "language": "python",
   "name": "python3"
  },
  "language_info": {
   "codemirror_mode": {
    "name": "ipython",
    "version": 3
   },
   "file_extension": ".py",
   "mimetype": "text/x-python",
   "name": "python",
   "nbconvert_exporter": "python",
   "pygments_lexer": "ipython3",
   "version": "3.10.6"
  },
  "vscode": {
   "interpreter": {
    "hash": "916dbcbb3f70747c44a77c7bcd40155683ae19c65e1c03b4aa3499c5328201f1"
   }
  }
 },
 "nbformat": 4,
 "nbformat_minor": 1
}
