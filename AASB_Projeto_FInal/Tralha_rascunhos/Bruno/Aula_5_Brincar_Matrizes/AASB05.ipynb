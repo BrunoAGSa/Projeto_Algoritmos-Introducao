{
 "cells": [
  {
   "cell_type": "code",
   "execution_count": null,
   "metadata": {
    "id": "9AooZjc90tqn",
    "pycharm": {
     "is_executing": true
    }
   },
   "outputs": [],
   "source": [
    "M = [[2,3,7], [8,1,4]]\n",
    "K = [range(3), range(4, 7)]\n",
    "soma_linhas = lambda M: [sum(l) for l in M]\n",
    "soma_colunas = lambda M: soma_linhas(transposta(M))\n",
    "\n",
    "def num_colunas(M): return len(M[0])\n",
    "\n",
    "def soma_linhas(M): return [sum(l) for l in M]\n",
    "def maximo_linhas(M): return [max(l) for l in M]\n",
    "\n",
    "def transposta(M):\n",
    "  return [[L[C] for L in M] for C in range(num_colunas(M))] \n",
    "\n",
    "def transposta(M):\n",
    "  T = []\n",
    "  for C in range(num_colunas(M)):\n",
    "    T.append([L[C] for L in M])\n",
    "  return T\n",
    "\n",
    "transposta(M)\n",
    "\n",
    "def maior(M):\n",
    "  m = M[0][0]\n",
    "  for L in M:\n",
    "    for x in L:\n",
    "      if x > m:\n",
    "        m = x\n",
    "  return m\n",
    "\n",
    "def maior(M):\n",
    "  return max(maximo_linhas(M))\n",
    "\n",
    "\n",
    "maior([[-2,-1], [-7,-1]])\n",
    "\n",
    "def diagonal(M):\n",
    "  L = 0\n",
    "  C = 0\n",
    "  D = []\n",
    "  for i in range(len(M)):\n",
    "    D.append(M[L+i][C+i])\n",
    "  return D\n",
    "\n",
    "Q = [list(range(3)), list(range(4,7)), list(range(10, 40, 10))]\n",
    "Q, diagonal(Q)\n",
    "\n",
    "for l, L in enumerate(Q):\n",
    "  for c, x in enumerate(L):\n",
    "    print(l, c, x)\n",
    "\n"
   ]
  },
  {
   "cell_type": "code",
   "execution_count": 4,
   "metadata": {
    "id": "tkyLZSf2BIEb"
   },
   "outputs": [
    {
     "name": "stdout",
     "output_type": "stream",
     "text": [
      "1:2:3\n"
     ]
    }
   ],
   "source": [
    "#list(zip(range(3), \"ABC\"))\n",
    "\n",
    "transposta(Q)\n",
    "\n",
    "list(zip(*Q))\n",
    "Q\n",
    "\n",
    "list(zip([0, 1, 2], [4, 5, 6], [10, 20, 30]))\n",
    "\n",
    "print(*[1,2,3], sep = \":\")"
   ]
  }
 ],
 "metadata": {
  "colab": {
   "private_outputs": true,
   "provenance": []
  },
  "kernelspec": {
   "display_name": "Python 3.7.1 ('mestrado_inicio')",
   "language": "python",
   "name": "python3"
  },
  "language_info": {
   "codemirror_mode": {
    "name": "ipython",
    "version": 3
   },
   "file_extension": ".py",
   "mimetype": "text/x-python",
   "name": "python",
   "nbconvert_exporter": "python",
   "pygments_lexer": "ipython3",
   "version": "3.7.1"
  },
  "vscode": {
   "interpreter": {
    "hash": "7eff063f29fff20c493e6475951aa1a0f3252bb01a72b26037c4c4121234dbd6"
   }
  }
 },
 "nbformat": 4,
 "nbformat_minor": 0
}
