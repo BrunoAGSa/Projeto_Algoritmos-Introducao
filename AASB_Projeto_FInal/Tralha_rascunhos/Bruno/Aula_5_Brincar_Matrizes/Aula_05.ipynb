{
 "cells": [
  {
   "cell_type": "code",
   "execution_count": 21,
   "metadata": {},
   "outputs": [],
   "source": [
    "M = [[10, 20, 30, 35],[40, 50, 60, 65],[70, 80, 90, 95],[16,17,18,19]]   # PS Estou a partir do principio que todas as matrizes são quadradas\n",
    "N = [[1, 2, 3],[4, 5, 6],[7, 8, 9]]\n",
    "K = [[10,11,12,13,14,15,16],[20,21,22,23,24,25,26],[30,31,32,33,34,35,36],[40,41,42,43,44,45,46],[50,51,52,53,54,55,56],[60,61,62,63,64,65,66],[70,71,72,73,74,75,76]]\n",
    "I = [[0]]\n",
    "O = [[0,2],[0,4]]"
   ]
  },
  {
   "cell_type": "code",
   "execution_count": 22,
   "metadata": {},
   "outputs": [
    {
     "name": "stdout",
     "output_type": "stream",
     "text": [
      "[0, 2]\n",
      "[0, 4]\n"
     ]
    }
   ],
   "source": [
    "for c in O:       # mostrar matriz\n",
    "    print (c)\n",
    "    "
   ]
  },
  {
   "cell_type": "code",
   "execution_count": null,
   "metadata": {},
   "outputs": [],
   "source": [
    "M_sum_lines = lambda M: [sum(x) for x in M]         #soma linhas\n",
    "M_sum_lines(M)"
   ]
  },
  {
   "cell_type": "code",
   "execution_count": null,
   "metadata": {},
   "outputs": [],
   "source": [
    "def M_transpose (M):         \n",
    "  return [[L[C] for L in M] for C in range(len(M[0]))]\n",
    "\n",
    "for c in M_transpose(M):\n",
    "    print (c)"
   ]
  },
  {
   "cell_type": "code",
   "execution_count": null,
   "metadata": {},
   "outputs": [],
   "source": [
    "def M_max_value (M):\n",
    "    return max([max(x) for x in M])\n",
    "\n",
    "M_max_value(M)"
   ]
  },
  {
   "cell_type": "code",
   "execution_count": null,
   "metadata": {},
   "outputs": [],
   "source": [
    "def M_min_value (M):\n",
    "    return min([min(x) for x in M])\n",
    "    \n",
    "M_min_value(M)"
   ]
  },
  {
   "cell_type": "code",
   "execution_count": null,
   "metadata": {},
   "outputs": [],
   "source": [
    "def M_main_diagonal (M):\n",
    "    l = 0\n",
    "    c = 0\n",
    "    d = []\n",
    "    for v in range(len(M[0])):\n",
    "        d.append(M[l + v][c + v])\n",
    "    return(d)\n",
    "\n",
    "M_main_diagonal(M)"
   ]
  },
  {
   "cell_type": "markdown",
   "metadata": {},
   "source": [
    "# Tips\n",
    "\n",
    "l --> l_\n",
    "c --> Correção limite do Len\n",
    "\n"
   ]
  },
  {
   "cell_type": "code",
   "execution_count": null,
   "metadata": {},
   "outputs": [],
   "source": [
    "def M_others_sup_diagonals (M):                          \n",
    "    l = 0\n",
    "    c = 0\n",
    "    d = []\n",
    "    k = 0\n",
    "    clo = len(M[0])\n",
    "    while clo != 0:\n",
    "        for v in range(len(M[0]) - k):\n",
    "            d.append(M[l + v][c + v])\n",
    "        clo -= 1\n",
    "        c += 1\n",
    "        k += 1\n",
    "    return d\n",
    "M_others_sup_diagonals(M)"
   ]
  },
  {
   "cell_type": "code",
   "execution_count": null,
   "metadata": {},
   "outputs": [],
   "source": [
    "def M_others_inf_diagonals (M):\n",
    "    l = 0\n",
    "    c = 0\n",
    "    d = []\n",
    "    k = 0\n",
    "    clo = len(M[0])\n",
    "    while clo != 0:\n",
    "        for v in range(len(M[0]) - k):\n",
    "            d.append(M[l + v][c + v])\n",
    "        clo -= 1\n",
    "        l += 1\n",
    "        k += 1\n",
    "    return d\n",
    "M_others_inf_diagonals(M)"
   ]
  },
  {
   "cell_type": "code",
   "execution_count": 23,
   "metadata": {},
   "outputs": [
    {
     "data": {
      "text/plain": [
       "[[0], [0, 4], [2]]"
      ]
     },
     "execution_count": 23,
     "metadata": {},
     "output_type": "execute_result"
    }
   ],
   "source": [
    "def M_all_diagonals (M):\n",
    "    sup = M_others_sup_diagonals(M)\n",
    "    inf = M_others_inf_diagonals(M)\n",
    "    m_len = len(M)\n",
    "    inf_treat = [c for c in inf[::-1]]\n",
    "    final = []\n",
    "    p = 0\n",
    "    a = []\n",
    "    fi = 1\n",
    "    for c in range(len(M) + 1):        #adicionar INfs a lista final\n",
    "        final.append(inf_treat[0:p])\n",
    "        del inf_treat[0:p]\n",
    "        p += 1\n",
    "    final.pop(0)\n",
    "    for c in range (len(M)):\n",
    "        final.append(sup[0:m_len])\n",
    "        del sup[0:m_len]\n",
    "        m_len -= 1 \n",
    "    final.pop(len(M) - 1)    # tirar diagonal central repetida em ambas as listas (sup inf)  \n",
    "    for c in final[1:len(M)-1]:\n",
    "        a.append(c[::-1])\n",
    "    del(final[1:len(M)-1])\n",
    "    for c in a:\n",
    "        final.insert(fi,c)\n",
    "        fi += 1\n",
    "    return final\n",
    "M_all_diagonals(O)"
   ]
  },
  {
   "cell_type": "markdown",
   "metadata": {},
   "source": [
    "70\n",
    "60 71\n",
    "50 61 72\n",
    "40 51 62 73\n",
    "30 41 52 63 74\n",
    "20 31 42 53 64 75\n",
    "10 21 32 43 54 65 76   K \n",
    "11 22 33 44 55 66 \n",
    "12 23 34 45 56\n",
    "13 24 35 46 \n",
    "14 25 36\n",
    "15 26\n",
    "16\n",
    "\n",
    "16                                 \n",
    "70 17\n",
    "40 80 18\n",
    "10 50 90 19           M\n",
    "20 60 95\n",
    "30 64\n",
    "35\n",
    "\n",
    "7\n",
    "4 8\n",
    "1 5 9            N\n",
    "2 6\n",
    "3\n"
   ]
  },
  {
   "cell_type": "code",
   "execution_count": null,
   "metadata": {},
   "outputs": [],
   "source": [
    "def Sum_Matrices (M,N):  \n",
    "    m_sum_temp =[]\n",
    "    m_sum_final = []\n",
    "    for c in range(len(M)):\n",
    "        m_sum_temp.append(list(zip(M[c], N[c])))   # Isto uma Lista conjunta de ambos mantendo os valores no local original da Matriz\n",
    "    a = [sum(v) for c in m_sum_temp for v in c]   # soma os valores dentro da lista\n",
    "    f= 0\n",
    "    for c in range(len(M)):\n",
    "        m_sum_final.append(a[0 + f:len(M) + f])\n",
    "        f += len(M)\n",
    "    return m_sum_final\n",
    "\n",
    "Sum_Matrices(M,N)"
   ]
  },
  {
   "cell_type": "code",
   "execution_count": null,
   "metadata": {},
   "outputs": [],
   "source": []
  }
 ],
 "metadata": {
  "kernelspec": {
   "display_name": "Python 3.10.6 64-bit",
   "language": "python",
   "name": "python3"
  },
  "language_info": {
   "codemirror_mode": {
    "name": "ipython",
    "version": 3
   },
   "file_extension": ".py",
   "mimetype": "text/x-python",
   "name": "python",
   "nbconvert_exporter": "python",
   "pygments_lexer": "ipython3",
   "version": "3.10.6"
  },
  "vscode": {
   "interpreter": {
    "hash": "916dbcbb3f70747c44a77c7bcd40155683ae19c65e1c03b4aa3499c5328201f1"
   }
  }
 },
 "nbformat": 4,
 "nbformat_minor": 2
}
