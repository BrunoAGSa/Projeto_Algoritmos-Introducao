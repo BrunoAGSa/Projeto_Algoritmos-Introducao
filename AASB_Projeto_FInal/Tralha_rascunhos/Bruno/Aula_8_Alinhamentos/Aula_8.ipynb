{
 "cells": [
  {
   "cell_type": "markdown",
   "metadata": {},
   "source": [
    "query = \"AATATAT\"\n",
    "seq = \"AATATGTTATATAATAATATTT\"\n",
    "w = 3\n",
    "\n",
    "qm = query_map(query, w)\n",
    "qm\n",
    "{'AAT': [0], 'ATA': [1, 3], 'TAT': [2, 4]}\n",
    "\n",
    "hits(qm, seq)\n",
    "[(0, 0), (0, 12), (0, 15), (1, 1), (1, 8), (1, 10), (1, 13), (1, 16),\n",
    "(3, 1), (3, 8), (3, 10), (3, 13), (3, 16), (2, 2), (2, 7), (2, 9),\n",
    "(2, 17), (4, 2), (4, 7), (4, 9), (4, 17)]\n",
    "\n",
    "extend_hit(query, seq, (1, 16), 3)\n",
    "(0, 15, 7, 6)\n",
    "\n",
    "best_hit(query, seq, 3)\n",
    "(0, 0, 7, 6)"
   ]
  },
  {
   "cell_type": "code",
   "execution_count": 149,
   "metadata": {},
   "outputs": [],
   "source": [
    "query = \"I\"\n",
    "seq = \"AATATGTTATATAATAATAAAAAAAAAAAAAAAAAAAAAAAAAAAAAAAAAAAAAAAAAAAAAIAAAAAAACACACACTHACTHHHHHHHHHHHHHHHHHHHHHHHHHHHHHHCATCHACTACTASDJFHALDSFJVNSDKFNHVKFHLSDKFHSDLKFJVSHDNFKVSHKNHSDFKLJVHDFKJHASDFYVWIFUVSDYNKJLSDHFVASDKHNSKNHFVDSANFKLAVHSDNFSHDFNKVDSHFKSAHFVNALSKDFHVADSNLKFHADLFKNVAGTTATATAATAATAAAAAAAAAAAAAAAAAAAAAAAAAAAAAAAAAAAAAAAAAAAAAAAAAAAACACACACTHACTHHHHHHHHHHHHHHHHHHHHHHHHHHHHHHCATCHACTACTASDJFHALDSFJVNSDKFNHVKFHLSDKFHSDLKFJVSHDNFKVSHKNHSDFKLJVHDFKJHASDFYVWIFUVSDYNKJLSDHFVASDKHNSKNHFVDSANFKLAVHSDNFSHDFNKVDSHFKSAHFVNALSKDFHVADSNLKFHADLFKNVAGTTATATAATAATAAAAAAAAAAAAAAAAAAAAAAAAAAAAAAAAAAAAAAAAAAAAAAAAAAAACACACACTHACTHHHHHHHHHHHHHHHHHHHHHHHHHHHHHHCATCHACTACTASDJFHALDSFJVNSDKFNHVKFHLSDKFHSDLKFJVSHDNFKVSHKNHSDFKLJVHDFKJHASDFYVWIFUVSDYNKJLSDHFVASDKHNSKNHFVDSANFKLAVHSDNFSHDFNKVDSHFKSAHFVNALSKDFHVADSNLKFHADLFKNVAGTTATATAATAATAAAAAAAAAAAAAAAAAAAAAAAAAAAAAAAAAAAAAAAAAAAAAAAAAAAACACACACTHACTHHHHHHHHHHHHHHHHHHHHHHHHHHHHHHCATCHACTACTASDJFHALDSFJVNSDKFNHVKFHLSDKFHSDLKFJVSHDNFKVSHKNHSDFKLJVHDFKJHASDFYVWIFUVSDYNKJLSDHFVASDKHNSKNHFVDSANFKLAVHSDNFSHDFNKVDSHFKSAHFVNALSKDFHVADSNLKFHADLFKNVAGTTATATAATAATAAAAAAAAAAAAAAAAAAAAAAAAAAAAAAAAAAAAAAAAAAAAAAAAAAAACACACACTHACTHHHHHHHHHHHHHHHHHHHHHHHHHHHHHHCATCHACTACTASDJFHALDSFJVNSDKFNHVKFHLSDKFHSDLKFJVSHDNFKVSHKNHSDFKLJVHDFKJHASDFYVWIFUVSDYNKJLSDHFVASDKHNSKNHFVDSANFKLAVHSDNFSHDFNKVDSHFKSAHFVNALSKDFHVADSNLKFHADLFKNVAGTTATATApppATAATAAAAAAAAAAAAAAAAAAApppAAAAAAAAAAAAAAAAAAAAApppAAAAAAAAAAAACACACACTHACTHHHHHHHHHHHHHHHHHHHHHHHHHHHHHHCATCHACTACTASDJFHALDSFJVNSDKFNHVKFHLSDKFHSDLKFJVSHDNFKVSHKNHSDFKLJVHDFKJHASDFYVWIFUVSDYNKJLSDHFVASDKHNSKNHFVDSANFKLAVHSDNFSHDFNKVDSHFKSAHFVNALSKDFHVADSNLKFHADLFKNVAGTTATATAATAATAAAAAAAAAAAAAAAAAAAAAAAAAAAAAAAAAAAAAAAAAAAAAAAAAAAACACACACTHACTHHHHHHHHHHHHHHHHHHHHHHHHHHHHHHCATCHACTACTASDJFHALDSFJVNSDKFNHVKFHLSDKFHSDLKFJVSHDNFKVSHKNHSDFKLJVHDFKJHASDFYVWIFUVSDYNKJLSDHFVASDKHNSKNHFVDSANFKLAVHSDNFSHDFNKVDSHFKSAHFVNALSKDFHVADSNLKFHADLFKNVAGTTATATAATAATAAAAAAAAAAAAAAAAAAAAAAAAAAAAAAAAAAAAAAAAAAAAAAAAAAAACACACACTHACTHHHHHHHHHHHHHHHHHHHHHHHHHHHHHHCATCHACTACTASDJFHALDSFJVNSDKFNHVKFHLSDKFHSDLKFJVSHDNFKVSHKNHSDFKLJVHDFKJHASDFYVWIFUVSDYNKJLSDHFVASDKHNSKNHFVDSANFKLAVHSDNFSHDFNKVDSHFKSAHFVNALSKDFHVADSNLKFHADLFKNVAGTTATATAATAATAAAAAAAAAAAAAAAAAAAAAAAAAAAAAAAAAAAAAAAAAAAAAAAAAAAACACACACTHACTHHHHHHHHHHHHHHHHHHHHHHHHHHHHHHCATCHACTACTASDJFHALDSFJVNSDKFNHVKFHLSDKFHSDLKFJVSHDNFKVSHKNHSDFKLJVHDFKJHASDFYVWIFUVSDYNKJLSDHFVASDKHNSKNHFVDSANFKLAVHSDNFSHDFNKVDSHFKSAHFVNALSKDFHVADSNLKFHADLFKNVAGTTATATAATAATAAAAAAAAAAAAAAAAAAAAAAAAAAAAAAAAAAAAAAAAAAAAAAAAAAAACACACACTHACTHHHHHHHHHHHHHHHHHHHHHHHHHHHHHHCATCHACTACTASDJFHALDSFJVNSDKFNHVKFHLSDKFHSDLKFJVSHDNFKVSHKNHSDFKLJVHDFKJHASDFYVWIFUVSDYNKJLSDHFVASDKHNSKNHFVDSANFKLAVHSDNFSHDFNKVDSHFKSAHFVNALSKDFHVADSNLKFHADLFKNVATTT\"\n",
    "w = 1"
   ]
  },
  {
   "cell_type": "markdown",
   "metadata": {},
   "source": [
    "1  Crie uma função chamada query_map que recebe a sequência e o w e\n",
    "que devolve um dicionário em que as chaves são as sequências e os\n",
    "valores são uma lista dos índices"
   ]
  },
  {
   "cell_type": "code",
   "execution_count": 129,
   "metadata": {},
   "outputs": [
    {
     "data": {
      "text/plain": [
       "{'555': [0], '55p': [1], '5pp': [2], 'ppp': [3]}"
      ]
     },
     "execution_count": 129,
     "metadata": {},
     "output_type": "execute_result"
    }
   ],
   "source": [
    "def query_map(query, w):\n",
    "    tam = len(query)\n",
    "    res = {}\n",
    "    for chave, offset in [(query[p : p + w], p) for p in range(0, tam - w +1)]:\n",
    "        #print (chave, offset)\n",
    "        if chave not in res:\n",
    "            res[chave] = []\n",
    "        res[chave].append(offset)\n",
    "    return(res)\n",
    "\n",
    "query_map(query, w)"
   ]
  },
  {
   "cell_type": "markdown",
   "metadata": {},
   "source": [
    "Auxiliar"
   ]
  },
  {
   "cell_type": "code",
   "execution_count": null,
   "metadata": {},
   "outputs": [],
   "source": [
    "def get_all_offsets(s1, s2):  # s1 --> Padrão    s2 --> seq_analisar\n",
    "    w = len(s1)\n",
    "    return[p for p in range(0, len(s2) - w + 1) if s2[p : p + w] == s1]"
   ]
  },
  {
   "cell_type": "markdown",
   "metadata": {},
   "source": [
    "2 Crie uma função chamada hits que recebe o dicionário da função\n",
    "anterior e uma sequência da BD e devolve uma lista de hits em que\n",
    "cada elemento é um tuplo com os índices"
   ]
  },
  {
   "cell_type": "code",
   "execution_count": null,
   "metadata": {},
   "outputs": [],
   "source": [
    "def hits(qm, seq):      # qm --> query_map(query, w)   \n",
    "    return[(o_query, o_seq) for chave, offsets in qm.items() \n",
    "    for o_query in offsets \n",
    "    for o_seq in get_all_offsets(chave, seq)]\n",
    "\n",
    "hits(query_map(query, w), seq)"
   ]
  },
  {
   "cell_type": "markdown",
   "metadata": {},
   "source": [
    "3 Crie uma função chamada extend_hit que recebe a query, a\n",
    "sequência da BD, o hit e o valor de w e o estende um hit em cada\n",
    "direção se o nºde matches for de pelo menos metade do tamanho da\n",
    "extensão; a função devolve um tuplo com o índice do início do hit\n",
    "estendido na query, na sequência, o tamanho e o nºde matches"
   ]
  },
  {
   "cell_type": "code",
   "execution_count": null,
   "metadata": {},
   "outputs": [],
   "source": [
    "def extend_hit(query, seq, hit, w):\n",
    "    o1, o2 = hit\n",
    "    left  = extend_hit_any_direction(query, seq, o1 - 1, o2 - 1, -1)\n",
    "    right = extend_hit_any_direction(query, seq, o1 + w, o2 + w, +1)\n",
    "\n",
    "    O1, O2, ML, SL = left\n",
    "    _,   _, MR, SR = right\n",
    "    #print({'ML':ML, 'SR':SR, 'SL':SL,'MR':MR})\n",
    "    return O1, O2, w + SL + SR, ML + w + MR\n",
    "\n",
    "extend_hit(query, seq, (1, 10), w)\n"
   ]
  },
  {
   "cell_type": "markdown",
   "metadata": {},
   "source": [
    "Auxiliar "
   ]
  },
  {
   "cell_type": "code",
   "execution_count": null,
   "metadata": {},
   "outputs": [],
   "source": [
    "def extend_hit_any_direction(query, seq, o1, o2, dir):\n",
    "    matches = 0\n",
    "    count = 0\n",
    "    while o1 >= 0 and o2 >= 0 and o1 < len(query) and o2 < len(seq):\n",
    "        matches += 1 if query[o1] == seq[o2] else 0\n",
    "        count += 1\n",
    "        if 2 * matches < count:\n",
    "            return o1, o2, matches, count\n",
    "        o1 += dir\n",
    "        o2 += dir\n",
    "    return o1 - dir, o2 - dir, matches, count\n",
    "extend_hit_any_direction(query,seq,1,10,1) , extend_hit_any_direction(query, seq,1,10,-1)\n"
   ]
  },
  {
   "cell_type": "markdown",
   "metadata": {},
   "source": [
    "4 Crie uma função chamada best_hit que recebe uma query, uma\n",
    "sequência da BD e o w e que devolve a extensão de maior score (no\n",
    "caso de empate, deverá devolver a de menor tamanho que aparece\n",
    "primeiro)\n",
    "\n"
   ]
  },
  {
   "cell_type": "code",
   "execution_count": 156,
   "metadata": {},
   "outputs": [
    {
     "data": {
      "text/plain": [
       "(0, 63, 1, 1)"
      ]
     },
     "execution_count": 156,
     "metadata": {},
     "output_type": "execute_result"
    }
   ],
   "source": [
    "def best_hit (query, seq, w):\n",
    "    qm = query_map(query,w)\n",
    "    lista_hits = hits(qm, seq)\n",
    "    all_scores =[extend_hit(query, seq, c, w) for c in lista_hits]\n",
    "    all_scores.sort(key=lambda c: c[2] and c[3], reverse=True)\n",
    "    if all_scores == []:\n",
    "        return print(\"Not Found\")\n",
    "    else:\n",
    "        return all_scores [0]\n",
    "\n",
    "best_hit(query, seq, w)"
   ]
  }
 ],
 "metadata": {
  "kernelspec": {
   "display_name": "Python 3.9.13 ('mestrado_final')",
   "language": "python",
   "name": "python3"
  },
  "language_info": {
   "codemirror_mode": {
    "name": "ipython",
    "version": 3
   },
   "file_extension": ".py",
   "mimetype": "text/x-python",
   "name": "python",
   "nbconvert_exporter": "python",
   "pygments_lexer": "ipython3",
   "version": "3.9.13"
  },
  "orig_nbformat": 4,
  "vscode": {
   "interpreter": {
    "hash": "f2307cf6e279acbb4fe5a904c1ba66075afa04f4e5f00d0d9abed1d852b5aca9"
   }
  }
 },
 "nbformat": 4,
 "nbformat_minor": 2
}
