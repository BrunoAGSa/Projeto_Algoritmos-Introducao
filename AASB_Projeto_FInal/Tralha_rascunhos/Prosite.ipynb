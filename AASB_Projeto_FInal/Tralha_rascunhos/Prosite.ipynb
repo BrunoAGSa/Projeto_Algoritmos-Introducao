{
 "cells": [
  {
   "cell_type": "code",
   "execution_count": null,
   "metadata": {},
   "outputs": [],
   "source": [
    "def prosite(seq, pattern): \n",
    "                        \n",
    "    from re import search\n",
    "    \"\"\"Função que permite converter uma expressão do padrão Prosite numa expressão regular\n",
    "\n",
    "    Returns:\n",
    "        str: Expressão regular\n",
    "    \"\"\"\n",
    "    er = pattern.replace(\"-\",\"\")\n",
    "    er = er.replace(\"x\",\".\")\n",
    "    er = er.replace(\"(\",\"{\")\n",
    "    er = er.replace(\")\",\"}\")\n",
    "    motif = search(er, seq)\n",
    "\n",
    "    if (motif != None):\n",
    "        zona = motif.span()              \n",
    "        return (\"Motifs: {}\" .format(seq[zona[0]:zona[1]]))\n",
    "    else :\n",
    "        return \"Not found\"\n"
   ]
  },
  {
   "cell_type": "code",
   "execution_count": null,
   "metadata": {},
   "outputs": [],
   "source": [
    "import unittest\n",
    "\n",
    "class Test_Prosite(unittest.TestCase):\n",
    "    \"\"\"Conjunto de testes para a classe Prosite\n",
    "    \"\"\"\n",
    "\n",
    "    def test_prosite(self):\n",
    "        \"\"\"Testar a função prosite\n",
    "        \"\"\"\n",
    "        self.assertEqual(prosite(\"HKMMLASCKHLLCLKCIVKLG\",\"C-x-H-x-[LIVMFY]-C-x(2)-C-[LIVMYA]\"),\"Motifs: CKHLLCLKCI\")\n",
    "        self.assertEqual(prosite(\"HKMMLLCLKCIVKLG\",\"C-x-H-x-[LIVMFY]-C-x(2)-C-[LIVMYA]\"),\"Not found\")\n",
    "\n",
    "\n",
    "\n",
    "unittest.main(argv=[''], exit=False)"
   ]
  }
 ],
 "metadata": {
  "language_info": {
   "name": "python"
  },
  "orig_nbformat": 4
 },
 "nbformat": 4,
 "nbformat_minor": 2
}
