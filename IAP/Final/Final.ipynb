{
 "cells": [
  {
   "cell_type": "code",
   "execution_count": 958,
   "metadata": {},
   "outputs": [],
   "source": [
    "from Bio import SeqIO\n",
    "import urllib.parse as up\n",
    "import os\n",
    "import psycopg2\n",
    "import re\n",
    "from Bio import Entrez\n",
    "from collections import Counter\n",
    "from IAP_seqs import Seq"
   ]
  },
  {
   "attachments": {},
   "cell_type": "markdown",
   "metadata": {},
   "source": [
    "# Lista Cenas Importantes\n",
    "\n",
    "Erro mt random a povoar references\n",
    "\n",
    "Ver parte das sequences --> Precisamos de mais espaço mas o SQL limita isso  Data too long for column 'Translacion_seq' at row 1\n",
    "\n",
    "Cannot add or update a child row: a foreign key constraint fails (`Base Dados IAP`.`Genbank`, CONSTRAINT `Genbank-references` FOREIGN KEY (`ID`) REFERENCES `References` (`ID`))"
   ]
  },
  {
   "attachments": {},
   "cell_type": "markdown",
   "metadata": {},
   "source": [
    "Ligar Base de Dados"
   ]
  },
  {
   "cell_type": "code",
   "execution_count": 959,
   "metadata": {},
   "outputs": [],
   "source": [
    "import mysql.connector as SQLC   #ligação Bruno\n",
    "\n",
    "DataBase = SQLC.connect(\n",
    "   host =\"127.0.0.1\",\n",
    "   user =\"root\",\n",
    "   password =\"login123\",\n",
    "   database = \"Base Dados IAP\",\n",
    "   auth_plugin=\"mysql_native_password\"\n",
    ")\n",
    "DataBase.autocommit= True\n",
    "cur = DataBase.cursor()\n",
    "cur.execute(\"\"\"\n",
    "            SET FOREIGN_KEY_CHECKS=0\"\"\")"
   ]
  },
  {
   "attachments": {},
   "cell_type": "markdown",
   "metadata": {},
   "source": [
    "Ficheiro GB "
   ]
  },
  {
   "cell_type": "code",
   "execution_count": 960,
   "metadata": {},
   "outputs": [],
   "source": [
    "id_genbank_input = input(\"ID NCBI\")"
   ]
  },
  {
   "cell_type": "code",
   "execution_count": 961,
   "metadata": {},
   "outputs": [],
   "source": [
    "handle = Entrez.efetch(db='nucleotide',retmode='txt',id=id_genbank_input, rettype = \"gb\") # dowload do ficheiro\n",
    "record = SeqIO.read(handle, \"gb\")"
   ]
  },
  {
   "cell_type": "code",
   "execution_count": 962,
   "metadata": {},
   "outputs": [],
   "source": [
    "# # file = \"/home/sa_bruno/Documentos/GitHub/Projeto_LB/ARL15/ARL15.gb\"                \n",
    "# file = \"Teste.gb\"\n",
    "# record = SeqIO.read(file, \"genbank\") "
   ]
  },
  {
   "attachments": {},
   "cell_type": "markdown",
   "metadata": {},
   "source": [
    "# Obter todas as variáveis / Povoar Base de Dados "
   ]
  },
  {
   "attachments": {},
   "cell_type": "markdown",
   "metadata": {},
   "source": [
    "# Tabela Locus"
   ]
  },
  {
   "cell_type": "code",
   "execution_count": 963,
   "metadata": {},
   "outputs": [],
   "source": [
    "# Locus \n",
    "ID = record.name\n",
    "Size = len(record.seq)\n",
    "Molecular_type = record.annotations[\"molecule_type\"] + \" \" + record.annotations[\"topology\"]\n",
    "Genbank_division = record.annotations[\"data_file_division\"] \n",
    "Modification_date = record.annotations[\"date\"]"
   ]
  },
  {
   "cell_type": "code",
   "execution_count": 964,
   "metadata": {},
   "outputs": [
    {
     "name": "stdout",
     "output_type": "stream",
     "text": [
      "V00642\n",
      "3569\n",
      "mRNA linear\n",
      "PHG\n",
      "21-OCT-1996\n"
     ]
    }
   ],
   "source": [
    "print(ID)\n",
    "print(Size)\n",
    "print(Molecular_type)\n",
    "print(Genbank_division)\n",
    "print(Modification_date)"
   ]
  },
  {
   "cell_type": "code",
   "execution_count": 965,
   "metadata": {},
   "outputs": [],
   "source": [
    "try:\n",
    "        cur.execute(f\"\"\"\n",
    "                INSERT INTO Locus (ID, Size, Molecular_type, Genbank_division, Modification_date)    \n",
    "                VALUES (%s, %s, %s, %s, %s)\n",
    "                \"\"\",\n",
    "                    (ID, Size, Molecular_type, Genbank_division, Modification_date))\n",
    "\n",
    "except:\n",
    "        print(\"Erro Povoação Locus\")"
   ]
  },
  {
   "attachments": {},
   "cell_type": "markdown",
   "metadata": {},
   "source": [
    "# Tabela Genbank\n",
    "\n",
    "Usamos\n"
   ]
  },
  {
   "cell_type": "code",
   "execution_count": 966,
   "metadata": {},
   "outputs": [],
   "source": [
    "# Genbank\n",
    "Organism = record.annotations[\"organism\"]\n",
    "Accession = record.annotations[\"accessions\"][0]\n",
    "Definition = record.description\n",
    "Keywords = \"\"\n",
    "\n",
    "for c in record.annotations[\"keywords\"]:\n",
    "    Keywords += c + \", \"\n",
    "Keywords = Keywords[0: (len(Keywords) -2)]\n",
    "\n",
    "Sequence = str(record.seq)"
   ]
  },
  {
   "cell_type": "code",
   "execution_count": 967,
   "metadata": {},
   "outputs": [
    {
     "name": "stdout",
     "output_type": "stream",
     "text": [
      "V00642\n",
      "Escherichia phage MS2\n",
      "V00642\n",
      "phage MS2 genome\n",
      "coat protein, genome\n",
      "GGGTGGGACCCCTTTCGGGGTCCTGCTCAACTTCCTGTCGAGCTAATGCCATTTTTAATGTCTTTAGCGAGACGCTACCATGGCTATCGCTGTAGGTAGCCGGAATTCCATTCCTAGGAGGTTTGACCTGTGCGAGCTTTTAGTACCCTTGATAGGGAGAACGAGACCTTCGTCCCCTCCGTTCGCGTTTACGCGGACGGTGAGACTGAAGATAACTCATTCTCTTTAAAATATCGTTCGAACTGGACTCCCGGTCGTTTTAACTCGACTGGGGCCAAAACGAAACAGTGGCACTACCCCTCTCCGTATTCACGGGGGGCGTTAAGTGTCACATCGATAGATCAAGGTGCCTACAAGCGAAGTGGGTCATCGTGGGGTCGCCCGTACGAGGAGAAAGCCGGTTTCGGCTTCTCCCTCGACGCACGCTCCTGCTACAGCCTCTTCCCTGTAAGCCAAAACTTGACTTACATCGAAGTGCCGCAGAACGTTGCGAACCGGGCGTCGACCGAAGTCCTGCAAAAGGTCACCCAGGGTAATTTTAACCTTGGTGTTGCTTTAGCAGAGGCCAGGTCGACAGCCTCACAACTCGCGACGCAAACCATTGCGCTCGTGAAGGCGTACACTGCCGCTCGTCGCGGTAATTGGCGCCAGGCGCTCCGCTACCTTGCCCTAAACGAAGATCGAAAGTTTCGATCAAAACACGTGGCCGGCAGGTGGTTGGAGTTGCAGTTCGGTTGGTTACCACTAATGAGTGATATCCAGGGTGCATATGAGATGCTTACGAAGGTTCACCTTCAAGAGTTTCTTCCTATGAGAGCCGTACGTCAGGTCGGTACTAACATCAAGTTAGATGGCCGTCTGTCGTATCCAGCTGCAAACTTCCAGACAACGTGCAACATATCGCGACGTATCGTGATATGGTTTTACATAAACGATGCACGTTTGGCATGGTTGTCGTCTCTAGGTATCTTGAACCCACTAGGTATAGTGTGGGAAAAGGTGCCTTTCTCATTCGTTGTCGACTGGCTCCTACCTGTAGGTAACATGCTCGAGGGCCTTACGGCCCCCGTGGGATGCTCCTACATGTCAGGAACAGTTACTGACGTAATAACGGGTGAGTCCATCATAAGCGTTGACGCTCCCTACGGGTGGACTGTGGAGAGACAGGGCACTGCTAAGGCCCAAATCTCAGCCATGCATCGAGGGGTACAATCCGTATGGCCAACAACTGGCGCGTACGTAAAGTCTCCTTTCTCGATGGTCCATACCTTAGATGCGTTAGCATTAATCAGGCAACGGCTCTCTAGATAGAGCCCTCAACCGGAGTTTGAAGCATGGCTTCTAACTTTACTCAGTTCGTTCTCGTCGACAATGGCGGAACTGGCGACGTGACTGTCGCCCCAAGCAACTTCGCTAACGGGGTCGCTGAATGGATCAGCTCTAACTCGCGTTCACAGGCTTACAAAGTAACCTGTAGCGTTCGTCAGAGCTCTGCGCAGAATCGCAAATACACCATCAAAGTCGAGGTGCCTAAAGTGGCAACCCAGACTGTTGGTGGTGTAGAGCTTCCTGTAGCCGCATGGCGTTCGTACTTAAATATGGAACTAACCATTCCAATTTTCGCTACGAATTCCGACTGCGAGCTTATTGTTAAGGCAATGCAAGGTCTCCTAAAAGATGGAAACCCGATTCCCTCAGCAATCGCAGCAAACTCCGGCATCTACTAATAGACGCCGGCCATTCAAACATGAGGATTACCCATGTCGAAGACAACAAAGAAGTTCAACTCTTTATGTATTGATCTTCCTCGCGATCTTTCTCTCGAAATTTACCAATCAATTGCTTCTGTCGCTACTGGAAGCGGTGATCCGCACAGTGACGACTTTACAGCAATTGCTTACTTAAGGGACGAATTGCTCACAAAGCATCCGACCTTAGGTTCTGGTAATGACGAGGCGACCCGTCGTACCTTAGCTATCGCTAAGCTACGGGAGGCGAATGGTGATCGCGGTCAGATAAATAGAGAAGGTTTCTTACATGACAAATCCTTGTCATGGGATCCGGATGTTTTACAAACCAGCATCCGTAGCCTTATTGGCAACCTCCTCTCTGGCTACCGATCGTCGTTGTTTGGGCAATGCACGTTCTCCAACGGTGCTCCTATGGGGCACAAGTTGCAGGATGCAGCGCCTTACAAGAAGTTCGCTGAACAAGCAACCGTTACCCCCCGCGCTCTGAGAGCGGCTCTATTGGTCCGAGACCAATGTGCGCCGTGGATCAGACACGCGGTCCGCTATAACGAGTCATATGAATTTAGGCTCGTTGTAGGGAACGGAGTGTTTACAGTTCCGAAGAATAATAAAATAGATCGGGCTGCCTGTAAGGAGCCTGATATGAATATGTACCTCCAGAAAGGGGTCGGTGCTTTCATCAGACGCCGGCTCAAATCCGTTGGTATAGACCTGAATGATCAATCGATCAACCAGCGTCTGGCTCAGCAGGGCAGCGTAGATGGTTCGCTTGCGACGATAGACTTATCGTCTGCATCCGATTCCATCTCCGATCGCCTGGTGTGGAGTTTTCTCCCACCAGAGCTATATTCATATCTCGATCGTATCCGCTCACACTACGGAATCGTAGATGGCGAGACGATACGATGGGAACTATTTTCCACAATGGGAAATGGGTTCACATTTGAGCTAGAGTCCATGATATTCTGGGCAATAGTCAAAGCGACCCAAATCCATTTTGGTAACGCCGGAACCATAGGCATCTACGGGGACGATATTATATGTCCCAGTGAGATTGCACCCCGTGTGCTAGAGGCACTTGCCTACTACGGTTTTAAACCGAATCTTCGTAAAACGTTCGTGTCCGGGCTCTTTCGCGAGAGCTGCGGCGCGCACTTTTACCGTGGTGTCGATGTCAAACCGTTTTACATCAAGAAACCTGTTGACAATCTCTTCGCCCTGATGCTGATATTAAATCGGCTACGGGGTTGGGGAGTTGTCGGAGGTATGTCAGATCCACGCCTCTATAAGGTGTGGGTACGGCTCTCCTCCCAGGTGCCTTCGATGTTCTTCGGTGGGACGGACCTCGCTGCCGACTACTACGTAGTCAGCCCGCCTACGGCAGTCTCGGTATACACCAAGACTCCGTACGGGCGGCTGCTCGCGGATACCCGTACCTCGGGTTTCCGTCTTGCTCGTATCGCTCGAGAACGCAAGTTCTTCAGCGAAAAGCACGACAGTGGTCGCTACATAGCGTGGTTCCATACTGGAGGTGAAATCACCGACAGCATGAAGTCCGCCGGCGTGCGCGTTATACGCACTTCGGAGTGGCTAACGCCGGTTCCCACATTCCCTCAGGAGTGTGGGCCAGCGAGCTCTCCTCGGTAGCTGACCGAGGGACCCCCGTAAACGGGGTGGGTGTGCTCGAAAGAGCACGGGTGCGAAAGCGGTCCGGCTCCACCGAAAGGTGGGCGGGCTTCGGCCCAGGGACCTCCCCCTAAAGAGAGGACCCGGGATTCTCCCGATTTGGTAACTAGCTGCTTGGCTAGTTACCACCCA\n"
     ]
    }
   ],
   "source": [
    "print(ID)\n",
    "print(Organism)\n",
    "print(Accession)\n",
    "print(Definition)\n",
    "print(Keywords)\n",
    "print(Sequence)"
   ]
  },
  {
   "cell_type": "code",
   "execution_count": 968,
   "metadata": {},
   "outputs": [],
   "source": [
    "try:\n",
    "        cur.execute(f\"\"\"\n",
    "                 INSERT INTO Genbank (ID, Organism, Accession, Definition, Keywords)    \n",
    "                VALUES (%s, %s, %s, %s, %s)\n",
    "                \"\"\",\n",
    "                        (ID, Organism, Accession, Definition, Keywords))\n",
    "except:\n",
    "        print(\"Erro Povoação Genbank\")"
   ]
  },
  {
   "attachments": {},
   "cell_type": "markdown",
   "metadata": {},
   "source": [
    "# Tabela Sequences  / Parte para Algoritmos"
   ]
  },
  {
   "cell_type": "code",
   "execution_count": 969,
   "metadata": {},
   "outputs": [],
   "source": [
    "alg_seq = Seq(Sequence).count_nucleotides()\n",
    "\n",
    "Count_A = alg_seq[0]\n",
    "Count_C = alg_seq[1]\n",
    "Count_G = alg_seq[2]\n",
    "Count_T = alg_seq[3]"
   ]
  },
  {
   "cell_type": "code",
   "execution_count": 970,
   "metadata": {},
   "outputs": [
    {
     "name": "stdout",
     "output_type": "stream",
     "text": [
      "V00642\n",
      "GGGTGGGACCCCTTTCGGGGTCCTGCTCAACTTCCTGTCGAGCTAATGCCATTTTTAATGTCTTTAGCGAGACGCTACCATGGCTATCGCTGTAGGTAGCCGGAATTCCATTCCTAGGAGGTTTGACCTGTGCGAGCTTTTAGTACCCTTGATAGGGAGAACGAGACCTTCGTCCCCTCCGTTCGCGTTTACGCGGACGGTGAGACTGAAGATAACTCATTCTCTTTAAAATATCGTTCGAACTGGACTCCCGGTCGTTTTAACTCGACTGGGGCCAAAACGAAACAGTGGCACTACCCCTCTCCGTATTCACGGGGGGCGTTAAGTGTCACATCGATAGATCAAGGTGCCTACAAGCGAAGTGGGTCATCGTGGGGTCGCCCGTACGAGGAGAAAGCCGGTTTCGGCTTCTCCCTCGACGCACGCTCCTGCTACAGCCTCTTCCCTGTAAGCCAAAACTTGACTTACATCGAAGTGCCGCAGAACGTTGCGAACCGGGCGTCGACCGAAGTCCTGCAAAAGGTCACCCAGGGTAATTTTAACCTTGGTGTTGCTTTAGCAGAGGCCAGGTCGACAGCCTCACAACTCGCGACGCAAACCATTGCGCTCGTGAAGGCGTACACTGCCGCTCGTCGCGGTAATTGGCGCCAGGCGCTCCGCTACCTTGCCCTAAACGAAGATCGAAAGTTTCGATCAAAACACGTGGCCGGCAGGTGGTTGGAGTTGCAGTTCGGTTGGTTACCACTAATGAGTGATATCCAGGGTGCATATGAGATGCTTACGAAGGTTCACCTTCAAGAGTTTCTTCCTATGAGAGCCGTACGTCAGGTCGGTACTAACATCAAGTTAGATGGCCGTCTGTCGTATCCAGCTGCAAACTTCCAGACAACGTGCAACATATCGCGACGTATCGTGATATGGTTTTACATAAACGATGCACGTTTGGCATGGTTGTCGTCTCTAGGTATCTTGAACCCACTAGGTATAGTGTGGGAAAAGGTGCCTTTCTCATTCGTTGTCGACTGGCTCCTACCTGTAGGTAACATGCTCGAGGGCCTTACGGCCCCCGTGGGATGCTCCTACATGTCAGGAACAGTTACTGACGTAATAACGGGTGAGTCCATCATAAGCGTTGACGCTCCCTACGGGTGGACTGTGGAGAGACAGGGCACTGCTAAGGCCCAAATCTCAGCCATGCATCGAGGGGTACAATCCGTATGGCCAACAACTGGCGCGTACGTAAAGTCTCCTTTCTCGATGGTCCATACCTTAGATGCGTTAGCATTAATCAGGCAACGGCTCTCTAGATAGAGCCCTCAACCGGAGTTTGAAGCATGGCTTCTAACTTTACTCAGTTCGTTCTCGTCGACAATGGCGGAACTGGCGACGTGACTGTCGCCCCAAGCAACTTCGCTAACGGGGTCGCTGAATGGATCAGCTCTAACTCGCGTTCACAGGCTTACAAAGTAACCTGTAGCGTTCGTCAGAGCTCTGCGCAGAATCGCAAATACACCATCAAAGTCGAGGTGCCTAAAGTGGCAACCCAGACTGTTGGTGGTGTAGAGCTTCCTGTAGCCGCATGGCGTTCGTACTTAAATATGGAACTAACCATTCCAATTTTCGCTACGAATTCCGACTGCGAGCTTATTGTTAAGGCAATGCAAGGTCTCCTAAAAGATGGAAACCCGATTCCCTCAGCAATCGCAGCAAACTCCGGCATCTACTAATAGACGCCGGCCATTCAAACATGAGGATTACCCATGTCGAAGACAACAAAGAAGTTCAACTCTTTATGTATTGATCTTCCTCGCGATCTTTCTCTCGAAATTTACCAATCAATTGCTTCTGTCGCTACTGGAAGCGGTGATCCGCACAGTGACGACTTTACAGCAATTGCTTACTTAAGGGACGAATTGCTCACAAAGCATCCGACCTTAGGTTCTGGTAATGACGAGGCGACCCGTCGTACCTTAGCTATCGCTAAGCTACGGGAGGCGAATGGTGATCGCGGTCAGATAAATAGAGAAGGTTTCTTACATGACAAATCCTTGTCATGGGATCCGGATGTTTTACAAACCAGCATCCGTAGCCTTATTGGCAACCTCCTCTCTGGCTACCGATCGTCGTTGTTTGGGCAATGCACGTTCTCCAACGGTGCTCCTATGGGGCACAAGTTGCAGGATGCAGCGCCTTACAAGAAGTTCGCTGAACAAGCAACCGTTACCCCCCGCGCTCTGAGAGCGGCTCTATTGGTCCGAGACCAATGTGCGCCGTGGATCAGACACGCGGTCCGCTATAACGAGTCATATGAATTTAGGCTCGTTGTAGGGAACGGAGTGTTTACAGTTCCGAAGAATAATAAAATAGATCGGGCTGCCTGTAAGGAGCCTGATATGAATATGTACCTCCAGAAAGGGGTCGGTGCTTTCATCAGACGCCGGCTCAAATCCGTTGGTATAGACCTGAATGATCAATCGATCAACCAGCGTCTGGCTCAGCAGGGCAGCGTAGATGGTTCGCTTGCGACGATAGACTTATCGTCTGCATCCGATTCCATCTCCGATCGCCTGGTGTGGAGTTTTCTCCCACCAGAGCTATATTCATATCTCGATCGTATCCGCTCACACTACGGAATCGTAGATGGCGAGACGATACGATGGGAACTATTTTCCACAATGGGAAATGGGTTCACATTTGAGCTAGAGTCCATGATATTCTGGGCAATAGTCAAAGCGACCCAAATCCATTTTGGTAACGCCGGAACCATAGGCATCTACGGGGACGATATTATATGTCCCAGTGAGATTGCACCCCGTGTGCTAGAGGCACTTGCCTACTACGGTTTTAAACCGAATCTTCGTAAAACGTTCGTGTCCGGGCTCTTTCGCGAGAGCTGCGGCGCGCACTTTTACCGTGGTGTCGATGTCAAACCGTTTTACATCAAGAAACCTGTTGACAATCTCTTCGCCCTGATGCTGATATTAAATCGGCTACGGGGTTGGGGAGTTGTCGGAGGTATGTCAGATCCACGCCTCTATAAGGTGTGGGTACGGCTCTCCTCCCAGGTGCCTTCGATGTTCTTCGGTGGGACGGACCTCGCTGCCGACTACTACGTAGTCAGCCCGCCTACGGCAGTCTCGGTATACACCAAGACTCCGTACGGGCGGCTGCTCGCGGATACCCGTACCTCGGGTTTCCGTCTTGCTCGTATCGCTCGAGAACGCAAGTTCTTCAGCGAAAAGCACGACAGTGGTCGCTACATAGCGTGGTTCCATACTGGAGGTGAAATCACCGACAGCATGAAGTCCGCCGGCGTGCGCGTTATACGCACTTCGGAGTGGCTAACGCCGGTTCCCACATTCCCTCAGGAGTGTGGGCCAGCGAGCTCTCCTCGGTAGCTGACCGAGGGACCCCCGTAAACGGGGTGGGTGTGCTCGAAAGAGCACGGGTGCGAAAGCGGTCCGGCTCCACCGAAAGGTGGGCGGGCTTCGGCCCAGGGACCTCCCCCTAAAGAGAGGACCCGGGATTCTCCCGATTTGGTAACTAGCTGCTTGGCTAGTTACCACCCA\n",
      "835\n",
      "933\n",
      "927\n",
      "874\n"
     ]
    }
   ],
   "source": [
    "print(ID)\n",
    "print(Sequence)\n",
    "print(Count_A)\n",
    "print(Count_C)\n",
    "print(Count_G)\n",
    "print(Count_T)"
   ]
  },
  {
   "cell_type": "code",
   "execution_count": 971,
   "metadata": {},
   "outputs": [],
   "source": [
    "try:\n",
    "\n",
    "        cur.execute(\"\"\"\n",
    "                INSERT INTO Sequences (ID, Sequence, Count_A, Count_C, Count_T, Count_G)    \n",
    "                VALUES (%s, %s, %s, %s, %s,%s)\n",
    "                \"\"\",\n",
    "                        (ID, Sequence, Count_A, Count_C, Count_T, Count_G))   \n",
    "\n",
    "except:\n",
    "        print(\"Erro Povoação Sequences\")"
   ]
  },
  {
   "attachments": {},
   "cell_type": "markdown",
   "metadata": {},
   "source": [
    "# Tabela Features"
   ]
  },
  {
   "cell_type": "code",
   "execution_count": 972,
   "metadata": {},
   "outputs": [],
   "source": [
    "temp_l = []\n",
    "for c in range(len(record.features)):\n",
    "    temp_l.append(record.features[c].type)\n",
    "\n",
    "y = Counter(temp_l)\n",
    "Gene = y[\"gene\"]\n",
    "# Regulatory = \n",
    "#(ID, CDS, Gene, Regulatory, exons, poli_A-site, misc_feature, mRNA))      # acabar esta parte dps  easy\n",
    "# so contar apartir daqui \n",
    "  # Counter({'gene': 5125, 'CDS': 4997, 'tRNA': 105, 'rRNA': 22, 'source': 1, 'tmRNA': 1})\n",
    "CDS_count = y[\"CDS\"]\n",
    "Regulatory = y[\"regulatory\"]\n",
    "exons = y[\"exons\"]\n",
    "poli_A_site = y[\"poli_A-site\"]                    #  poli_A-site\n",
    "misc_feature = y[\"misc_feature\"]\n",
    "mRNA = y[\"mRNA\"]\n",
    "Location_span = str(record.features[0].location)"
   ]
  },
  {
   "cell_type": "code",
   "execution_count": 973,
   "metadata": {},
   "outputs": [
    {
     "name": "stdout",
     "output_type": "stream",
     "text": [
      "V00642\n",
      "4\n",
      "0\n",
      "0\n",
      "0\n",
      "0\n",
      "0\n",
      "[0:3569](+)\n"
     ]
    }
   ],
   "source": [
    "print(ID)\n",
    "print(CDS_count)\n",
    "print(Gene)\n",
    "print(Regulatory)\n",
    "print(poli_A_site)\n",
    "print(misc_feature)\n",
    "print(mRNA)\n",
    "print(Location_span)"
   ]
  },
  {
   "cell_type": "code",
   "execution_count": 974,
   "metadata": {},
   "outputs": [
    {
     "name": "stdout",
     "output_type": "stream",
     "text": [
      "Erro Features\n"
     ]
    }
   ],
   "source": [
    "try:\n",
    "        cur.execute(\"\"\"\n",
    "        INSERT INTO Features (ID, CDS_count, Gene, Regulatory, exons, poli_A_site, misc_feature, mRNA, Location_span)    \n",
    "        VALUES (%s, %s, %s, %s, %s, %s, %s, %s, %s, %s)\n",
    "        \"\"\",\n",
    "                (ID, CDS_count, Gene, Regulatory, exons, poli_A_site, misc_feature, mRNA, Location_span)) \n",
    "except:\n",
    "        print(\"Erro Features\")"
   ]
  },
  {
   "cell_type": "code",
   "execution_count": 975,
   "metadata": {},
   "outputs": [],
   "source": [
    "cur.execute(\"\"\"\n",
    "        INSERT INTO Features (ID, CDS_count, Gene, Regulatory, exons, poli_A_site, misc_feature, mRNA, Location_span)    \n",
    "        VALUES (%s, %s, %s, %s, %s, %s, %s, %s, %s)\n",
    "        \"\"\",\n",
    "                (ID, CDS_count, Gene, Regulatory, exons, poli_A_site, misc_feature, mRNA, Location_span)) "
   ]
  },
  {
   "attachments": {},
   "cell_type": "markdown",
   "metadata": {},
   "source": [
    "# Tabela CDS"
   ]
  },
  {
   "cell_type": "code",
   "execution_count": 976,
   "metadata": {},
   "outputs": [],
   "source": [
    "# usar para dps\n",
    "CDS_list = []\n",
    "\n",
    "ID_cds = []\n",
    "Translacion_seq = []\n",
    "Localization = []\n",
    "ID_protein = []\n",
    "Protein = []\n",
    "for c in range(len(record.features)):\n",
    "    if record.features[c].type == \"CDS\":\n",
    "        CDS_list.append(record.features[c])\n",
    "\n",
    "# Translacion_seq\n",
    "for c in range(len(CDS_list)):\n",
    "    ID_cds.append(CDS_list[c])\n",
    "    Translacion_seq.append(CDS_list[c].qualifiers[\"translation\"])\n",
    "    Localization.append(CDS_list[c].location)\n",
    "    ID_protein.append(CDS_list[c].qualifiers[\"protein_id\"])\n",
    "    try:\n",
    "        Protein.append(CDS_list[c].qualifiers[\"product\"])\n",
    "    except:\n",
    "        Protein.append(\"------\")\n",
    "    \n"
   ]
  },
  {
   "cell_type": "code",
   "execution_count": 977,
   "metadata": {},
   "outputs": [
    {
     "name": "stdout",
     "output_type": "stream",
     "text": [
      "type: CDS\n",
      "location: [129:1311](+)\n",
      "qualifiers:\n",
      "    Key: codon_start, Value: ['1']\n",
      "    Key: db_xref, Value: ['GOA:P03610', 'InterPro:IPR005563', 'UniProtKB/Swiss-Prot:P03610']\n",
      "    Key: note, Value: ['unnamed protein product; A-protein']\n",
      "    Key: protein_id, Value: ['CAA23988.1']\n",
      "    Key: transl_table, Value: ['11']\n",
      "    Key: translation, Value: ['MRAFSTLDRENETFVPSVRVYADGETEDNSFSLKYRSNWTPGRFNSTGAKTKQWHYPSPYSRGALSVTSIDQGAYKRSGSSWGRPYEEKAGFGFSLDARSCYSLFPVSQNLTYIEVPQNVANRASTEVLQKVTQGNFNLGVALAEARSTASQLATQTIALVKAYTAARRGNWRQALRYLALNEDRKFRSKHVAGRWLELQFGWLPLMSDIQGAYEMLTKVHLQEFLPMRAVRQVGTNIKLDGRLSYPAANFQTTCNISRRIVIWFYINDARLAWLSSLGILNPLGIVWEKVPFSFVVDWLLPVGNMLEGLTAPVGCSYMSGTVTDVITGESIISVDAPYGWTVERQGTAKAQISAMHRGVQSVWPTTGAYVKSPFSMVHTLDALALIRQRLSR']\n",
      "\n",
      "\n",
      "['MRAFSTLDRENETFVPSVRVYADGETEDNSFSLKYRSNWTPGRFNSTGAKTKQWHYPSPYSRGALSVTSIDQGAYKRSGSSWGRPYEEKAGFGFSLDARSCYSLFPVSQNLTYIEVPQNVANRASTEVLQKVTQGNFNLGVALAEARSTASQLATQTIALVKAYTAARRGNWRQALRYLALNEDRKFRSKHVAGRWLELQFGWLPLMSDIQGAYEMLTKVHLQEFLPMRAVRQVGTNIKLDGRLSYPAANFQTTCNISRRIVIWFYINDARLAWLSSLGILNPLGIVWEKVPFSFVVDWLLPVGNMLEGLTAPVGCSYMSGTVTDVITGESIISVDAPYGWTVERQGTAKAQISAMHRGVQSVWPTTGAYVKSPFSMVHTLDALALIRQRLSR']\n",
      "\n",
      "[129:1311](+)\n",
      "\n",
      "['CAA23988.1']\n",
      "\n",
      "------\n",
      "\n",
      "\n",
      "type: CDS\n",
      "location: [1334:1727](+)\n",
      "qualifiers:\n",
      "    Key: codon_start, Value: ['1']\n",
      "    Key: db_xref, Value: ['GOA:P03612', 'InterPro:IPR002703', 'InterPro:IPR015954', 'PDB:1AQ3', 'PDB:1AQ4', 'PDB:1BMS', 'PDB:1MSC', 'PDB:1MST', 'PDB:1MVA', 'PDB:1MVB', 'PDB:1U1Y', 'PDB:1ZDH', 'PDB:1ZDI', 'PDB:1ZDJ', 'PDB:1ZDK', 'PDB:1ZSE', 'PDB:2B2D', 'PDB:2B2E', 'PDB:2B2G', 'PDB:2BNY', 'PDB:2BQ5', 'PDB:2BS0', 'PDB:2BS1', 'PDB:2BU1', 'PDB:2C4Q', 'PDB:2C4Y', 'PDB:2C4Z', 'PDB:2C50', 'PDB:2C51', 'PDB:2IZ8', 'PDB:2IZ9', 'PDB:2IZM', 'PDB:2IZN', 'PDB:2MS2', 'PDB:2VTU', 'PDB:2WBH', 'PDB:5MSF', 'PDB:6MSF', 'PDB:7MSF', 'UniProtKB/Swiss-Prot:P03612']\n",
      "    Key: note, Value: ['unnamed protein product; coat protein']\n",
      "    Key: protein_id, Value: ['CAA23989.1']\n",
      "    Key: transl_table, Value: ['11']\n",
      "    Key: translation, Value: ['MASNFTQFVLVDNGGTGDVTVAPSNFANGVAEWISSNSRSQAYKVTCSVRQSSAQNRKYTIKVEVPKVATQTVGGVELPVAAWRSYLNMELTIPIFATNSDCELIVKAMQGLLKDGNPIPSAIAANSGIY']\n",
      "\n",
      "\n",
      "['MASNFTQFVLVDNGGTGDVTVAPSNFANGVAEWISSNSRSQAYKVTCSVRQSSAQNRKYTIKVEVPKVATQTVGGVELPVAAWRSYLNMELTIPIFATNSDCELIVKAMQGLLKDGNPIPSAIAANSGIY']\n",
      "\n",
      "[1334:1727](+)\n",
      "\n",
      "['CAA23989.1']\n",
      "\n",
      "------\n",
      "\n",
      "\n",
      "type: CDS\n",
      "location: [1677:1905](+)\n",
      "qualifiers:\n",
      "    Key: codon_start, Value: ['1']\n",
      "    Key: db_xref, Value: ['GOA:P03609', 'InterPro:IPR022599', 'UniProtKB/Swiss-Prot:P03609']\n",
      "    Key: note, Value: ['unnamed protein product; L-protein']\n",
      "    Key: protein_id, Value: ['CAA23990.1']\n",
      "    Key: transl_table, Value: ['11']\n",
      "    Key: translation, Value: ['METRFPQQSQQTPASTNRRRPFKHEDYPCRRQQRSSTLYVLIFLAIFLSKFTNQLLLSLLEAVIRTVTTLQQLLT']\n",
      "\n",
      "\n",
      "['METRFPQQSQQTPASTNRRRPFKHEDYPCRRQQRSSTLYVLIFLAIFLSKFTNQLLLSLLEAVIRTVTTLQQLLT']\n",
      "\n",
      "[1677:1905](+)\n",
      "\n",
      "['CAA23990.1']\n",
      "\n",
      "------\n",
      "\n",
      "\n",
      "type: CDS\n",
      "location: [1760:3398](+)\n",
      "qualifiers:\n",
      "    Key: codon_start, Value: ['1']\n",
      "    Key: db_xref, Value: ['GOA:P00585', 'InterPro:IPR005093', 'InterPro:IPR007096', 'UniProtKB/Swiss-Prot:P00585']\n",
      "    Key: note, Value: ['unnamed protein product; replicase, beta subunit']\n",
      "    Key: protein_id, Value: ['CAA23991.1']\n",
      "    Key: transl_table, Value: ['11']\n",
      "    Key: translation, Value: ['MSKTTKKFNSLCIDLPRDLSLEIYQSIASVATGSGDPHSDDFTAIAYLRDELLTKHPTLGSGNDEATRRTLAIAKLREANGDRGQINREGFLHDKSLSWDPDVLQTSIRSLIGNLLSGYRSSLFGQCTFSNGAPMGHKLQDAAPYKKFAEQATVTPRALRAALLVRDQCAPWIRHAVRYNESYEFRLVVGNGVFTVPKNNKIDRAACKEPDMNMYLQKGVGAFIRRRLKSVGIDLNDQSINQRLAQQGSVDGSLATIDLSSASDSISDRLVWSFLPPELYSYLDRIRSHYGIVDGETIRWELFSTMGNGFTFELESMIFWAIVKATQIHFGNAGTIGIYGDDIICPSEIAPRVLEALAYYGFKPNLRKTFVSGLFRESCGAHFYRGVDVKPFYIKKPVDNLFALMLILNRLRGWGVVGGMSDPRLYKVWVRLSSQVPSMFFGGTDLAADYYVVSPPTAVSVYTKTPYGRLLADTRTSGFRLARIARERKFFSEKHDSGRYIAWFHTGGEITDSMKSAGVRVIRTSEWLTPVPTFPQECGPASSPR']\n",
      "\n",
      "\n",
      "['MSKTTKKFNSLCIDLPRDLSLEIYQSIASVATGSGDPHSDDFTAIAYLRDELLTKHPTLGSGNDEATRRTLAIAKLREANGDRGQINREGFLHDKSLSWDPDVLQTSIRSLIGNLLSGYRSSLFGQCTFSNGAPMGHKLQDAAPYKKFAEQATVTPRALRAALLVRDQCAPWIRHAVRYNESYEFRLVVGNGVFTVPKNNKIDRAACKEPDMNMYLQKGVGAFIRRRLKSVGIDLNDQSINQRLAQQGSVDGSLATIDLSSASDSISDRLVWSFLPPELYSYLDRIRSHYGIVDGETIRWELFSTMGNGFTFELESMIFWAIVKATQIHFGNAGTIGIYGDDIICPSEIAPRVLEALAYYGFKPNLRKTFVSGLFRESCGAHFYRGVDVKPFYIKKPVDNLFALMLILNRLRGWGVVGGMSDPRLYKVWVRLSSQVPSMFFGGTDLAADYYVVSPPTAVSVYTKTPYGRLLADTRTSGFRLARIARERKFFSEKHDSGRYIAWFHTGGEITDSMKSAGVRVIRTSEWLTPVPTFPQECGPASSPR']\n",
      "\n",
      "[1760:3398](+)\n",
      "\n",
      "['CAA23991.1']\n",
      "\n",
      "------\n",
      "\n",
      "\n"
     ]
    }
   ],
   "source": [
    "for c in range(len(ID_cds)):\n",
    "    print(ID_cds[c])\n",
    "    print()\n",
    "    print(Translacion_seq[c])\n",
    "    print()\n",
    "    print(Localization[c])\n",
    "    print()\n",
    "    print(ID_protein[c])\n",
    "    print()\n",
    "    print(Protein[c])\n",
    "    print()\n",
    "    print()\n"
   ]
  },
  {
   "cell_type": "code",
   "execution_count": 978,
   "metadata": {},
   "outputs": [],
   "source": [
    "num_list = 0                            # cdc ID que falta ver\n",
    "for c in range(len(ID_cds)):\n",
    "        cur.execute(\"\"\"\n",
    "                INSERT INTO CDS (ID, Translacion_seq, Localization, ID_protein, Protein)    \n",
    "                VALUES (%s, %s, %s, %s, %s)\n",
    "                \"\"\",\n",
    "                (ID + f\"_{num_list}\", str(Translacion_seq[num_list]), str(Localization[num_list]), str(ID_protein[num_list]), str(Protein[num_list]))) \n",
    "        num_list += 1"
   ]
  },
  {
   "attachments": {},
   "cell_type": "markdown",
   "metadata": {},
   "source": [
    "# Tabela References"
   ]
  },
  {
   "cell_type": "code",
   "execution_count": 979,
   "metadata": {},
   "outputs": [],
   "source": [
    "def get_authors(a):\n",
    "    exis_5 = re.search(r\"authors:\\s+([\\w\\s,\\.-]+)\", a)          #dúvida (como é que o ciclo sabe se isto está vazio ou não)       \n",
    "    if exis_5:\n",
    "        Authors = []\n",
    "        Authors_work = []\n",
    "        y = re.search(r\"authors:\\s+([\\w\\s,\\.-]+)\", a)    # isto aqui é o remark\n",
    "        Authors_work.append(y.group(1))\n",
    "        # else:\n",
    "        #     Consortium.append(\"------\")\n",
    "        help_authors = [] \n",
    "        Authors = str(Authors_work[0]).split(\"., \")\n",
    "        for i, c in enumerate(Authors):\n",
    "            f = c.split(\" and \")\n",
    "            help_authors.append([i, f])\n",
    "        c = len(Authors)\n",
    "        i = 0\n",
    "        while c > 0:\n",
    "            if len(help_authors[i][1]) > 1:\n",
    "                Authors.remove(Authors[i])\n",
    "                for o in help_authors[i][1]:\n",
    "                    Authors.append(o)\n",
    "\n",
    "            c -= 1\n",
    "            i += 1\n",
    "    else:\n",
    "        Authors = []\n",
    "\n",
    "    return Authors\n",
    "\n"
   ]
  },
  {
   "cell_type": "code",
   "execution_count": 980,
   "metadata": {},
   "outputs": [],
   "source": [
    "# referencias  # faz parte do PubMed INfo\n",
    "Pubmed = []\n",
    "Title = []\n",
    "Journal = []\n",
    "Consortium = []\n",
    "Remark = []\n",
    "Authors = []\n",
    "b = \"\"\n",
    "pubmed_trash = record.annotations[\"references\"]    # resolver isto \n",
    "c = len(pubmed_trash)\n",
    "i = 0\n",
    "while c > 0:\n",
    "    a = str(pubmed_trash[i]).replace(\"\\n\", \"§\")   \n",
    "    \n",
    "    exist_3 = re.search(r\"pubmed id:\\s+(\\d+)\", a)\n",
    "    if exist_3:\n",
    "        m = re.search(r\"pubmed id:\\s+(\\d+)\", a)                 # COnfirmar PubMEd haver sempre/nao\n",
    "        Pubmed.append(m.group(1))\n",
    "    else:\n",
    "        Pubmed.append(\"None\")\n",
    "\n",
    "    \n",
    "    n = re.search(r\"title:\\s+([\\w\\s]+)\", a)\n",
    "    Title.append(n.group(1))\n",
    "\n",
    "    exist_2 = re.search(r\"journal:\\s+([\\w\\s.()--,]+)\", a)\n",
    "    if exist_2:\n",
    "        j = re.search(r\"journal:\\s+([\\w\\s.()--,]+)\", a)\n",
    "        Journal.append(j.group(1))\n",
    "    else:\n",
    "        Journal.append(\"None\")\n",
    "\n",
    "    exis = re.search(r\"consrtm:\\s+([\\w\\s]+)\", a)\n",
    "    if exis:\n",
    "        k = re.search(r\"consrtm:\\s+([\\w\\s]+)\", a)    # isto aqui é o remark\n",
    "        Consortium.append(k.group(1))\n",
    "    else:\n",
    "        Consortium.append(\"None\")         # ter cuidado com isto dps\n",
    "    \n",
    "\n",
    "    exis_1 = re.search(r\"pubmed id:\\s+\\d+§comment:\\s+([\\w\\s\\d])\", a)\n",
    "    if exis_1:\n",
    "        l = re.search(r\"pubmed id:\\s+\\d+§comment:\\s+([\\w\\d\\s:\\[;\\(\\)\\.,!?<>{}\\\"]+)\", a)\n",
    "        Remark.append(l.group(1))\n",
    "    else:\n",
    "        Remark.append(\"None\") \n",
    "\n",
    "    Authors.append(get_authors(a))\n",
    "\n",
    "\n",
    "    \n",
    "    c -= 1\n",
    "    i += 1"
   ]
  },
  {
   "cell_type": "code",
   "execution_count": 981,
   "metadata": {},
   "outputs": [
    {
     "name": "stdout",
     "output_type": "stream",
     "text": [
      "V00642\n",
      "['5125360', '4555447', '11946702', '809766', '806810', '1264203', 'None', '387256', '2462433', '7934914', 'None']\n",
      "[['de Wachter,R', 'Merregaert,J', 'Vandenberghe,A', 'Contreras,R.', 'Fiers,W.'], ['Min Jou,W', 'Haegeman,G', 'Ysebaert,M.', 'Fiers,W.'], ['Contreras,R', 'Vandenberghe,A', 'Volckaert,G', 'Min Jou,W.', 'Fiers,W.'], ['Vandenberghe,A', 'Min Jou,W.', 'Fiers,W.'], ['Fiers,W', 'Contreras,R', 'Duerinck,F', 'Haegmean,G', 'Merregaert,J', 'Jou,W.M', 'Raeymakers,A', 'Volckaert,G', 'Ysebaert,M', 'Van de Kerckhove,J', 'Nolf,F.', 'Van Montagu,M.'], ['Fiers,W', 'Contreras,R', 'Duerinck,F', 'Haegeman,G', 'Iserentant,D', 'Merregaert,J', 'Min Jou,W', 'Molemans,F', 'Raeymaekers,A', 'Van den Berghe,A', 'Volckaert,G.', 'Ysebaert,M.'], ['Schwartz,R.M.', 'Dayhoff,M.O.'], ['Beremand,M.N.', 'Blumenthal,T.'], ['Auerswald,E.A', 'Horlein,D', 'Reinhardt,G', 'Schroder,W.', 'Schnabel,E.'], ['de Smit,M.H.', 'van Duin,J.'], ['Min Jou,W.']]\n",
      "['Studies on the bacteriophage MS2', 'Nucleotide sequence of the gene coding for the bacteriophage MS2 coat protein', 'Studies on the bacteriophage MS2', '3', 'A', 'Complete nucleotide sequence of bacteriophage MS2 RNA', 'Genome Nucleic Acids', 'Overlapping genes in RNA phage', 'Expression', 'Translational initiation at the coat', 'Direct Submission']\n",
      "['Eur. J. Biochem. 22 (3), 400-414 (1971)', 'Nature 237 (5350), 82-88 (1972)', 'FEBS Lett. 24 (3), 339-342 (1972)', 'Proc. Natl. Acad. Sci. U.S.A. 72 (7), 2559-2562 (1975)', 'Nature 256 (5515), 273-278 (1975)', 'Nature 260 (5551), 500-507 (1976)', '(in) Dayhoff,M.O. (Ed.)', 'Cell 18 (2), 257-266 (1979)', 'Biol. Chem. Hoppe-Seyler 369 (SUPPL), 27-35 (1988)', 'Mol. Microbiol. 9 (5), 1079-1088 (1993)', 'Submitted (13-JAN-1983)']\n",
      "['None', 'None', 'None', 'None', 'None', 'None', 'None', 'None', 'None', 'None', 'None']\n",
      "['None', 'None', 'None', 'None', 'None', 'None', 'None', 'identification of l', 'None', 'None', 'None']\n"
     ]
    }
   ],
   "source": [
    "print(ID)\n",
    "print(Pubmed)\n",
    "print(Authors)\n",
    "print(Title)\n",
    "print(Journal)\n",
    "print(Consortium)\n",
    "print(Remark)"
   ]
  },
  {
   "cell_type": "code",
   "execution_count": 982,
   "metadata": {},
   "outputs": [
    {
     "ename": "ProgrammingError",
     "evalue": "1064 (42000): You have an error in your SQL syntax; check the manual that corresponds to your MySQL server version for the right syntax to use near 'References (ID, Pubmed, ID_authors, Title, Journal, Consortium, Remark)\n        ' at line 1",
     "output_type": "error",
     "traceback": [
      "\u001b[0;31m---------------------------------------------------------------------------\u001b[0m",
      "\u001b[0;31mMySQLInterfaceError\u001b[0m                       Traceback (most recent call last)",
      "File \u001b[0;32m~/anaconda3/envs/mestrado_final/lib/python3.9/site-packages/mysql/connector/connection_cext.py:565\u001b[0m, in \u001b[0;36mCMySQLConnection.cmd_query\u001b[0;34m(self, query, raw, buffered, raw_as_string)\u001b[0m\n\u001b[1;32m    564\u001b[0m         query \u001b[39m=\u001b[39m query\u001b[39m.\u001b[39mencode(\u001b[39m\"\u001b[39m\u001b[39mutf-8\u001b[39m\u001b[39m\"\u001b[39m)\n\u001b[0;32m--> 565\u001b[0m     \u001b[39mself\u001b[39;49m\u001b[39m.\u001b[39;49m_cmysql\u001b[39m.\u001b[39;49mquery(\n\u001b[1;32m    566\u001b[0m         query,\n\u001b[1;32m    567\u001b[0m         raw\u001b[39m=\u001b[39;49mraw,\n\u001b[1;32m    568\u001b[0m         buffered\u001b[39m=\u001b[39;49mbuffered,\n\u001b[1;32m    569\u001b[0m         raw_as_string\u001b[39m=\u001b[39;49mraw_as_string,\n\u001b[1;32m    570\u001b[0m         query_attrs\u001b[39m=\u001b[39;49m\u001b[39mself\u001b[39;49m\u001b[39m.\u001b[39;49m_query_attrs,\n\u001b[1;32m    571\u001b[0m     )\n\u001b[1;32m    572\u001b[0m \u001b[39mexcept\u001b[39;00m MySQLInterfaceError \u001b[39mas\u001b[39;00m err:\n",
      "\u001b[0;31mMySQLInterfaceError\u001b[0m: You have an error in your SQL syntax; check the manual that corresponds to your MySQL server version for the right syntax to use near 'References (ID, Pubmed, ID_authors, Title, Journal, Consortium, Remark)\n        ' at line 1",
      "\nThe above exception was the direct cause of the following exception:\n",
      "\u001b[0;31mProgrammingError\u001b[0m                          Traceback (most recent call last)",
      "\u001b[1;32m/home/sa_bruno/Documentos/GitHub/Projeto_Algoritmos-Introducao/IAP/Final/Final.ipynb Cell 35\u001b[0m in \u001b[0;36m<cell line: 2>\u001b[0;34m()\u001b[0m\n\u001b[1;32m      <a href='vscode-notebook-cell:/home/sa_bruno/Documentos/GitHub/Projeto_Algoritmos-Introducao/IAP/Final/Final.ipynb#X46sZmlsZQ%3D%3D?line=0'>1</a>\u001b[0m reference_count \u001b[39m=\u001b[39m \u001b[39m0\u001b[39m                  \u001b[39m# erro weird \u001b[39;00m\n\u001b[1;32m      <a href='vscode-notebook-cell:/home/sa_bruno/Documentos/GitHub/Projeto_Algoritmos-Introducao/IAP/Final/Final.ipynb#X46sZmlsZQ%3D%3D?line=1'>2</a>\u001b[0m \u001b[39mfor\u001b[39;00m c \u001b[39min\u001b[39;00m Pubmed:    \n\u001b[0;32m----> <a href='vscode-notebook-cell:/home/sa_bruno/Documentos/GitHub/Projeto_Algoritmos-Introducao/IAP/Final/Final.ipynb#X46sZmlsZQ%3D%3D?line=2'>3</a>\u001b[0m         cur\u001b[39m.\u001b[39;49mexecute(\u001b[39m\"\"\"\u001b[39;49m\n\u001b[1;32m      <a href='vscode-notebook-cell:/home/sa_bruno/Documentos/GitHub/Projeto_Algoritmos-Introducao/IAP/Final/Final.ipynb#X46sZmlsZQ%3D%3D?line=3'>4</a>\u001b[0m \u001b[39m                INSERT INTO References (ID, Pubmed, ID_authors, Title, Journal, Consortium, Remark)\u001b[39;49m\n\u001b[1;32m      <a href='vscode-notebook-cell:/home/sa_bruno/Documentos/GitHub/Projeto_Algoritmos-Introducao/IAP/Final/Final.ipynb#X46sZmlsZQ%3D%3D?line=4'>5</a>\u001b[0m \u001b[39m                VALUES (\u001b[39;49m\u001b[39m%s\u001b[39;49;00m\u001b[39m, \u001b[39;49m\u001b[39m%s\u001b[39;49;00m\u001b[39m, \u001b[39;49m\u001b[39m%s\u001b[39;49;00m\u001b[39m, \u001b[39;49m\u001b[39m%s\u001b[39;49;00m\u001b[39m, \u001b[39;49m\u001b[39m%s\u001b[39;49;00m\u001b[39m, \u001b[39;49m\u001b[39m%s\u001b[39;49;00m\u001b[39m, \u001b[39;49m\u001b[39m%s\u001b[39;49;00m\u001b[39m)\u001b[39;49m\n\u001b[1;32m      <a href='vscode-notebook-cell:/home/sa_bruno/Documentos/GitHub/Projeto_Algoritmos-Introducao/IAP/Final/Final.ipynb#X46sZmlsZQ%3D%3D?line=5'>6</a>\u001b[0m \u001b[39m                \u001b[39;49m\u001b[39m\"\"\"\u001b[39;49m,\n\u001b[1;32m      <a href='vscode-notebook-cell:/home/sa_bruno/Documentos/GitHub/Projeto_Algoritmos-Introducao/IAP/Final/Final.ipynb#X46sZmlsZQ%3D%3D?line=6'>7</a>\u001b[0m                 (ID \u001b[39m+\u001b[39;49m \u001b[39mf\u001b[39;49m\u001b[39m\"\u001b[39;49m\u001b[39m_\u001b[39;49m\u001b[39m{\u001b[39;49;00mreference_count\u001b[39m}\u001b[39;49;00m\u001b[39m\"\u001b[39;49m, \u001b[39mstr\u001b[39;49m(Pubmed[reference_count]), \u001b[39mstr\u001b[39;49m(Authors[reference_count]), \u001b[39mstr\u001b[39;49m(Title[reference_count]), \u001b[39mstr\u001b[39;49m(Journal[reference_count]), \u001b[39mstr\u001b[39;49m(Consortium[reference_count]), \u001b[39mstr\u001b[39;49m(Remark[reference_count])))\n\u001b[1;32m      <a href='vscode-notebook-cell:/home/sa_bruno/Documentos/GitHub/Projeto_Algoritmos-Introducao/IAP/Final/Final.ipynb#X46sZmlsZQ%3D%3D?line=7'>8</a>\u001b[0m         reference_count \u001b[39m+\u001b[39m\u001b[39m=\u001b[39m \u001b[39m1\u001b[39m\n",
      "File \u001b[0;32m~/anaconda3/envs/mestrado_final/lib/python3.9/site-packages/mysql/connector/cursor_cext.py:279\u001b[0m, in \u001b[0;36mCMySQLCursor.execute\u001b[0;34m(self, operation, params, multi)\u001b[0m\n\u001b[1;32m    274\u001b[0m             \u001b[39mraise\u001b[39;00m ProgrammingError(\n\u001b[1;32m    275\u001b[0m                 \u001b[39m\"\u001b[39m\u001b[39mNot all parameters were used in the SQL statement\u001b[39m\u001b[39m\"\u001b[39m\n\u001b[1;32m    276\u001b[0m             )\n\u001b[1;32m    278\u001b[0m \u001b[39mtry\u001b[39;00m:\n\u001b[0;32m--> 279\u001b[0m     result \u001b[39m=\u001b[39m \u001b[39mself\u001b[39;49m\u001b[39m.\u001b[39;49m_cnx\u001b[39m.\u001b[39;49mcmd_query(\n\u001b[1;32m    280\u001b[0m         stmt,\n\u001b[1;32m    281\u001b[0m         raw\u001b[39m=\u001b[39;49m\u001b[39mself\u001b[39;49m\u001b[39m.\u001b[39;49m_raw,\n\u001b[1;32m    282\u001b[0m         buffered\u001b[39m=\u001b[39;49m\u001b[39mself\u001b[39;49m\u001b[39m.\u001b[39;49m_buffered,\n\u001b[1;32m    283\u001b[0m         raw_as_string\u001b[39m=\u001b[39;49m\u001b[39mself\u001b[39;49m\u001b[39m.\u001b[39;49m_raw_as_string,\n\u001b[1;32m    284\u001b[0m     )\n\u001b[1;32m    285\u001b[0m \u001b[39mexcept\u001b[39;00m MySQLInterfaceError \u001b[39mas\u001b[39;00m err:\n\u001b[1;32m    286\u001b[0m     \u001b[39mraise\u001b[39;00m get_mysql_exception(\n\u001b[1;32m    287\u001b[0m         msg\u001b[39m=\u001b[39merr\u001b[39m.\u001b[39mmsg, errno\u001b[39m=\u001b[39merr\u001b[39m.\u001b[39merrno, sqlstate\u001b[39m=\u001b[39merr\u001b[39m.\u001b[39msqlstate\n\u001b[1;32m    288\u001b[0m     ) \u001b[39mfrom\u001b[39;00m \u001b[39merr\u001b[39;00m\n",
      "File \u001b[0;32m~/anaconda3/envs/mestrado_final/lib/python3.9/site-packages/mysql/connector/connection_cext.py:573\u001b[0m, in \u001b[0;36mCMySQLConnection.cmd_query\u001b[0;34m(self, query, raw, buffered, raw_as_string)\u001b[0m\n\u001b[1;32m    565\u001b[0m     \u001b[39mself\u001b[39m\u001b[39m.\u001b[39m_cmysql\u001b[39m.\u001b[39mquery(\n\u001b[1;32m    566\u001b[0m         query,\n\u001b[1;32m    567\u001b[0m         raw\u001b[39m=\u001b[39mraw,\n\u001b[0;32m   (...)\u001b[0m\n\u001b[1;32m    570\u001b[0m         query_attrs\u001b[39m=\u001b[39m\u001b[39mself\u001b[39m\u001b[39m.\u001b[39m_query_attrs,\n\u001b[1;32m    571\u001b[0m     )\n\u001b[1;32m    572\u001b[0m \u001b[39mexcept\u001b[39;00m MySQLInterfaceError \u001b[39mas\u001b[39;00m err:\n\u001b[0;32m--> 573\u001b[0m     \u001b[39mraise\u001b[39;00m get_mysql_exception(\n\u001b[1;32m    574\u001b[0m         err\u001b[39m.\u001b[39merrno, msg\u001b[39m=\u001b[39merr\u001b[39m.\u001b[39mmsg, sqlstate\u001b[39m=\u001b[39merr\u001b[39m.\u001b[39msqlstate\n\u001b[1;32m    575\u001b[0m     ) \u001b[39mfrom\u001b[39;00m \u001b[39merr\u001b[39;00m\n\u001b[1;32m    576\u001b[0m \u001b[39mexcept\u001b[39;00m \u001b[39mAttributeError\u001b[39;00m \u001b[39mas\u001b[39;00m err:\n\u001b[1;32m    577\u001b[0m     addr \u001b[39m=\u001b[39m (\n\u001b[1;32m    578\u001b[0m         \u001b[39mself\u001b[39m\u001b[39m.\u001b[39m_unix_socket \u001b[39mif\u001b[39;00m \u001b[39mself\u001b[39m\u001b[39m.\u001b[39m_unix_socket \u001b[39melse\u001b[39;00m \u001b[39mf\u001b[39m\u001b[39m\"\u001b[39m\u001b[39m{\u001b[39;00m\u001b[39mself\u001b[39m\u001b[39m.\u001b[39m_host\u001b[39m}\u001b[39;00m\u001b[39m:\u001b[39m\u001b[39m{\u001b[39;00m\u001b[39mself\u001b[39m\u001b[39m.\u001b[39m_port\u001b[39m}\u001b[39;00m\u001b[39m\"\u001b[39m\n\u001b[1;32m    579\u001b[0m     )\n",
      "\u001b[0;31mProgrammingError\u001b[0m: 1064 (42000): You have an error in your SQL syntax; check the manual that corresponds to your MySQL server version for the right syntax to use near 'References (ID, Pubmed, ID_authors, Title, Journal, Consortium, Remark)\n        ' at line 1"
     ]
    }
   ],
   "source": [
    "reference_count = 0                  # erro weird \n",
    "for c in Pubmed:    \n",
    "        cur.execute(\"\"\"\n",
    "                INSERT INTO References (ID, Pubmed, ID_authors, Title, Journal, Consortium, Remark)\n",
    "                VALUES (%s, %s, %s, %s, %s, %s, %s)\n",
    "                \"\"\",\n",
    "                (ID + f\"_{reference_count}\", str(Pubmed[reference_count]), str(Authors[reference_count]), str(Title[reference_count]), str(Journal[reference_count]), str(Consortium[reference_count]), str(Remark[reference_count])))\n",
    "        reference_count += 1"
   ]
  },
  {
   "attachments": {},
   "cell_type": "markdown",
   "metadata": {},
   "source": [
    "# Tabela Authors\n"
   ]
  },
  {
   "cell_type": "code",
   "execution_count": 983,
   "metadata": {},
   "outputs": [],
   "source": [
    "for c in Authors:\n",
    "        for i, a in enumerate(c):\n",
    "                cur.execute(\"\"\"\n",
    "        INSERT INTO Authors (ID_authors, Names)    \n",
    "        VALUES (%s, %s)\n",
    "        \"\"\",\n",
    "                (str(c) + f\"_{i}\", str(a)))"
   ]
  },
  {
   "attachments": {},
   "cell_type": "markdown",
   "metadata": {},
   "source": [
    "# Tabela Pubmed_Info"
   ]
  },
  {
   "cell_type": "code",
   "execution_count": 984,
   "metadata": {},
   "outputs": [],
   "source": [
    "Abstract = []                        # mudar para cada referenias \n",
    "DOI = []\n",
    "Affiliation = []\n",
    "for c in Pubmed:\n",
    "    if c != \"None\":\n",
    "        Entrez.email = 'sa.bruno.2001@gmail.com'\n",
    "        # handle = Entrez.efetch(db='pubmed',retmode='xml',id=\"15496913\")\n",
    "        handle = Entrez.efetch(db='pubmed',retmode='xml',id=c)\n",
    "        resultado = Entrez.read(handle)\n",
    "        q = str(resultado[\"PubmedArticle\"][0])\n",
    "        \n",
    "        if re.search(r\"AbstractText.:\\s+\\['([\\w\\s,\\.\\(\\)%-:]+)\", q):\n",
    "            o = re.search(r\"AbstractText.:\\s+\\['([\\w\\s,\\.\\(\\)%-:]+)\", q)\n",
    "            Abstract.append(o.group(1))\n",
    "        else:\n",
    "            Abstract.append(\"None\")\n",
    "        \n",
    "        if re.search(r\"'pubmed'}.,\\s+StringElement.'([\\d\\w\\./]+)\" , q):\n",
    "            p = re.search(r\"'pubmed'}.,\\s+StringElement.'([\\d\\w\\./]+)\" , q)\n",
    "            DOI.append(p.group(1))\n",
    "        else:\n",
    "            DOI.append(\"None\")\n",
    "\n",
    "        if re.search(r\"'Affiliation':\\s+'([,\\s\\d\\w\\./]+)\" , q):\n",
    "            t = re.search(r\"'Affiliation':\\s+'([,\\s\\d\\w\\./]+)\" , q)\n",
    "            Affiliation.append(t.group(1))\n",
    "        else:\n",
    "            Affiliation.append(\"None\")\n",
    "    if c == \"None\":\n",
    "            Abstract.append(\"None\")\n",
    "            DOI.append(\"None\")\n",
    "            Affiliation.append(\"None\")\n",
    "\n"
   ]
  },
  {
   "cell_type": "code",
   "execution_count": 985,
   "metadata": {},
   "outputs": [
    {
     "name": "stdout",
     "output_type": "stream",
     "text": [
      "['5125360', '4555447', '11946702', '809766', '806810', '1264203', 'None', '387256', '2462433', '7934914', 'None']\n",
      "['Studies on the bacteriophage MS2', 'Nucleotide sequence of the gene coding for the bacteriophage MS2 coat protein', 'Studies on the bacteriophage MS2', '3', 'A', 'Complete nucleotide sequence of bacteriophage MS2 RNA', 'Genome Nucleic Acids', 'Overlapping genes in RNA phage', 'Expression', 'Translational initiation at the coat', 'Direct Submission']\n",
      "['None', 'None', 'None', 'None', 'None', \"Bacteriophage MS2 RNA is 3,569 nucleotides long. The nucleotide sequence has been established for the third and last gene, which codes for the replicase protein. A secondary structure model has also been proposed. Biological properties, such as ribosome binding and codon interactions can now be discussed on a molecular basis. As the sequences for the other regions of this RNA have been published already, the complete, primary chemical structure of a viral genome has now been established.'\", 'None', 'None', 'The ', \"Maximal translation of the coat-protein gene from RNA bacteriophage MS2 requires a contiguous stretch of native MS2 RNA that extends hundreds of nucleotides upstream from the translational start site. Deletion of these upstream sequences from MS2 cDNA plasmids results in a 30-fold reduction of translational efficiency. By site-directed mutagenesis, we show that this low level of expression is caused by a hairpin structure centred around the initiation codon. When this hairpin is destabilized by the introduction of mismatches, expression from the truncated messenger increases 20-fold to almost the level of the full-length construct. Thus, the translational effect of hundreds of upstream nucleotides can be mimicked by a single substitution that destabilizes the structure. The same hairpin is also present in full-length MS2 RNA, but there it does not impair ribosome binding. Apparently, the upstream RNA somehow reduces the inhibitory effect of the structure on translational initiation. The upstream MS2 sequence does not stimulate translation when cloned in front of another gene, nor can unrelated RNA segments activate the coat-protein gene. Several possible mechanisms for the activation are discussed and a function in gene regulation of the phage is suggested.'\", 'None']\n",
      "['10.1111/j.1432', '10.1038/237082a0', '10.1016/0014', 'PMC432808', '10.1038/256273a0', '10.1038/260500a0', 'None', '10.1016/0092', 'None', '10.1111/j.1365', 'None']\n"
     ]
    }
   ],
   "source": [
    "print(Pubmed)\n",
    "print(Title)\n",
    "print(Abstract)\n",
    "print(DOI)\n"
   ]
  },
  {
   "cell_type": "code",
   "execution_count": 986,
   "metadata": {},
   "outputs": [],
   "source": [
    "# try:\n",
    "#         pubmed_count= 0\n",
    "#         for c in Pubmed:\n",
    "#                 cur.execute(\"\"\"\n",
    "#                         INSERT INTO Pubmed_Info (ID_pubmed, Title, Abstract, DOI)   \n",
    "#                         VALUES (%s, %s, %s, %s)\n",
    "#                         \"\"\",\n",
    "#                         (Pubmed[pubmed_count] + f\"_{pubmed_count}\", Title[pubmed_count], Abstract[pubmed_count], DOI[pubmed_count]))   \n",
    "#         if c != \"None\":\n",
    "#                 pubmed_count += 1\n",
    "# except:\n",
    "#         print(\"Erro Povoar Pubmed\")"
   ]
  },
  {
   "cell_type": "code",
   "execution_count": 987,
   "metadata": {},
   "outputs": [],
   "source": [
    "pubmed_count= 0\n",
    "for c in Pubmed :\n",
    "        if c != \"None\":\n",
    "                cur.execute(\"\"\"\n",
    "                        INSERT INTO Pubmed_Info (ID_pubmed, Title, Abstract, DOI, Affiliation)   \n",
    "                        VALUES (%s, %s, %s, %s, %s)\n",
    "                        \"\"\",\n",
    "                        (Pubmed[pubmed_count], Title[pubmed_count], Abstract[pubmed_count], DOI[pubmed_count], Affiliation[pubmed_count]))  \n",
    "                pubmed_count += 1 \n",
    "        else:\n",
    "                pubmed_count += 1"
   ]
  },
  {
   "attachments": {},
   "cell_type": "markdown",
   "metadata": {},
   "source": [
    "# Lixo para baixo"
   ]
  },
  {
   "cell_type": "code",
   "execution_count": 988,
   "metadata": {},
   "outputs": [],
   "source": [
    "#     cur.execute(\"\"\"\n",
    "#         INSERT INTO Authors (ID_authors, Affiliation)    \n",
    "#         VALUES (%s, %s, %s))\n",
    "#         \"\"\",\n",
    "#         (Authors, Affiliation))    "
   ]
  }
 ],
 "metadata": {
  "kernelspec": {
   "display_name": "mestrado_final",
   "language": "python",
   "name": "python3"
  },
  "language_info": {
   "codemirror_mode": {
    "name": "ipython",
    "version": 3
   },
   "file_extension": ".py",
   "mimetype": "text/x-python",
   "name": "python",
   "nbconvert_exporter": "python",
   "pygments_lexer": "ipython3",
   "version": "3.9.13"
  },
  "orig_nbformat": 4,
  "vscode": {
   "interpreter": {
    "hash": "f2307cf6e279acbb4fe5a904c1ba66075afa04f4e5f00d0d9abed1d852b5aca9"
   }
  }
 },
 "nbformat": 4,
 "nbformat_minor": 2
}
