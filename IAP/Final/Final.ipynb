{
 "cells": [
  {
   "cell_type": "code",
   "execution_count": 64,
   "metadata": {},
   "outputs": [],
   "source": [
    "from Bio import SeqIO\n",
    "import urllib.parse as up\n",
    "import os\n",
    "import psycopg2\n",
    "import re\n",
    "from Bio import Entrez\n",
    "from collections import Counter"
   ]
  },
  {
   "attachments": {},
   "cell_type": "markdown",
   "metadata": {},
   "source": [
    "Ficheiro GB   # fazer dowload diretamente do site"
   ]
  },
  {
   "cell_type": "code",
   "execution_count": 65,
   "metadata": {},
   "outputs": [],
   "source": [
    "id_genbank_input = input(\"ID NCBI\")"
   ]
  },
  {
   "cell_type": "code",
   "execution_count": 66,
   "metadata": {},
   "outputs": [],
   "source": [
    "handle = Entrez.efetch(db='nucleotide',retmode='txt',id=id_genbank_input, rettype = \"gb\") # dowload do ficheiro\n",
    "record = SeqIO.read(handle, \"gb\")"
   ]
  },
  {
   "cell_type": "code",
   "execution_count": 67,
   "metadata": {},
   "outputs": [],
   "source": [
    "# file = \"/home/sa_bruno/Documentos/GitHub/Projeto_LB/ARL15/ARL15.gb\"                \n",
    "# # file = \"Teste.gb\"\n",
    "# record = SeqIO.read(file, \"genbank\") "
   ]
  },
  {
   "attachments": {},
   "cell_type": "markdown",
   "metadata": {},
   "source": [
    "Tirar todas as variáveis "
   ]
  },
  {
   "cell_type": "code",
   "execution_count": 68,
   "metadata": {},
   "outputs": [],
   "source": [
    "# Genbank\n",
    "ID = record.name\n",
    "Organism = record.annotations[\"organism\"]\n",
    "Accession = record.annotations[\"accessions\"][0]\n",
    "Definition = record.description\n",
    "Keywords = \"\"\n",
    "\n",
    "for c in record.annotations[\"keywords\"]:\n",
    "    Keywords += c + \", \"\n",
    "Keywords = Keywords[0: (len(Keywords) -2)]\n",
    "\n",
    "Sequence = str(record.seq)"
   ]
  },
  {
   "cell_type": "code",
   "execution_count": 69,
   "metadata": {},
   "outputs": [],
   "source": [
    "# apagar dps   # parte de algoritmos\n",
    "\n",
    "Count_A = 0\n",
    "Count_C = 3\n",
    "Count_T = 3\n",
    "Count_G = 4"
   ]
  },
  {
   "cell_type": "code",
   "execution_count": 70,
   "metadata": {},
   "outputs": [
    {
     "name": "stdout",
     "output_type": "stream",
     "text": [
      "Z11591\n",
      "Phytophthora parasitica\n",
      "Z11591\n",
      "P.parasitica (Dastur 1896) HIS3 gene for imidazoleglycerol-phosphate dehydratase\n",
      "HIS3 gene, imidazoleglycerolphosphate dehydratase\n",
      "GAATTCGAGCTCGGTACCCGGGATCTTGGGCAAATCCAAAGCCGAAGTCACATATACTTGCCGGAAACCTACTCTTCATCATAGCACCCAACCACACATACTTCCTGCCTTTCAGCAGCCCCAACGCTTTGGTTCTGGGGGCTTGGACGTCTCGGTAATCGCTCGTAAATTCCCGCTCGATCAGCCTCGCCACTTCGCCAACGAGGCATCTTTTGGCAAACTCAACCGGAGTGTTTTCACGTGCGGATATCGAACCACCTGACAGCAAATTGTATACGTCGAATCTTGGTGGCGTAGATCCATTTCGGAAATGAAGCAGAATAAATCTTAAGTCCTCATTAAAAATAATGTTGGCCCAAACTGTGGTACACATAATTTATGAATACGTTTGCAATTCTGATTACTTGCTGTCTATATTTGCATTTATGACATGTCTGTTTGGCCAACCATGTGTACCAATACATAGGTACAGTTTCCGTCAAACACGCTTTATCCATTCTGCCAAAGACCACCACAACGATGGCGTCTCCCGTGCAGGCTTTGCTGCTGGACATGGACGGCGTGATGGCCGAGGTGTCCCAGTCCTACCGCCAAGCCATCATCGACACTGCGCGCCACTTCGGCGTGTCCGTCACGCACGAGGACATCGATCACACAAAACTAGCAGGCAATGCCAACAATGACTGGCAGTTGACGCACCGTCTGGTCGTCGACGGGCTCAACGGCGCCAGCTCTGCCCCGACGCTAGAAGCCGTCACGGCTCAATTCGAGGCTCTGTATCAAGGCGTGGGCAACACACTAGGTCTGTGTGAGCTCGAGACGCTGCTTACGCCCAAGGGATTGCTGCGTGAACTGCACCGTCGTCAACCGAAGGGCATGGCGGTGGTCACGGGACGACCTCGCAAAGACTGCGCCAAGTTCTTAACCACCCACGGCATCGAGGACTTGTTCCCCGTGCAGATCTGGCTGGAGGACTGTCCGCCTAAGCCGTCACCGGAGCCTATTCTTCTGGCCCTCAAGGCGCTGGGCGTCGAAGCCTGTCACGCCGCCATGGTGGGAGACACAGTAGACGACATCATCGCCGGCCGCAAGGCTGGGGCTGTTGCGTACGGAGTCTTGACCCCGCAGACGTACGCCAAGTCGATCCTAGAGCAGACGCCTGCGGCTATTGGCAAGGTATTGGAACAGGTCGGAGCTTCGGTTGTGCTGACTCCGGGACTTGGAGAGCTGCTGGACCTCGTCCCGGCGGTCCCGACGGCGAGTAAAGCCCCAACTGTTAATGGGAAGAGTGGCGTTCGTGAGGCTAATATCTCGCGAGTGACTAAGGAGACGTCTATCAGTGTCAAGCTGTCGCTGGACGGCACGGGCAAGTCCAAGGTGAGCTCTGGCATTGGCTTCTTGGACCACATGCTGACGGCTCTGGCCAAGCACAGTCGCTTTGACTTGGAGCTGGACTGCAAGGGCGATACGTGGATCGATGACCACCACACGACGGAGGACTGCGCGCTGACGCTCGGCGAGGCCTTCGACGTCGCGCTGGGCGACCGCGCCGGTATCGCTCGCTTCGGGTCGGCCTGTGTGCCACTGGACGAGGCTCTGTCCCGCGCTATTGTGGATATTTCGAGTCGTGCGCACAGCGAGATCAACCTGCAGCTGGTGCGTCCGAGCGTGGGCGAGCTGTCGAGCGAGATGATCACGCACTTCTTCGAGTCGTTTGCCAGCGCTGCGCTCNTGACCCTGCACGTGGATGTGCTCCGCGGCCGCAACGACCACCACCGCGCCGAAGCGTCCTTCAAGGCGCTAGCCGTCGCGCTGCGTACTGCCGTTAAGCACGATGCCACTGCGGGCGTACCGAGCACCAAGGGTGTCTTGGCATGAGCGAAGCATCGCTCAGGAGTCCTAACGCGGCATATGTTGTCTGTGTCAAAATAACCGG\n"
     ]
    }
   ],
   "source": [
    "print(ID)\n",
    "print(Organism)\n",
    "print(Accession)\n",
    "print(Definition)\n",
    "print(Keywords)\n",
    "print(Sequence)"
   ]
  },
  {
   "cell_type": "code",
   "execution_count": 71,
   "metadata": {},
   "outputs": [],
   "source": [
    "# Locus \n",
    "Size = len(record.seq)\n",
    "Molecular_type = record.annotations[\"molecule_type\"] + \" \" + record.annotations[\"topology\"]\n",
    "Genbank_division = record.annotations[\"data_file_division\"] \n",
    "Modification_date = record.annotations[\"date\"]"
   ]
  },
  {
   "cell_type": "code",
   "execution_count": 72,
   "metadata": {},
   "outputs": [
    {
     "name": "stdout",
     "output_type": "stream",
     "text": [
      "1936\n",
      "DNA linear\n",
      "PLN\n",
      "22-JAN-1992\n"
     ]
    }
   ],
   "source": [
    "print(Size)\n",
    "print(Molecular_type)\n",
    "print(Genbank_division)\n",
    "print(Modification_date)"
   ]
  },
  {
   "cell_type": "code",
   "execution_count": 73,
   "metadata": {},
   "outputs": [],
   "source": [
    "# Sequences"
   ]
  },
  {
   "cell_type": "code",
   "execution_count": 74,
   "metadata": {},
   "outputs": [],
   "source": [
    "def get_authors(a):\n",
    "    exis_5 = re.search(r\"authors:\\s+([\\w\\s,\\.-]+)\", a)          #dúvida (como é que o ciclo sabe se isto está vazio ou não)       \n",
    "    if exis_5:\n",
    "        Authors = []\n",
    "        Authors_work = []\n",
    "        y = re.search(r\"authors:\\s+([\\w\\s,\\.-]+)\", a)    # isto aqui é o remark\n",
    "        Authors_work.append(y.group(1))\n",
    "        # else:\n",
    "        #     Consortium.append(\"------\")\n",
    "        help_authors = [] \n",
    "        Authors = str(Authors_work[0]).split(\"., \")\n",
    "        for i, c in enumerate(Authors):\n",
    "            f = c.split(\" and \")\n",
    "            help_authors.append([i, f])\n",
    "        c = len(Authors)\n",
    "        i = 0\n",
    "        while c > 0:\n",
    "            if len(help_authors[i][1]) > 1:\n",
    "                Authors.remove(Authors[i])\n",
    "                for o in help_authors[i][1]:\n",
    "                    Authors.append(o)\n",
    "\n",
    "            c -= 1\n",
    "            i += 1\n",
    "    else:\n",
    "        Authors = []\n",
    "\n",
    "    return Authors\n",
    "\n"
   ]
  },
  {
   "cell_type": "code",
   "execution_count": 75,
   "metadata": {},
   "outputs": [],
   "source": [
    "# referencias  # faz parte do PubMed INfo\n",
    "Pubmed = []\n",
    "Title = []\n",
    "Journal = []\n",
    "Consortium = []\n",
    "Remark = []\n",
    "Authors = []\n",
    "b = \"\"\n",
    "pubmed_trash = record.annotations[\"references\"]    # resolver isto \n",
    "c = len(pubmed_trash)\n",
    "i = 0\n",
    "while c > 0:\n",
    "    a = str(pubmed_trash[i]).replace(\"\\n\", \"§\")   \n",
    "    \n",
    "    exist_3 = re.search(r\"pubmed id:\\s+(\\d+)\", a)\n",
    "    if exist_3:\n",
    "        m = re.search(r\"pubmed id:\\s+(\\d+)\", a)                 # COnfirmar PubMEd haver sempre/nao\n",
    "        Pubmed.append(m.group(1))\n",
    "    else:\n",
    "        Pubmed.append(\"------\")\n",
    "\n",
    "    \n",
    "    n = re.search(r\"title:\\s+([\\w\\s]+)\", a)\n",
    "    Title.append(n.group(1))\n",
    "\n",
    "    exist_2 = re.search(r\"journal:\\s+([\\w\\s.()--,]+)\", a)\n",
    "    if exist_2:\n",
    "        j = re.search(r\"journal:\\s+([\\w\\s.()--,]+)\", a)\n",
    "        Journal.append(j.group(1))\n",
    "    else:\n",
    "        Journal.append(\"------\")\n",
    "\n",
    "    exis = re.search(r\"consrtm:\\s+([\\w\\s]+)\", a)\n",
    "    if exis:\n",
    "        k = re.search(r\"consrtm:\\s+([\\w\\s]+)\", a)    # isto aqui é o remark\n",
    "        Consortium.append(k.group(1))\n",
    "    else:\n",
    "        Consortium.append(\"------\")         # ter cuidado com isto dps\n",
    "    \n",
    "\n",
    "    exis_1 = re.search(r\"pubmed id:\\s+\\d+§comment:\\s+([\\w\\s\\d])\", a)\n",
    "    if exis_1:\n",
    "        l = re.search(r\"pubmed id:\\s+\\d+§comment:\\s+([\\w\\d\\s:\\[;\\(\\)\\.,!?<>{}\\\"]+)\", a)\n",
    "        Remark.append(l.group(1))\n",
    "    else:\n",
    "        Remark.append(\"------\") \n",
    "\n",
    "    Authors.append(get_authors(a))\n",
    "\n",
    "\n",
    "    \n",
    "    c -= 1\n",
    "    i += 1"
   ]
  },
  {
   "cell_type": "code",
   "execution_count": 76,
   "metadata": {},
   "outputs": [
    {
     "data": {
      "text/plain": [
       "'Baltrusch-Weiter,M., Karlovsky,P. and Prell,H.H.'"
      ]
     },
     "execution_count": 76,
     "metadata": {},
     "output_type": "execute_result"
    }
   ],
   "source": [
    "a = record.annotations[\"references\"][0]  #para usar dps\n",
    "a.authors\n"
   ]
  },
  {
   "cell_type": "code",
   "execution_count": 77,
   "metadata": {},
   "outputs": [
    {
     "name": "stdout",
     "output_type": "stream",
     "text": [
      "[['Baltrusch-Weiter,M', 'Karlovsky,P.', 'Prell,H.H.'], ['Karlovsky,P.']]\n"
     ]
    }
   ],
   "source": [
    "print(Authors)"
   ]
  },
  {
   "cell_type": "code",
   "execution_count": 78,
   "metadata": {},
   "outputs": [
    {
     "name": "stdout",
     "output_type": "stream",
     "text": [
      "['------', '------']\n",
      "['Unpublished', 'Submitted (17-JAN-1992) Karlovsky P., Institute of Plant Pathology, University of Goettingen, Grisebachstrasse 6, Goettingen, Germany']\n",
      "['------', '------']\n",
      "['------', '------']\n",
      "[['Baltrusch-Weiter,M', 'Karlovsky,P.', 'Prell,H.H.'], ['Karlovsky,P.']]\n"
     ]
    }
   ],
   "source": [
    "print(Pubmed)\n",
    "print(Journal)\n",
    "print(Consortium)\n",
    "print(Remark)\n",
    "print(Authors)"
   ]
  },
  {
   "cell_type": "code",
   "execution_count": 79,
   "metadata": {},
   "outputs": [
    {
     "data": {
      "text/plain": [
       "'{\\'MedlineCitation\\': DictElement({\\'OtherID\\': [StringElement(\\'120881\\', attributes={\\'Source\\': \\'PIP\\'}), StringElement(\\'00262844\\', attributes={\\'Source\\': \\'POP\\'})], \\'KeywordList\\': [ListElement([StringElement(\\'Africa\\', attributes={\\'MajorTopicYN\\': \\'N\\'}), StringElement(\\'Africa South Of The Sahara\\', attributes={\\'MajorTopicYN\\': \\'N\\'}), StringElement(\\'Arab Countries\\', attributes={\\'MajorTopicYN\\': \\'N\\'}), StringElement(\\'Asia\\', attributes={\\'MajorTopicYN\\': \\'N\\'}), StringElement(\\'Developing Countries\\', attributes={\\'MajorTopicYN\\': \\'N\\'}), StringElement(\\'Diseases\\', attributes={\\'MajorTopicYN\\': \\'N\\'}), StringElement(\\'Eastern Africa\\', attributes={\\'MajorTopicYN\\': \\'N\\'}), StringElement(\\'Ethiopia\\', attributes={\\'MajorTopicYN\\': \\'N\\'}), StringElement(\\'Hiv\\', attributes={\\'MajorTopicYN\\': \\'Y\\'}), StringElement(\\'Hiv Infections\\', attributes={\\'MajorTopicYN\\': \\'Y\\'}), StringElement(\\'India\\', attributes={\\'MajorTopicYN\\': \\'N\\'}), StringElement(\\'Kuwait\\', attributes={\\'MajorTopicYN\\': \\'N\\'}), StringElement(\\'Measurement\\', attributes={\\'MajorTopicYN\\': \\'N\\'}), StringElement(\\'Prevalence\\', attributes={\\'MajorTopicYN\\': \\'Y\\'}), StringElement(\\'Research Methodology\\', attributes={\\'MajorTopicYN\\': \\'N\\'}), StringElement(\\'Research Report\\', attributes={\\'MajorTopicYN\\': \\'Y\\'}), StringElement(\\'Southern Asia\\', attributes={\\'MajorTopicYN\\': \\'N\\'}), StringElement(\\'Viral Diseases\\', attributes={\\'MajorTopicYN\\': \\'N\\'}), StringElement(\\'Western Asia\\', attributes={\\'MajorTopicYN\\': \\'N\\'})], attributes={\\'Owner\\': \\'PIP\\'})], \\'CitationSubset\\': [\\'IM\\'], \\'SpaceFlightMission\\': [], \\'OtherAbstract\\': [DictElement({\\'AbstractText\\': [\\'HIV-1 subtype B isolates have previously been described in India only in the state of Andhra Pradesh, while subtype C isolates have been reported as widespread in the Bombay and Goa regions of India. Gag subtype was determined in HIV-1 isolates from six Indians and one Ethiopian. One Indian was a native of Goa residing in Kuwait, and the others were natives of Bihar, Haryana, West Bengal, and New Delhi states. Five subjects were males aged 20-26 years. The remaining two subjects were females aged 34 and 40. Four of the men acquired HIV through sexual transmission; the other man was presumably infected through contaminated blood. Six isolates were identified as subtype C and one as subtype B. These preliminary findings obtained by arranging the HIV-1 gag sequences according to their similarity score were confirmed by cladogram and nested analysis. HIV-1 subtype C isolates are therefore present in Bombay and Goa as well as in other regions of northern and eastern India. The subtype has also infected Indian and Ethiopian expatriates living in Kuwait.\\']}, attributes={\\'Type\\': \\'PIP\\', \\'Language\\': \\'eng\\'})], \\'GeneralNote\\': [StringElement(\\'TJ: AIDS RESEARCH AND HUMAN RETROVIRUSES.\\', attributes={\\'Owner\\': \\'PIP\\'})], \\'PMID\\': StringElement(\\'8743090\\', attributes={\\'Version\\': \\'1\\'}), \\'DateCompleted\\': {\\'Year\\': \\'1996\\', \\'Month\\': \\'10\\', \\'Day\\': \\'10\\'}, \\'DateRevised\\': {\\'Year\\': \\'2006\\', \\'Month\\': \\'11\\', \\'Day\\': \\'15\\'}, \\'Article\\': DictElement({\\'Language\\': [\\'eng\\'], \\'ArticleDate\\': [], \\'ELocationID\\': [], \\'Journal\\': {\\'ISSN\\': StringElement(\\'0889-2229\\', attributes={\\'IssnType\\': \\'Print\\'}), \\'JournalIssue\\': DictElement({\\'Volume\\': \\'12\\', \\'Issue\\': \\'7\\', \\'PubDate\\': {\\'Year\\': \\'1996\\', \\'Month\\': \\'May\\', \\'Day\\': \\'01\\'}}, attributes={\\'CitedMedium\\': \\'Print\\'}), \\'Title\\': \\'AIDS research and human retroviruses\\', \\'ISOAbbreviation\\': \\'AIDS Res Hum Retroviruses\\'}, \\'ArticleTitle\\': \\'HIV type 1 subtypes B and C from new regions of India and Indian and Ethiopian expatriates in Kuwait.\\', \\'Pagination\\': {\\'StartPage\\': \\'641\\', \\'EndPage\\': \\'643\\', \\'MedlinePgn\\': \\'641-3\\'}, \\'AuthorList\\': ListElement([DictElement({\\'Identifier\\': [], \\'AffiliationInfo\\': [{\\'Identifier\\': [], \\'Affiliation\\': \\'Department of Microbiology, Faculty of Medicine, Kuwait University, Kuwait.\\'}], \\'LastName\\': \\'Voevodin\\', \\'ForeName\\': \\'A\\', \\'Initials\\': \\'A\\'}, attributes={\\'ValidYN\\': \\'Y\\'}), DictElement({\\'Identifier\\': [], \\'AffiliationInfo\\': [], \\'LastName\\': \\'Crandall\\', \\'ForeName\\': \\'K A\\', \\'Initials\\': \\'KA\\'}, attributes={\\'ValidYN\\': \\'Y\\'}), DictElement({\\'Identifier\\': [], \\'AffiliationInfo\\': [], \\'LastName\\': \\'Seth\\', \\'ForeName\\': \\'P\\', \\'Initials\\': \\'P\\'}, attributes={\\'ValidYN\\': \\'Y\\'}), DictElement({\\'Identifier\\': [], \\'AffiliationInfo\\': [], \\'LastName\\': \\'al Mufti\\', \\'ForeName\\': \\'S\\', \\'Initials\\': \\'S\\'}, attributes={\\'ValidYN\\': \\'Y\\'})], attributes={\\'CompleteYN\\': \\'Y\\'}), \\'DataBankList\\': ListElement([{\\'DataBankName\\': \\'GENBANK\\', \\'AccessionNumberList\\': [\\'L42013\\', \\'L42014\\', \\'L42016\\', \\'L42017\\', \\'L42019\\', \\'L42022\\']}], attributes={\\'CompleteYN\\': \\'Y\\'}), \\'PublicationTypeList\\': [StringElement(\\'Journal Article\\', attributes={\\'UI\\': \\'D016428\\'}), StringElement(\"Research Support, Non-U.S. Gov\\'t\", attributes={\\'UI\\': \\'D013485\\'})]}, attributes={\\'PubModel\\': \\'Print\\'}), \\'MedlineJournalInfo\\': {\\'Country\\': \\'United States\\', \\'MedlineTA\\': \\'AIDS Res Hum Retroviruses\\', \\'NlmUniqueID\\': \\'8709376\\', \\'ISSNLinking\\': \\'0889-2229\\'}, \\'ChemicalList\\': [{\\'RegistryNumber\\': \\'0\\', \\'NameOfSubstance\\': StringElement(\\'DNA Primers\\', attributes={\\'UI\\': \\'D017931\\'})}], \\'MeshHeadingList\\': [{\\'QualifierName\\': [], \\'DescriptorName\\': StringElement(\\'Adult\\', attributes={\\'UI\\': \\'D000328\\', \\'MajorTopicYN\\': \\'N\\'})}, {\\'QualifierName\\': [], \\'DescriptorName\\': StringElement(\\'Base Sequence\\', attributes={\\'UI\\': \\'D001483\\', \\'MajorTopicYN\\': \\'N\\'})}, {\\'QualifierName\\': [], \\'DescriptorName\\': StringElement(\\'DNA Primers\\', attributes={\\'UI\\': \\'D017931\\', \\'MajorTopicYN\\': \\'N\\'})}, {\\'QualifierName\\': [StringElement(\\'ethnology\\', attributes={\\'UI\\': \\'Q000208\\', \\'MajorTopicYN\\': \\'N\\'})], \\'DescriptorName\\': StringElement(\\'Ethiopia\\', attributes={\\'UI\\': \\'D005002\\', \\'MajorTopicYN\\': \\'N\\', \\'Type\\': \\'Geographic\\'})}, {\\'QualifierName\\': [], \\'DescriptorName\\': StringElement(\\'Genes, gag\\', attributes={\\'UI\\': \\'D015750\\', \\'MajorTopicYN\\': \\'Y\\'})}, {\\'QualifierName\\': [StringElement(\\'virology\\', attributes={\\'UI\\': \\'Q000821\\', \\'MajorTopicYN\\': \\'Y\\'})], \\'DescriptorName\\': StringElement(\\'HIV Infections\\', attributes={\\'UI\\': \\'D015658\\', \\'MajorTopicYN\\': \\'N\\'})}, {\\'QualifierName\\': [StringElement(\\'classification\\', attributes={\\'UI\\': \\'Q000145\\', \\'MajorTopicYN\\': \\'Y\\'}), StringElement(\\'genetics\\', attributes={\\'UI\\': \\'Q000235\\', \\'MajorTopicYN\\': \\'N\\'})], \\'DescriptorName\\': StringElement(\\'HIV-1\\', attributes={\\'UI\\': \\'D015497\\', \\'MajorTopicYN\\': \\'N\\'})}, {\\'QualifierName\\': [], \\'DescriptorName\\': StringElement(\\'Humans\\', attributes={\\'UI\\': \\'D006801\\', \\'MajorTopicYN\\': \\'N\\'})}, {\\'QualifierName\\': [StringElement(\\'ethnology\\', attributes={\\'UI\\': \\'Q000208\\', \\'MajorTopicYN\\': \\'N\\'})], \\'DescriptorName\\': StringElement(\\'India\\', attributes={\\'UI\\': \\'D007194\\', \\'MajorTopicYN\\': \\'N\\', \\'Type\\': \\'Geographic\\'})}, {\\'QualifierName\\': [], \\'DescriptorName\\': StringElement(\\'Kuwait\\', attributes={\\'UI\\': \\'D007730\\', \\'MajorTopicYN\\': \\'N\\', \\'Type\\': \\'Geographic\\'})}, {\\'QualifierName\\': [], \\'DescriptorName\\': StringElement(\\'Male\\', attributes={\\'UI\\': \\'D008297\\', \\'MajorTopicYN\\': \\'N\\'})}, {\\'QualifierName\\': [], \\'DescriptorName\\': StringElement(\\'Molecular Sequence Data\\', attributes={\\'UI\\': \\'D008969\\', \\'MajorTopicYN\\': \\'N\\'})}, {\\'QualifierName\\': [], \\'DescriptorName\\': StringElement(\\'Polymerase Chain Reaction\\', attributes={\\'UI\\': \\'D016133\\', \\'MajorTopicYN\\': \\'N\\'})}]}, attributes={\\'Status\\': \\'MEDLINE\\', \\'Owner\\': \\'NLM\\'}), \\'PubmedData\\': {\\'ReferenceList\\': [], \\'History\\': [DictElement({\\'Year\\': \\'1996\\', \\'Month\\': \\'5\\', \\'Day\\': \\'1\\'}, attributes={\\'PubStatus\\': \\'pubmed\\'}), DictElement({\\'Year\\': \\'1996\\', \\'Month\\': \\'5\\', \\'Day\\': \\'1\\', \\'Hour\\': \\'0\\', \\'Minute\\': \\'1\\'}, attributes={\\'PubStatus\\': \\'medline\\'}), DictElement({\\'Year\\': \\'1996\\', \\'Month\\': \\'5\\', \\'Day\\': \\'1\\', \\'Hour\\': \\'0\\', \\'Minute\\': \\'0\\'}, attributes={\\'PubStatus\\': \\'entrez\\'})], \\'PublicationStatus\\': \\'ppublish\\', \\'ArticleIdList\\': [StringElement(\\'8743090\\', attributes={\\'IdType\\': \\'pubmed\\'}), StringElement(\\'10.1089/aid.1996.12.641\\', attributes={\\'IdType\\': \\'doi\\'})]}}'"
      ]
     },
     "execution_count": 79,
     "metadata": {},
     "output_type": "execute_result"
    }
   ],
   "source": [
    "Abstract = []                        # mudar para cada referenias \n",
    "DOI = []\n",
    "Affiliation = []\n",
    "Entrez.email = 'sa.bruno.2001@gmail.com'\n",
    "# handle = Entrez.efetch(db='pubmed',retmode='xml',id=\"15496913\")\n",
    "handle = Entrez.efetch(db='pubmed',retmode='xml',id=\"8743090\")\n",
    "resultado = Entrez.read(handle)\n",
    "q = str(resultado[\"PubmedArticle\"][0])\n",
    "q"
   ]
  },
  {
   "cell_type": "code",
   "execution_count": 80,
   "metadata": {},
   "outputs": [
    {
     "name": "stdout",
     "output_type": "stream",
     "text": [
      "Department of Microbiology, Faculty of Medicine, Kuwait University, Kuwait.\n"
     ]
    }
   ],
   "source": [
    "o = re.search(r\"AbstractText.:\\s+\\['([\\w\\s,\\.\\(\\)%-:]+)\", q)\n",
    "Abstract.append(o.group(1))\n",
    "\n",
    "p = re.search(r\"'pubmed'}.,\\s+StringElement.'([\\d\\w\\./]+)\" , q)\n",
    "DOI.append(p.group(1))\n",
    "\n",
    "t = re.search(r\"'Affiliation':\\s+'([,\\s\\d\\w\\./]+)\" , q)\n",
    "print(t.group(1))\n",
    "\n"
   ]
  },
  {
   "cell_type": "code",
   "execution_count": 81,
   "metadata": {},
   "outputs": [
    {
     "name": "stdout",
     "output_type": "stream",
     "text": [
      "['HIS3 gene of Phytophthora parasitica', 'Direct Submission']\n",
      "['HIV-1 subtype B isolates have previously been described in India only in the state of Andhra Pradesh, while subtype C isolates have been reported as widespread in the Bombay and Goa regions of India. Gag subtype was determined in HIV-1 isolates from six Indians and one Ethiopian. One Indian was a native of Goa residing in Kuwait, and the others were natives of Bihar, Haryana, West Bengal, and New Delhi states. Five subjects were males aged 20-26 years. The remaining two subjects were females aged 34 and 40. Four of the men acquired HIV through sexual transmission']\n",
      "['10.1089/aid.1996.12.641']\n"
     ]
    }
   ],
   "source": [
    "print(Title)\n",
    "print(Abstract)\n",
    "print(DOI)"
   ]
  },
  {
   "cell_type": "code",
   "execution_count": 94,
   "metadata": {},
   "outputs": [
    {
     "name": "stdout",
     "output_type": "stream",
     "text": [
      "Counter({'misc_feature': 2, 'source': 1, 'gene': 1, 'CDS': 1})\n"
     ]
    }
   ],
   "source": [
    "#sequen\n",
    "\n",
    "temp_l = []\n",
    "for c in range(len(record.features)):\n",
    "    temp_l.append(record.features[c].type)\n",
    "\n",
    "y = Counter(temp_l)\n",
    "Gene = y[\"gene\"]\n",
    "# Regulatory = \n",
    "#(ID, CDS, Gene, Regulatory, exons, poli_A-site, misc_feature, mRNA))      # acabar esta parte dps  easy\n",
    "# so contar apartir daqui \n",
    "  # Counter({'gene': 5125, 'CDS': 4997, 'tRNA': 105, 'rRNA': 22, 'source': 1, 'tmRNA': 1})\n",
    "CDS_count = y[\"CDS\"]\n",
    "Regulatory = y[\"regulatory\"]\n",
    "exons = y[\"exons\"]\n",
    "poli_A_site = y[\"poli_A-site\"]                    #  poli_A-site\n",
    "misc_feature = y[\"misc_feature\"]\n",
    "mRNA = y[\"mRNA\"]\n",
    "print(y)\n",
    "Location_span = str(record.features[0].location)"
   ]
  },
  {
   "cell_type": "code",
   "execution_count": 95,
   "metadata": {},
   "outputs": [
    {
     "name": "stdout",
     "output_type": "stream",
     "text": [
      "1\n",
      "1\n",
      "0\n",
      "0\n",
      "2\n",
      "0\n",
      "[0:1936](+)\n"
     ]
    }
   ],
   "source": [
    "print(Gene)\n",
    "print(CDS_count)\n",
    "print(Regulatory)\n",
    "print(poli_A_site)\n",
    "print(misc_feature)\n",
    "print(mRNA)\n",
    "print(Location_span)\n"
   ]
  },
  {
   "cell_type": "code",
   "execution_count": 84,
   "metadata": {},
   "outputs": [],
   "source": [
    "# usar para dps\n",
    "CDS_list = []\n",
    "\n",
    "ID_cds = []\n",
    "Translacion_seq = []\n",
    "Localization = []\n",
    "ID_protein = []\n",
    "Protein = []\n",
    "for c in range(len(record.features)):\n",
    "    if record.features[c].type == \"CDS\":\n",
    "        CDS_list.append(record.features[c])\n",
    "\n",
    "# Translacion_seq\n",
    "for c in range(len(CDS_list)):\n",
    "    ID_cds.append(CDS_list[c])\n",
    "    Translacion_seq.append(CDS_list[c].qualifiers[\"translation\"])\n",
    "    Localization.append(CDS_list[c].location)\n",
    "    ID_protein.append(CDS_list[c].qualifiers[\"protein_id\"])\n",
    "    try:\n",
    "        Protein.append(CDS_list[c].qualifiers[\"product\"])\n",
    "    except:\n",
    "        Protein.append(\"------\")\n",
    "    \n",
    "#(ID_cds, Translacion_seq, Localization, ID_protein, Protein)) \n",
    "#    (CDS_list[0]).qualifiers[\"gene\"]"
   ]
  },
  {
   "cell_type": "code",
   "execution_count": 85,
   "metadata": {},
   "outputs": [
    {
     "name": "stdout",
     "output_type": "stream",
     "text": [
      "type: CDS\n",
      "location: [519:1878](+)\n",
      "qualifiers:\n",
      "    Key: EC_number, Value: ['4.2.1.19']\n",
      "    Key: codon_start, Value: ['1']\n",
      "    Key: db_xref, Value: ['GOA:P28624', 'InterPro:IPR000807', 'InterPro:IPR005834', 'InterPro:IPR006438', 'InterPro:IPR006543', 'InterPro:IPR020565', 'InterPro:IPR020568', 'UniProtKB/Swiss-Prot:P28624']\n",
      "    Key: gene, Value: ['HIS3']\n",
      "    Key: product, Value: ['imidazoleglycerol-phosphate dehydratase']\n",
      "    Key: protein_id, Value: ['CAA77675.1']\n",
      "    Key: translation, Value: ['MASPVQALLLDMDGVMAEVSQSYRQAIIDTARHFGVSVTHEDIDHTKLAGNANNDWQLTHRLVVDGLNGASSAPTLEAVTAQFEALYQGVGNTLGLCELETLLTPKGLLRELHRRQPKGMAVVTGRPRKDCAKFLTTHGIEDLFPVQIWLEDCPPKPSPEPILLALKALGVEACHAAMVGDTVDDIIAGRKAGAVAYGVLTPQTYAKSILEQTPAAIGKVLEQVGASVVLTPGLGELLDLVPAVPTASKAPTVNGKSGVREANISRVTKETSISVKLSLDGTGKSKVSSGIGFLDHMLTALAKHSRFDLELDCKGDTWIDDHHTTEDCALTLGEAFDVALGDRAGIARFGSACVPLDEALSRAIVDISSRAHSEINLQLVRPSVGELSSEMITHFFESFASAALXTLHVDVLRGRNDHHRAEASFKALAVALRTAVKHDATAGVPSTKGVLA']\n",
      "\n",
      "\n",
      "['MASPVQALLLDMDGVMAEVSQSYRQAIIDTARHFGVSVTHEDIDHTKLAGNANNDWQLTHRLVVDGLNGASSAPTLEAVTAQFEALYQGVGNTLGLCELETLLTPKGLLRELHRRQPKGMAVVTGRPRKDCAKFLTTHGIEDLFPVQIWLEDCPPKPSPEPILLALKALGVEACHAAMVGDTVDDIIAGRKAGAVAYGVLTPQTYAKSILEQTPAAIGKVLEQVGASVVLTPGLGELLDLVPAVPTASKAPTVNGKSGVREANISRVTKETSISVKLSLDGTGKSKVSSGIGFLDHMLTALAKHSRFDLELDCKGDTWIDDHHTTEDCALTLGEAFDVALGDRAGIARFGSACVPLDEALSRAIVDISSRAHSEINLQLVRPSVGELSSEMITHFFESFASAALXTLHVDVLRGRNDHHRAEASFKALAVALRTAVKHDATAGVPSTKGVLA']\n",
      "\n",
      "[519:1878](+)\n",
      "\n",
      "['CAA77675.1']\n",
      "\n",
      "['imidazoleglycerol-phosphate dehydratase']\n",
      "\n",
      "\n"
     ]
    }
   ],
   "source": [
    "for c in range(len(ID_cds)):\n",
    "    print(ID_cds[c])\n",
    "    print()\n",
    "    print(Translacion_seq[c])\n",
    "    print()\n",
    "    print(Localization[c])\n",
    "    print()\n",
    "    print(ID_protein[c])\n",
    "    print()\n",
    "    print(Protein[c])\n",
    "    print()\n",
    "    print()\n"
   ]
  },
  {
   "cell_type": "code",
   "execution_count": 90,
   "metadata": {},
   "outputs": [],
   "source": [
    "CDSID = 4   # VER ISTO DPS"
   ]
  },
  {
   "attachments": {},
   "cell_type": "markdown",
   "metadata": {},
   "source": [
    "Ligar Base Dados\n"
   ]
  },
  {
   "cell_type": "code",
   "execution_count": 86,
   "metadata": {},
   "outputs": [],
   "source": [
    "import mysql.connector as SQLC   #ligação Bruno\n",
    "\n",
    "DataBase = SQLC.connect(\n",
    "   host =\"127.0.0.1\",\n",
    "   user =\"root\",\n",
    "   password =\"login123\",\n",
    "   database = \"mydb\",\n",
    "   auth_plugin=\"mysql_native_password\"\n",
    ")\n",
    "DataBase.autocommit= True\n",
    "cur = DataBase.cursor()\n",
    "\n",
    "#jdbc:mysql://127.0.0.1:3306/?user=root\n"
   ]
  },
  {
   "cell_type": "code",
   "execution_count": 87,
   "metadata": {},
   "outputs": [],
   "source": [
    "# import mysql.connector as SQLC   #ligação Luís\n",
    "\n",
    "# DataBase = SQLC.connect(\n",
    "#    host =\"127.0.0.1\",\n",
    "#    user =\"root\",\n",
    "#    password =\"*luisbraga123*\",\n",
    "#    database = \"mydb\",\n",
    "#    auth_plugin=\"mysql_native_password\"\n",
    "# )\n",
    "# cur = DataBase.cursor()\n",
    "\n"
   ]
  },
  {
   "cell_type": "code",
   "execution_count": 110,
   "metadata": {},
   "outputs": [],
   "source": [
    "\n",
    "# try:\n",
    "#     cur.execute(\"\"\"\n",
    "#         INSERT INTO Genbank (ID, Organism, Accession, Definition, Keywords)    \n",
    "#         VALUES ()\n",
    "#         \"\"\",\n",
    "#         (ID, Organism, Accession, Definition, Keywords))\n",
    "        \n",
    "        \n",
    "# except psycopg2.Error as e:\n",
    "#     print(\"Erro na escrita na base de dados: {}\".format(e) )    \n",
    "# finally:\n",
    "#      cur.close()\n",
    "ID_fake = 4"
   ]
  },
  {
   "cell_type": "code",
   "execution_count": 112,
   "metadata": {},
   "outputs": [
    {
     "name": "stdout",
     "output_type": "stream",
     "text": [
      "Erro Povoação Locus\n",
      "Erro Povoação Genbank\n",
      "Erro Povoação Sequences\n"
     ]
    },
    {
     "ename": "IntegrityError",
     "evalue": "1062 (23000): Duplicate entry '4' for key 'CDS.PRIMARY'",
     "output_type": "error",
     "traceback": [
      "\u001b[0;31m---------------------------------------------------------------------------\u001b[0m",
      "\u001b[0;31mMySQLInterfaceError\u001b[0m                       Traceback (most recent call last)",
      "File \u001b[0;32m~/anaconda3/envs/mestrado_final/lib/python3.9/site-packages/mysql/connector/connection_cext.py:565\u001b[0m, in \u001b[0;36mCMySQLConnection.cmd_query\u001b[0;34m(self, query, raw, buffered, raw_as_string)\u001b[0m\n\u001b[1;32m    564\u001b[0m         query \u001b[39m=\u001b[39m query\u001b[39m.\u001b[39mencode(\u001b[39m\"\u001b[39m\u001b[39mutf-8\u001b[39m\u001b[39m\"\u001b[39m)\n\u001b[0;32m--> 565\u001b[0m     \u001b[39mself\u001b[39;49m\u001b[39m.\u001b[39;49m_cmysql\u001b[39m.\u001b[39;49mquery(\n\u001b[1;32m    566\u001b[0m         query,\n\u001b[1;32m    567\u001b[0m         raw\u001b[39m=\u001b[39;49mraw,\n\u001b[1;32m    568\u001b[0m         buffered\u001b[39m=\u001b[39;49mbuffered,\n\u001b[1;32m    569\u001b[0m         raw_as_string\u001b[39m=\u001b[39;49mraw_as_string,\n\u001b[1;32m    570\u001b[0m         query_attrs\u001b[39m=\u001b[39;49m\u001b[39mself\u001b[39;49m\u001b[39m.\u001b[39;49m_query_attrs,\n\u001b[1;32m    571\u001b[0m     )\n\u001b[1;32m    572\u001b[0m \u001b[39mexcept\u001b[39;00m MySQLInterfaceError \u001b[39mas\u001b[39;00m err:\n",
      "\u001b[0;31mMySQLInterfaceError\u001b[0m: Duplicate entry '4' for key 'CDS.PRIMARY'",
      "\nThe above exception was the direct cause of the following exception:\n",
      "\u001b[0;31mIntegrityError\u001b[0m                            Traceback (most recent call last)",
      "\u001b[1;32m/home/sa_bruno/Documentos/GitHub/Projeto_Algoritmos-Introducao/IAP/Final/Final.ipynb Cell 30\u001b[0m in \u001b[0;36m<cell line: 60>\u001b[0;34m()\u001b[0m\n\u001b[1;32m     <a href='vscode-notebook-cell:/home/sa_bruno/Documentos/GitHub/Projeto_Algoritmos-Introducao/IAP/Final/Final.ipynb#X36sZmlsZQ%3D%3D?line=29'>30</a>\u001b[0m         \u001b[39mprint\u001b[39m(\u001b[39m\"\u001b[39m\u001b[39mErro Povoação Sequences\u001b[39m\u001b[39m\"\u001b[39m)\n\u001b[1;32m     <a href='vscode-notebook-cell:/home/sa_bruno/Documentos/GitHub/Projeto_Algoritmos-Introducao/IAP/Final/Final.ipynb#X36sZmlsZQ%3D%3D?line=32'>33</a>\u001b[0m \u001b[39m#     cur.execute(\"\"\"\u001b[39;00m\n\u001b[1;32m     <a href='vscode-notebook-cell:/home/sa_bruno/Documentos/GitHub/Projeto_Algoritmos-Introducao/IAP/Final/Final.ipynb#X36sZmlsZQ%3D%3D?line=33'>34</a>\u001b[0m \u001b[39m#         INSERT INTO Pubmed_Info (ID_pubmed, Title, Abstract, Pubmed_Infocol, Authors)   # saltamos \u001b[39;00m\n\u001b[1;32m     <a href='vscode-notebook-cell:/home/sa_bruno/Documentos/GitHub/Projeto_Algoritmos-Introducao/IAP/Final/Final.ipynb#X36sZmlsZQ%3D%3D?line=34'>35</a>\u001b[0m \u001b[39m#         VALUES (%s, %s, %s, %s, %s)\u001b[39;00m\n\u001b[0;32m   (...)\u001b[0m\n\u001b[1;32m     <a href='vscode-notebook-cell:/home/sa_bruno/Documentos/GitHub/Projeto_Algoritmos-Introducao/IAP/Final/Final.ipynb#X36sZmlsZQ%3D%3D?line=51'>52</a>\u001b[0m \u001b[39m#         \"\"\",\u001b[39;00m\n\u001b[1;32m     <a href='vscode-notebook-cell:/home/sa_bruno/Documentos/GitHub/Projeto_Algoritmos-Introducao/IAP/Final/Final.ipynb#X36sZmlsZQ%3D%3D?line=52'>53</a>\u001b[0m \u001b[39m#                 (ID, CDS_count, CDSID, Gene, Regulatory, exons, poli_A_site, misc_feature, mRNA, Location_span))   \u001b[39;00m\n\u001b[0;32m---> <a href='vscode-notebook-cell:/home/sa_bruno/Documentos/GitHub/Projeto_Algoritmos-Introducao/IAP/Final/Final.ipynb#X36sZmlsZQ%3D%3D?line=59'>60</a>\u001b[0m cur\u001b[39m.\u001b[39;49mexecute(\u001b[39m\"\"\"\u001b[39;49m\n\u001b[1;32m     <a href='vscode-notebook-cell:/home/sa_bruno/Documentos/GitHub/Projeto_Algoritmos-Introducao/IAP/Final/Final.ipynb#X36sZmlsZQ%3D%3D?line=60'>61</a>\u001b[0m \u001b[39m        INSERT INTO CDS (CDS_ID, Translacion_seq, Localization, ID_protein, Protein)    \u001b[39;49m\n\u001b[1;32m     <a href='vscode-notebook-cell:/home/sa_bruno/Documentos/GitHub/Projeto_Algoritmos-Introducao/IAP/Final/Final.ipynb#X36sZmlsZQ%3D%3D?line=61'>62</a>\u001b[0m \u001b[39m        VALUES (\u001b[39;49m\u001b[39m%s\u001b[39;49;00m\u001b[39m, \u001b[39;49m\u001b[39m%s\u001b[39;49;00m\u001b[39m, \u001b[39;49m\u001b[39m%s\u001b[39;49;00m\u001b[39m, \u001b[39;49m\u001b[39m%s\u001b[39;49;00m\u001b[39m, \u001b[39;49m\u001b[39m%s\u001b[39;49;00m\u001b[39m)\u001b[39;49m\n\u001b[1;32m     <a href='vscode-notebook-cell:/home/sa_bruno/Documentos/GitHub/Projeto_Algoritmos-Introducao/IAP/Final/Final.ipynb#X36sZmlsZQ%3D%3D?line=62'>63</a>\u001b[0m \u001b[39m        \u001b[39;49m\u001b[39m\"\"\"\u001b[39;49m,\n\u001b[1;32m     <a href='vscode-notebook-cell:/home/sa_bruno/Documentos/GitHub/Projeto_Algoritmos-Introducao/IAP/Final/Final.ipynb#X36sZmlsZQ%3D%3D?line=63'>64</a>\u001b[0m         (ID_fake, \u001b[39mstr\u001b[39;49m(Translacion_seq[\u001b[39m0\u001b[39;49m]), \u001b[39mstr\u001b[39;49m(Localization[\u001b[39m0\u001b[39;49m]), \u001b[39mstr\u001b[39;49m(ID_protein[\u001b[39m0\u001b[39;49m]), \u001b[39mstr\u001b[39;49m(Protein[\u001b[39m0\u001b[39;49m])))\n",
      "File \u001b[0;32m~/anaconda3/envs/mestrado_final/lib/python3.9/site-packages/mysql/connector/cursor_cext.py:279\u001b[0m, in \u001b[0;36mCMySQLCursor.execute\u001b[0;34m(self, operation, params, multi)\u001b[0m\n\u001b[1;32m    274\u001b[0m             \u001b[39mraise\u001b[39;00m ProgrammingError(\n\u001b[1;32m    275\u001b[0m                 \u001b[39m\"\u001b[39m\u001b[39mNot all parameters were used in the SQL statement\u001b[39m\u001b[39m\"\u001b[39m\n\u001b[1;32m    276\u001b[0m             )\n\u001b[1;32m    278\u001b[0m \u001b[39mtry\u001b[39;00m:\n\u001b[0;32m--> 279\u001b[0m     result \u001b[39m=\u001b[39m \u001b[39mself\u001b[39;49m\u001b[39m.\u001b[39;49m_cnx\u001b[39m.\u001b[39;49mcmd_query(\n\u001b[1;32m    280\u001b[0m         stmt,\n\u001b[1;32m    281\u001b[0m         raw\u001b[39m=\u001b[39;49m\u001b[39mself\u001b[39;49m\u001b[39m.\u001b[39;49m_raw,\n\u001b[1;32m    282\u001b[0m         buffered\u001b[39m=\u001b[39;49m\u001b[39mself\u001b[39;49m\u001b[39m.\u001b[39;49m_buffered,\n\u001b[1;32m    283\u001b[0m         raw_as_string\u001b[39m=\u001b[39;49m\u001b[39mself\u001b[39;49m\u001b[39m.\u001b[39;49m_raw_as_string,\n\u001b[1;32m    284\u001b[0m     )\n\u001b[1;32m    285\u001b[0m \u001b[39mexcept\u001b[39;00m MySQLInterfaceError \u001b[39mas\u001b[39;00m err:\n\u001b[1;32m    286\u001b[0m     \u001b[39mraise\u001b[39;00m get_mysql_exception(\n\u001b[1;32m    287\u001b[0m         msg\u001b[39m=\u001b[39merr\u001b[39m.\u001b[39mmsg, errno\u001b[39m=\u001b[39merr\u001b[39m.\u001b[39merrno, sqlstate\u001b[39m=\u001b[39merr\u001b[39m.\u001b[39msqlstate\n\u001b[1;32m    288\u001b[0m     ) \u001b[39mfrom\u001b[39;00m \u001b[39merr\u001b[39;00m\n",
      "File \u001b[0;32m~/anaconda3/envs/mestrado_final/lib/python3.9/site-packages/mysql/connector/connection_cext.py:573\u001b[0m, in \u001b[0;36mCMySQLConnection.cmd_query\u001b[0;34m(self, query, raw, buffered, raw_as_string)\u001b[0m\n\u001b[1;32m    565\u001b[0m     \u001b[39mself\u001b[39m\u001b[39m.\u001b[39m_cmysql\u001b[39m.\u001b[39mquery(\n\u001b[1;32m    566\u001b[0m         query,\n\u001b[1;32m    567\u001b[0m         raw\u001b[39m=\u001b[39mraw,\n\u001b[0;32m   (...)\u001b[0m\n\u001b[1;32m    570\u001b[0m         query_attrs\u001b[39m=\u001b[39m\u001b[39mself\u001b[39m\u001b[39m.\u001b[39m_query_attrs,\n\u001b[1;32m    571\u001b[0m     )\n\u001b[1;32m    572\u001b[0m \u001b[39mexcept\u001b[39;00m MySQLInterfaceError \u001b[39mas\u001b[39;00m err:\n\u001b[0;32m--> 573\u001b[0m     \u001b[39mraise\u001b[39;00m get_mysql_exception(\n\u001b[1;32m    574\u001b[0m         err\u001b[39m.\u001b[39merrno, msg\u001b[39m=\u001b[39merr\u001b[39m.\u001b[39mmsg, sqlstate\u001b[39m=\u001b[39merr\u001b[39m.\u001b[39msqlstate\n\u001b[1;32m    575\u001b[0m     ) \u001b[39mfrom\u001b[39;00m \u001b[39merr\u001b[39;00m\n\u001b[1;32m    576\u001b[0m \u001b[39mexcept\u001b[39;00m \u001b[39mAttributeError\u001b[39;00m \u001b[39mas\u001b[39;00m err:\n\u001b[1;32m    577\u001b[0m     addr \u001b[39m=\u001b[39m (\n\u001b[1;32m    578\u001b[0m         \u001b[39mself\u001b[39m\u001b[39m.\u001b[39m_unix_socket \u001b[39mif\u001b[39;00m \u001b[39mself\u001b[39m\u001b[39m.\u001b[39m_unix_socket \u001b[39melse\u001b[39;00m \u001b[39mf\u001b[39m\u001b[39m\"\u001b[39m\u001b[39m{\u001b[39;00m\u001b[39mself\u001b[39m\u001b[39m.\u001b[39m_host\u001b[39m}\u001b[39;00m\u001b[39m:\u001b[39m\u001b[39m{\u001b[39;00m\u001b[39mself\u001b[39m\u001b[39m.\u001b[39m_port\u001b[39m}\u001b[39;00m\u001b[39m\"\u001b[39m\n\u001b[1;32m    579\u001b[0m     )\n",
      "\u001b[0;31mIntegrityError\u001b[0m: 1062 (23000): Duplicate entry '4' for key 'CDS.PRIMARY'"
     ]
    }
   ],
   "source": [
    "try:\n",
    "        cur.execute(f\"\"\"\n",
    "                INSERT INTO Locus (ID, Size, Molecular_type, Genbank_division, Modification_date)    \n",
    "                VALUES (%s, %s, %s, %s, %s)\n",
    "                \"\"\",\n",
    "                    (ID, Size, Molecular_type, Genbank_division, Modification_date))\n",
    "\n",
    "except:\n",
    "        print(\"Erro Povoação Locus\")\n",
    "\n",
    "try:\n",
    "        cur.execute(f\"\"\"\n",
    "                 INSERT INTO Genbank (ID, Organism, Accession, Definition, Keywords)    \n",
    "                VALUES (%s, %s, %s, %s, %s)\n",
    "                \"\"\",\n",
    "                        (ID, Organism, Accession, Definition, Keywords))\n",
    "except:\n",
    "        print(\"Erro Povoação Genbank\")\n",
    "\n",
    "\n",
    "try:\n",
    "\n",
    "        cur.execute(\"\"\"\n",
    "                INSERT INTO Sequences (ID, Sequence, Count_A, Count_C, Count_T, Count_G)    \n",
    "                VALUES (%s, %s, %s, %s, %s,%s)\n",
    "                \"\"\",\n",
    "                        (ID, Sequence, Count_A, Count_C, Count_T, Count_G))   \n",
    "\n",
    "except:\n",
    "        print(\"Erro Povoação Sequences\")\n",
    "\n",
    "\n",
    "#     cur.execute(\"\"\"\n",
    "#         INSERT INTO Pubmed_Info (ID_pubmed, Title, Abstract, Pubmed_Infocol, Authors)   # saltamos \n",
    "#         VALUES (%s, %s, %s, %s, %s)\n",
    "#         \"\"\",\n",
    "#         (Pubmed, Title, Abstract, DOI, Authors))     # id_pubmed na db\n",
    "    \n",
    "#     cur.execute(\"\"\"\n",
    "#         INSERT INTO References (ID, Pubmed, Title, Journal, Consortium, Remark)     # saltamos\n",
    "#         VALUES (%s, %s, %s, %s, %s, %s))\n",
    "#         \"\"\",\n",
    "#         (ID, Pubmed, Journal, Consortium, Remark))   \n",
    "\n",
    "\n",
    "        \n",
    "        \n",
    "\n",
    "# cur.execute(\"\"\"\n",
    "#         INSERT INTO Features (ID, CDS_count, CDSID, Gene, Regulatory, exons, poli_A_site, misc_feature, mRNA, Location_span)    \n",
    "#         VALUES (%s, %s, %s, %s, %s, %s, %s, %s, %s, %s)\n",
    "#         \"\"\",\n",
    "#                 (ID, CDS_count, CDSID, Gene, Regulatory, exons, poli_A_site, misc_feature, mRNA, Location_span))   \n",
    "\n",
    "\n",
    "\n",
    "\n",
    "\n",
    "\n",
    "cur.execute(\"\"\"\n",
    "        INSERT INTO CDS (CDS_ID, Translacion_seq, Localization, ID_protein, Protein)    \n",
    "        VALUES (%s, %s, %s, %s, %s)\n",
    "        \"\"\",\n",
    "        (ID_fake, str(Translacion_seq[0]), str(Localization[0]), str(ID_protein[0]), str(Protein[0]))) \n",
    "\n",
    "    \n",
    "#     cur.execute(\"\"\"\n",
    "#         INSERT INTO Authors (ID_authors, Affiliation)    \n",
    "#         VALUES (%s, %s, %s))\n",
    "#         \"\"\",\n",
    "#         (Authors, Affiliation))    "
   ]
  }
 ],
 "metadata": {
  "kernelspec": {
   "display_name": "mestrado_final",
   "language": "python",
   "name": "python3"
  },
  "language_info": {
   "codemirror_mode": {
    "name": "ipython",
    "version": 3
   },
   "file_extension": ".py",
   "mimetype": "text/x-python",
   "name": "python",
   "nbconvert_exporter": "python",
   "pygments_lexer": "ipython3",
   "version": "3.9.13"
  },
  "orig_nbformat": 4,
  "vscode": {
   "interpreter": {
    "hash": "f2307cf6e279acbb4fe5a904c1ba66075afa04f4e5f00d0d9abed1d852b5aca9"
   }
  }
 },
 "nbformat": 4,
 "nbformat_minor": 2
}
