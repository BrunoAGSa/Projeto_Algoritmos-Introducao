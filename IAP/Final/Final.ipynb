{
 "cells": [
  {
   "cell_type": "code",
   "execution_count": 4,
   "metadata": {},
   "outputs": [],
   "source": [
    "from Bio import SeqIO\n",
    "import urllib.parse as up\n",
    "import os\n",
    "import psycopg2\n",
    "import re\n",
    "from Bio import Entrez\n",
    "from collections import Counter\n",
    "from IAP_seqs import Seq"
   ]
  },
  {
   "attachments": {},
   "cell_type": "markdown",
   "metadata": {},
   "source": [
    "# Lista Cenas Importantes\n",
    "\n",
    "Erro mt random a povoar references\n",
    "\n",
    "Ver parte das sequences --> Precisamos de mais espaço mas o SQL limita isso  Data too long for column 'Translacion_seq' at row 1\n",
    "\n",
    "Cannot add or update a child row: a foreign key constraint fails (`Base Dados IAP`.`Genbank`, CONSTRAINT `Genbank-references` FOREIGN KEY (`ID`) REFERENCES `References` (`ID`))"
   ]
  },
  {
   "attachments": {},
   "cell_type": "markdown",
   "metadata": {},
   "source": [
    "Ligar Base de Dados"
   ]
  },
  {
   "cell_type": "code",
   "execution_count": 32,
   "metadata": {},
   "outputs": [],
   "source": [
    "import mysql.connector as SQLC   #ligação Bruno\n",
    "\n",
    "DataBase = SQLC.connect(\n",
    "   host =\"127.0.0.1\",\n",
    "   user =\"root\",\n",
    "   password =\"login123\",\n",
    "   database = \"Base Dados IAP\",\n",
    "   auth_plugin=\"mysql_native_password\"\n",
    ")\n",
    "DataBase.autocommit= True\n",
    "cur = DataBase.cursor()\n"
   ]
  },
  {
   "attachments": {},
   "cell_type": "markdown",
   "metadata": {},
   "source": [
    "Ficheiro GB "
   ]
  },
  {
   "cell_type": "code",
   "execution_count": 6,
   "metadata": {},
   "outputs": [],
   "source": [
    "id_genbank_input = input(\"ID NCBI\")"
   ]
  },
  {
   "cell_type": "code",
   "execution_count": 7,
   "metadata": {},
   "outputs": [
    {
     "name": "stderr",
     "output_type": "stream",
     "text": [
      "/home/sa_bruno/anaconda3/envs/mestrado_final/lib/python3.9/site-packages/Bio/Entrez/__init__.py:658: UserWarning: \n",
      "Email address is not specified.\n",
      "\n",
      "To make use of NCBI's E-utilities, NCBI requires you to specify your\n",
      "email address with each request.  As an example, if your email address\n",
      "is A.N.Other@example.com, you can specify it as follows:\n",
      "   from Bio import Entrez\n",
      "   Entrez.email = 'A.N.Other@example.com'\n",
      "In case of excessive usage of the E-utilities, NCBI will attempt to contact\n",
      "a user at the email address provided before blocking access to the\n",
      "E-utilities.\n",
      "  warnings.warn(\n"
     ]
    }
   ],
   "source": [
    "handle = Entrez.efetch(db='nucleotide',retmode='txt',id=id_genbank_input, rettype = \"gb\") # dowload do ficheiro\n",
    "record = SeqIO.read(handle, \"gb\")"
   ]
  },
  {
   "cell_type": "code",
   "execution_count": 8,
   "metadata": {},
   "outputs": [],
   "source": [
    "# # file = \"/home/sa_bruno/Documentos/GitHub/Projeto_LB/ARL15/ARL15.gb\"                \n",
    "# file = \"Teste.gb\"\n",
    "# record = SeqIO.read(file, \"genbank\") "
   ]
  },
  {
   "attachments": {},
   "cell_type": "markdown",
   "metadata": {},
   "source": [
    "# Obter todas as variáveis / Povoar Base de Dados "
   ]
  },
  {
   "attachments": {},
   "cell_type": "markdown",
   "metadata": {},
   "source": [
    "# Tabela Locus"
   ]
  },
  {
   "cell_type": "code",
   "execution_count": 9,
   "metadata": {},
   "outputs": [],
   "source": [
    "# Locus \n",
    "ID = record.name\n",
    "Size = len(record.seq)\n",
    "Molecular_type = record.annotations[\"molecule_type\"] + \" \" + record.annotations[\"topology\"]\n",
    "Genbank_division = record.annotations[\"data_file_division\"] \n",
    "Modification_date = record.annotations[\"date\"]"
   ]
  },
  {
   "cell_type": "code",
   "execution_count": 10,
   "metadata": {},
   "outputs": [
    {
     "name": "stdout",
     "output_type": "stream",
     "text": [
      "NC_003539\n",
      "284\n",
      "ss-RNA circular\n",
      "VRL\n",
      "13-AUG-2018\n"
     ]
    }
   ],
   "source": [
    "print(ID)\n",
    "print(Size)\n",
    "print(Molecular_type)\n",
    "print(Genbank_division)\n",
    "print(Modification_date)"
   ]
  },
  {
   "cell_type": "code",
   "execution_count": 11,
   "metadata": {},
   "outputs": [],
   "source": [
    "try:\n",
    "        cur.execute(f\"\"\"\n",
    "                INSERT INTO Locus (ID, Size, Molecular_type, Genbank_division, Modification_date)    \n",
    "                VALUES (%s, %s, %s, %s, %s)\n",
    "                \"\"\",\n",
    "                    (ID, Size, Molecular_type, Genbank_division, Modification_date))\n",
    "\n",
    "except:\n",
    "        print(\"Erro Povoação Locus\")"
   ]
  },
  {
   "attachments": {},
   "cell_type": "markdown",
   "metadata": {},
   "source": [
    "# Tabela Genbank\n",
    "\n",
    "Usamos\n"
   ]
  },
  {
   "cell_type": "code",
   "execution_count": 12,
   "metadata": {},
   "outputs": [],
   "source": [
    "# Genbank\n",
    "Organism = record.annotations[\"organism\"]\n",
    "Accession = record.annotations[\"accessions\"][0]\n",
    "Definition = record.description\n",
    "Keywords = \"\"\n",
    "\n",
    "for c in record.annotations[\"keywords\"]:\n",
    "    Keywords += c + \", \"\n",
    "Keywords = Keywords[0: (len(Keywords) -2)]\n",
    "\n",
    "Sequence = str(record.seq)"
   ]
  },
  {
   "cell_type": "code",
   "execution_count": 13,
   "metadata": {},
   "outputs": [
    {
     "name": "stdout",
     "output_type": "stream",
     "text": [
      "NC_003539\n",
      "Citrus bark cracking viroid\n",
      "NC_003539\n",
      "Citrus viroid IV virus, complete genome\n",
      "RefSeq, genome, viroid RNA\n",
      "CTGGGGAATTTCTCTGCGGGACCAAATAAAAACAGCTTGTGGAGGGAACATACCTGAAGAGGGATCCCCGGGGAAATCTCTTCAGACTCGTCGAGGGGAGGGCGCCGCGGATCACTGGCGTCCAGCACCGGAACAGGAGCTCGTCTCCTTCCTTCCATCGCTGGCTCCACATCCGATCGTCGCTTCTTCCTTCGCGACCTGAGATAGAAACTACCCGGTGGATACAACTCTTGGGTTGTTCCTCCCAGGCTTGTTAATAAAAATGGCCCGCGTTTGAGACCCCT\n"
     ]
    }
   ],
   "source": [
    "print(ID)\n",
    "print(Organism)\n",
    "print(Accession)\n",
    "print(Definition)\n",
    "print(Keywords)\n",
    "print(Sequence)"
   ]
  },
  {
   "cell_type": "code",
   "execution_count": 14,
   "metadata": {},
   "outputs": [
    {
     "name": "stdout",
     "output_type": "stream",
     "text": [
      "Erro Povoação Genbank\n"
     ]
    }
   ],
   "source": [
    "try:\n",
    "        cur.execute(f\"\"\"\n",
    "                 INSERT INTO Genbank (ID, Organism, Accession, Definition, Keywords)    \n",
    "                VALUES (%s, %s, %s, %s, %s)\n",
    "                \"\"\",\n",
    "                        (ID, Organism, Accession, Definition, Keywords))\n",
    "except:\n",
    "        print(\"Erro Povoação Genbank\")"
   ]
  },
  {
   "attachments": {},
   "cell_type": "markdown",
   "metadata": {},
   "source": [
    "# Tabela Sequences  / Parte para Algoritmos"
   ]
  },
  {
   "cell_type": "code",
   "execution_count": 15,
   "metadata": {},
   "outputs": [],
   "source": [
    "alg_seq = Seq(Sequence).count_nucleotides()\n",
    "\n",
    "Count_A = alg_seq[0]\n",
    "Count_C = alg_seq[1]\n",
    "Count_G = alg_seq[2]\n",
    "Count_T = alg_seq[3]"
   ]
  },
  {
   "cell_type": "code",
   "execution_count": 16,
   "metadata": {},
   "outputs": [
    {
     "name": "stdout",
     "output_type": "stream",
     "text": [
      "NC_003539\n",
      "CTGGGGAATTTCTCTGCGGGACCAAATAAAAACAGCTTGTGGAGGGAACATACCTGAAGAGGGATCCCCGGGGAAATCTCTTCAGACTCGTCGAGGGGAGGGCGCCGCGGATCACTGGCGTCCAGCACCGGAACAGGAGCTCGTCTCCTTCCTTCCATCGCTGGCTCCACATCCGATCGTCGCTTCTTCCTTCGCGACCTGAGATAGAAACTACCCGGTGGATACAACTCTTGGGTTGTTCCTCCCAGGCTTGTTAATAAAAATGGCCCGCGTTTGAGACCCCT\n",
      "62\n",
      "82\n",
      "76\n",
      "64\n"
     ]
    }
   ],
   "source": [
    "print(ID)\n",
    "print(Sequence)\n",
    "print(Count_A)\n",
    "print(Count_C)\n",
    "print(Count_G)\n",
    "print(Count_T)"
   ]
  },
  {
   "cell_type": "code",
   "execution_count": 17,
   "metadata": {},
   "outputs": [
    {
     "name": "stdout",
     "output_type": "stream",
     "text": [
      "Erro Povoação Sequences\n"
     ]
    }
   ],
   "source": [
    "try:\n",
    "\n",
    "        cur.execute(\"\"\"\n",
    "                INSERT INTO Sequences (ID, Sequence, Count_A, Count_C, Count_T, Count_G)    \n",
    "                VALUES (%s, %s, %s, %s, %s,%s)\n",
    "                \"\"\",\n",
    "                        (ID, Sequence, Count_A, Count_C, Count_T, Count_G))   \n",
    "\n",
    "except:\n",
    "        print(\"Erro Povoação Sequences\")"
   ]
  },
  {
   "attachments": {},
   "cell_type": "markdown",
   "metadata": {},
   "source": [
    "# Tabela Features"
   ]
  },
  {
   "cell_type": "code",
   "execution_count": 18,
   "metadata": {},
   "outputs": [],
   "source": [
    "temp_l = []\n",
    "for c in range(len(record.features)):\n",
    "    temp_l.append(record.features[c].type)\n",
    "\n",
    "y = Counter(temp_l)\n",
    "Gene = y[\"gene\"]\n",
    "# Regulatory = \n",
    "#(ID, CDS, Gene, Regulatory, exons, poli_A-site, misc_feature, mRNA))      # acabar esta parte dps  easy\n",
    "# so contar apartir daqui \n",
    "  # Counter({'gene': 5125, 'CDS': 4997, 'tRNA': 105, 'rRNA': 22, 'source': 1, 'tmRNA': 1})\n",
    "CDS_count = y[\"CDS\"]\n",
    "Regulatory = y[\"regulatory\"]\n",
    "exons = y[\"exons\"]\n",
    "poli_A_site = y[\"poli_A-site\"]                    #  poli_A-site\n",
    "misc_feature = y[\"misc_feature\"]\n",
    "mRNA = y[\"mRNA\"]\n",
    "Location_span = str(record.features[0].location)"
   ]
  },
  {
   "cell_type": "code",
   "execution_count": 19,
   "metadata": {},
   "outputs": [
    {
     "name": "stdout",
     "output_type": "stream",
     "text": [
      "NC_003539\n",
      "0\n",
      "0\n",
      "0\n",
      "0\n",
      "4\n",
      "0\n",
      "[0:284](+)\n"
     ]
    }
   ],
   "source": [
    "print(ID)\n",
    "print(CDS_count)\n",
    "print(Gene)\n",
    "print(Regulatory)\n",
    "print(poli_A_site)\n",
    "print(misc_feature)\n",
    "print(mRNA)\n",
    "print(Location_span)"
   ]
  },
  {
   "cell_type": "code",
   "execution_count": 20,
   "metadata": {},
   "outputs": [
    {
     "name": "stdout",
     "output_type": "stream",
     "text": [
      "Erro Features\n"
     ]
    }
   ],
   "source": [
    "try:\n",
    "        cur.execute(\"\"\"\n",
    "        INSERT INTO Features (ID, CDS_count, Gene, Regulatory, exons, poli_A_site, misc_feature, mRNA, Location_span)    \n",
    "        VALUES (%s, %s, %s, %s, %s, %s, %s, %s, %s, %s)\n",
    "        \"\"\",\n",
    "                (ID, CDS_count, Gene, Regulatory, exons, poli_A_site, misc_feature, mRNA, Location_span)) \n",
    "except:\n",
    "        print(\"Erro Features\")"
   ]
  },
  {
   "cell_type": "code",
   "execution_count": 21,
   "metadata": {},
   "outputs": [
    {
     "ename": "ProgrammingError",
     "evalue": "1054 (42S22): Unknown column 'ID' in 'field list'",
     "output_type": "error",
     "traceback": [
      "\u001b[0;31m---------------------------------------------------------------------------\u001b[0m",
      "\u001b[0;31mMySQLInterfaceError\u001b[0m                       Traceback (most recent call last)",
      "File \u001b[0;32m~/anaconda3/envs/mestrado_final/lib/python3.9/site-packages/mysql/connector/connection_cext.py:565\u001b[0m, in \u001b[0;36mCMySQLConnection.cmd_query\u001b[0;34m(self, query, raw, buffered, raw_as_string)\u001b[0m\n\u001b[1;32m    564\u001b[0m         query \u001b[39m=\u001b[39m query\u001b[39m.\u001b[39mencode(\u001b[39m\"\u001b[39m\u001b[39mutf-8\u001b[39m\u001b[39m\"\u001b[39m)\n\u001b[0;32m--> 565\u001b[0m     \u001b[39mself\u001b[39;49m\u001b[39m.\u001b[39;49m_cmysql\u001b[39m.\u001b[39;49mquery(\n\u001b[1;32m    566\u001b[0m         query,\n\u001b[1;32m    567\u001b[0m         raw\u001b[39m=\u001b[39;49mraw,\n\u001b[1;32m    568\u001b[0m         buffered\u001b[39m=\u001b[39;49mbuffered,\n\u001b[1;32m    569\u001b[0m         raw_as_string\u001b[39m=\u001b[39;49mraw_as_string,\n\u001b[1;32m    570\u001b[0m         query_attrs\u001b[39m=\u001b[39;49m\u001b[39mself\u001b[39;49m\u001b[39m.\u001b[39;49m_query_attrs,\n\u001b[1;32m    571\u001b[0m     )\n\u001b[1;32m    572\u001b[0m \u001b[39mexcept\u001b[39;00m MySQLInterfaceError \u001b[39mas\u001b[39;00m err:\n",
      "\u001b[0;31mMySQLInterfaceError\u001b[0m: Unknown column 'ID' in 'field list'",
      "\nThe above exception was the direct cause of the following exception:\n",
      "\u001b[0;31mProgrammingError\u001b[0m                          Traceback (most recent call last)",
      "\u001b[1;32m/home/sa_bruno/Documentos/GitHub/Projeto_Algoritmos-Introducao/IAP/Final/Final.ipynb Cell 26\u001b[0m in \u001b[0;36m<cell line: 1>\u001b[0;34m()\u001b[0m\n\u001b[0;32m----> <a href='vscode-notebook-cell:/home/sa_bruno/Documentos/GitHub/Projeto_Algoritmos-Introducao/IAP/Final/Final.ipynb#X34sZmlsZQ%3D%3D?line=0'>1</a>\u001b[0m cur\u001b[39m.\u001b[39;49mexecute(\u001b[39m\"\"\"\u001b[39;49m\n\u001b[1;32m      <a href='vscode-notebook-cell:/home/sa_bruno/Documentos/GitHub/Projeto_Algoritmos-Introducao/IAP/Final/Final.ipynb#X34sZmlsZQ%3D%3D?line=1'>2</a>\u001b[0m \u001b[39m        INSERT INTO Features (ID, CDS_count, Gene, Regulatory, exons, poli_A_site, misc_feature, mRNA, Location_span)    \u001b[39;49m\n\u001b[1;32m      <a href='vscode-notebook-cell:/home/sa_bruno/Documentos/GitHub/Projeto_Algoritmos-Introducao/IAP/Final/Final.ipynb#X34sZmlsZQ%3D%3D?line=2'>3</a>\u001b[0m \u001b[39m        VALUES (\u001b[39;49m\u001b[39m%s\u001b[39;49;00m\u001b[39m, \u001b[39;49m\u001b[39m%s\u001b[39;49;00m\u001b[39m, \u001b[39;49m\u001b[39m%s\u001b[39;49;00m\u001b[39m, \u001b[39;49m\u001b[39m%s\u001b[39;49;00m\u001b[39m, \u001b[39;49m\u001b[39m%s\u001b[39;49;00m\u001b[39m, \u001b[39;49m\u001b[39m%s\u001b[39;49;00m\u001b[39m, \u001b[39;49m\u001b[39m%s\u001b[39;49;00m\u001b[39m, \u001b[39;49m\u001b[39m%s\u001b[39;49;00m\u001b[39m, \u001b[39;49m\u001b[39m%s\u001b[39;49;00m\u001b[39m)\u001b[39;49m\n\u001b[1;32m      <a href='vscode-notebook-cell:/home/sa_bruno/Documentos/GitHub/Projeto_Algoritmos-Introducao/IAP/Final/Final.ipynb#X34sZmlsZQ%3D%3D?line=3'>4</a>\u001b[0m \u001b[39m        \u001b[39;49m\u001b[39m\"\"\"\u001b[39;49m,\n\u001b[1;32m      <a href='vscode-notebook-cell:/home/sa_bruno/Documentos/GitHub/Projeto_Algoritmos-Introducao/IAP/Final/Final.ipynb#X34sZmlsZQ%3D%3D?line=4'>5</a>\u001b[0m                 (ID, CDS_count, Gene, Regulatory, exons, poli_A_site, misc_feature, mRNA, Location_span))\n",
      "File \u001b[0;32m~/anaconda3/envs/mestrado_final/lib/python3.9/site-packages/mysql/connector/cursor_cext.py:279\u001b[0m, in \u001b[0;36mCMySQLCursor.execute\u001b[0;34m(self, operation, params, multi)\u001b[0m\n\u001b[1;32m    274\u001b[0m             \u001b[39mraise\u001b[39;00m ProgrammingError(\n\u001b[1;32m    275\u001b[0m                 \u001b[39m\"\u001b[39m\u001b[39mNot all parameters were used in the SQL statement\u001b[39m\u001b[39m\"\u001b[39m\n\u001b[1;32m    276\u001b[0m             )\n\u001b[1;32m    278\u001b[0m \u001b[39mtry\u001b[39;00m:\n\u001b[0;32m--> 279\u001b[0m     result \u001b[39m=\u001b[39m \u001b[39mself\u001b[39;49m\u001b[39m.\u001b[39;49m_cnx\u001b[39m.\u001b[39;49mcmd_query(\n\u001b[1;32m    280\u001b[0m         stmt,\n\u001b[1;32m    281\u001b[0m         raw\u001b[39m=\u001b[39;49m\u001b[39mself\u001b[39;49m\u001b[39m.\u001b[39;49m_raw,\n\u001b[1;32m    282\u001b[0m         buffered\u001b[39m=\u001b[39;49m\u001b[39mself\u001b[39;49m\u001b[39m.\u001b[39;49m_buffered,\n\u001b[1;32m    283\u001b[0m         raw_as_string\u001b[39m=\u001b[39;49m\u001b[39mself\u001b[39;49m\u001b[39m.\u001b[39;49m_raw_as_string,\n\u001b[1;32m    284\u001b[0m     )\n\u001b[1;32m    285\u001b[0m \u001b[39mexcept\u001b[39;00m MySQLInterfaceError \u001b[39mas\u001b[39;00m err:\n\u001b[1;32m    286\u001b[0m     \u001b[39mraise\u001b[39;00m get_mysql_exception(\n\u001b[1;32m    287\u001b[0m         msg\u001b[39m=\u001b[39merr\u001b[39m.\u001b[39mmsg, errno\u001b[39m=\u001b[39merr\u001b[39m.\u001b[39merrno, sqlstate\u001b[39m=\u001b[39merr\u001b[39m.\u001b[39msqlstate\n\u001b[1;32m    288\u001b[0m     ) \u001b[39mfrom\u001b[39;00m \u001b[39merr\u001b[39;00m\n",
      "File \u001b[0;32m~/anaconda3/envs/mestrado_final/lib/python3.9/site-packages/mysql/connector/connection_cext.py:573\u001b[0m, in \u001b[0;36mCMySQLConnection.cmd_query\u001b[0;34m(self, query, raw, buffered, raw_as_string)\u001b[0m\n\u001b[1;32m    565\u001b[0m     \u001b[39mself\u001b[39m\u001b[39m.\u001b[39m_cmysql\u001b[39m.\u001b[39mquery(\n\u001b[1;32m    566\u001b[0m         query,\n\u001b[1;32m    567\u001b[0m         raw\u001b[39m=\u001b[39mraw,\n\u001b[0;32m   (...)\u001b[0m\n\u001b[1;32m    570\u001b[0m         query_attrs\u001b[39m=\u001b[39m\u001b[39mself\u001b[39m\u001b[39m.\u001b[39m_query_attrs,\n\u001b[1;32m    571\u001b[0m     )\n\u001b[1;32m    572\u001b[0m \u001b[39mexcept\u001b[39;00m MySQLInterfaceError \u001b[39mas\u001b[39;00m err:\n\u001b[0;32m--> 573\u001b[0m     \u001b[39mraise\u001b[39;00m get_mysql_exception(\n\u001b[1;32m    574\u001b[0m         err\u001b[39m.\u001b[39merrno, msg\u001b[39m=\u001b[39merr\u001b[39m.\u001b[39mmsg, sqlstate\u001b[39m=\u001b[39merr\u001b[39m.\u001b[39msqlstate\n\u001b[1;32m    575\u001b[0m     ) \u001b[39mfrom\u001b[39;00m \u001b[39merr\u001b[39;00m\n\u001b[1;32m    576\u001b[0m \u001b[39mexcept\u001b[39;00m \u001b[39mAttributeError\u001b[39;00m \u001b[39mas\u001b[39;00m err:\n\u001b[1;32m    577\u001b[0m     addr \u001b[39m=\u001b[39m (\n\u001b[1;32m    578\u001b[0m         \u001b[39mself\u001b[39m\u001b[39m.\u001b[39m_unix_socket \u001b[39mif\u001b[39;00m \u001b[39mself\u001b[39m\u001b[39m.\u001b[39m_unix_socket \u001b[39melse\u001b[39;00m \u001b[39mf\u001b[39m\u001b[39m\"\u001b[39m\u001b[39m{\u001b[39;00m\u001b[39mself\u001b[39m\u001b[39m.\u001b[39m_host\u001b[39m}\u001b[39;00m\u001b[39m:\u001b[39m\u001b[39m{\u001b[39;00m\u001b[39mself\u001b[39m\u001b[39m.\u001b[39m_port\u001b[39m}\u001b[39;00m\u001b[39m\"\u001b[39m\n\u001b[1;32m    579\u001b[0m     )\n",
      "\u001b[0;31mProgrammingError\u001b[0m: 1054 (42S22): Unknown column 'ID' in 'field list'"
     ]
    }
   ],
   "source": [
    "cur.execute(\"\"\"\n",
    "        INSERT INTO Features (ID, CDS_count, Gene, Regulatory, exons, poli_A_site, misc_feature, mRNA, Location_span)    \n",
    "        VALUES (%s, %s, %s, %s, %s, %s, %s, %s, %s)\n",
    "        \"\"\",\n",
    "                (ID, CDS_count, Gene, Regulatory, exons, poli_A_site, misc_feature, mRNA, Location_span)) "
   ]
  },
  {
   "attachments": {},
   "cell_type": "markdown",
   "metadata": {},
   "source": [
    "# Tabela CDS"
   ]
  },
  {
   "cell_type": "code",
   "execution_count": 22,
   "metadata": {},
   "outputs": [],
   "source": [
    "# usar para dps\n",
    "CDS_list = []\n",
    "\n",
    "ID_cds = []\n",
    "Translacion_seq = []\n",
    "Localization = []\n",
    "ID_protein = []\n",
    "Protein = []\n",
    "for c in range(len(record.features)):\n",
    "    if record.features[c].type == \"CDS\":\n",
    "        CDS_list.append(record.features[c])\n",
    "\n",
    "# Translacion_seq\n",
    "for c in range(len(CDS_list)):\n",
    "    ID_cds.append(CDS_list[c])\n",
    "    Translacion_seq.append(CDS_list[c].qualifiers[\"translation\"])\n",
    "    Localization.append(CDS_list[c].location)\n",
    "    ID_protein.append(CDS_list[c].qualifiers[\"protein_id\"])\n",
    "    try:\n",
    "        Protein.append(CDS_list[c].qualifiers[\"product\"])\n",
    "    except:\n",
    "        Protein.append(\"------\")\n",
    "    \n"
   ]
  },
  {
   "cell_type": "code",
   "execution_count": 23,
   "metadata": {},
   "outputs": [],
   "source": [
    "for c in range(len(ID_cds)):\n",
    "    print(ID_cds[c])\n",
    "    print()\n",
    "    print(Translacion_seq[c])\n",
    "    print()\n",
    "    print(Localization[c])\n",
    "    print()\n",
    "    print(ID_protein[c])\n",
    "    print()\n",
    "    print(Protein[c])\n",
    "    print()\n",
    "    print()\n"
   ]
  },
  {
   "cell_type": "code",
   "execution_count": 24,
   "metadata": {},
   "outputs": [],
   "source": [
    "num_list = 0                            # cdc ID que falta ver\n",
    "for c in range(len(ID_cds)):\n",
    "        cur.execute(\"\"\"\n",
    "                INSERT INTO CDS (ID, Translacion_seq, Localization, ID_protein, Protein)    \n",
    "                VALUES (%s, %s, %s, %s, %s)\n",
    "                \"\"\",\n",
    "                (ID + f\"_{num_list}\", str(Translacion_seq[num_list]), str(Localization[num_list]), str(ID_protein[num_list]), str(Protein[num_list]))) \n",
    "        num_list += 1"
   ]
  },
  {
   "attachments": {},
   "cell_type": "markdown",
   "metadata": {},
   "source": [
    "# Tabela References"
   ]
  },
  {
   "cell_type": "code",
   "execution_count": 25,
   "metadata": {},
   "outputs": [],
   "source": [
    "def get_authors(a):\n",
    "    exis_5 = re.search(r\"authors:\\s+([\\w\\s,\\.-]+)\", a)          #dúvida (como é que o ciclo sabe se isto está vazio ou não)       \n",
    "    if exis_5:\n",
    "        Authors = []\n",
    "        Authors_work = []\n",
    "        y = re.search(r\"authors:\\s+([\\w\\s,\\.-]+)\", a)    # isto aqui é o remark\n",
    "        Authors_work.append(y.group(1))\n",
    "        # else:\n",
    "        #     Consortium.append(\"------\")\n",
    "        help_authors = [] \n",
    "        Authors = str(Authors_work[0]).split(\"., \")\n",
    "        for i, c in enumerate(Authors):\n",
    "            f = c.split(\" and \")\n",
    "            help_authors.append([i, f])\n",
    "        c = len(Authors)\n",
    "        i = 0\n",
    "        while c > 0:\n",
    "            if len(help_authors[i][1]) > 1:\n",
    "                Authors.remove(Authors[i])\n",
    "                for o in help_authors[i][1]:\n",
    "                    Authors.append(o)\n",
    "\n",
    "            c -= 1\n",
    "            i += 1\n",
    "    else:\n",
    "        Authors = []\n",
    "\n",
    "    return Authors\n",
    "\n"
   ]
  },
  {
   "cell_type": "code",
   "execution_count": 26,
   "metadata": {},
   "outputs": [
    {
     "name": "stderr",
     "output_type": "stream",
     "text": [
      "/tmp/ipykernel_3961/713990561.py:26: FutureWarning: Possible set difference at position 20\n",
      "  exist_2 = re.search(r\"journal:\\s+([\\w\\s.()--,]+)\", a)\n"
     ]
    }
   ],
   "source": [
    "# referencias  # faz parte do PubMed INfo\n",
    "Pubmed = []\n",
    "Title = []\n",
    "Journal = []\n",
    "Consortium = []\n",
    "Remark = []\n",
    "Authors = []\n",
    "b = \"\"\n",
    "pubmed_trash = record.annotations[\"references\"]    # resolver isto \n",
    "c = len(pubmed_trash)\n",
    "i = 0\n",
    "while c > 0:\n",
    "    a = str(pubmed_trash[i]).replace(\"\\n\", \"§\")   \n",
    "    \n",
    "    exist_3 = re.search(r\"pubmed id:\\s+(\\d+)\", a)\n",
    "    if exist_3:\n",
    "        m = re.search(r\"pubmed id:\\s+(\\d+)\", a)                 # COnfirmar PubMEd haver sempre/nao\n",
    "        Pubmed.append(m.group(1))\n",
    "    else:\n",
    "        Pubmed.append(\"None\")\n",
    "\n",
    "    \n",
    "    n = re.search(r\"title:\\s+([\\w\\s')(-]+)\", a)\n",
    "    Title.append(n.group(1))\n",
    "\n",
    "    exist_2 = re.search(r\"journal:\\s+([\\w\\s.()--,]+)\", a)\n",
    "    if exist_2:\n",
    "        j = re.search(r\"journal:\\s+([\\w\\s.()--,]+)\", a)\n",
    "        Journal.append(j.group(1))\n",
    "    else:\n",
    "        Journal.append(\"None\")\n",
    "\n",
    "    exis = re.search(r\"consrtm:\\s+([\\w\\s]+)\", a)\n",
    "    if exis:\n",
    "        k = re.search(r\"consrtm:\\s+([\\w\\s]+)\", a)    # isto aqui é o remark\n",
    "        Consortium.append(k.group(1))\n",
    "    else:\n",
    "        Consortium.append(\"None\")         # ter cuidado com isto dps\n",
    "    \n",
    "\n",
    "    exis_1 = re.search(r\"pubmed id:\\s+\\d+§comment:\\s+([\\w\\s\\d])\", a)\n",
    "    if exis_1:\n",
    "        l = re.search(r\"pubmed id:\\s+\\d+§comment:\\s+([\\w\\d\\s:\\[;\\(\\)\\.,!?<>{}\\\"]+)\", a)\n",
    "        Remark.append(l.group(1))\n",
    "    else:\n",
    "        Remark.append(\"None\") \n",
    "\n",
    "    Authors.append(get_authors(a))\n",
    "\n",
    "\n",
    "    \n",
    "    c -= 1\n",
    "    i += 1"
   ]
  },
  {
   "cell_type": "code",
   "execution_count": 27,
   "metadata": {},
   "outputs": [
    {
     "name": "stdout",
     "output_type": "stream",
     "text": [
      "NC_003539\n",
      "['1754400', 'None', 'None', 'None']\n",
      "[['Puchta,H', 'Ramm,K', 'Luckinger,R', 'Hadas,R', 'Bar-Joseph,M.', 'Snger,H.L.'], ['Puchta,H', 'Ramm,K', 'Luckinger,R', 'Freimueller,K.', 'Saenger,H.L.'], [], ['Saenger,H.L.']]\n",
      "['Primary and secondary structure of citrus viroid IV (CVd IV)', 'Citrus Viroid IV (CVd IV)', 'Direct Submission', 'Direct Submission']\n",
      "['Nucleic Acids Res. 19 (23), 6640 (1991)', 'Unpublished', 'Submitted (09-MAY-2007) National Center for Biotechnology Information, NIH, Bethesda, MD 20894, USA', 'Submitted (09-MAR-1989) Saenger H.L., Max-Planck-Institut fuer Biochemie, Am Klopferspitz, D-8033 Martinsried bei Muenchen, FRG']\n",
      "['None', 'None', 'NCBI Genome Project', 'None']\n",
      "['None', 'None', 'None', 'None']\n"
     ]
    }
   ],
   "source": [
    "print(ID)\n",
    "print(Pubmed)\n",
    "print(Authors)\n",
    "print(Title)\n",
    "print(Journal)\n",
    "print(Consortium)\n",
    "print(Remark)"
   ]
  },
  {
   "cell_type": "code",
   "execution_count": 28,
   "metadata": {},
   "outputs": [
    {
     "ename": "ProgrammingError",
     "evalue": "1064 (42000): You have an error in your SQL syntax; check the manual that corresponds to your MySQL server version for the right syntax to use near 'references (ID, Pubmed, ID_authors, Title, Journal, Consortium, Remark)\n        ' at line 1",
     "output_type": "error",
     "traceback": [
      "\u001b[0;31m---------------------------------------------------------------------------\u001b[0m",
      "\u001b[0;31mMySQLInterfaceError\u001b[0m                       Traceback (most recent call last)",
      "File \u001b[0;32m~/anaconda3/envs/mestrado_final/lib/python3.9/site-packages/mysql/connector/connection_cext.py:565\u001b[0m, in \u001b[0;36mCMySQLConnection.cmd_query\u001b[0;34m(self, query, raw, buffered, raw_as_string)\u001b[0m\n\u001b[1;32m    564\u001b[0m         query \u001b[39m=\u001b[39m query\u001b[39m.\u001b[39mencode(\u001b[39m\"\u001b[39m\u001b[39mutf-8\u001b[39m\u001b[39m\"\u001b[39m)\n\u001b[0;32m--> 565\u001b[0m     \u001b[39mself\u001b[39;49m\u001b[39m.\u001b[39;49m_cmysql\u001b[39m.\u001b[39;49mquery(\n\u001b[1;32m    566\u001b[0m         query,\n\u001b[1;32m    567\u001b[0m         raw\u001b[39m=\u001b[39;49mraw,\n\u001b[1;32m    568\u001b[0m         buffered\u001b[39m=\u001b[39;49mbuffered,\n\u001b[1;32m    569\u001b[0m         raw_as_string\u001b[39m=\u001b[39;49mraw_as_string,\n\u001b[1;32m    570\u001b[0m         query_attrs\u001b[39m=\u001b[39;49m\u001b[39mself\u001b[39;49m\u001b[39m.\u001b[39;49m_query_attrs,\n\u001b[1;32m    571\u001b[0m     )\n\u001b[1;32m    572\u001b[0m \u001b[39mexcept\u001b[39;00m MySQLInterfaceError \u001b[39mas\u001b[39;00m err:\n",
      "\u001b[0;31mMySQLInterfaceError\u001b[0m: You have an error in your SQL syntax; check the manual that corresponds to your MySQL server version for the right syntax to use near 'references (ID, Pubmed, ID_authors, Title, Journal, Consortium, Remark)\n        ' at line 1",
      "\nThe above exception was the direct cause of the following exception:\n",
      "\u001b[0;31mProgrammingError\u001b[0m                          Traceback (most recent call last)",
      "\u001b[1;32m/home/sa_bruno/Documentos/GitHub/Projeto_Algoritmos-Introducao/IAP/Final/Final.ipynb Cell 35\u001b[0m in \u001b[0;36m<cell line: 2>\u001b[0;34m()\u001b[0m\n\u001b[1;32m      <a href='vscode-notebook-cell:/home/sa_bruno/Documentos/GitHub/Projeto_Algoritmos-Introducao/IAP/Final/Final.ipynb#X46sZmlsZQ%3D%3D?line=0'>1</a>\u001b[0m reference_count \u001b[39m=\u001b[39m \u001b[39m0\u001b[39m                  \u001b[39m# erro weird \u001b[39;00m\n\u001b[1;32m      <a href='vscode-notebook-cell:/home/sa_bruno/Documentos/GitHub/Projeto_Algoritmos-Introducao/IAP/Final/Final.ipynb#X46sZmlsZQ%3D%3D?line=1'>2</a>\u001b[0m \u001b[39mfor\u001b[39;00m c \u001b[39min\u001b[39;00m Pubmed:    \n\u001b[0;32m----> <a href='vscode-notebook-cell:/home/sa_bruno/Documentos/GitHub/Projeto_Algoritmos-Introducao/IAP/Final/Final.ipynb#X46sZmlsZQ%3D%3D?line=2'>3</a>\u001b[0m         cur\u001b[39m.\u001b[39;49mexecute(\u001b[39m\"\"\"\u001b[39;49m\n\u001b[1;32m      <a href='vscode-notebook-cell:/home/sa_bruno/Documentos/GitHub/Projeto_Algoritmos-Introducao/IAP/Final/Final.ipynb#X46sZmlsZQ%3D%3D?line=3'>4</a>\u001b[0m \u001b[39m                INSERT INTO references (ID, Pubmed, ID_authors, Title, Journal, Consortium, Remark)\u001b[39;49m\n\u001b[1;32m      <a href='vscode-notebook-cell:/home/sa_bruno/Documentos/GitHub/Projeto_Algoritmos-Introducao/IAP/Final/Final.ipynb#X46sZmlsZQ%3D%3D?line=4'>5</a>\u001b[0m \u001b[39m                VALUES (\u001b[39;49m\u001b[39m%s\u001b[39;49;00m\u001b[39m, \u001b[39;49m\u001b[39m%s\u001b[39;49;00m\u001b[39m, \u001b[39;49m\u001b[39m%s\u001b[39;49;00m\u001b[39m, \u001b[39;49m\u001b[39m%s\u001b[39;49;00m\u001b[39m, \u001b[39;49m\u001b[39m%s\u001b[39;49;00m\u001b[39m, \u001b[39;49m\u001b[39m%s\u001b[39;49;00m\u001b[39m, \u001b[39;49m\u001b[39m%s\u001b[39;49;00m\u001b[39m)\u001b[39;49m\n\u001b[1;32m      <a href='vscode-notebook-cell:/home/sa_bruno/Documentos/GitHub/Projeto_Algoritmos-Introducao/IAP/Final/Final.ipynb#X46sZmlsZQ%3D%3D?line=5'>6</a>\u001b[0m \u001b[39m                \u001b[39;49m\u001b[39m\"\"\"\u001b[39;49m,\n\u001b[1;32m      <a href='vscode-notebook-cell:/home/sa_bruno/Documentos/GitHub/Projeto_Algoritmos-Introducao/IAP/Final/Final.ipynb#X46sZmlsZQ%3D%3D?line=6'>7</a>\u001b[0m                 (ID \u001b[39m+\u001b[39;49m \u001b[39mf\u001b[39;49m\u001b[39m\"\u001b[39;49m\u001b[39m_\u001b[39;49m\u001b[39m{\u001b[39;49;00mreference_count\u001b[39m}\u001b[39;49;00m\u001b[39m\"\u001b[39;49m, \u001b[39mstr\u001b[39;49m(Pubmed[reference_count]), \u001b[39mstr\u001b[39;49m(Authors[reference_count]), \u001b[39mstr\u001b[39;49m(Title[reference_count]), \u001b[39mstr\u001b[39;49m(Journal[reference_count]), \u001b[39mstr\u001b[39;49m(Consortium[reference_count]), \u001b[39mstr\u001b[39;49m(Remark[reference_count])))\n\u001b[1;32m      <a href='vscode-notebook-cell:/home/sa_bruno/Documentos/GitHub/Projeto_Algoritmos-Introducao/IAP/Final/Final.ipynb#X46sZmlsZQ%3D%3D?line=7'>8</a>\u001b[0m         reference_count \u001b[39m+\u001b[39m\u001b[39m=\u001b[39m \u001b[39m1\u001b[39m\n",
      "File \u001b[0;32m~/anaconda3/envs/mestrado_final/lib/python3.9/site-packages/mysql/connector/cursor_cext.py:279\u001b[0m, in \u001b[0;36mCMySQLCursor.execute\u001b[0;34m(self, operation, params, multi)\u001b[0m\n\u001b[1;32m    274\u001b[0m             \u001b[39mraise\u001b[39;00m ProgrammingError(\n\u001b[1;32m    275\u001b[0m                 \u001b[39m\"\u001b[39m\u001b[39mNot all parameters were used in the SQL statement\u001b[39m\u001b[39m\"\u001b[39m\n\u001b[1;32m    276\u001b[0m             )\n\u001b[1;32m    278\u001b[0m \u001b[39mtry\u001b[39;00m:\n\u001b[0;32m--> 279\u001b[0m     result \u001b[39m=\u001b[39m \u001b[39mself\u001b[39;49m\u001b[39m.\u001b[39;49m_cnx\u001b[39m.\u001b[39;49mcmd_query(\n\u001b[1;32m    280\u001b[0m         stmt,\n\u001b[1;32m    281\u001b[0m         raw\u001b[39m=\u001b[39;49m\u001b[39mself\u001b[39;49m\u001b[39m.\u001b[39;49m_raw,\n\u001b[1;32m    282\u001b[0m         buffered\u001b[39m=\u001b[39;49m\u001b[39mself\u001b[39;49m\u001b[39m.\u001b[39;49m_buffered,\n\u001b[1;32m    283\u001b[0m         raw_as_string\u001b[39m=\u001b[39;49m\u001b[39mself\u001b[39;49m\u001b[39m.\u001b[39;49m_raw_as_string,\n\u001b[1;32m    284\u001b[0m     )\n\u001b[1;32m    285\u001b[0m \u001b[39mexcept\u001b[39;00m MySQLInterfaceError \u001b[39mas\u001b[39;00m err:\n\u001b[1;32m    286\u001b[0m     \u001b[39mraise\u001b[39;00m get_mysql_exception(\n\u001b[1;32m    287\u001b[0m         msg\u001b[39m=\u001b[39merr\u001b[39m.\u001b[39mmsg, errno\u001b[39m=\u001b[39merr\u001b[39m.\u001b[39merrno, sqlstate\u001b[39m=\u001b[39merr\u001b[39m.\u001b[39msqlstate\n\u001b[1;32m    288\u001b[0m     ) \u001b[39mfrom\u001b[39;00m \u001b[39merr\u001b[39;00m\n",
      "File \u001b[0;32m~/anaconda3/envs/mestrado_final/lib/python3.9/site-packages/mysql/connector/connection_cext.py:573\u001b[0m, in \u001b[0;36mCMySQLConnection.cmd_query\u001b[0;34m(self, query, raw, buffered, raw_as_string)\u001b[0m\n\u001b[1;32m    565\u001b[0m     \u001b[39mself\u001b[39m\u001b[39m.\u001b[39m_cmysql\u001b[39m.\u001b[39mquery(\n\u001b[1;32m    566\u001b[0m         query,\n\u001b[1;32m    567\u001b[0m         raw\u001b[39m=\u001b[39mraw,\n\u001b[0;32m   (...)\u001b[0m\n\u001b[1;32m    570\u001b[0m         query_attrs\u001b[39m=\u001b[39m\u001b[39mself\u001b[39m\u001b[39m.\u001b[39m_query_attrs,\n\u001b[1;32m    571\u001b[0m     )\n\u001b[1;32m    572\u001b[0m \u001b[39mexcept\u001b[39;00m MySQLInterfaceError \u001b[39mas\u001b[39;00m err:\n\u001b[0;32m--> 573\u001b[0m     \u001b[39mraise\u001b[39;00m get_mysql_exception(\n\u001b[1;32m    574\u001b[0m         err\u001b[39m.\u001b[39merrno, msg\u001b[39m=\u001b[39merr\u001b[39m.\u001b[39mmsg, sqlstate\u001b[39m=\u001b[39merr\u001b[39m.\u001b[39msqlstate\n\u001b[1;32m    575\u001b[0m     ) \u001b[39mfrom\u001b[39;00m \u001b[39merr\u001b[39;00m\n\u001b[1;32m    576\u001b[0m \u001b[39mexcept\u001b[39;00m \u001b[39mAttributeError\u001b[39;00m \u001b[39mas\u001b[39;00m err:\n\u001b[1;32m    577\u001b[0m     addr \u001b[39m=\u001b[39m (\n\u001b[1;32m    578\u001b[0m         \u001b[39mself\u001b[39m\u001b[39m.\u001b[39m_unix_socket \u001b[39mif\u001b[39;00m \u001b[39mself\u001b[39m\u001b[39m.\u001b[39m_unix_socket \u001b[39melse\u001b[39;00m \u001b[39mf\u001b[39m\u001b[39m\"\u001b[39m\u001b[39m{\u001b[39;00m\u001b[39mself\u001b[39m\u001b[39m.\u001b[39m_host\u001b[39m}\u001b[39;00m\u001b[39m:\u001b[39m\u001b[39m{\u001b[39;00m\u001b[39mself\u001b[39m\u001b[39m.\u001b[39m_port\u001b[39m}\u001b[39;00m\u001b[39m\"\u001b[39m\n\u001b[1;32m    579\u001b[0m     )\n",
      "\u001b[0;31mProgrammingError\u001b[0m: 1064 (42000): You have an error in your SQL syntax; check the manual that corresponds to your MySQL server version for the right syntax to use near 'references (ID, Pubmed, ID_authors, Title, Journal, Consortium, Remark)\n        ' at line 1"
     ]
    }
   ],
   "source": [
    "reference_count = 0                  # erro weird \n",
    "for c in Pubmed:    \n",
    "        cur.execute(\"\"\"\n",
    "                INSERT INTO references (ID, Pubmed, ID_authors, Title, Journal, Consortium, Remark)\n",
    "                VALUES (%s, %s, %s, %s, %s, %s, %s)\n",
    "                \"\"\",\n",
    "                (ID + f\"_{reference_count}\", str(Pubmed[reference_count]), str(Authors[reference_count]), str(Title[reference_count]), str(Journal[reference_count]), str(Consortium[reference_count]), str(Remark[reference_count])))\n",
    "        reference_count += 1"
   ]
  },
  {
   "attachments": {},
   "cell_type": "markdown",
   "metadata": {},
   "source": [
    "# Tabela Authors\n"
   ]
  },
  {
   "cell_type": "code",
   "execution_count": 29,
   "metadata": {},
   "outputs": [
    {
     "ename": "ProgrammingError",
     "evalue": "1054 (42S22): Unknown column 'ID_authors' in 'field list'",
     "output_type": "error",
     "traceback": [
      "\u001b[0;31m---------------------------------------------------------------------------\u001b[0m",
      "\u001b[0;31mMySQLInterfaceError\u001b[0m                       Traceback (most recent call last)",
      "File \u001b[0;32m~/anaconda3/envs/mestrado_final/lib/python3.9/site-packages/mysql/connector/connection_cext.py:565\u001b[0m, in \u001b[0;36mCMySQLConnection.cmd_query\u001b[0;34m(self, query, raw, buffered, raw_as_string)\u001b[0m\n\u001b[1;32m    564\u001b[0m         query \u001b[39m=\u001b[39m query\u001b[39m.\u001b[39mencode(\u001b[39m\"\u001b[39m\u001b[39mutf-8\u001b[39m\u001b[39m\"\u001b[39m)\n\u001b[0;32m--> 565\u001b[0m     \u001b[39mself\u001b[39;49m\u001b[39m.\u001b[39;49m_cmysql\u001b[39m.\u001b[39;49mquery(\n\u001b[1;32m    566\u001b[0m         query,\n\u001b[1;32m    567\u001b[0m         raw\u001b[39m=\u001b[39;49mraw,\n\u001b[1;32m    568\u001b[0m         buffered\u001b[39m=\u001b[39;49mbuffered,\n\u001b[1;32m    569\u001b[0m         raw_as_string\u001b[39m=\u001b[39;49mraw_as_string,\n\u001b[1;32m    570\u001b[0m         query_attrs\u001b[39m=\u001b[39;49m\u001b[39mself\u001b[39;49m\u001b[39m.\u001b[39;49m_query_attrs,\n\u001b[1;32m    571\u001b[0m     )\n\u001b[1;32m    572\u001b[0m \u001b[39mexcept\u001b[39;00m MySQLInterfaceError \u001b[39mas\u001b[39;00m err:\n",
      "\u001b[0;31mMySQLInterfaceError\u001b[0m: Unknown column 'ID_authors' in 'field list'",
      "\nThe above exception was the direct cause of the following exception:\n",
      "\u001b[0;31mProgrammingError\u001b[0m                          Traceback (most recent call last)",
      "\u001b[1;32m/home/sa_bruno/Documentos/GitHub/Projeto_Algoritmos-Introducao/IAP/Final/Final.ipynb Cell 37\u001b[0m in \u001b[0;36m<cell line: 1>\u001b[0;34m()\u001b[0m\n\u001b[1;32m      <a href='vscode-notebook-cell:/home/sa_bruno/Documentos/GitHub/Projeto_Algoritmos-Introducao/IAP/Final/Final.ipynb#X51sZmlsZQ%3D%3D?line=0'>1</a>\u001b[0m \u001b[39mfor\u001b[39;00m c \u001b[39min\u001b[39;00m Authors:\n\u001b[1;32m      <a href='vscode-notebook-cell:/home/sa_bruno/Documentos/GitHub/Projeto_Algoritmos-Introducao/IAP/Final/Final.ipynb#X51sZmlsZQ%3D%3D?line=1'>2</a>\u001b[0m         \u001b[39mfor\u001b[39;00m i, a \u001b[39min\u001b[39;00m \u001b[39menumerate\u001b[39m(c):\n\u001b[0;32m----> <a href='vscode-notebook-cell:/home/sa_bruno/Documentos/GitHub/Projeto_Algoritmos-Introducao/IAP/Final/Final.ipynb#X51sZmlsZQ%3D%3D?line=2'>3</a>\u001b[0m                 cur\u001b[39m.\u001b[39;49mexecute(\u001b[39m\"\"\"\u001b[39;49m\n\u001b[1;32m      <a href='vscode-notebook-cell:/home/sa_bruno/Documentos/GitHub/Projeto_Algoritmos-Introducao/IAP/Final/Final.ipynb#X51sZmlsZQ%3D%3D?line=3'>4</a>\u001b[0m \u001b[39m        INSERT INTO Authors (ID_authors, Names)    \u001b[39;49m\n\u001b[1;32m      <a href='vscode-notebook-cell:/home/sa_bruno/Documentos/GitHub/Projeto_Algoritmos-Introducao/IAP/Final/Final.ipynb#X51sZmlsZQ%3D%3D?line=4'>5</a>\u001b[0m \u001b[39m        VALUES (\u001b[39;49m\u001b[39m%s\u001b[39;49;00m\u001b[39m, \u001b[39;49m\u001b[39m%s\u001b[39;49;00m\u001b[39m)\u001b[39;49m\n\u001b[1;32m      <a href='vscode-notebook-cell:/home/sa_bruno/Documentos/GitHub/Projeto_Algoritmos-Introducao/IAP/Final/Final.ipynb#X51sZmlsZQ%3D%3D?line=5'>6</a>\u001b[0m \u001b[39m        \u001b[39;49m\u001b[39m\"\"\"\u001b[39;49m,\n\u001b[1;32m      <a href='vscode-notebook-cell:/home/sa_bruno/Documentos/GitHub/Projeto_Algoritmos-Introducao/IAP/Final/Final.ipynb#X51sZmlsZQ%3D%3D?line=6'>7</a>\u001b[0m                 (\u001b[39mstr\u001b[39;49m(c) \u001b[39m+\u001b[39;49m \u001b[39mf\u001b[39;49m\u001b[39m\"\u001b[39;49m\u001b[39m_\u001b[39;49m\u001b[39m{\u001b[39;49;00mi\u001b[39m}\u001b[39;49;00m\u001b[39m\"\u001b[39;49m, \u001b[39mstr\u001b[39;49m(a)))\n",
      "File \u001b[0;32m~/anaconda3/envs/mestrado_final/lib/python3.9/site-packages/mysql/connector/cursor_cext.py:279\u001b[0m, in \u001b[0;36mCMySQLCursor.execute\u001b[0;34m(self, operation, params, multi)\u001b[0m\n\u001b[1;32m    274\u001b[0m             \u001b[39mraise\u001b[39;00m ProgrammingError(\n\u001b[1;32m    275\u001b[0m                 \u001b[39m\"\u001b[39m\u001b[39mNot all parameters were used in the SQL statement\u001b[39m\u001b[39m\"\u001b[39m\n\u001b[1;32m    276\u001b[0m             )\n\u001b[1;32m    278\u001b[0m \u001b[39mtry\u001b[39;00m:\n\u001b[0;32m--> 279\u001b[0m     result \u001b[39m=\u001b[39m \u001b[39mself\u001b[39;49m\u001b[39m.\u001b[39;49m_cnx\u001b[39m.\u001b[39;49mcmd_query(\n\u001b[1;32m    280\u001b[0m         stmt,\n\u001b[1;32m    281\u001b[0m         raw\u001b[39m=\u001b[39;49m\u001b[39mself\u001b[39;49m\u001b[39m.\u001b[39;49m_raw,\n\u001b[1;32m    282\u001b[0m         buffered\u001b[39m=\u001b[39;49m\u001b[39mself\u001b[39;49m\u001b[39m.\u001b[39;49m_buffered,\n\u001b[1;32m    283\u001b[0m         raw_as_string\u001b[39m=\u001b[39;49m\u001b[39mself\u001b[39;49m\u001b[39m.\u001b[39;49m_raw_as_string,\n\u001b[1;32m    284\u001b[0m     )\n\u001b[1;32m    285\u001b[0m \u001b[39mexcept\u001b[39;00m MySQLInterfaceError \u001b[39mas\u001b[39;00m err:\n\u001b[1;32m    286\u001b[0m     \u001b[39mraise\u001b[39;00m get_mysql_exception(\n\u001b[1;32m    287\u001b[0m         msg\u001b[39m=\u001b[39merr\u001b[39m.\u001b[39mmsg, errno\u001b[39m=\u001b[39merr\u001b[39m.\u001b[39merrno, sqlstate\u001b[39m=\u001b[39merr\u001b[39m.\u001b[39msqlstate\n\u001b[1;32m    288\u001b[0m     ) \u001b[39mfrom\u001b[39;00m \u001b[39merr\u001b[39;00m\n",
      "File \u001b[0;32m~/anaconda3/envs/mestrado_final/lib/python3.9/site-packages/mysql/connector/connection_cext.py:573\u001b[0m, in \u001b[0;36mCMySQLConnection.cmd_query\u001b[0;34m(self, query, raw, buffered, raw_as_string)\u001b[0m\n\u001b[1;32m    565\u001b[0m     \u001b[39mself\u001b[39m\u001b[39m.\u001b[39m_cmysql\u001b[39m.\u001b[39mquery(\n\u001b[1;32m    566\u001b[0m         query,\n\u001b[1;32m    567\u001b[0m         raw\u001b[39m=\u001b[39mraw,\n\u001b[0;32m   (...)\u001b[0m\n\u001b[1;32m    570\u001b[0m         query_attrs\u001b[39m=\u001b[39m\u001b[39mself\u001b[39m\u001b[39m.\u001b[39m_query_attrs,\n\u001b[1;32m    571\u001b[0m     )\n\u001b[1;32m    572\u001b[0m \u001b[39mexcept\u001b[39;00m MySQLInterfaceError \u001b[39mas\u001b[39;00m err:\n\u001b[0;32m--> 573\u001b[0m     \u001b[39mraise\u001b[39;00m get_mysql_exception(\n\u001b[1;32m    574\u001b[0m         err\u001b[39m.\u001b[39merrno, msg\u001b[39m=\u001b[39merr\u001b[39m.\u001b[39mmsg, sqlstate\u001b[39m=\u001b[39merr\u001b[39m.\u001b[39msqlstate\n\u001b[1;32m    575\u001b[0m     ) \u001b[39mfrom\u001b[39;00m \u001b[39merr\u001b[39;00m\n\u001b[1;32m    576\u001b[0m \u001b[39mexcept\u001b[39;00m \u001b[39mAttributeError\u001b[39;00m \u001b[39mas\u001b[39;00m err:\n\u001b[1;32m    577\u001b[0m     addr \u001b[39m=\u001b[39m (\n\u001b[1;32m    578\u001b[0m         \u001b[39mself\u001b[39m\u001b[39m.\u001b[39m_unix_socket \u001b[39mif\u001b[39;00m \u001b[39mself\u001b[39m\u001b[39m.\u001b[39m_unix_socket \u001b[39melse\u001b[39;00m \u001b[39mf\u001b[39m\u001b[39m\"\u001b[39m\u001b[39m{\u001b[39;00m\u001b[39mself\u001b[39m\u001b[39m.\u001b[39m_host\u001b[39m}\u001b[39;00m\u001b[39m:\u001b[39m\u001b[39m{\u001b[39;00m\u001b[39mself\u001b[39m\u001b[39m.\u001b[39m_port\u001b[39m}\u001b[39;00m\u001b[39m\"\u001b[39m\n\u001b[1;32m    579\u001b[0m     )\n",
      "\u001b[0;31mProgrammingError\u001b[0m: 1054 (42S22): Unknown column 'ID_authors' in 'field list'"
     ]
    }
   ],
   "source": [
    "for c in Authors:\n",
    "        for i, a in enumerate(c):\n",
    "                cur.execute(\"\"\"\n",
    "        INSERT INTO Authors (ID_authors, Names)    \n",
    "        VALUES (%s, %s)\n",
    "        \"\"\",\n",
    "                (str(c) + f\"_{i}\", str(a)))"
   ]
  },
  {
   "attachments": {},
   "cell_type": "markdown",
   "metadata": {},
   "source": [
    "# Tabela Pubmed_Info"
   ]
  },
  {
   "cell_type": "code",
   "execution_count": 30,
   "metadata": {},
   "outputs": [],
   "source": [
    "Abstract = []                        # mudar para cada referenias \n",
    "DOI = []\n",
    "Affiliation = []\n",
    "for c in Pubmed:\n",
    "    if c != \"None\":\n",
    "        Entrez.email = 'sa.bruno.2001@gmail.com'\n",
    "        # handle = Entrez.efetch(db='pubmed',retmode='xml',id=\"15496913\")\n",
    "        handle = Entrez.efetch(db='pubmed',retmode='xml',id=c)\n",
    "        resultado = Entrez.read(handle)\n",
    "        q = str(resultado[\"PubmedArticle\"][0])\n",
    "        \n",
    "        if re.search(r\"AbstractText.:\\s+\\['([\\w\\s,\\.\\(\\)%-:]+)\", q):\n",
    "            o = re.search(r\"AbstractText.:\\s+\\['([\\w\\s,\\.\\(\\)%-:]+)\", q)\n",
    "            Abstract.append(o.group(1))\n",
    "        else:\n",
    "            Abstract.append(\"None\")\n",
    "        \n",
    "        if re.search(r\"'pubmed'}.,\\s+StringElement.'([\\d\\w\\./]+)\" , q):\n",
    "            p = re.search(r\"'pubmed'}.,\\s+StringElement.'([\\d\\w\\./]+)\" , q)\n",
    "            DOI.append(p.group(1))\n",
    "        else:\n",
    "            DOI.append(\"None\")\n",
    "\n",
    "        if re.search(r\"'Affiliation':\\s+'([,\\s\\d\\w\\./]+)\" , q):\n",
    "            t = re.search(r\"'Affiliation':\\s+'([,\\s\\d\\w\\./]+)\" , q)\n",
    "            Affiliation.append(t.group(1))\n",
    "        else:\n",
    "            Affiliation.append(\"None\")\n",
    "    if c == \"None\":\n",
    "            Abstract.append(\"None\")\n",
    "            DOI.append(\"None\")\n",
    "            Affiliation.append(\"None\")\n",
    "\n"
   ]
  },
  {
   "cell_type": "code",
   "execution_count": null,
   "metadata": {},
   "outputs": [
    {
     "name": "stdout",
     "output_type": "stream",
     "text": [
      "['1754400', 'None', 'None', 'None']\n",
      "['Primary and secondary structure of citrus viroid IV (CVd IV)', 'Citrus Viroid IV (CVd IV)', 'Direct Submission', 'Direct Submission']\n",
      "['None', 'None', 'None', 'None']\n",
      "['PMC329237', 'None', 'None', 'None']\n"
     ]
    }
   ],
   "source": [
    "print(Pubmed)\n",
    "print(Title)\n",
    "print(Abstract)\n",
    "print(DOI)\n"
   ]
  },
  {
   "cell_type": "code",
   "execution_count": null,
   "metadata": {},
   "outputs": [],
   "source": [
    "# try:\n",
    "#         pubmed_count= 0\n",
    "#         for c in Pubmed:\n",
    "#                 cur.execute(\"\"\"\n",
    "#                         INSERT INTO Pubmed_Info (ID_pubmed, Title, Abstract, DOI)   \n",
    "#                         VALUES (%s, %s, %s, %s)\n",
    "#                         \"\"\",\n",
    "#                         (Pubmed[pubmed_count] + f\"_{pubmed_count}\", Title[pubmed_count], Abstract[pubmed_count], DOI[pubmed_count]))   \n",
    "#         if c != \"None\":\n",
    "#                 pubmed_count += 1\n",
    "# except:\n",
    "#         print(\"Erro Povoar Pubmed\")"
   ]
  },
  {
   "cell_type": "code",
   "execution_count": null,
   "metadata": {},
   "outputs": [],
   "source": [
    "pubmed_count= 0\n",
    "for c in Pubmed :\n",
    "        if c != \"None\":\n",
    "                cur.execute(\"\"\"\n",
    "                        INSERT INTO Pubmed_Info (ID_pubmed, Title, Abstract, DOI, Affiliation)   \n",
    "                        VALUES (%s, %s, %s, %s, %s)\n",
    "                        \"\"\",\n",
    "                        (Pubmed[pubmed_count], Title[pubmed_count], Abstract[pubmed_count], DOI[pubmed_count], Affiliation[pubmed_count]))  \n",
    "                pubmed_count += 1 \n",
    "        else:\n",
    "                pubmed_count += 1"
   ]
  },
  {
   "attachments": {},
   "cell_type": "markdown",
   "metadata": {},
   "source": [
    "# Lixo para baixo"
   ]
  },
  {
   "cell_type": "code",
   "execution_count": null,
   "metadata": {},
   "outputs": [],
   "source": [
    "#     cur.execute(\"\"\"\n",
    "#         INSERT INTO Authors (ID_authors, Affiliation)    \n",
    "#         VALUES (%s, %s, %s))\n",
    "#         \"\"\",\n",
    "#         (Authors, Affiliation))    "
   ]
  }
 ],
 "metadata": {
  "kernelspec": {
   "display_name": "mestrado_final",
   "language": "python",
   "name": "python3"
  },
  "language_info": {
   "codemirror_mode": {
    "name": "ipython",
    "version": 3
   },
   "file_extension": ".py",
   "mimetype": "text/x-python",
   "name": "python",
   "nbconvert_exporter": "python",
   "pygments_lexer": "ipython3",
   "version": "3.9.13"
  },
  "orig_nbformat": 4,
  "vscode": {
   "interpreter": {
    "hash": "f2307cf6e279acbb4fe5a904c1ba66075afa04f4e5f00d0d9abed1d852b5aca9"
   }
  }
 },
 "nbformat": 4,
 "nbformat_minor": 2
}
