{
 "cells": [
  {
   "cell_type": "markdown",
   "metadata": {},
   "source": [
    "### Recolher dados da Web\n",
    "\n",
    "Neste notebook vamos sistematizar a recolha de dados a partir do site do Genbank.\n",
    "\n",
    "Dado uma determinada sequência, identificada por um id, por exemplo, quer-se ir ao site descarregar o respetivo registo, tratá-lo (somo já fizemos) e depois inserir as partes relevantes em base de dados.\n",
    "\n",
    "Exemplos de links para sequências:\n",
    "- https://www.ncbi.nlm.nih.gov/nuccore/L42022\n",
    "- https://www.ncbi.nlm.nih.gov/nuccore/L42023\n",
    "- https://www.ncbi.nlm.nih.gov/nuccore/LC740868.1\n",
    "\n",
    "Depois de se pedir este link, dentro da página, em Javascript, é feito um outro pedido ao servidor a pedir o record da sequência.\n",
    "\n",
    "Exemplo:\n",
    "- https://www.ncbi.nlm.nih.gov/sviewer/viewer.cgi?tool=portal&save=file&log$=seqview&db=nuccore&report=genbank&id=804715&conwithfeat=on&hide-cdd=on&ncbi_phid=null"
   ]
  },
  {
   "cell_type": "markdown",
   "metadata": {},
   "source": [
    "No exemplo seguinte,. pede-se a página, mas a mesma não contém o registo que nos interessa.\n",
    "\n",
    "O registo é carregado assincronamente, através de programação Javascript."
   ]
  },
  {
   "cell_type": "code",
   "execution_count": null,
   "metadata": {},
   "outputs": [],
   "source": [
    "import requests\n",
    "r = requests.get('https://www.ncbi.nlm.nih.gov/nuccore/PA500505.1')\n",
    "print(r.content)"
   ]
  },
  {
   "cell_type": "markdown",
   "metadata": {},
   "source": [
    "No exemplo seguinte,. em vez de se pedir a página que contém o registo, pede-se apenas o registo, depois de percebermos como o mesmo é pedido."
   ]
  },
  {
   "cell_type": "code",
   "execution_count": null,
   "metadata": {},
   "outputs": [],
   "source": [
    "# pip3 install html5lib\n",
    "\n",
    "import requests\n",
    "from bs4 import BeautifulSoup\n",
    "\n",
    "# Making a GET request\n",
    "r = requests.get('https://www.ncbi.nlm.nih.gov/sviewer/viewer.fcgi?id=2246533317&db=nuccore&report=genbank&conwithfeat=on&hide-cdd=on&retmode=text&ncbi_phid=CE88F25338A215A1000000000483042A&withmarkup=on&tool=portal&log$=seqview&maxdownloadsize=1000000')\n",
    "#r = requests.get('https://www.ncbi.nlm.nih.gov/sviewer/viewer.fcgi?id=804715&db=nuccore&report=genbank&conwithfeat=on&hide-cdd=on&retmode=html&ncbi_phid=CE8B6449389BE9F100000000068605EB&withmarkup=on&tool=portal&log$=seqview&maxdownloadsize=1000000')\n",
    "\n",
    "print( r.content ) \n",
    "\n",
    "\n"
   ]
  },
  {
   "cell_type": "markdown",
   "metadata": {},
   "source": [
    "### Problema\n",
    "\n",
    "Ao pedir a página, não vem a registo da sequência.\n",
    "\n",
    "Para pedir o registo, o mesmo pede-se por um id (um número interno) que é diferente do id da sequência (L42022, por exemplo).\n",
    "\n",
    "### Solução\n",
    "\n",
    "A solução passa por fazer dois pedidos. No primeiro, pede-se a página e extrai-se apenas o id numérico interno, associado à sequência. Esse id interno é então usado para se fazer o segundo pedido.\n",
    "\n"
   ]
  },
  {
   "cell_type": "code",
   "execution_count": null,
   "metadata": {},
   "outputs": [],
   "source": [
    "# pip3 install html5lib\n",
    "def get_file(url):\n",
    "\timport requests\n",
    "\tfrom bs4 import BeautifulSoup\n",
    "\n",
    "\t# Making a GET request\n",
    "\tr = requests.get(url)\n",
    "\t# Parsing the HTML\n",
    "\tsoup = BeautifulSoup(r.content, 'html.parser')\n",
    "\n",
    "\t# Procurar um tag meta com um determinado atributo\n",
    "\tlines = soup.find_all('meta', {'name':\"ncbi_uidlist\"} )\n",
    "\n",
    "\tid = \"\"\n",
    "\turl = \"\"\n",
    "\tfor line in lines:\n",
    "\t\t# print(line)\n",
    "\t\t# if 'name' in line.attrs:\n",
    "\t\t# \tprint(line.attrs['name'])\n",
    "\t\tif 'content' in line.attrs:\n",
    "\t\t\t# print(line.attrs['content'])\t\t\n",
    "\t\t\tid = line.attrs['content']\n",
    "\n",
    "\tif id:\n",
    "\t\turl = \"https://www.ncbi.nlm.nih.gov/sviewer/viewer.fcgi?id={}&db=nuccore&report=genbank&conwithfeat=on&hide-cdd=on&retmode=text&maxdownloadsize=5000000\".format(id)\n",
    "\n",
    "\tr2 = requests.get( url )\n",
    "\n",
    "\treturn print(r2.content)\n",
    "\n",
    "get_file(\"https://www.ncbi.nlm.nih.gov/nuccore/L42200\")\n",
    "\n"
   ]
  },
  {
   "cell_type": "code",
   "execution_count": 82,
   "metadata": {},
   "outputs": [
    {
     "name": "stdout",
     "output_type": "stream",
     "text": [
      "b'LOCUS       HLICPITSAD               249 bp    DNA     linear   PLN 07-JUL-2003\n",
      "DEFINITION  Heliamphora minor chloroplast internal transcribed spacer 2,\n",
      "            partial sequence.\n",
      "ACCESSION   L42200\n",
      "VERSION     L42200.2\n",
      "KEYWORDS    .\n",
      "SOURCE      chloroplast Heliamphora minor\n",
      "  ORGANISM  Heliamphora minor\n",
      "            Eukaryota; Viridiplantae; Streptophyta; Embryophyta; Tracheophyta;\n",
      "            Spermatophyta; Magnoliopsida; eudicotyledons; Gunneridae;\n",
      "            Pentapetalae; asterids; Ericales; Sarraceniaceae; Heliamphora.\n",
      "REFERENCE   1  (bases 1 to 249)\n",
      "  AUTHORS   Bayer,R.J., Hufford,L. and Soltis,D.E.\n",
      "  TITLE     Phylogenetic relationships in Sarraceniaceae based on rbcL and ITS\n",
      "            sequences\n",
      "  JOURNAL   Syst. Bot. 21 (2), 121-134 (1996)\n",
      "REFERENCE   2  (bases 1 to 249)\n",
      "  AUTHORS   Bayer,R.J.\n",
      "  TITLE     The implications of morphological and molecular sequence data from\n",
      "            cpDNA and nrDNA for phylogeny reconstruction in Sarraceniaceae\n",
      "  JOURNAL   Unpublished\n",
      "COMMENT     On Jul 7, 2003 this sequence version replaced L42200.1.\n",
      "FEATURES             Location/Qualifiers\n",
      "     source          1..249\n",
      "                     /organism=\"Heliamphora minor\"\n",
      "                     /organelle=\"plastid:chloroplast\"\n",
      "                     /mol_type=\"genomic DNA\"\n",
      "                     /db_xref=\"taxon:49997\"\n",
      "     misc_RNA        <1..>249\n",
      "                     /product=\"internal transcribed spacer 2; ITS2\"\n",
      "ORIGIN      \n",
      "        1 tctgcctggc gtcaactatt ttgtcaccct accttattgc ctcaccacag tgtaggtgag\n",
      "       61 cgatgggtgg ggcggatatt agccctccgt gcgcacttgt caacggttgg cctaaaaatg\n",
      "      121 agttcttgac gacacacgtt atgataagtg gtggttgaca aacgttgcat cctgtcatgc\n",
      "      181 gtgcccatgt cgccacaagt tagctcatat tttgacccta aagcaatgta ctgattgcga\n",
      "      241 ccccaggtc\n",
      "//\n",
      "\n",
      "'\n"
     ]
    }
   ],
   "source": [
    "# pip3 install html5lib      #modificado\n",
    "def get_file(url):\n",
    "\timport requests\n",
    "\tfrom bs4 import BeautifulSoup\n",
    "\n",
    "\t# Making a GET request\n",
    "\tr = requests.get(url)\n",
    "\t# Parsing the HTML\n",
    "\tsoup = BeautifulSoup(r.content, 'html.parser')\n",
    "\n",
    "\t# Procurar um tag meta com um determinado atributo\n",
    "\tlines = soup.find_all('meta', {'name':\"ncbi_uidlist\"} )\n",
    "\n",
    "\tid = \"\"\n",
    "\turl = \"\"\n",
    "\tfor line in lines:\n",
    "\t\t# print(line)\n",
    "\t\t# if 'name' in line.attrs:\n",
    "\t\t# \tprint(line.attrs['name'])\n",
    "\t\tif 'content' in line.attrs:\n",
    "\t\t\t# print(line.attrs['content'])\t\t\n",
    "\t\t\tid = line.attrs['content']\n",
    "\n",
    "\tif id:\n",
    "\t\turl = \"https://www.ncbi.nlm.nih.gov/sviewer/viewer.fcgi?id={}&db=nuccore&report=genbank&conwithfeat=on&hide-cdd=on&retmode=text&maxdownloadsize=5000000\".format(id)\n",
    "\n",
    "\tr2 = requests.get( url )\n",
    "\n",
    "\treturn r2.content\n",
    "\n",
    "# a = get_file(\"https://www.ncbi.nlm.nih.gov/nuccore/L42200\")\n",
    "b = str(a).replace(\"\\\\n\", \"\\n\")\n",
    "c = print(b)\n",
    "c"
   ]
  },
  {
   "cell_type": "code",
   "execution_count": null,
   "metadata": {},
   "outputs": [],
   "source": [
    "# pip3 install html5lib      #modificado\n",
    "def get_file(url):\n",
    "\timport requests\n",
    "\tfrom bs4 import BeautifulSoup\n",
    "\n",
    "\t# Making a GET request\n",
    "\tr = requests.get(url)\n",
    "\t# Parsing the HTML\n",
    "\tsoup = BeautifulSoup(r.content, 'html.parser')\n",
    "\n",
    "\t# Procurar um tag meta com um determinado atributo\n",
    "\tlines = soup.find_all('meta', {'name':\"ncbi_uidlist\"} )\n",
    "\n",
    "\tid = \"\"\n",
    "\turl = \"\"\n",
    "\tfor line in lines:\n",
    "\t\t# print(line)\n",
    "\t\t# if 'name' in line.attrs:\n",
    "\t\t# \tprint(line.attrs['name'])\n",
    "\t\tif 'content' in line.attrs:\n",
    "\t\t\t# print(line.attrs['content'])\t\t\n",
    "\t\t\tid = line.attrs['content']\n",
    "\n",
    "\tif id:\n",
    "\t\turl = \"https://www.ncbi.nlm.nih.gov/sviewer/viewer.fcgi?id={}&db=nuccore&report=genbank&conwithfeat=on&hide-cdd=on&retmode=text&maxdownloadsize=5000000\".format(id)\n",
    "\n",
    "\tr2 = requests.get( url )\n",
    "\n",
    "\treturn r2.content\n",
    "\n",
    "# a = get_file(\"https://www.ncbi.nlm.nih.gov/nuccore/L42200\")\n",
    "b = str(a).replace(\"\\\\n\", \"\\n\")\n",
    "c = print(b)\n",
    "c"
   ]
  },
  {
   "cell_type": "code",
   "execution_count": null,
   "metadata": {},
   "outputs": [],
   "source": [
    "# # pip3 install html5lib\n",
    "\n",
    "# import requests\n",
    "# from bs4 import BeautifulSoup\n",
    "\n",
    "\n",
    "# # Making a GET request\n",
    "# r = requests.get('https://www.ncbi.nlm.nih.gov/nuccore/L42022')\n",
    "\n",
    "# # https://www.ncbi.nlm.nih.gov/sviewer/viewer.fcgi?id=804715&db=nuccore&report=genbank&conwithfeat=on&hide-cdd=on&retmode=html&ncbi_phid=CE8B6449389BE9F100000000068605EB&withmarkup=on&tool=portal&log$=seqview&maxdownloadsize=1000000\n",
    "\n",
    "# # Parsing the HTML\n",
    "# soup = BeautifulSoup(r.content, 'html.parser')\n",
    "\n",
    "# # Getting the title tag\n",
    "# print(soup.title)\n",
    "\n",
    "# s = soup.find('pre', class_='genbank')\n",
    "# # s = soup.find('div', class_='sequence')\n",
    "# # s = soup.find_all('meta', name='ncbi_uidlist')\n",
    "\n",
    "# # lines = soup.find_all('meta')\n",
    "# # lines = soup.find_all(\"genbank\")\n",
    "# # for line in lines:\n",
    "# # \tprint(line.text)\n",
    "\n",
    "# # use the child attribute to get\n",
    "# # the name of the child tag"
   ]
  },
  {
   "cell_type": "code",
   "execution_count": null,
   "metadata": {},
   "outputs": [],
   "source": [
    "# # pip3 install html5lib\n",
    "\n",
    "# import requests\n",
    "# from bs4 import BeautifulSoup\n",
    "\n",
    "# r = requests.get('https://www.ncbi.nlm.nih.gov/nuccore/L42022')\n",
    "\n",
    "\n",
    "# soup = BeautifulSoup(r.content, 'html.parser')\n",
    "# print(soup)\n",
    "# s = soup.find('pre', class_='genbank')\n",
    "\n"
   ]
  },
  {
   "cell_type": "code",
   "execution_count": null,
   "metadata": {},
   "outputs": [],
   "source": [
    "# import requests\n",
    "# from bs4 import BeautifulSoup\n",
    "\n",
    "\n",
    "# # Making a GET request\n",
    "# r = requests.get('https://www.geeksforgeeks.org/python-programming-language/')\n",
    "\n",
    "# # Parsing the HTML\n",
    "# soup = BeautifulSoup(r.content, 'html.parser')\n",
    "# s = soup.find('div', class_='entry-content')\n",
    "\n",
    "# lines = s.find_all('p')\n",
    "\n",
    "# for line in lines:\n",
    "# \tprint(line.text)"
   ]
  },
  {
   "cell_type": "code",
   "execution_count": 78,
   "metadata": {},
   "outputs": [
    {
     "name": "stdout",
     "output_type": "stream",
     "text": [
      "b'LOCUS       SRRCPITSAI               263 bp    DNA     linear   PLN 03-JUL-2003\\nDEFINITION  Sarracenia alabamensis chloroplast internal transcribed spacer 2,\\n            partial sequence.\\nACCESSION   L42203\\nVERSION     L42203.1\\nKEYWORDS    ITS2; internal transcribed spacer 2.\\nSOURCE      chloroplast Sarracenia alabamensis\\n  ORGANISM  Sarracenia alabamensis\\n            Eukaryota; Viridiplantae; Streptophyta; Embryophyta; Tracheophyta;\\n            Spermatophyta; Magnoliopsida; eudicotyledons; Gunneridae;\\n            Pentapetalae; asterids; Ericales; Sarraceniaceae; Sarracenia.\\nREFERENCE   1  (bases 1 to 263)\\n  AUTHORS   Bayer,R.J., Hufford,L. and Soltis,D.E.\\n  TITLE     Phylogenetic relationships in Sarraceniaceae based on rbcL and ITS\\n            sequences\\n  JOURNAL   Syst. Bot. 21 (2), 121-134 (1996)\\nREFERENCE   2  (bases 1 to 263)\\n  AUTHORS   Bayer,R.J.\\n  TITLE     The implications of morphological and molecular sequence data from\\n            cpDNA and nrDNA for phylogeny reconstruction in Sarraceniaceae\\n  JOURNAL   Unpublished\\nFEATURES             Location/Qualifiers\\n     source          1..263\\n                     /organism=\"Sarracenia alabamensis\"\\n                     /organelle=\"plastid:chloroplast\"\\n                     /mol_type=\"genomic DNA\"\\n                     /db_xref=\"taxon:50000\"\\n     misc_RNA        <1..>263\\n                     /note=\"internal transcribed spacer 2; ITS2\"\\nORIGIN      \\n        1 tctgcctggc gtcagccatt gtgtcgctat tcccaattgc cccacntaag agtcgatgag\\n       61 caatgggtaa ggcgtatatt ggccctccgt gcgcactcgt caacggttgg ccnaaaaatg\\n      121 agttcttgac gacacacgtc acgataagtg gtggttaaca aacgttgcat cctgtcgtgc\\n      181 gtgcccatgt tgccacgagt tggctcatat gattaaccta aagtgttgtg actacaatgg\\n      241 accgattgcg accccaggtc aga\\n//\\n\\n'\n",
      "\n",
      "https://www.ncbi.nlm.nih.gov/nuccore/L42204\n",
      "b'LOCUS       SRRCPITSAJ               263 bp    DNA     linear   PLN 03-JUL-2003\\nDEFINITION  Sarracenia flava chloroplast internal transcribed spacer 2, partial\\n            sequence.\\nACCESSION   L42204\\nVERSION     L42204.1\\nKEYWORDS    ITS2; internal transcribed spacer 2.\\nSOURCE      chloroplast Sarracenia flava\\n  ORGANISM  Sarracenia flava\\n            Eukaryota; Viridiplantae; Streptophyta; Embryophyta; Tracheophyta;\\n            Spermatophyta; Magnoliopsida; eudicotyledons; Gunneridae;\\n            Pentapetalae; asterids; Ericales; Sarraceniaceae; Sarracenia.\\nREFERENCE   1  (bases 1 to 263)\\n  AUTHORS   Bayer,R.J., Hufford,L. and Soltis,D.E.\\n  TITLE     Phylogenetic relationships in Sarraceniaceae based on rbcL and ITS\\n            sequences\\n  JOURNAL   Syst. Bot. 21 (2), 121-134 (1996)\\nREFERENCE   2  (bases 1 to 263)\\n  AUTHORS   Bayer,R.J.\\n  TITLE     The implications of morphological and molecular sequence data from\\n            cpDNA and nrDNA for phylogeny reconstruction in Sarraceniaceae\\n  JOURNAL   Unpublished\\nFEATURES             Location/Qualifiers\\n     source          1..263\\n                     /organism=\"Sarracenia flava\"\\n                     /organelle=\"plastid:chloroplast\"\\n                     /mol_type=\"genomic DNA\"\\n                     /db_xref=\"taxon:4359\"\\n     misc_RNA        <1..>263\\n                     /note=\"internal transcribed spacer 2; ITS2\"\\nORIGIN      \\n        1 tctgcctggc gtcagccatt gtgtcgctat tcccaattgc cccacctaag agtcggtgag\\n       61 caatgggaaa ggcgtatatt ggccctccgt gcgtactcgt caacggttgg nnnaaaaatg\\n      121 agttcttgac gacacacgtc acgataagtg gtggttaaca aacgttgcat cctatcgtgc\\n      181 gtgcccatgt tgccacgagt tggctcatat gattaacctg aagtgttgtg actacaatgc\\n      241 accgattgcg accccaggtc aga\\n//\\n\\n'\n",
      "\n",
      "https://www.ncbi.nlm.nih.gov/nuccore/L42205\n"
     ]
    },
    {
     "ename": "KeyboardInterrupt",
     "evalue": "",
     "output_type": "error",
     "traceback": [
      "\u001b[0;31m---------------------------------------------------------------------------\u001b[0m",
      "\u001b[0;31mKeyboardInterrupt\u001b[0m                         Traceback (most recent call last)",
      "\u001b[1;32m/home/sa_bruno/Desktop/Jorginho/Final/Web scraping.ipynb Cell 11\u001b[0m in \u001b[0;36m<cell line: 3>\u001b[0;34m()\u001b[0m\n\u001b[1;32m      <a href='vscode-notebook-cell:/home/sa_bruno/Desktop/Jorginho/Final/Web%20scraping.ipynb#X10sZmlsZQ%3D%3D?line=3'>4</a>\u001b[0m url \u001b[39m=\u001b[39m \u001b[39mf\u001b[39m\u001b[39m\"\u001b[39m\u001b[39mhttps://www.ncbi.nlm.nih.gov/nuccore/L42\u001b[39m\u001b[39m{\u001b[39;00mi\u001b[39m}\u001b[39;00m\u001b[39m\"\u001b[39m \n\u001b[1;32m      <a href='vscode-notebook-cell:/home/sa_bruno/Desktop/Jorginho/Final/Web%20scraping.ipynb#X10sZmlsZQ%3D%3D?line=4'>5</a>\u001b[0m \u001b[39mprint\u001b[39m(url)\n\u001b[0;32m----> <a href='vscode-notebook-cell:/home/sa_bruno/Desktop/Jorginho/Final/Web%20scraping.ipynb#X10sZmlsZQ%3D%3D?line=5'>6</a>\u001b[0m get_file(url)\n\u001b[1;32m      <a href='vscode-notebook-cell:/home/sa_bruno/Desktop/Jorginho/Final/Web%20scraping.ipynb#X10sZmlsZQ%3D%3D?line=6'>7</a>\u001b[0m \u001b[39mprint\u001b[39m()\n\u001b[1;32m      <a href='vscode-notebook-cell:/home/sa_bruno/Desktop/Jorginho/Final/Web%20scraping.ipynb#X10sZmlsZQ%3D%3D?line=7'>8</a>\u001b[0m time\u001b[39m.\u001b[39msleep(\u001b[39m1\u001b[39m)\n",
      "\u001b[1;32m/home/sa_bruno/Desktop/Jorginho/Final/Web scraping.ipynb Cell 11\u001b[0m in \u001b[0;36mget_file\u001b[0;34m(url)\u001b[0m\n\u001b[1;32m     <a href='vscode-notebook-cell:/home/sa_bruno/Desktop/Jorginho/Final/Web%20scraping.ipynb#X10sZmlsZQ%3D%3D?line=23'>24</a>\u001b[0m \u001b[39mif\u001b[39;00m \u001b[39mid\u001b[39m:\n\u001b[1;32m     <a href='vscode-notebook-cell:/home/sa_bruno/Desktop/Jorginho/Final/Web%20scraping.ipynb#X10sZmlsZQ%3D%3D?line=24'>25</a>\u001b[0m \turl \u001b[39m=\u001b[39m \u001b[39m\"\u001b[39m\u001b[39mhttps://www.ncbi.nlm.nih.gov/sviewer/viewer.fcgi?id=\u001b[39m\u001b[39m{}\u001b[39;00m\u001b[39m&db=nuccore&report=genbank&conwithfeat=on&hide-cdd=on&retmode=text&maxdownloadsize=5000000\u001b[39m\u001b[39m\"\u001b[39m\u001b[39m.\u001b[39mformat(\u001b[39mid\u001b[39m)\n\u001b[0;32m---> <a href='vscode-notebook-cell:/home/sa_bruno/Desktop/Jorginho/Final/Web%20scraping.ipynb#X10sZmlsZQ%3D%3D?line=26'>27</a>\u001b[0m r2 \u001b[39m=\u001b[39m requests\u001b[39m.\u001b[39;49mget( url )\n\u001b[1;32m     <a href='vscode-notebook-cell:/home/sa_bruno/Desktop/Jorginho/Final/Web%20scraping.ipynb#X10sZmlsZQ%3D%3D?line=28'>29</a>\u001b[0m \u001b[39mreturn\u001b[39;00m \u001b[39mprint\u001b[39m(r2\u001b[39m.\u001b[39mcontent)\n",
      "File \u001b[0;32m~/anaconda3/envs/mestrado_final/lib/python3.9/site-packages/requests/api.py:73\u001b[0m, in \u001b[0;36mget\u001b[0;34m(url, params, **kwargs)\u001b[0m\n\u001b[1;32m     62\u001b[0m \u001b[39mdef\u001b[39;00m \u001b[39mget\u001b[39m(url, params\u001b[39m=\u001b[39m\u001b[39mNone\u001b[39;00m, \u001b[39m*\u001b[39m\u001b[39m*\u001b[39mkwargs):\n\u001b[1;32m     63\u001b[0m     \u001b[39mr\u001b[39m\u001b[39m\"\"\"Sends a GET request.\u001b[39;00m\n\u001b[1;32m     64\u001b[0m \n\u001b[1;32m     65\u001b[0m \u001b[39m    :param url: URL for the new :class:`Request` object.\u001b[39;00m\n\u001b[0;32m   (...)\u001b[0m\n\u001b[1;32m     70\u001b[0m \u001b[39m    :rtype: requests.Response\u001b[39;00m\n\u001b[1;32m     71\u001b[0m \u001b[39m    \"\"\"\u001b[39;00m\n\u001b[0;32m---> 73\u001b[0m     \u001b[39mreturn\u001b[39;00m request(\u001b[39m\"\u001b[39;49m\u001b[39mget\u001b[39;49m\u001b[39m\"\u001b[39;49m, url, params\u001b[39m=\u001b[39;49mparams, \u001b[39m*\u001b[39;49m\u001b[39m*\u001b[39;49mkwargs)\n",
      "File \u001b[0;32m~/anaconda3/envs/mestrado_final/lib/python3.9/site-packages/requests/api.py:59\u001b[0m, in \u001b[0;36mrequest\u001b[0;34m(method, url, **kwargs)\u001b[0m\n\u001b[1;32m     55\u001b[0m \u001b[39m# By using the 'with' statement we are sure the session is closed, thus we\u001b[39;00m\n\u001b[1;32m     56\u001b[0m \u001b[39m# avoid leaving sockets open which can trigger a ResourceWarning in some\u001b[39;00m\n\u001b[1;32m     57\u001b[0m \u001b[39m# cases, and look like a memory leak in others.\u001b[39;00m\n\u001b[1;32m     58\u001b[0m \u001b[39mwith\u001b[39;00m sessions\u001b[39m.\u001b[39mSession() \u001b[39mas\u001b[39;00m session:\n\u001b[0;32m---> 59\u001b[0m     \u001b[39mreturn\u001b[39;00m session\u001b[39m.\u001b[39;49mrequest(method\u001b[39m=\u001b[39;49mmethod, url\u001b[39m=\u001b[39;49murl, \u001b[39m*\u001b[39;49m\u001b[39m*\u001b[39;49mkwargs)\n",
      "File \u001b[0;32m~/anaconda3/envs/mestrado_final/lib/python3.9/site-packages/requests/sessions.py:587\u001b[0m, in \u001b[0;36mSession.request\u001b[0;34m(self, method, url, params, data, headers, cookies, files, auth, timeout, allow_redirects, proxies, hooks, stream, verify, cert, json)\u001b[0m\n\u001b[1;32m    582\u001b[0m send_kwargs \u001b[39m=\u001b[39m {\n\u001b[1;32m    583\u001b[0m     \u001b[39m\"\u001b[39m\u001b[39mtimeout\u001b[39m\u001b[39m\"\u001b[39m: timeout,\n\u001b[1;32m    584\u001b[0m     \u001b[39m\"\u001b[39m\u001b[39mallow_redirects\u001b[39m\u001b[39m\"\u001b[39m: allow_redirects,\n\u001b[1;32m    585\u001b[0m }\n\u001b[1;32m    586\u001b[0m send_kwargs\u001b[39m.\u001b[39mupdate(settings)\n\u001b[0;32m--> 587\u001b[0m resp \u001b[39m=\u001b[39m \u001b[39mself\u001b[39;49m\u001b[39m.\u001b[39;49msend(prep, \u001b[39m*\u001b[39;49m\u001b[39m*\u001b[39;49msend_kwargs)\n\u001b[1;32m    589\u001b[0m \u001b[39mreturn\u001b[39;00m resp\n",
      "File \u001b[0;32m~/anaconda3/envs/mestrado_final/lib/python3.9/site-packages/requests/sessions.py:701\u001b[0m, in \u001b[0;36mSession.send\u001b[0;34m(self, request, **kwargs)\u001b[0m\n\u001b[1;32m    698\u001b[0m start \u001b[39m=\u001b[39m preferred_clock()\n\u001b[1;32m    700\u001b[0m \u001b[39m# Send the request\u001b[39;00m\n\u001b[0;32m--> 701\u001b[0m r \u001b[39m=\u001b[39m adapter\u001b[39m.\u001b[39;49msend(request, \u001b[39m*\u001b[39;49m\u001b[39m*\u001b[39;49mkwargs)\n\u001b[1;32m    703\u001b[0m \u001b[39m# Total elapsed time of the request (approximately)\u001b[39;00m\n\u001b[1;32m    704\u001b[0m elapsed \u001b[39m=\u001b[39m preferred_clock() \u001b[39m-\u001b[39m start\n",
      "File \u001b[0;32m~/anaconda3/envs/mestrado_final/lib/python3.9/site-packages/requests/adapters.py:489\u001b[0m, in \u001b[0;36mHTTPAdapter.send\u001b[0;34m(self, request, stream, timeout, verify, cert, proxies)\u001b[0m\n\u001b[1;32m    487\u001b[0m \u001b[39mtry\u001b[39;00m:\n\u001b[1;32m    488\u001b[0m     \u001b[39mif\u001b[39;00m \u001b[39mnot\u001b[39;00m chunked:\n\u001b[0;32m--> 489\u001b[0m         resp \u001b[39m=\u001b[39m conn\u001b[39m.\u001b[39;49murlopen(\n\u001b[1;32m    490\u001b[0m             method\u001b[39m=\u001b[39;49mrequest\u001b[39m.\u001b[39;49mmethod,\n\u001b[1;32m    491\u001b[0m             url\u001b[39m=\u001b[39;49murl,\n\u001b[1;32m    492\u001b[0m             body\u001b[39m=\u001b[39;49mrequest\u001b[39m.\u001b[39;49mbody,\n\u001b[1;32m    493\u001b[0m             headers\u001b[39m=\u001b[39;49mrequest\u001b[39m.\u001b[39;49mheaders,\n\u001b[1;32m    494\u001b[0m             redirect\u001b[39m=\u001b[39;49m\u001b[39mFalse\u001b[39;49;00m,\n\u001b[1;32m    495\u001b[0m             assert_same_host\u001b[39m=\u001b[39;49m\u001b[39mFalse\u001b[39;49;00m,\n\u001b[1;32m    496\u001b[0m             preload_content\u001b[39m=\u001b[39;49m\u001b[39mFalse\u001b[39;49;00m,\n\u001b[1;32m    497\u001b[0m             decode_content\u001b[39m=\u001b[39;49m\u001b[39mFalse\u001b[39;49;00m,\n\u001b[1;32m    498\u001b[0m             retries\u001b[39m=\u001b[39;49m\u001b[39mself\u001b[39;49m\u001b[39m.\u001b[39;49mmax_retries,\n\u001b[1;32m    499\u001b[0m             timeout\u001b[39m=\u001b[39;49mtimeout,\n\u001b[1;32m    500\u001b[0m         )\n\u001b[1;32m    502\u001b[0m     \u001b[39m# Send the request.\u001b[39;00m\n\u001b[1;32m    503\u001b[0m     \u001b[39melse\u001b[39;00m:\n\u001b[1;32m    504\u001b[0m         \u001b[39mif\u001b[39;00m \u001b[39mhasattr\u001b[39m(conn, \u001b[39m\"\u001b[39m\u001b[39mproxy_pool\u001b[39m\u001b[39m\"\u001b[39m):\n",
      "File \u001b[0;32m~/anaconda3/envs/mestrado_final/lib/python3.9/site-packages/urllib3/connectionpool.py:703\u001b[0m, in \u001b[0;36mHTTPConnectionPool.urlopen\u001b[0;34m(self, method, url, body, headers, retries, redirect, assert_same_host, timeout, pool_timeout, release_conn, chunked, body_pos, **response_kw)\u001b[0m\n\u001b[1;32m    700\u001b[0m     \u001b[39mself\u001b[39m\u001b[39m.\u001b[39m_prepare_proxy(conn)\n\u001b[1;32m    702\u001b[0m \u001b[39m# Make the request on the httplib connection object.\u001b[39;00m\n\u001b[0;32m--> 703\u001b[0m httplib_response \u001b[39m=\u001b[39m \u001b[39mself\u001b[39;49m\u001b[39m.\u001b[39;49m_make_request(\n\u001b[1;32m    704\u001b[0m     conn,\n\u001b[1;32m    705\u001b[0m     method,\n\u001b[1;32m    706\u001b[0m     url,\n\u001b[1;32m    707\u001b[0m     timeout\u001b[39m=\u001b[39;49mtimeout_obj,\n\u001b[1;32m    708\u001b[0m     body\u001b[39m=\u001b[39;49mbody,\n\u001b[1;32m    709\u001b[0m     headers\u001b[39m=\u001b[39;49mheaders,\n\u001b[1;32m    710\u001b[0m     chunked\u001b[39m=\u001b[39;49mchunked,\n\u001b[1;32m    711\u001b[0m )\n\u001b[1;32m    713\u001b[0m \u001b[39m# If we're going to release the connection in ``finally:``, then\u001b[39;00m\n\u001b[1;32m    714\u001b[0m \u001b[39m# the response doesn't need to know about the connection. Otherwise\u001b[39;00m\n\u001b[1;32m    715\u001b[0m \u001b[39m# it will also try to release it and we'll have a double-release\u001b[39;00m\n\u001b[1;32m    716\u001b[0m \u001b[39m# mess.\u001b[39;00m\n\u001b[1;32m    717\u001b[0m response_conn \u001b[39m=\u001b[39m conn \u001b[39mif\u001b[39;00m \u001b[39mnot\u001b[39;00m release_conn \u001b[39melse\u001b[39;00m \u001b[39mNone\u001b[39;00m\n",
      "File \u001b[0;32m~/anaconda3/envs/mestrado_final/lib/python3.9/site-packages/urllib3/connectionpool.py:386\u001b[0m, in \u001b[0;36mHTTPConnectionPool._make_request\u001b[0;34m(self, conn, method, url, timeout, chunked, **httplib_request_kw)\u001b[0m\n\u001b[1;32m    384\u001b[0m \u001b[39m# Trigger any extra validation we need to do.\u001b[39;00m\n\u001b[1;32m    385\u001b[0m \u001b[39mtry\u001b[39;00m:\n\u001b[0;32m--> 386\u001b[0m     \u001b[39mself\u001b[39;49m\u001b[39m.\u001b[39;49m_validate_conn(conn)\n\u001b[1;32m    387\u001b[0m \u001b[39mexcept\u001b[39;00m (SocketTimeout, BaseSSLError) \u001b[39mas\u001b[39;00m e:\n\u001b[1;32m    388\u001b[0m     \u001b[39m# Py2 raises this as a BaseSSLError, Py3 raises it as socket timeout.\u001b[39;00m\n\u001b[1;32m    389\u001b[0m     \u001b[39mself\u001b[39m\u001b[39m.\u001b[39m_raise_timeout(err\u001b[39m=\u001b[39me, url\u001b[39m=\u001b[39murl, timeout_value\u001b[39m=\u001b[39mconn\u001b[39m.\u001b[39mtimeout)\n",
      "File \u001b[0;32m~/anaconda3/envs/mestrado_final/lib/python3.9/site-packages/urllib3/connectionpool.py:1042\u001b[0m, in \u001b[0;36mHTTPSConnectionPool._validate_conn\u001b[0;34m(self, conn)\u001b[0m\n\u001b[1;32m   1040\u001b[0m \u001b[39m# Force connect early to allow us to validate the connection.\u001b[39;00m\n\u001b[1;32m   1041\u001b[0m \u001b[39mif\u001b[39;00m \u001b[39mnot\u001b[39;00m \u001b[39mgetattr\u001b[39m(conn, \u001b[39m\"\u001b[39m\u001b[39msock\u001b[39m\u001b[39m\"\u001b[39m, \u001b[39mNone\u001b[39;00m):  \u001b[39m# AppEngine might not have  `.sock`\u001b[39;00m\n\u001b[0;32m-> 1042\u001b[0m     conn\u001b[39m.\u001b[39;49mconnect()\n\u001b[1;32m   1044\u001b[0m \u001b[39mif\u001b[39;00m \u001b[39mnot\u001b[39;00m conn\u001b[39m.\u001b[39mis_verified:\n\u001b[1;32m   1045\u001b[0m     warnings\u001b[39m.\u001b[39mwarn(\n\u001b[1;32m   1046\u001b[0m         (\n\u001b[1;32m   1047\u001b[0m             \u001b[39m\"\u001b[39m\u001b[39mUnverified HTTPS request is being made to host \u001b[39m\u001b[39m'\u001b[39m\u001b[39m%s\u001b[39;00m\u001b[39m'\u001b[39m\u001b[39m. \u001b[39m\u001b[39m\"\u001b[39m\n\u001b[0;32m   (...)\u001b[0m\n\u001b[1;32m   1052\u001b[0m         InsecureRequestWarning,\n\u001b[1;32m   1053\u001b[0m     )\n",
      "File \u001b[0;32m~/anaconda3/envs/mestrado_final/lib/python3.9/site-packages/urllib3/connection.py:414\u001b[0m, in \u001b[0;36mHTTPSConnection.connect\u001b[0;34m(self)\u001b[0m\n\u001b[1;32m    405\u001b[0m \u001b[39mif\u001b[39;00m (\n\u001b[1;32m    406\u001b[0m     \u001b[39mnot\u001b[39;00m \u001b[39mself\u001b[39m\u001b[39m.\u001b[39mca_certs\n\u001b[1;32m    407\u001b[0m     \u001b[39mand\u001b[39;00m \u001b[39mnot\u001b[39;00m \u001b[39mself\u001b[39m\u001b[39m.\u001b[39mca_cert_dir\n\u001b[0;32m   (...)\u001b[0m\n\u001b[1;32m    410\u001b[0m     \u001b[39mand\u001b[39;00m \u001b[39mhasattr\u001b[39m(context, \u001b[39m\"\u001b[39m\u001b[39mload_default_certs\u001b[39m\u001b[39m\"\u001b[39m)\n\u001b[1;32m    411\u001b[0m ):\n\u001b[1;32m    412\u001b[0m     context\u001b[39m.\u001b[39mload_default_certs()\n\u001b[0;32m--> 414\u001b[0m \u001b[39mself\u001b[39m\u001b[39m.\u001b[39msock \u001b[39m=\u001b[39m ssl_wrap_socket(\n\u001b[1;32m    415\u001b[0m     sock\u001b[39m=\u001b[39;49mconn,\n\u001b[1;32m    416\u001b[0m     keyfile\u001b[39m=\u001b[39;49m\u001b[39mself\u001b[39;49m\u001b[39m.\u001b[39;49mkey_file,\n\u001b[1;32m    417\u001b[0m     certfile\u001b[39m=\u001b[39;49m\u001b[39mself\u001b[39;49m\u001b[39m.\u001b[39;49mcert_file,\n\u001b[1;32m    418\u001b[0m     key_password\u001b[39m=\u001b[39;49m\u001b[39mself\u001b[39;49m\u001b[39m.\u001b[39;49mkey_password,\n\u001b[1;32m    419\u001b[0m     ca_certs\u001b[39m=\u001b[39;49m\u001b[39mself\u001b[39;49m\u001b[39m.\u001b[39;49mca_certs,\n\u001b[1;32m    420\u001b[0m     ca_cert_dir\u001b[39m=\u001b[39;49m\u001b[39mself\u001b[39;49m\u001b[39m.\u001b[39;49mca_cert_dir,\n\u001b[1;32m    421\u001b[0m     ca_cert_data\u001b[39m=\u001b[39;49m\u001b[39mself\u001b[39;49m\u001b[39m.\u001b[39;49mca_cert_data,\n\u001b[1;32m    422\u001b[0m     server_hostname\u001b[39m=\u001b[39;49mserver_hostname,\n\u001b[1;32m    423\u001b[0m     ssl_context\u001b[39m=\u001b[39;49mcontext,\n\u001b[1;32m    424\u001b[0m     tls_in_tls\u001b[39m=\u001b[39;49mtls_in_tls,\n\u001b[1;32m    425\u001b[0m )\n\u001b[1;32m    427\u001b[0m \u001b[39m# If we're using all defaults and the connection\u001b[39;00m\n\u001b[1;32m    428\u001b[0m \u001b[39m# is TLSv1 or TLSv1.1 we throw a DeprecationWarning\u001b[39;00m\n\u001b[1;32m    429\u001b[0m \u001b[39m# for the host.\u001b[39;00m\n\u001b[1;32m    430\u001b[0m \u001b[39mif\u001b[39;00m (\n\u001b[1;32m    431\u001b[0m     default_ssl_context\n\u001b[1;32m    432\u001b[0m     \u001b[39mand\u001b[39;00m \u001b[39mself\u001b[39m\u001b[39m.\u001b[39mssl_version \u001b[39mis\u001b[39;00m \u001b[39mNone\u001b[39;00m\n\u001b[1;32m    433\u001b[0m     \u001b[39mand\u001b[39;00m \u001b[39mhasattr\u001b[39m(\u001b[39mself\u001b[39m\u001b[39m.\u001b[39msock, \u001b[39m\"\u001b[39m\u001b[39mversion\u001b[39m\u001b[39m\"\u001b[39m)\n\u001b[1;32m    434\u001b[0m     \u001b[39mand\u001b[39;00m \u001b[39mself\u001b[39m\u001b[39m.\u001b[39msock\u001b[39m.\u001b[39mversion() \u001b[39min\u001b[39;00m {\u001b[39m\"\u001b[39m\u001b[39mTLSv1\u001b[39m\u001b[39m\"\u001b[39m, \u001b[39m\"\u001b[39m\u001b[39mTLSv1.1\u001b[39m\u001b[39m\"\u001b[39m}\n\u001b[1;32m    435\u001b[0m ):\n",
      "File \u001b[0;32m~/anaconda3/envs/mestrado_final/lib/python3.9/site-packages/urllib3/util/ssl_.py:449\u001b[0m, in \u001b[0;36mssl_wrap_socket\u001b[0;34m(sock, keyfile, certfile, cert_reqs, ca_certs, server_hostname, ssl_version, ciphers, ssl_context, ca_cert_dir, key_password, ca_cert_data, tls_in_tls)\u001b[0m\n\u001b[1;32m    437\u001b[0m     warnings\u001b[39m.\u001b[39mwarn(\n\u001b[1;32m    438\u001b[0m         \u001b[39m\"\u001b[39m\u001b[39mAn HTTPS request has been made, but the SNI (Server Name \u001b[39m\u001b[39m\"\u001b[39m\n\u001b[1;32m    439\u001b[0m         \u001b[39m\"\u001b[39m\u001b[39mIndication) extension to TLS is not available on this platform. \u001b[39m\u001b[39m\"\u001b[39m\n\u001b[0;32m   (...)\u001b[0m\n\u001b[1;32m    445\u001b[0m         SNIMissingWarning,\n\u001b[1;32m    446\u001b[0m     )\n\u001b[1;32m    448\u001b[0m \u001b[39mif\u001b[39;00m send_sni:\n\u001b[0;32m--> 449\u001b[0m     ssl_sock \u001b[39m=\u001b[39m _ssl_wrap_socket_impl(\n\u001b[1;32m    450\u001b[0m         sock, context, tls_in_tls, server_hostname\u001b[39m=\u001b[39;49mserver_hostname\n\u001b[1;32m    451\u001b[0m     )\n\u001b[1;32m    452\u001b[0m \u001b[39melse\u001b[39;00m:\n\u001b[1;32m    453\u001b[0m     ssl_sock \u001b[39m=\u001b[39m _ssl_wrap_socket_impl(sock, context, tls_in_tls)\n",
      "File \u001b[0;32m~/anaconda3/envs/mestrado_final/lib/python3.9/site-packages/urllib3/util/ssl_.py:493\u001b[0m, in \u001b[0;36m_ssl_wrap_socket_impl\u001b[0;34m(sock, ssl_context, tls_in_tls, server_hostname)\u001b[0m\n\u001b[1;32m    490\u001b[0m     \u001b[39mreturn\u001b[39;00m SSLTransport(sock, ssl_context, server_hostname)\n\u001b[1;32m    492\u001b[0m \u001b[39mif\u001b[39;00m server_hostname:\n\u001b[0;32m--> 493\u001b[0m     \u001b[39mreturn\u001b[39;00m ssl_context\u001b[39m.\u001b[39;49mwrap_socket(sock, server_hostname\u001b[39m=\u001b[39;49mserver_hostname)\n\u001b[1;32m    494\u001b[0m \u001b[39melse\u001b[39;00m:\n\u001b[1;32m    495\u001b[0m     \u001b[39mreturn\u001b[39;00m ssl_context\u001b[39m.\u001b[39mwrap_socket(sock)\n",
      "File \u001b[0;32m~/anaconda3/envs/mestrado_final/lib/python3.9/ssl.py:501\u001b[0m, in \u001b[0;36mSSLContext.wrap_socket\u001b[0;34m(self, sock, server_side, do_handshake_on_connect, suppress_ragged_eofs, server_hostname, session)\u001b[0m\n\u001b[1;32m    495\u001b[0m \u001b[39mdef\u001b[39;00m \u001b[39mwrap_socket\u001b[39m(\u001b[39mself\u001b[39m, sock, server_side\u001b[39m=\u001b[39m\u001b[39mFalse\u001b[39;00m,\n\u001b[1;32m    496\u001b[0m                 do_handshake_on_connect\u001b[39m=\u001b[39m\u001b[39mTrue\u001b[39;00m,\n\u001b[1;32m    497\u001b[0m                 suppress_ragged_eofs\u001b[39m=\u001b[39m\u001b[39mTrue\u001b[39;00m,\n\u001b[1;32m    498\u001b[0m                 server_hostname\u001b[39m=\u001b[39m\u001b[39mNone\u001b[39;00m, session\u001b[39m=\u001b[39m\u001b[39mNone\u001b[39;00m):\n\u001b[1;32m    499\u001b[0m     \u001b[39m# SSLSocket class handles server_hostname encoding before it calls\u001b[39;00m\n\u001b[1;32m    500\u001b[0m     \u001b[39m# ctx._wrap_socket()\u001b[39;00m\n\u001b[0;32m--> 501\u001b[0m     \u001b[39mreturn\u001b[39;00m \u001b[39mself\u001b[39;49m\u001b[39m.\u001b[39;49msslsocket_class\u001b[39m.\u001b[39;49m_create(\n\u001b[1;32m    502\u001b[0m         sock\u001b[39m=\u001b[39;49msock,\n\u001b[1;32m    503\u001b[0m         server_side\u001b[39m=\u001b[39;49mserver_side,\n\u001b[1;32m    504\u001b[0m         do_handshake_on_connect\u001b[39m=\u001b[39;49mdo_handshake_on_connect,\n\u001b[1;32m    505\u001b[0m         suppress_ragged_eofs\u001b[39m=\u001b[39;49msuppress_ragged_eofs,\n\u001b[1;32m    506\u001b[0m         server_hostname\u001b[39m=\u001b[39;49mserver_hostname,\n\u001b[1;32m    507\u001b[0m         context\u001b[39m=\u001b[39;49m\u001b[39mself\u001b[39;49m,\n\u001b[1;32m    508\u001b[0m         session\u001b[39m=\u001b[39;49msession\n\u001b[1;32m    509\u001b[0m     )\n",
      "File \u001b[0;32m~/anaconda3/envs/mestrado_final/lib/python3.9/ssl.py:1041\u001b[0m, in \u001b[0;36mSSLSocket._create\u001b[0;34m(cls, sock, server_side, do_handshake_on_connect, suppress_ragged_eofs, server_hostname, context, session)\u001b[0m\n\u001b[1;32m   1038\u001b[0m         \u001b[39mif\u001b[39;00m timeout \u001b[39m==\u001b[39m \u001b[39m0.0\u001b[39m:\n\u001b[1;32m   1039\u001b[0m             \u001b[39m# non-blocking\u001b[39;00m\n\u001b[1;32m   1040\u001b[0m             \u001b[39mraise\u001b[39;00m \u001b[39mValueError\u001b[39;00m(\u001b[39m\"\u001b[39m\u001b[39mdo_handshake_on_connect should not be specified for non-blocking sockets\u001b[39m\u001b[39m\"\u001b[39m)\n\u001b[0;32m-> 1041\u001b[0m         \u001b[39mself\u001b[39;49m\u001b[39m.\u001b[39;49mdo_handshake()\n\u001b[1;32m   1042\u001b[0m \u001b[39mexcept\u001b[39;00m (\u001b[39mOSError\u001b[39;00m, \u001b[39mValueError\u001b[39;00m):\n\u001b[1;32m   1043\u001b[0m     \u001b[39mself\u001b[39m\u001b[39m.\u001b[39mclose()\n",
      "File \u001b[0;32m~/anaconda3/envs/mestrado_final/lib/python3.9/ssl.py:1310\u001b[0m, in \u001b[0;36mSSLSocket.do_handshake\u001b[0;34m(self, block)\u001b[0m\n\u001b[1;32m   1308\u001b[0m     \u001b[39mif\u001b[39;00m timeout \u001b[39m==\u001b[39m \u001b[39m0.0\u001b[39m \u001b[39mand\u001b[39;00m block:\n\u001b[1;32m   1309\u001b[0m         \u001b[39mself\u001b[39m\u001b[39m.\u001b[39msettimeout(\u001b[39mNone\u001b[39;00m)\n\u001b[0;32m-> 1310\u001b[0m     \u001b[39mself\u001b[39;49m\u001b[39m.\u001b[39;49m_sslobj\u001b[39m.\u001b[39;49mdo_handshake()\n\u001b[1;32m   1311\u001b[0m \u001b[39mfinally\u001b[39;00m:\n\u001b[1;32m   1312\u001b[0m     \u001b[39mself\u001b[39m\u001b[39m.\u001b[39msettimeout(timeout)\n",
      "\u001b[0;31mKeyboardInterrupt\u001b[0m: "
     ]
    }
   ],
   "source": [
    "# import time\n",
    "\n",
    "# for i in range(200,206):\n",
    "#     url = f\"https://www.ncbi.nlm.nih.gov/nuccore/L42{i}\" \n",
    "#     print(url)\n",
    "#     get_file(url)\n",
    "#     print()\n",
    "#     time.sleep(1)\n",
    "\n",
    "\n"
   ]
  }
 ],
 "metadata": {
  "authors": [
   {
    "name": "Jorge Gustavo Rocha"
   }
  ],
  "kernelspec": {
   "display_name": "Python 3.9.13 ('mestrado_final')",
   "language": "python",
   "name": "python3"
  },
  "language_info": {
   "codemirror_mode": {
    "name": "ipython",
    "version": 3
   },
   "file_extension": ".py",
   "mimetype": "text/x-python",
   "name": "python",
   "nbconvert_exporter": "python",
   "pygments_lexer": "ipython3",
   "version": "3.9.13"
  },
  "vscode": {
   "interpreter": {
    "hash": "f2307cf6e279acbb4fe5a904c1ba66075afa04f4e5f00d0d9abed1d852b5aca9"
   }
  }
 },
 "nbformat": 4,
 "nbformat_minor": 2
}
