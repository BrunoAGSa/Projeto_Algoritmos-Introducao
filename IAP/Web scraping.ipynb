{
 "cells": [
  {
   "cell_type": "markdown",
   "metadata": {},
   "source": [
    "### Recolher dados da Web\n",
    "\n",
    "Neste notebook vamos sistematizar a recolha de dados a partir do site do Genbank.\n",
    "\n",
    "Dado uma determinada sequência, identificada por um id, por exemplo, quer-se ir ao site descarregar o respetivo registo, tratá-lo (somo já fizemos) e depois inserir as partes relevantes em base de dados.\n",
    "\n",
    "Exemplos de links para sequências:\n",
    "- https://www.ncbi.nlm.nih.gov/nuccore/L42022\n",
    "- https://www.ncbi.nlm.nih.gov/nuccore/L42023\n",
    "- https://www.ncbi.nlm.nih.gov/nuccore/LC740868.1\n",
    "\n",
    "Depois de se pedir este link, dentro da página, em Javascript, é feito um outro pedido ao servidor a pedir o record da sequência.\n",
    "\n",
    "Exemplo:\n",
    "- https://www.ncbi.nlm.nih.gov/sviewer/viewer.cgi?tool=portal&save=file&log$=seqview&db=nuccore&report=genbank&id=804715&conwithfeat=on&hide-cdd=on&ncbi_phid=null"
   ]
  },
  {
   "cell_type": "markdown",
   "metadata": {},
   "source": [
    "No exemplo seguinte,. pede-se a página, mas a mesma não contém o registo que nos interessa.\n",
    "\n",
    "O registo é carregado assincronamente, através de programação Javascript."
   ]
  },
  {
   "cell_type": "code",
   "execution_count": 1,
   "metadata": {},
   "outputs": [],
   "source": [
    "# import requests\n",
    "# r = requests.get('https://www.ncbi.nlm.nih.gov/nuccore/PA500505.1')\n",
    "# print(r.content)"
   ]
  },
  {
   "cell_type": "markdown",
   "metadata": {},
   "source": [
    "No exemplo seguinte,. em vez de se pedir a página que contém o registo, pede-se apenas o registo, depois de percebermos como o mesmo é pedido."
   ]
  },
  {
   "cell_type": "code",
   "execution_count": 2,
   "metadata": {},
   "outputs": [
    {
     "name": "stdout",
     "output_type": "stream",
     "text": [
      "b'LOCUS       PA500505                 318 bp    DNA     linear   PAT 31-MAY-2022\\nDEFINITION  JP 2022506561-A/6: ANTIBODY BINDING TO HUMAN IL-1beta, PREPARATION\\n            METHOD THEREFOR AND USE THEREOF.\\nACCESSION   PA500505\\nVERSION     PA500505.1\\nKEYWORDS    JP 2022506561-A/6.\\nSOURCE      Homo\\n  ORGANISM  Homo\\n            Eukaryota; Metazoa; Chordata; Craniata; Vertebrata; Euteleostomi;\\n            Mammalia; Eutheria; Euarchontoglires; Primates; Haplorrhini;\\n            Catarrhini; Hominidae.\\nREFERENCE   1  (bases 1 to 318)\\n  AUTHORS   Xia,Y., Wang,Z., Zhang,P. and Li,B.\\n  TITLE     ANTIBODY BINDING TO HUMAN IL-1beta, PREPARATION METHOD THEREFOR AND\\n            USE THEREOF\\n  JOURNAL   Patent: JP 2022506561-A 6 17-JAN-2022;\\n            ZEDA BIOPHARMACEUTICALS INC\\nCOMMENT     OS   Homo\\n            PN   JP 2022506561-A/6\\n            PD   17-JAN-2022\\n            PF   04-NOV-2019 JP 2021523978\\n            PR   07-NOV-2018 CN 201811322002.7\\n            PA   ZEDA BIOPHARMACEUTICALS INC\\n            PI   yu xia,zhongmin wang,peng zhang,baiyong li\\n            PT   \\'ANTIBODY BINDING TO HUMAN IL-1beta, PREPARATION METHOD\\n            PT   THEREFOR AND USE\\n            PT   THEREOF\\'\\n            PS   N20\\n            CC\\n            FH   Key             Location/Qualifiers.\\nFEATURES             Location/Qualifiers\\n     source          1..318\\n                     /organism=\"Homo\"\\n                     /mol_type=\"unassigned DNA\"\\n                     /db_xref=\"taxon:9605\"\\nORIGIN      \\n        1 gaaatcgtgc tgacccagag cccagctaca ctgagcgcct ctccaggaga gagagtgacc\\n       61 atctcttgca gagccagcag cagcgtgtcc tacctgcatt ggtaccagca gaagcccgga\\n      121 caggccccac gcctctggat ctacaccaca agcaccctgg ccaccggagt gccagctaga\\n      181 ttcagcggaa gcggcagcgg cacagattat accctgacca tcagcaggat ggagccagag\\n      241 gacgcagcca cctactattg ccagcagcgg atcatctacc ctcctacctt tggcggcggc\\n      301 acaaagctgg agatcaag\\n//\\n\\n'\n"
     ]
    }
   ],
   "source": [
    "# pip3 install html5lib\n",
    "\n",
    "import requests\n",
    "from bs4 import BeautifulSoup\n",
    "\n",
    "# Making a GET request\n",
    "r = requests.get('https://www.ncbi.nlm.nih.gov/sviewer/viewer.fcgi?id=2246533317&db=nuccore&report=genbank&conwithfeat=on&hide-cdd=on&retmode=text&ncbi_phid=CE88F25338A215A1000000000483042A&withmarkup=on&tool=portal&log$=seqview&maxdownloadsize=1000000')\n",
    "#r = requests.get('https://www.ncbi.nlm.nih.gov/sviewer/viewer.fcgi?id=804715&db=nuccore&report=genbank&conwithfeat=on&hide-cdd=on&retmode=html&ncbi_phid=CE8B6449389BE9F100000000068605EB&withmarkup=on&tool=portal&log$=seqview&maxdownloadsize=1000000')\n",
    "\n",
    "print( r.content ) \n",
    "\n",
    "\n"
   ]
  },
  {
   "cell_type": "markdown",
   "metadata": {},
   "source": [
    "### Problema\n",
    "\n",
    "Ao pedir a página, não vem a registo da sequência.\n",
    "\n",
    "Para pedir o registo, o mesmo pede-se por um id (um número interno) que é diferente do id da sequência (L42022, por exemplo).\n",
    "\n",
    "### Solução\n",
    "\n",
    "A solução passa por fazer dois pedidos. No primeiro, pede-se a página e extrai-se apenas o id numérico interno, associado à sequência. Esse id interno é então usado para se fazer o segundo pedido.\n",
    "\n"
   ]
  },
  {
   "cell_type": "code",
   "execution_count": 3,
   "metadata": {},
   "outputs": [],
   "source": [
    "# # pip3 install html5lib\n",
    "# def get_file(url):\n",
    "# \timport requests\n",
    "# \tfrom bs4 import BeautifulSoup\n",
    "\n",
    "# \t# Making a GET request\n",
    "# \tr = requests.get(url)\n",
    "# \t# Parsing the HTML\n",
    "# \tsoup = BeautifulSoup(r.content, 'html.parser')\n",
    "\n",
    "# \t# Procurar um tag meta com um determinado atributo\n",
    "# \tlines = soup.find_all('meta', {'name':\"ncbi_uidlist\"} )\n",
    "\n",
    "# \tid = \"\"\n",
    "# \turl = \"\"\n",
    "# \tfor line in lines:\n",
    "# \t\t# print(line)\n",
    "# \t\t# if 'name' in line.attrs:\n",
    "# \t\t# \tprint(line.attrs['name'])\n",
    "# \t\tif 'content' in line.attrs:\n",
    "# \t\t\t# print(line.attrs['content'])\t\t\n",
    "# \t\t\tid = line.attrs['content']\n",
    "\n",
    "# \tif id:\n",
    "# \t\turl = \"https://www.ncbi.nlm.nih.gov/sviewer/viewer.fcgi?id={}&db=nuccore&report=genbank&conwithfeat=on&hide-cdd=on&retmode=text&maxdownloadsize=5000000\".format(id)\n",
    "\n",
    "# \tr2 = requests.get( url )\n",
    "\n",
    "# \treturn print(r2.content)\n",
    "\n",
    "# get_file(\"https://www.ncbi.nlm.nih.gov/nuccore/L42200\")\n",
    "\n"
   ]
  },
  {
   "cell_type": "code",
   "execution_count": 4,
   "metadata": {},
   "outputs": [],
   "source": [
    "# # pip3 install html5lib      #modificado\n",
    "# def get_file(url):\n",
    "# \timport requests\n",
    "# \tfrom bs4 import BeautifulSoup\n",
    "\n",
    "# \t# Making a GET request\n",
    "# \tr = requests.get(url)\n",
    "# \t# Parsing the HTML\n",
    "# \tsoup = BeautifulSoup(r.content, 'html.parser')\n",
    "\n",
    "# \t# Procurar um tag meta com um determinado atributo\n",
    "# \tlines = soup.find_all('meta', {'name':\"ncbi_uidlist\"} )\n",
    "\n",
    "# \tid = \"\"\n",
    "# \turl = \"\"\n",
    "# \tfor line in lines:\n",
    "# \t\t# print(line)\n",
    "# \t\t# if 'name' in line.attrs:\n",
    "# \t\t# \tprint(line.attrs['name'])\n",
    "# \t\tif 'content' in line.attrs:\n",
    "# \t\t\t# print(line.attrs['content'])\t\t\n",
    "# \t\t\tid = line.attrs['content']\n",
    "\n",
    "# \tif id:\n",
    "# \t\turl = \"https://www.ncbi.nlm.nih.gov/sviewer/viewer.fcgi?id={}&db=nuccore&report=genbank&conwithfeat=on&hide-cdd=on&retmode=text&maxdownloadsize=5000000\".format(id)\n",
    "\n",
    "# \tr2 = requests.get( url )\n",
    "\n",
    "# \treturn r2.content\n",
    "\n",
    "# # a = get_file(\"https://www.ncbi.nlm.nih.gov/nuccore/L42200\")\n",
    "# b = str(a).replace(\"\\\\n\", \"\\n\")\n",
    "# c = print(b)\n",
    "# c"
   ]
  },
  {
   "cell_type": "code",
   "execution_count": 5,
   "metadata": {},
   "outputs": [
    {
     "name": "stdout",
     "output_type": "stream",
     "text": [
      "b'LOCUS       HLICPITSAD               249 bp    DNA     linear   PLN 07-JUL-2003\n",
      "DEFINITION  Heliamphora minor chloroplast internal transcribed spacer 2,\n",
      "            partial sequence.\n",
      "ACCESSION   L42200\n",
      "VERSION     L42200.2\n",
      "KEYWORDS    .\n",
      "SOURCE      chloroplast Heliamphora minor\n",
      "  ORGANISM  Heliamphora minor\n",
      "            Eukaryota; Viridiplantae; Streptophyta; Embryophyta; Tracheophyta;\n",
      "            Spermatophyta; Magnoliopsida; eudicotyledons; Gunneridae;\n",
      "            Pentapetalae; asterids; Ericales; Sarraceniaceae; Heliamphora.\n",
      "REFERENCE   1  (bases 1 to 249)\n",
      "  AUTHORS   Bayer,R.J., Hufford,L. and Soltis,D.E.\n",
      "  TITLE     Phylogenetic relationships in Sarraceniaceae based on rbcL and ITS\n",
      "            sequences\n",
      "  JOURNAL   Syst. Bot. 21 (2), 121-134 (1996)\n",
      "REFERENCE   2  (bases 1 to 249)\n",
      "  AUTHORS   Bayer,R.J.\n",
      "  TITLE     The implications of morphological and molecular sequence data from\n",
      "            cpDNA and nrDNA for phylogeny reconstruction in Sarraceniaceae\n",
      "  JOURNAL   Unpublished\n",
      "COMMENT     On Jul 7, 2003 this sequence version replaced L42200.1.\n",
      "FEATURES             Location/Qualifiers\n",
      "     source          1..249\n",
      "                     /organism=\"Heliamphora minor\"\n",
      "                     /organelle=\"plastid:chloroplast\"\n",
      "                     /mol_type=\"genomic DNA\"\n",
      "                     /db_xref=\"taxon:49997\"\n",
      "     misc_RNA        <1..>249\n",
      "                     /product=\"internal transcribed spacer 2; ITS2\"\n",
      "ORIGIN      \n",
      "        1 tctgcctggc gtcaactatt ttgtcaccct accttattgc ctcaccacag tgtaggtgag\n",
      "       61 cgatgggtgg ggcggatatt agccctccgt gcgcacttgt caacggttgg cctaaaaatg\n",
      "      121 agttcttgac gacacacgtt atgataagtg gtggttgaca aacgttgcat cctgtcatgc\n",
      "      181 gtgcccatgt cgccacaagt tagctcatat tttgacccta aagcaatgta ctgattgcga\n",
      "      241 ccccaggtc\n",
      "//\n",
      "\n",
      "'\n"
     ]
    }
   ],
   "source": [
    "# pip3 install html5lib      #modificado\n",
    "def get_file(url):\n",
    "\timport requests\n",
    "\tfrom bs4 import BeautifulSoup\n",
    "\n",
    "\t# Making a GET request\n",
    "\tr = requests.get(url)\n",
    "\t# Parsing the HTML\n",
    "\tsoup = BeautifulSoup(r.content, 'html.parser')\n",
    "\n",
    "\t# Procurar um tag meta com um determinado atributo\n",
    "\tlines = soup.find_all('meta', {'name':\"ncbi_uidlist\"} )\n",
    "\n",
    "\tid = \"\"\n",
    "\turl = \"\"\n",
    "\tfor line in lines:\n",
    "\t\t# print(line)\n",
    "\t\t# if 'name' in line.attrs:\n",
    "\t\t# \tprint(line.attrs['name'])\n",
    "\t\tif 'content' in line.attrs:\n",
    "\t\t\t# print(line.attrs['content'])\t\t\n",
    "\t\t\tid = line.attrs['content']\n",
    "\n",
    "\tif id:\n",
    "\t\turl = \"https://www.ncbi.nlm.nih.gov/sviewer/viewer.fcgi?id={}&db=nuccore&report=genbank&conwithfeat=on&hide-cdd=on&retmode=text&maxdownloadsize=5000000\".format(id)\n",
    "\n",
    "\tr2 = requests.get( url )\n",
    "\n",
    "\treturn r2.content\n",
    "\n",
    "a = get_file(\"https://www.ncbi.nlm.nih.gov/nuccore/L42200\")\n",
    "b = str(a).replace(\"\\\\n\", \"\\n\")\n",
    "c = print(b)\n",
    "c"
   ]
  },
  {
   "cell_type": "code",
   "execution_count": 6,
   "metadata": {},
   "outputs": [],
   "source": [
    "# # pip3 install html5lib\n",
    "\n",
    "# import requests\n",
    "# from bs4 import BeautifulSoup\n",
    "\n",
    "\n",
    "# # Making a GET request\n",
    "# r = requests.get('https://www.ncbi.nlm.nih.gov/nuccore/L42022')\n",
    "\n",
    "# # https://www.ncbi.nlm.nih.gov/sviewer/viewer.fcgi?id=804715&db=nuccore&report=genbank&conwithfeat=on&hide-cdd=on&retmode=html&ncbi_phid=CE8B6449389BE9F100000000068605EB&withmarkup=on&tool=portal&log$=seqview&maxdownloadsize=1000000\n",
    "\n",
    "# # Parsing the HTML\n",
    "# soup = BeautifulSoup(r.content, 'html.parser')\n",
    "\n",
    "# # Getting the title tag\n",
    "# print(soup.title)\n",
    "\n",
    "# s = soup.find('pre', class_='genbank')\n",
    "# # s = soup.find('div', class_='sequence')\n",
    "# # s = soup.find_all('meta', name='ncbi_uidlist')\n",
    "\n",
    "# # lines = soup.find_all('meta')\n",
    "# # lines = soup.find_all(\"genbank\")\n",
    "# # for line in lines:\n",
    "# # \tprint(line.text)\n",
    "\n",
    "# # use the child attribute to get\n",
    "# # the name of the child tag"
   ]
  },
  {
   "cell_type": "code",
   "execution_count": 7,
   "metadata": {},
   "outputs": [],
   "source": [
    "# # pip3 install html5lib\n",
    "\n",
    "# import requests\n",
    "# from bs4 import BeautifulSoup\n",
    "\n",
    "# r = requests.get('https://www.ncbi.nlm.nih.gov/nuccore/L42022')\n",
    "\n",
    "\n",
    "# soup = BeautifulSoup(r.content, 'html.parser')\n",
    "# print(soup)\n",
    "# s = soup.find('pre', class_='genbank')\n",
    "\n"
   ]
  },
  {
   "cell_type": "code",
   "execution_count": 8,
   "metadata": {},
   "outputs": [],
   "source": [
    "# import requests\n",
    "# from bs4 import BeautifulSoup\n",
    "\n",
    "\n",
    "# # Making a GET request\n",
    "# r = requests.get('https://www.geeksforgeeks.org/python-programming-language/')\n",
    "\n",
    "# # Parsing the HTML\n",
    "# soup = BeautifulSoup(r.content, 'html.parser')\n",
    "# s = soup.find('div', class_='entry-content')\n",
    "\n",
    "# lines = s.find_all('p')\n",
    "\n",
    "# for line in lines:\n",
    "# \tprint(line.text)"
   ]
  },
  {
   "cell_type": "code",
   "execution_count": 9,
   "metadata": {},
   "outputs": [],
   "source": [
    "# import time\n",
    "\n",
    "# for i in range(200,206):\n",
    "#     url = f\"https://www.ncbi.nlm.nih.gov/nuccore/L42{i}\" \n",
    "#     print(url)\n",
    "#     get_file(url)\n",
    "#     print()\n",
    "#     time.sleep(1)\n",
    "\n",
    "\n"
   ]
  }
 ],
 "metadata": {
  "authors": [
   {
    "name": "Jorge Gustavo Rocha"
   }
  ],
  "kernelspec": {
   "display_name": "mestrado_final",
   "language": "python",
   "name": "python3"
  },
  "language_info": {
   "codemirror_mode": {
    "name": "ipython",
    "version": 3
   },
   "file_extension": ".py",
   "mimetype": "text/x-python",
   "name": "python",
   "nbconvert_exporter": "python",
   "pygments_lexer": "ipython3",
   "version": "3.9.13 (main, Oct 13 2022, 21:15:33) \n[GCC 11.2.0]"
  },
  "vscode": {
   "interpreter": {
    "hash": "f2307cf6e279acbb4fe5a904c1ba66075afa04f4e5f00d0d9abed1d852b5aca9"
   }
  }
 },
 "nbformat": 4,
 "nbformat_minor": 2
}
