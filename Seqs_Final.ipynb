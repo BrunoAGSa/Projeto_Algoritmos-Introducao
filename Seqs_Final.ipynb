{
 "cells": [
  {
   "cell_type": "code",
   "execution_count": 4,
   "metadata": {},
   "outputs": [],
   "source": [
    "class Seq:\n",
    "    \"\"\" \n",
    "    Documentation asjahsjasa\n",
    "    \n",
    "    \"\"\"\n",
    "    def __init__(self, seq):\n",
    "        \"\"\"\n",
    "        \"\"\"\n",
    "        self.seq = str(seq.upper())\n",
    "\n",
    "    def __len__ (self):   \n",
    "        \"\"\" \n",
    "        \"\"\"          \n",
    "        return len(self.seq)\n",
    "    \n",
    "    def __str__(self):\n",
    "        \"\"\"  \n",
    "        \"\"\"       \n",
    "        return self.seq\n",
    "\n",
    "    def get_type (self):\n",
    "        \"\"\"\n",
    "        \"\"\"\n",
    "        if len([c for c in self.seq if c not in \"ACGT\"]) == 0:\n",
    "            return \"DNA\"\n",
    "\n",
    "        elif len([c for c in self.seq if c not in \"ACGU\"]) == 0:\n",
    "            return \"RNA\"\n",
    "\n",
    "        elif len([c for c in self.seq if c not in \"BDEFHIJKLMNOPQRSUVWXYZ\"]) == 0:\n",
    "            return \"PROTEIN\"\n",
    "        \n",
    "        else:\n",
    "            return \"Not valid\"\n",
    "\n",
    "    def count_nucleotides (self):\n",
    "        \"\"\" \n",
    "        \"\"\"\n",
    "        if Seq(self.seq).get_type() == \"DNA\":\n",
    "            A = self.seq.count(\"A\")\n",
    "            C = self.seq.count(\"C\")\n",
    "            G = self.seq.count(\"G\")\n",
    "            T = self.seq.count(\"T\") \n",
    "            print (\" A   C   G   T \")\n",
    "            print (\" |   |   |   |\")\n",
    "            return [A, C, G, T]\n",
    "        \n",
    "        elif Seq(self.seq).get_type() == \"RNA\":\n",
    "            A = self.seq.count(\"A\")\n",
    "            C = self.seq.count(\"C\")\n",
    "            G = self.seq.count(\"G\")\n",
    "            U = self.seq.count(\"U\") \n",
    "            return [A, C, G, U] \n",
    "        else:\n",
    "            return \"Not DNA or RNA\"\n",
    "\n",
    "    def freq_nucleotides (self):\n",
    "        \"\"\" \n",
    "        \"\"\"\n",
    "        if Seq(self.seq).get_type() == \"DNA\":\n",
    "            A = self.seq.count(\"A\") / len(self.seq)\n",
    "            C = self.seq.count(\"C\") / len(self.seq)\n",
    "            G = self.seq.count(\"G\") / len(self.seq)\n",
    "            T = self.seq.count(\"T\") / len(self.seq)\n",
    "            return [round(A, 3), round(C, 3), round(G, 3), round(T, 3)]\n",
    "        \n",
    "        elif Seq(self.seq).get_type() == \"DNA\":\n",
    "            A = self.seq.count(\"A\") / len(self.seq)\n",
    "            C = self.seq.count(\"C\") / len(self.seq)\n",
    "            G = self.seq.count(\"G\") / len(self.seq)\n",
    "            U = self.seq.count(\"U\") / len(self.seq)\n",
    "            return [round(A, 3), round(C, 3), round(G, 3), round(U, 3)]\n",
    "        else:\n",
    "            return \"Not DNA or RNA\"\n",
    "\n",
    "\n",
    "\n",
    "    \n"
   ]
  },
  {
   "cell_type": "code",
   "execution_count": 5,
   "metadata": {},
   "outputs": [
    {
     "name": "stdout",
     "output_type": "stream",
     "text": [
      " A   C   G   T \n",
      " |   |   |   |\n"
     ]
    },
    {
     "data": {
      "text/plain": [
       "[11, 11, 13, 7]"
      ]
     },
     "execution_count": 5,
     "metadata": {},
     "output_type": "execute_result"
    }
   ],
   "source": [
    "my_dna = Seq (\"acacatcactagctacgatgggggggcgatcagctacgatcg\")\n",
    "my_rna = Seq(\"acguagcuaaaaaaaaaaaaaaacuagcuacgaucg\")\n",
    "a = my_dna\n",
    "a.get_type()\n",
    "a.count_nucleotides()\n",
    "# a.freq_nucleotides()"
   ]
  }
 ],
 "metadata": {
  "kernelspec": {
   "display_name": "Python 3.9.13 ('mestrado_final')",
   "language": "python",
   "name": "python3"
  },
  "language_info": {
   "codemirror_mode": {
    "name": "ipython",
    "version": 3
   },
   "file_extension": ".py",
   "mimetype": "text/x-python",
   "name": "python",
   "nbconvert_exporter": "python",
   "pygments_lexer": "ipython3",
   "version": "3.9.13"
  },
  "orig_nbformat": 4,
  "vscode": {
   "interpreter": {
    "hash": "f2307cf6e279acbb4fe5a904c1ba66075afa04f4e5f00d0d9abed1d852b5aca9"
   }
  }
 },
 "nbformat": 4,
 "nbformat_minor": 2
}
