{
 "cells": [
  {
   "cell_type": "code",
   "execution_count": 28,
   "metadata": {},
   "outputs": [
    {
     "name": "stdout",
     "output_type": "stream",
     "text": [
      "ACTACATCGATCGATCG\n"
     ]
    },
    {
     "data": {
      "text/plain": [
       "True"
      ]
     },
     "execution_count": 28,
     "metadata": {},
     "output_type": "execute_result"
    }
   ],
   "source": [
    "class Seq:\n",
    "    \"\"\" \n",
    "    Recebe uma unica sequência de DNA e realiza ............\n",
    "    \n",
    "    \"\"\"\n",
    "    def __init__(self, seq):\n",
    "        self.seq = str(seq.upper())\n",
    "\n",
    "    def __len__ (self):             # permite obter o len \n",
    "        return len(self.seq)\n",
    "    \n",
    "    def __str__(self):       # permite fazer print\n",
    "        return self.seq\n",
    "\n",
    "    def validar_dna (self):       # verificar se é DNA \n",
    "       return self.seq.count(\"A\") + self.seq.count(\"C\") + self.seq.count(\"T\") + self.seq.count(\"G\") == len(self.seq)\n",
    "        \n",
    "\n",
    "        \n",
    "\n",
    "        \n",
    "\n",
    "my_seq = Seq(\"actacaTcgatcgatcg\")\n",
    "print(my_seq)\n",
    "my_seq.validar_dna()\n",
    "\n"
   ]
  }
 ],
 "metadata": {
  "kernelspec": {
   "display_name": "Python 3.9.13 ('mestrado_final')",
   "language": "python",
   "name": "python3"
  },
  "language_info": {
   "codemirror_mode": {
    "name": "ipython",
    "version": 3
   },
   "file_extension": ".py",
   "mimetype": "text/x-python",
   "name": "python",
   "nbconvert_exporter": "python",
   "pygments_lexer": "ipython3",
   "version": "3.9.13"
  },
  "orig_nbformat": 4,
  "vscode": {
   "interpreter": {
    "hash": "f2307cf6e279acbb4fe5a904c1ba66075afa04f4e5f00d0d9abed1d852b5aca9"
   }
  }
 },
 "nbformat": 4,
 "nbformat_minor": 2
}
