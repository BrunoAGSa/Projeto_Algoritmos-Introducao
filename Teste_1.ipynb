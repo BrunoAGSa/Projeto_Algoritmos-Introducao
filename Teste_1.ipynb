{
 "cells": [
  {
   "cell_type": "code",
   "execution_count": 31,
   "metadata": {},
   "outputs": [
    {
     "name": "stdout",
     "output_type": "stream",
     "text": [
      "AAAACCGCTUCAAAAA\n",
      "False\n",
      "False\n",
      "[9, 4, 1, 1]\n",
      "[0.562, 0.25, 0.062, 0.062]\n",
      "AAAACCGCUUCAAAAA\n",
      "TTTTTGUAGCGGTTTT\n"
     ]
    }
   ],
   "source": [
    "class Seq:\n",
    "    \"\"\" \n",
    "    Recebe uma unica sequência de DNA e realiza n funçoes\n",
    "    \n",
    "    \"\"\"\n",
    "    def __init__(self, seq):\n",
    "        self.seq = str(seq.upper())\n",
    "\n",
    "    def __len__ (self):             # permite obter o len \n",
    "        return len(self.seq)\n",
    "    \n",
    "    def __str__(self):       # permite fazer print\n",
    "        return self.seq\n",
    "\n",
    "    def validar_dna (self):       # verificar se é DNA \n",
    "        \"\"\" \n",
    "        Permite verificar se a Seq é DNA\n",
    "        \"\"\"\n",
    "        return len([c for c in self.seq if c not in \"ACGT\"]) == 0\n",
    "\n",
    "    def validar_rna (self):\n",
    "        \"\"\" \n",
    "        Permite verificar se a Seq é RNA\n",
    "        \"\"\"\n",
    "        return len([c for c in self.seq if c not in \"ACGU\"]) == 0\n",
    "    \n",
    "    def conteudo_nucleotidos (self):\n",
    "        \"\"\" \n",
    "        Permite obter uma lista [A, C, G, T] com o numero de cada Nucleotido\n",
    "        Usamos lista para ser possivel usar o index para buscar posteriormente caso necessário\n",
    "\n",
    "        \"\"\"\n",
    "        A = self.seq.count(\"A\")\n",
    "        C = self.seq.count(\"C\")\n",
    "        G = self.seq.count(\"G\")\n",
    "        T = self.seq.count(\"T\") \n",
    "        return [A, C, G, T]\n",
    "\n",
    "    def freq_nucleotidos (self):\n",
    "        \"\"\" \n",
    "        Permite obter uma lista [A, C, G, T] com a frequência de cada Nucleotido (3 casas decimais)\n",
    "        Usamos lista para ser possivel usar o index para buscar posteriormente caso necessário\n",
    "\n",
    "        \"\"\"\n",
    "        A = self.seq.count(\"A\") / len(self.seq)\n",
    "        C = self.seq.count(\"C\") / len(self.seq)\n",
    "        G = self.seq.count(\"G\") / len(self.seq)\n",
    "        T = self.seq.count(\"T\") / len(self.seq)\n",
    "        return [round(A, 3), round(C, 3), round(G, 3), round(T, 3)]\n",
    "\n",
    "    def convert_to_RNA (self):\n",
    "        \"\"\" \n",
    "        Permite converter uma sequencia de DNA na sequencia de RNA correspondente\n",
    "\n",
    "        \"\"\"\n",
    "        return self.seq.replace(\"T\", \"U\")\n",
    "\n",
    "    def rev_comp_dna (self):\n",
    "        \"\"\" \n",
    "        Permite obter o Reverse Complement de uma seq de DNA \n",
    "\n",
    "        \"\"\"\n",
    "        return self.seq.replace(\"A\", \"t\").replace(\"T\", \"a\").replace(\"C\", \"g\").replace(\"G\", \"c\").upper()[::-1]\n",
    "\n",
    "\n",
    "        \n",
    "\n",
    "        \n",
    "\n",
    "my_seq = Seq(\"aaaaccgctucaaaaa\")\n",
    "print(my_seq)\n",
    "print(my_seq.validar_dna())\n",
    "print(my_seq.validar_rna())\n",
    "len(my_seq)\n",
    "print(my_seq.conteudo_nucleotidos())\n",
    "print(my_seq.freq_nucleotidos())\n",
    "print(my_seq.convert_to_RNA())\n",
    "print(my_seq.rev_comp_dna())\n",
    "\n"
   ]
  }
 ],
 "metadata": {
  "kernelspec": {
   "display_name": "Python 3.9.13 ('mestrado_final')",
   "language": "python",
   "name": "python3"
  },
  "language_info": {
   "codemirror_mode": {
    "name": "ipython",
    "version": 3
   },
   "file_extension": ".py",
   "mimetype": "text/x-python",
   "name": "python",
   "nbconvert_exporter": "python",
   "pygments_lexer": "ipython3",
   "version": "3.9.13"
  },
  "orig_nbformat": 4,
  "vscode": {
   "interpreter": {
    "hash": "f2307cf6e279acbb4fe5a904c1ba66075afa04f4e5f00d0d9abed1d852b5aca9"
   }
  }
 },
 "nbformat": 4,
 "nbformat_minor": 2
}
